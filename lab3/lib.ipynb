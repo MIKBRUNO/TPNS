{
  "nbformat": 4,
  "nbformat_minor": 0,
  "metadata": {
    "colab": {
      "provenance": [],
      "collapsed_sections": [
        "UfE-O3uWjgR0",
        "sfhdN_p7mDMy"
      ],
      "authorship_tag": "ABX9TyNQeGnG9xaI1J8V3Q0l0wKi",
      "include_colab_link": true
    },
    "kernelspec": {
      "name": "python3",
      "display_name": "Python 3"
    },
    "language_info": {
      "name": "python"
    }
  },
  "cells": [
    {
      "cell_type": "markdown",
      "metadata": {
        "id": "view-in-github",
        "colab_type": "text"
      },
      "source": [
        "<a href=\"https://colab.research.google.com/github/MIKBRUNO/TPNS/blob/main/lab3/lib.ipynb\" target=\"_parent\"><img src=\"https://colab.research.google.com/assets/colab-badge.svg\" alt=\"Open In Colab\"/></a>"
      ]
    },
    {
      "cell_type": "code",
      "source": [
        "import numpy as np\n",
        "import pandas as pd\n",
        "from sklearn.model_selection import train_test_split\n",
        "from sklearn.preprocessing import StandardScaler, LabelEncoder\n",
        "from tensorflow.keras.models import Sequential\n",
        "from tensorflow.keras.layers import Dense, SimpleRNN, GRU, LSTM\n",
        "from tensorflow.keras.utils import to_categorical\n",
        "from tensorflow.keras.optimizers import Adam\n",
        "from tensorflow.keras.losses import categorical_crossentropy\n",
        "from tensorflow.keras.metrics import CategoricalAccuracy\n",
        "from tensorflow.keras.metrics import MSE\n",
        "import matplotlib.pyplot as plt"
      ],
      "metadata": {
        "id": "JdQupJeJfHZO"
      },
      "execution_count": null,
      "outputs": []
    },
    {
      "cell_type": "code",
      "source": [
        "!pip install ucimlrepo\n",
        "from ucimlrepo import fetch_ucirepo"
      ],
      "metadata": {
        "colab": {
          "base_uri": "https://localhost:8080/"
        },
        "id": "xY-CLtpRlOt5",
        "outputId": "40c845b7-aed6-47f8-9a44-d037a743c732"
      },
      "execution_count": null,
      "outputs": [
        {
          "output_type": "stream",
          "name": "stdout",
          "text": [
            "Collecting ucimlrepo\n",
            "  Downloading ucimlrepo-0.0.7-py3-none-any.whl (8.0 kB)\n",
            "Requirement already satisfied: pandas>=1.0.0 in /usr/local/lib/python3.10/dist-packages (from ucimlrepo) (2.0.3)\n",
            "Requirement already satisfied: certifi>=2020.12.5 in /usr/local/lib/python3.10/dist-packages (from ucimlrepo) (2024.2.2)\n",
            "Requirement already satisfied: python-dateutil>=2.8.2 in /usr/local/lib/python3.10/dist-packages (from pandas>=1.0.0->ucimlrepo) (2.8.2)\n",
            "Requirement already satisfied: pytz>=2020.1 in /usr/local/lib/python3.10/dist-packages (from pandas>=1.0.0->ucimlrepo) (2023.4)\n",
            "Requirement already satisfied: tzdata>=2022.1 in /usr/local/lib/python3.10/dist-packages (from pandas>=1.0.0->ucimlrepo) (2024.1)\n",
            "Requirement already satisfied: numpy>=1.21.0 in /usr/local/lib/python3.10/dist-packages (from pandas>=1.0.0->ucimlrepo) (1.25.2)\n",
            "Requirement already satisfied: six>=1.5 in /usr/local/lib/python3.10/dist-packages (from python-dateutil>=2.8.2->pandas>=1.0.0->ucimlrepo) (1.16.0)\n",
            "Installing collected packages: ucimlrepo\n",
            "Successfully installed ucimlrepo-0.0.7\n"
          ]
        }
      ]
    },
    {
      "cell_type": "markdown",
      "source": [
        "# DATASET"
      ],
      "metadata": {
        "id": "UfE-O3uWjgR0"
      }
    },
    {
      "cell_type": "code",
      "execution_count": null,
      "metadata": {
        "id": "z8zu_Iu1VY1E"
      },
      "outputs": [],
      "source": [
        "steel_industry_energy_consumption = fetch_ucirepo(id=851)\n",
        "\n",
        "X = steel_industry_energy_consumption.data.features\n",
        "y = steel_industry_energy_consumption.data.targets"
      ]
    },
    {
      "cell_type": "code",
      "source": [
        "X"
      ],
      "metadata": {
        "colab": {
          "base_uri": "https://localhost:8080/",
          "height": 444
        },
        "id": "HFdIRhvRfVyd",
        "outputId": "9e05147b-0749-41cb-8b8a-b825ae721e3d"
      },
      "execution_count": null,
      "outputs": [
        {
          "output_type": "execute_result",
          "data": {
            "text/plain": [
              "       Usage_kWh  Lagging_Current_Reactive.Power_kVarh  \\\n",
              "0           3.17                                  2.95   \n",
              "1           4.00                                  4.46   \n",
              "2           3.24                                  3.28   \n",
              "3           3.31                                  3.56   \n",
              "4           3.82                                  4.50   \n",
              "...          ...                                   ...   \n",
              "35035       3.85                                  4.86   \n",
              "35036       3.74                                  3.74   \n",
              "35037       3.78                                  3.17   \n",
              "35038       3.78                                  3.06   \n",
              "35039       3.67                                  3.02   \n",
              "\n",
              "       Leading_Current_Reactive_Power_kVarh  CO2(tCO2)  \\\n",
              "0                                      0.00        0.0   \n",
              "1                                      0.00        0.0   \n",
              "2                                      0.00        0.0   \n",
              "3                                      0.00        0.0   \n",
              "4                                      0.00        0.0   \n",
              "...                                     ...        ...   \n",
              "35035                                  0.00        0.0   \n",
              "35036                                  0.00        0.0   \n",
              "35037                                  0.07        0.0   \n",
              "35038                                  0.11        0.0   \n",
              "35039                                  0.07        0.0   \n",
              "\n",
              "       Lagging_Current_Power_Factor  Leading_Current_Power_Factor    NSM  \\\n",
              "0                             73.21                        100.00    900   \n",
              "1                             66.77                        100.00   1800   \n",
              "2                             70.28                        100.00   2700   \n",
              "3                             68.09                        100.00   3600   \n",
              "4                             64.72                        100.00   4500   \n",
              "...                             ...                           ...    ...   \n",
              "35035                         62.10                        100.00  82800   \n",
              "35036                         70.71                        100.00  83700   \n",
              "35037                         76.62                         99.98  84600   \n",
              "35038                         77.72                         99.96  85500   \n",
              "35039                         77.22                         99.98      0   \n",
              "\n",
              "      WeekStatus Day_of_week  \n",
              "0        Weekday      Monday  \n",
              "1        Weekday      Monday  \n",
              "2        Weekday      Monday  \n",
              "3        Weekday      Monday  \n",
              "4        Weekday      Monday  \n",
              "...          ...         ...  \n",
              "35035    Weekday      Monday  \n",
              "35036    Weekday      Monday  \n",
              "35037    Weekday      Monday  \n",
              "35038    Weekday      Monday  \n",
              "35039    Weekday      Monday  \n",
              "\n",
              "[35040 rows x 9 columns]"
            ],
            "text/html": [
              "\n",
              "  <div id=\"df-5c294de9-1349-4f9f-8729-a7151caf537f\" class=\"colab-df-container\">\n",
              "    <div>\n",
              "<style scoped>\n",
              "    .dataframe tbody tr th:only-of-type {\n",
              "        vertical-align: middle;\n",
              "    }\n",
              "\n",
              "    .dataframe tbody tr th {\n",
              "        vertical-align: top;\n",
              "    }\n",
              "\n",
              "    .dataframe thead th {\n",
              "        text-align: right;\n",
              "    }\n",
              "</style>\n",
              "<table border=\"1\" class=\"dataframe\">\n",
              "  <thead>\n",
              "    <tr style=\"text-align: right;\">\n",
              "      <th></th>\n",
              "      <th>Usage_kWh</th>\n",
              "      <th>Lagging_Current_Reactive.Power_kVarh</th>\n",
              "      <th>Leading_Current_Reactive_Power_kVarh</th>\n",
              "      <th>CO2(tCO2)</th>\n",
              "      <th>Lagging_Current_Power_Factor</th>\n",
              "      <th>Leading_Current_Power_Factor</th>\n",
              "      <th>NSM</th>\n",
              "      <th>WeekStatus</th>\n",
              "      <th>Day_of_week</th>\n",
              "    </tr>\n",
              "  </thead>\n",
              "  <tbody>\n",
              "    <tr>\n",
              "      <th>0</th>\n",
              "      <td>3.17</td>\n",
              "      <td>2.95</td>\n",
              "      <td>0.00</td>\n",
              "      <td>0.0</td>\n",
              "      <td>73.21</td>\n",
              "      <td>100.00</td>\n",
              "      <td>900</td>\n",
              "      <td>Weekday</td>\n",
              "      <td>Monday</td>\n",
              "    </tr>\n",
              "    <tr>\n",
              "      <th>1</th>\n",
              "      <td>4.00</td>\n",
              "      <td>4.46</td>\n",
              "      <td>0.00</td>\n",
              "      <td>0.0</td>\n",
              "      <td>66.77</td>\n",
              "      <td>100.00</td>\n",
              "      <td>1800</td>\n",
              "      <td>Weekday</td>\n",
              "      <td>Monday</td>\n",
              "    </tr>\n",
              "    <tr>\n",
              "      <th>2</th>\n",
              "      <td>3.24</td>\n",
              "      <td>3.28</td>\n",
              "      <td>0.00</td>\n",
              "      <td>0.0</td>\n",
              "      <td>70.28</td>\n",
              "      <td>100.00</td>\n",
              "      <td>2700</td>\n",
              "      <td>Weekday</td>\n",
              "      <td>Monday</td>\n",
              "    </tr>\n",
              "    <tr>\n",
              "      <th>3</th>\n",
              "      <td>3.31</td>\n",
              "      <td>3.56</td>\n",
              "      <td>0.00</td>\n",
              "      <td>0.0</td>\n",
              "      <td>68.09</td>\n",
              "      <td>100.00</td>\n",
              "      <td>3600</td>\n",
              "      <td>Weekday</td>\n",
              "      <td>Monday</td>\n",
              "    </tr>\n",
              "    <tr>\n",
              "      <th>4</th>\n",
              "      <td>3.82</td>\n",
              "      <td>4.50</td>\n",
              "      <td>0.00</td>\n",
              "      <td>0.0</td>\n",
              "      <td>64.72</td>\n",
              "      <td>100.00</td>\n",
              "      <td>4500</td>\n",
              "      <td>Weekday</td>\n",
              "      <td>Monday</td>\n",
              "    </tr>\n",
              "    <tr>\n",
              "      <th>...</th>\n",
              "      <td>...</td>\n",
              "      <td>...</td>\n",
              "      <td>...</td>\n",
              "      <td>...</td>\n",
              "      <td>...</td>\n",
              "      <td>...</td>\n",
              "      <td>...</td>\n",
              "      <td>...</td>\n",
              "      <td>...</td>\n",
              "    </tr>\n",
              "    <tr>\n",
              "      <th>35035</th>\n",
              "      <td>3.85</td>\n",
              "      <td>4.86</td>\n",
              "      <td>0.00</td>\n",
              "      <td>0.0</td>\n",
              "      <td>62.10</td>\n",
              "      <td>100.00</td>\n",
              "      <td>82800</td>\n",
              "      <td>Weekday</td>\n",
              "      <td>Monday</td>\n",
              "    </tr>\n",
              "    <tr>\n",
              "      <th>35036</th>\n",
              "      <td>3.74</td>\n",
              "      <td>3.74</td>\n",
              "      <td>0.00</td>\n",
              "      <td>0.0</td>\n",
              "      <td>70.71</td>\n",
              "      <td>100.00</td>\n",
              "      <td>83700</td>\n",
              "      <td>Weekday</td>\n",
              "      <td>Monday</td>\n",
              "    </tr>\n",
              "    <tr>\n",
              "      <th>35037</th>\n",
              "      <td>3.78</td>\n",
              "      <td>3.17</td>\n",
              "      <td>0.07</td>\n",
              "      <td>0.0</td>\n",
              "      <td>76.62</td>\n",
              "      <td>99.98</td>\n",
              "      <td>84600</td>\n",
              "      <td>Weekday</td>\n",
              "      <td>Monday</td>\n",
              "    </tr>\n",
              "    <tr>\n",
              "      <th>35038</th>\n",
              "      <td>3.78</td>\n",
              "      <td>3.06</td>\n",
              "      <td>0.11</td>\n",
              "      <td>0.0</td>\n",
              "      <td>77.72</td>\n",
              "      <td>99.96</td>\n",
              "      <td>85500</td>\n",
              "      <td>Weekday</td>\n",
              "      <td>Monday</td>\n",
              "    </tr>\n",
              "    <tr>\n",
              "      <th>35039</th>\n",
              "      <td>3.67</td>\n",
              "      <td>3.02</td>\n",
              "      <td>0.07</td>\n",
              "      <td>0.0</td>\n",
              "      <td>77.22</td>\n",
              "      <td>99.98</td>\n",
              "      <td>0</td>\n",
              "      <td>Weekday</td>\n",
              "      <td>Monday</td>\n",
              "    </tr>\n",
              "  </tbody>\n",
              "</table>\n",
              "<p>35040 rows × 9 columns</p>\n",
              "</div>\n",
              "    <div class=\"colab-df-buttons\">\n",
              "\n",
              "  <div class=\"colab-df-container\">\n",
              "    <button class=\"colab-df-convert\" onclick=\"convertToInteractive('df-5c294de9-1349-4f9f-8729-a7151caf537f')\"\n",
              "            title=\"Convert this dataframe to an interactive table.\"\n",
              "            style=\"display:none;\">\n",
              "\n",
              "  <svg xmlns=\"http://www.w3.org/2000/svg\" height=\"24px\" viewBox=\"0 -960 960 960\">\n",
              "    <path d=\"M120-120v-720h720v720H120Zm60-500h600v-160H180v160Zm220 220h160v-160H400v160Zm0 220h160v-160H400v160ZM180-400h160v-160H180v160Zm440 0h160v-160H620v160ZM180-180h160v-160H180v160Zm440 0h160v-160H620v160Z\"/>\n",
              "  </svg>\n",
              "    </button>\n",
              "\n",
              "  <style>\n",
              "    .colab-df-container {\n",
              "      display:flex;\n",
              "      gap: 12px;\n",
              "    }\n",
              "\n",
              "    .colab-df-convert {\n",
              "      background-color: #E8F0FE;\n",
              "      border: none;\n",
              "      border-radius: 50%;\n",
              "      cursor: pointer;\n",
              "      display: none;\n",
              "      fill: #1967D2;\n",
              "      height: 32px;\n",
              "      padding: 0 0 0 0;\n",
              "      width: 32px;\n",
              "    }\n",
              "\n",
              "    .colab-df-convert:hover {\n",
              "      background-color: #E2EBFA;\n",
              "      box-shadow: 0px 1px 2px rgba(60, 64, 67, 0.3), 0px 1px 3px 1px rgba(60, 64, 67, 0.15);\n",
              "      fill: #174EA6;\n",
              "    }\n",
              "\n",
              "    .colab-df-buttons div {\n",
              "      margin-bottom: 4px;\n",
              "    }\n",
              "\n",
              "    [theme=dark] .colab-df-convert {\n",
              "      background-color: #3B4455;\n",
              "      fill: #D2E3FC;\n",
              "    }\n",
              "\n",
              "    [theme=dark] .colab-df-convert:hover {\n",
              "      background-color: #434B5C;\n",
              "      box-shadow: 0px 1px 3px 1px rgba(0, 0, 0, 0.15);\n",
              "      filter: drop-shadow(0px 1px 2px rgba(0, 0, 0, 0.3));\n",
              "      fill: #FFFFFF;\n",
              "    }\n",
              "  </style>\n",
              "\n",
              "    <script>\n",
              "      const buttonEl =\n",
              "        document.querySelector('#df-5c294de9-1349-4f9f-8729-a7151caf537f button.colab-df-convert');\n",
              "      buttonEl.style.display =\n",
              "        google.colab.kernel.accessAllowed ? 'block' : 'none';\n",
              "\n",
              "      async function convertToInteractive(key) {\n",
              "        const element = document.querySelector('#df-5c294de9-1349-4f9f-8729-a7151caf537f');\n",
              "        const dataTable =\n",
              "          await google.colab.kernel.invokeFunction('convertToInteractive',\n",
              "                                                    [key], {});\n",
              "        if (!dataTable) return;\n",
              "\n",
              "        const docLinkHtml = 'Like what you see? Visit the ' +\n",
              "          '<a target=\"_blank\" href=https://colab.research.google.com/notebooks/data_table.ipynb>data table notebook</a>'\n",
              "          + ' to learn more about interactive tables.';\n",
              "        element.innerHTML = '';\n",
              "        dataTable['output_type'] = 'display_data';\n",
              "        await google.colab.output.renderOutput(dataTable, element);\n",
              "        const docLink = document.createElement('div');\n",
              "        docLink.innerHTML = docLinkHtml;\n",
              "        element.appendChild(docLink);\n",
              "      }\n",
              "    </script>\n",
              "  </div>\n",
              "\n",
              "\n",
              "<div id=\"df-c700ec57-0743-47c6-9ff6-f296eb552b09\">\n",
              "  <button class=\"colab-df-quickchart\" onclick=\"quickchart('df-c700ec57-0743-47c6-9ff6-f296eb552b09')\"\n",
              "            title=\"Suggest charts\"\n",
              "            style=\"display:none;\">\n",
              "\n",
              "<svg xmlns=\"http://www.w3.org/2000/svg\" height=\"24px\"viewBox=\"0 0 24 24\"\n",
              "     width=\"24px\">\n",
              "    <g>\n",
              "        <path d=\"M19 3H5c-1.1 0-2 .9-2 2v14c0 1.1.9 2 2 2h14c1.1 0 2-.9 2-2V5c0-1.1-.9-2-2-2zM9 17H7v-7h2v7zm4 0h-2V7h2v10zm4 0h-2v-4h2v4z\"/>\n",
              "    </g>\n",
              "</svg>\n",
              "  </button>\n",
              "\n",
              "<style>\n",
              "  .colab-df-quickchart {\n",
              "      --bg-color: #E8F0FE;\n",
              "      --fill-color: #1967D2;\n",
              "      --hover-bg-color: #E2EBFA;\n",
              "      --hover-fill-color: #174EA6;\n",
              "      --disabled-fill-color: #AAA;\n",
              "      --disabled-bg-color: #DDD;\n",
              "  }\n",
              "\n",
              "  [theme=dark] .colab-df-quickchart {\n",
              "      --bg-color: #3B4455;\n",
              "      --fill-color: #D2E3FC;\n",
              "      --hover-bg-color: #434B5C;\n",
              "      --hover-fill-color: #FFFFFF;\n",
              "      --disabled-bg-color: #3B4455;\n",
              "      --disabled-fill-color: #666;\n",
              "  }\n",
              "\n",
              "  .colab-df-quickchart {\n",
              "    background-color: var(--bg-color);\n",
              "    border: none;\n",
              "    border-radius: 50%;\n",
              "    cursor: pointer;\n",
              "    display: none;\n",
              "    fill: var(--fill-color);\n",
              "    height: 32px;\n",
              "    padding: 0;\n",
              "    width: 32px;\n",
              "  }\n",
              "\n",
              "  .colab-df-quickchart:hover {\n",
              "    background-color: var(--hover-bg-color);\n",
              "    box-shadow: 0 1px 2px rgba(60, 64, 67, 0.3), 0 1px 3px 1px rgba(60, 64, 67, 0.15);\n",
              "    fill: var(--button-hover-fill-color);\n",
              "  }\n",
              "\n",
              "  .colab-df-quickchart-complete:disabled,\n",
              "  .colab-df-quickchart-complete:disabled:hover {\n",
              "    background-color: var(--disabled-bg-color);\n",
              "    fill: var(--disabled-fill-color);\n",
              "    box-shadow: none;\n",
              "  }\n",
              "\n",
              "  .colab-df-spinner {\n",
              "    border: 2px solid var(--fill-color);\n",
              "    border-color: transparent;\n",
              "    border-bottom-color: var(--fill-color);\n",
              "    animation:\n",
              "      spin 1s steps(1) infinite;\n",
              "  }\n",
              "\n",
              "  @keyframes spin {\n",
              "    0% {\n",
              "      border-color: transparent;\n",
              "      border-bottom-color: var(--fill-color);\n",
              "      border-left-color: var(--fill-color);\n",
              "    }\n",
              "    20% {\n",
              "      border-color: transparent;\n",
              "      border-left-color: var(--fill-color);\n",
              "      border-top-color: var(--fill-color);\n",
              "    }\n",
              "    30% {\n",
              "      border-color: transparent;\n",
              "      border-left-color: var(--fill-color);\n",
              "      border-top-color: var(--fill-color);\n",
              "      border-right-color: var(--fill-color);\n",
              "    }\n",
              "    40% {\n",
              "      border-color: transparent;\n",
              "      border-right-color: var(--fill-color);\n",
              "      border-top-color: var(--fill-color);\n",
              "    }\n",
              "    60% {\n",
              "      border-color: transparent;\n",
              "      border-right-color: var(--fill-color);\n",
              "    }\n",
              "    80% {\n",
              "      border-color: transparent;\n",
              "      border-right-color: var(--fill-color);\n",
              "      border-bottom-color: var(--fill-color);\n",
              "    }\n",
              "    90% {\n",
              "      border-color: transparent;\n",
              "      border-bottom-color: var(--fill-color);\n",
              "    }\n",
              "  }\n",
              "</style>\n",
              "\n",
              "  <script>\n",
              "    async function quickchart(key) {\n",
              "      const quickchartButtonEl =\n",
              "        document.querySelector('#' + key + ' button');\n",
              "      quickchartButtonEl.disabled = true;  // To prevent multiple clicks.\n",
              "      quickchartButtonEl.classList.add('colab-df-spinner');\n",
              "      try {\n",
              "        const charts = await google.colab.kernel.invokeFunction(\n",
              "            'suggestCharts', [key], {});\n",
              "      } catch (error) {\n",
              "        console.error('Error during call to suggestCharts:', error);\n",
              "      }\n",
              "      quickchartButtonEl.classList.remove('colab-df-spinner');\n",
              "      quickchartButtonEl.classList.add('colab-df-quickchart-complete');\n",
              "    }\n",
              "    (() => {\n",
              "      let quickchartButtonEl =\n",
              "        document.querySelector('#df-c700ec57-0743-47c6-9ff6-f296eb552b09 button');\n",
              "      quickchartButtonEl.style.display =\n",
              "        google.colab.kernel.accessAllowed ? 'block' : 'none';\n",
              "    })();\n",
              "  </script>\n",
              "</div>\n",
              "    </div>\n",
              "  </div>\n"
            ],
            "application/vnd.google.colaboratory.intrinsic+json": {
              "type": "dataframe",
              "variable_name": "X",
              "summary": "{\n  \"name\": \"X\",\n  \"rows\": 35040,\n  \"fields\": [\n    {\n      \"column\": \"Usage_kWh\",\n      \"properties\": {\n        \"dtype\": \"number\",\n        \"std\": 33.44437970801513,\n        \"min\": 0.0,\n        \"max\": 157.18,\n        \"num_unique_values\": 3343,\n        \"samples\": [\n          12.02,\n          28.51,\n          77.18\n        ],\n        \"semantic_type\": \"\",\n        \"description\": \"\"\n      }\n    },\n    {\n      \"column\": \"Lagging_Current_Reactive.Power_kVarh\",\n      \"properties\": {\n        \"dtype\": \"number\",\n        \"std\": 16.305999973081924,\n        \"min\": 0.0,\n        \"max\": 96.91,\n        \"num_unique_values\": 1954,\n        \"samples\": [\n          20.88,\n          69.84,\n          7.02\n        ],\n        \"semantic_type\": \"\",\n        \"description\": \"\"\n      }\n    },\n    {\n      \"column\": \"Leading_Current_Reactive_Power_kVarh\",\n      \"properties\": {\n        \"dtype\": \"number\",\n        \"std\": 7.424462753103645,\n        \"min\": 0.0,\n        \"max\": 27.76,\n        \"num_unique_values\": 768,\n        \"samples\": [\n          21.06,\n          23.04,\n          13.61\n        ],\n        \"semantic_type\": \"\",\n        \"description\": \"\"\n      }\n    },\n    {\n      \"column\": \"CO2(tCO2)\",\n      \"properties\": {\n        \"dtype\": \"number\",\n        \"std\": 0.016150821534429337,\n        \"min\": 0.0,\n        \"max\": 0.07,\n        \"num_unique_values\": 8,\n        \"samples\": [\n          0.02,\n          0.04,\n          0.0\n        ],\n        \"semantic_type\": \"\",\n        \"description\": \"\"\n      }\n    },\n    {\n      \"column\": \"Lagging_Current_Power_Factor\",\n      \"properties\": {\n        \"dtype\": \"number\",\n        \"std\": 18.92132226781741,\n        \"min\": 0.0,\n        \"max\": 100.0,\n        \"num_unique_values\": 5079,\n        \"samples\": [\n          77.48,\n          46.28,\n          100.0\n        ],\n        \"semantic_type\": \"\",\n        \"description\": \"\"\n      }\n    },\n    {\n      \"column\": \"Leading_Current_Power_Factor\",\n      \"properties\": {\n        \"dtype\": \"number\",\n        \"std\": 30.45653515758771,\n        \"min\": 0.0,\n        \"max\": 100.0,\n        \"num_unique_values\": 3366,\n        \"samples\": [\n          97.26,\n          54.38,\n          19.51\n        ],\n        \"semantic_type\": \"\",\n        \"description\": \"\"\n      }\n    },\n    {\n      \"column\": \"NSM\",\n      \"properties\": {\n        \"dtype\": \"number\",\n        \"std\": 24940,\n        \"min\": 0,\n        \"max\": 85500,\n        \"num_unique_values\": 96,\n        \"samples\": [\n          72900,\n          70200,\n          66600\n        ],\n        \"semantic_type\": \"\",\n        \"description\": \"\"\n      }\n    },\n    {\n      \"column\": \"WeekStatus\",\n      \"properties\": {\n        \"dtype\": \"category\",\n        \"num_unique_values\": 2,\n        \"samples\": [\n          \"Weekend\",\n          \"Weekday\"\n        ],\n        \"semantic_type\": \"\",\n        \"description\": \"\"\n      }\n    },\n    {\n      \"column\": \"Day_of_week\",\n      \"properties\": {\n        \"dtype\": \"category\",\n        \"num_unique_values\": 7,\n        \"samples\": [\n          \"Monday\",\n          \"Tuesday\"\n        ],\n        \"semantic_type\": \"\",\n        \"description\": \"\"\n      }\n    }\n  ]\n}"
            }
          },
          "metadata": {},
          "execution_count": 4
        }
      ]
    },
    {
      "cell_type": "code",
      "source": [
        "X.info()"
      ],
      "metadata": {
        "colab": {
          "base_uri": "https://localhost:8080/"
        },
        "id": "LOuXpKb8blG9",
        "outputId": "e641d6f0-3156-452e-d927-e674cc8a2a3a"
      },
      "execution_count": null,
      "outputs": [
        {
          "output_type": "stream",
          "name": "stdout",
          "text": [
            "<class 'pandas.core.frame.DataFrame'>\n",
            "RangeIndex: 35040 entries, 0 to 35039\n",
            "Data columns (total 9 columns):\n",
            " #   Column                                Non-Null Count  Dtype  \n",
            "---  ------                                --------------  -----  \n",
            " 0   Usage_kWh                             35040 non-null  float64\n",
            " 1   Lagging_Current_Reactive.Power_kVarh  35040 non-null  float64\n",
            " 2   Leading_Current_Reactive_Power_kVarh  35040 non-null  float64\n",
            " 3   CO2(tCO2)                             35040 non-null  float64\n",
            " 4   Lagging_Current_Power_Factor          35040 non-null  float64\n",
            " 5   Leading_Current_Power_Factor          35040 non-null  float64\n",
            " 6   NSM                                   35040 non-null  int64  \n",
            " 7   WeekStatus                            35040 non-null  object \n",
            " 8   Day_of_week                           35040 non-null  object \n",
            "dtypes: float64(6), int64(1), object(2)\n",
            "memory usage: 2.4+ MB\n"
          ]
        }
      ]
    },
    {
      "cell_type": "code",
      "source": [
        "y.info()"
      ],
      "metadata": {
        "colab": {
          "base_uri": "https://localhost:8080/"
        },
        "id": "uW4cxI9kfAeu",
        "outputId": "b0685e38-be65-4906-9dfb-5532651b9fd4"
      },
      "execution_count": null,
      "outputs": [
        {
          "output_type": "stream",
          "name": "stdout",
          "text": [
            "<class 'pandas.core.frame.DataFrame'>\n",
            "RangeIndex: 35040 entries, 0 to 35039\n",
            "Data columns (total 1 columns):\n",
            " #   Column     Non-Null Count  Dtype \n",
            "---  ------     --------------  ----- \n",
            " 0   Load_Type  35040 non-null  object\n",
            "dtypes: object(1)\n",
            "memory usage: 273.9+ KB\n"
          ]
        }
      ]
    },
    {
      "cell_type": "code",
      "source": [
        "data = pd.concat([X, y], axis=1)"
      ],
      "metadata": {
        "id": "PHXnCYgBfDQf"
      },
      "execution_count": null,
      "outputs": []
    },
    {
      "cell_type": "code",
      "source": [
        "label_encoder_weekstatus = LabelEncoder()\n",
        "data['WeekStatus'] = label_encoder_weekstatus.fit_transform(data['WeekStatus'])\n",
        "\n",
        "label_encoder_dayofweek = LabelEncoder()\n",
        "data['Day_of_week'] = label_encoder_dayofweek.fit_transform(data['Day_of_week'])\n",
        "\n",
        "label_encoder_loadtype = LabelEncoder()\n",
        "data['Load_Type'] = label_encoder_loadtype.fit_transform(data['Load_Type'])"
      ],
      "metadata": {
        "id": "_Y0t2cE5fOCY"
      },
      "execution_count": null,
      "outputs": []
    },
    {
      "cell_type": "code",
      "source": [
        "data.info()"
      ],
      "metadata": {
        "colab": {
          "base_uri": "https://localhost:8080/"
        },
        "id": "S9G50YeSfvA-",
        "outputId": "0ae2216f-ad46-4234-835a-c26b3549775f"
      },
      "execution_count": null,
      "outputs": [
        {
          "output_type": "stream",
          "name": "stdout",
          "text": [
            "<class 'pandas.core.frame.DataFrame'>\n",
            "RangeIndex: 35040 entries, 0 to 35039\n",
            "Data columns (total 10 columns):\n",
            " #   Column                                Non-Null Count  Dtype  \n",
            "---  ------                                --------------  -----  \n",
            " 0   Usage_kWh                             35040 non-null  float64\n",
            " 1   Lagging_Current_Reactive.Power_kVarh  35040 non-null  float64\n",
            " 2   Leading_Current_Reactive_Power_kVarh  35040 non-null  float64\n",
            " 3   CO2(tCO2)                             35040 non-null  float64\n",
            " 4   Lagging_Current_Power_Factor          35040 non-null  float64\n",
            " 5   Leading_Current_Power_Factor          35040 non-null  float64\n",
            " 6   NSM                                   35040 non-null  int64  \n",
            " 7   WeekStatus                            35040 non-null  int64  \n",
            " 8   Day_of_week                           35040 non-null  int64  \n",
            " 9   Load_Type                             35040 non-null  int64  \n",
            "dtypes: float64(6), int64(4)\n",
            "memory usage: 2.7 MB\n"
          ]
        }
      ]
    },
    {
      "cell_type": "code",
      "source": [
        "scaler = StandardScaler()\n",
        "data[['Usage_kWh', 'Lagging_Current_Reactive.Power_kVarh', 'Leading_Current_Reactive_Power_kVarh',\n",
        "      'CO2(tCO2)', 'Lagging_Current_Power_Factor', 'Leading_Current_Power_Factor', 'NSM']] \\\n",
        "= scaler.fit_transform(\n",
        "    data[['Usage_kWh', 'Lagging_Current_Reactive.Power_kVarh', 'Leading_Current_Reactive_Power_kVarh',\n",
        "          'CO2(tCO2)', 'Lagging_Current_Power_Factor', 'Leading_Current_Power_Factor', 'NSM']])"
      ],
      "metadata": {
        "id": "9prKBCNjfQ59"
      },
      "execution_count": null,
      "outputs": []
    },
    {
      "cell_type": "code",
      "source": [
        "data"
      ],
      "metadata": {
        "colab": {
          "base_uri": "https://localhost:8080/",
          "height": 444
        },
        "id": "o8QbrLlff2XF",
        "outputId": "964c7999-fa1d-40be-f9b8-0dbe87650f48"
      },
      "execution_count": null,
      "outputs": [
        {
          "output_type": "execute_result",
          "data": {
            "text/plain": [
              "       Usage_kWh  Lagging_Current_Reactive.Power_kVarh  \\\n",
              "0      -0.724105                             -0.618516   \n",
              "1      -0.699287                             -0.525911   \n",
              "2      -0.722012                             -0.598278   \n",
              "3      -0.719919                             -0.581106   \n",
              "4      -0.704669                             -0.523458   \n",
              "...          ...                                   ...   \n",
              "35035  -0.703772                             -0.501380   \n",
              "35036  -0.707061                             -0.570067   \n",
              "35037  -0.705865                             -0.605024   \n",
              "35038  -0.705865                             -0.611770   \n",
              "35039  -0.709154                             -0.614223   \n",
              "\n",
              "       Leading_Current_Reactive_Power_kVarh  CO2(tCO2)  \\\n",
              "0                                 -0.521385   -0.71355   \n",
              "1                                 -0.521385   -0.71355   \n",
              "2                                 -0.521385   -0.71355   \n",
              "3                                 -0.521385   -0.71355   \n",
              "4                                 -0.521385   -0.71355   \n",
              "...                                     ...        ...   \n",
              "35035                             -0.521385   -0.71355   \n",
              "35036                             -0.521385   -0.71355   \n",
              "35037                             -0.511957   -0.71355   \n",
              "35038                             -0.506569   -0.71355   \n",
              "35039                             -0.511957   -0.71355   \n",
              "\n",
              "       Lagging_Current_Power_Factor  Leading_Current_Power_Factor       NSM  \\\n",
              "0                         -0.389410                      0.513268 -1.678015   \n",
              "1                         -0.729772                      0.513268 -1.641929   \n",
              "2                         -0.544264                      0.513268 -1.605843   \n",
              "3                         -0.660009                      0.513268 -1.569756   \n",
              "4                         -0.838117                      0.513268 -1.533670   \n",
              "...                             ...                           ...       ...   \n",
              "35035                     -0.976587                      0.513268  1.605843   \n",
              "35036                     -0.521538                      0.513268  1.641929   \n",
              "35037                     -0.209188                      0.512611  1.678015   \n",
              "35038                     -0.151052                      0.511954  1.714102   \n",
              "35039                     -0.177477                      0.512611 -1.714102   \n",
              "\n",
              "       WeekStatus  Day_of_week  Load_Type  \n",
              "0               0            1          0  \n",
              "1               0            1          0  \n",
              "2               0            1          0  \n",
              "3               0            1          0  \n",
              "4               0            1          0  \n",
              "...           ...          ...        ...  \n",
              "35035           0            1          0  \n",
              "35036           0            1          0  \n",
              "35037           0            1          0  \n",
              "35038           0            1          0  \n",
              "35039           0            1          0  \n",
              "\n",
              "[35040 rows x 10 columns]"
            ],
            "text/html": [
              "\n",
              "  <div id=\"df-e270c09a-4690-484c-ba61-19d66b2208c7\" class=\"colab-df-container\">\n",
              "    <div>\n",
              "<style scoped>\n",
              "    .dataframe tbody tr th:only-of-type {\n",
              "        vertical-align: middle;\n",
              "    }\n",
              "\n",
              "    .dataframe tbody tr th {\n",
              "        vertical-align: top;\n",
              "    }\n",
              "\n",
              "    .dataframe thead th {\n",
              "        text-align: right;\n",
              "    }\n",
              "</style>\n",
              "<table border=\"1\" class=\"dataframe\">\n",
              "  <thead>\n",
              "    <tr style=\"text-align: right;\">\n",
              "      <th></th>\n",
              "      <th>Usage_kWh</th>\n",
              "      <th>Lagging_Current_Reactive.Power_kVarh</th>\n",
              "      <th>Leading_Current_Reactive_Power_kVarh</th>\n",
              "      <th>CO2(tCO2)</th>\n",
              "      <th>Lagging_Current_Power_Factor</th>\n",
              "      <th>Leading_Current_Power_Factor</th>\n",
              "      <th>NSM</th>\n",
              "      <th>WeekStatus</th>\n",
              "      <th>Day_of_week</th>\n",
              "      <th>Load_Type</th>\n",
              "    </tr>\n",
              "  </thead>\n",
              "  <tbody>\n",
              "    <tr>\n",
              "      <th>0</th>\n",
              "      <td>-0.724105</td>\n",
              "      <td>-0.618516</td>\n",
              "      <td>-0.521385</td>\n",
              "      <td>-0.71355</td>\n",
              "      <td>-0.389410</td>\n",
              "      <td>0.513268</td>\n",
              "      <td>-1.678015</td>\n",
              "      <td>0</td>\n",
              "      <td>1</td>\n",
              "      <td>0</td>\n",
              "    </tr>\n",
              "    <tr>\n",
              "      <th>1</th>\n",
              "      <td>-0.699287</td>\n",
              "      <td>-0.525911</td>\n",
              "      <td>-0.521385</td>\n",
              "      <td>-0.71355</td>\n",
              "      <td>-0.729772</td>\n",
              "      <td>0.513268</td>\n",
              "      <td>-1.641929</td>\n",
              "      <td>0</td>\n",
              "      <td>1</td>\n",
              "      <td>0</td>\n",
              "    </tr>\n",
              "    <tr>\n",
              "      <th>2</th>\n",
              "      <td>-0.722012</td>\n",
              "      <td>-0.598278</td>\n",
              "      <td>-0.521385</td>\n",
              "      <td>-0.71355</td>\n",
              "      <td>-0.544264</td>\n",
              "      <td>0.513268</td>\n",
              "      <td>-1.605843</td>\n",
              "      <td>0</td>\n",
              "      <td>1</td>\n",
              "      <td>0</td>\n",
              "    </tr>\n",
              "    <tr>\n",
              "      <th>3</th>\n",
              "      <td>-0.719919</td>\n",
              "      <td>-0.581106</td>\n",
              "      <td>-0.521385</td>\n",
              "      <td>-0.71355</td>\n",
              "      <td>-0.660009</td>\n",
              "      <td>0.513268</td>\n",
              "      <td>-1.569756</td>\n",
              "      <td>0</td>\n",
              "      <td>1</td>\n",
              "      <td>0</td>\n",
              "    </tr>\n",
              "    <tr>\n",
              "      <th>4</th>\n",
              "      <td>-0.704669</td>\n",
              "      <td>-0.523458</td>\n",
              "      <td>-0.521385</td>\n",
              "      <td>-0.71355</td>\n",
              "      <td>-0.838117</td>\n",
              "      <td>0.513268</td>\n",
              "      <td>-1.533670</td>\n",
              "      <td>0</td>\n",
              "      <td>1</td>\n",
              "      <td>0</td>\n",
              "    </tr>\n",
              "    <tr>\n",
              "      <th>...</th>\n",
              "      <td>...</td>\n",
              "      <td>...</td>\n",
              "      <td>...</td>\n",
              "      <td>...</td>\n",
              "      <td>...</td>\n",
              "      <td>...</td>\n",
              "      <td>...</td>\n",
              "      <td>...</td>\n",
              "      <td>...</td>\n",
              "      <td>...</td>\n",
              "    </tr>\n",
              "    <tr>\n",
              "      <th>35035</th>\n",
              "      <td>-0.703772</td>\n",
              "      <td>-0.501380</td>\n",
              "      <td>-0.521385</td>\n",
              "      <td>-0.71355</td>\n",
              "      <td>-0.976587</td>\n",
              "      <td>0.513268</td>\n",
              "      <td>1.605843</td>\n",
              "      <td>0</td>\n",
              "      <td>1</td>\n",
              "      <td>0</td>\n",
              "    </tr>\n",
              "    <tr>\n",
              "      <th>35036</th>\n",
              "      <td>-0.707061</td>\n",
              "      <td>-0.570067</td>\n",
              "      <td>-0.521385</td>\n",
              "      <td>-0.71355</td>\n",
              "      <td>-0.521538</td>\n",
              "      <td>0.513268</td>\n",
              "      <td>1.641929</td>\n",
              "      <td>0</td>\n",
              "      <td>1</td>\n",
              "      <td>0</td>\n",
              "    </tr>\n",
              "    <tr>\n",
              "      <th>35037</th>\n",
              "      <td>-0.705865</td>\n",
              "      <td>-0.605024</td>\n",
              "      <td>-0.511957</td>\n",
              "      <td>-0.71355</td>\n",
              "      <td>-0.209188</td>\n",
              "      <td>0.512611</td>\n",
              "      <td>1.678015</td>\n",
              "      <td>0</td>\n",
              "      <td>1</td>\n",
              "      <td>0</td>\n",
              "    </tr>\n",
              "    <tr>\n",
              "      <th>35038</th>\n",
              "      <td>-0.705865</td>\n",
              "      <td>-0.611770</td>\n",
              "      <td>-0.506569</td>\n",
              "      <td>-0.71355</td>\n",
              "      <td>-0.151052</td>\n",
              "      <td>0.511954</td>\n",
              "      <td>1.714102</td>\n",
              "      <td>0</td>\n",
              "      <td>1</td>\n",
              "      <td>0</td>\n",
              "    </tr>\n",
              "    <tr>\n",
              "      <th>35039</th>\n",
              "      <td>-0.709154</td>\n",
              "      <td>-0.614223</td>\n",
              "      <td>-0.511957</td>\n",
              "      <td>-0.71355</td>\n",
              "      <td>-0.177477</td>\n",
              "      <td>0.512611</td>\n",
              "      <td>-1.714102</td>\n",
              "      <td>0</td>\n",
              "      <td>1</td>\n",
              "      <td>0</td>\n",
              "    </tr>\n",
              "  </tbody>\n",
              "</table>\n",
              "<p>35040 rows × 10 columns</p>\n",
              "</div>\n",
              "    <div class=\"colab-df-buttons\">\n",
              "\n",
              "  <div class=\"colab-df-container\">\n",
              "    <button class=\"colab-df-convert\" onclick=\"convertToInteractive('df-e270c09a-4690-484c-ba61-19d66b2208c7')\"\n",
              "            title=\"Convert this dataframe to an interactive table.\"\n",
              "            style=\"display:none;\">\n",
              "\n",
              "  <svg xmlns=\"http://www.w3.org/2000/svg\" height=\"24px\" viewBox=\"0 -960 960 960\">\n",
              "    <path d=\"M120-120v-720h720v720H120Zm60-500h600v-160H180v160Zm220 220h160v-160H400v160Zm0 220h160v-160H400v160ZM180-400h160v-160H180v160Zm440 0h160v-160H620v160ZM180-180h160v-160H180v160Zm440 0h160v-160H620v160Z\"/>\n",
              "  </svg>\n",
              "    </button>\n",
              "\n",
              "  <style>\n",
              "    .colab-df-container {\n",
              "      display:flex;\n",
              "      gap: 12px;\n",
              "    }\n",
              "\n",
              "    .colab-df-convert {\n",
              "      background-color: #E8F0FE;\n",
              "      border: none;\n",
              "      border-radius: 50%;\n",
              "      cursor: pointer;\n",
              "      display: none;\n",
              "      fill: #1967D2;\n",
              "      height: 32px;\n",
              "      padding: 0 0 0 0;\n",
              "      width: 32px;\n",
              "    }\n",
              "\n",
              "    .colab-df-convert:hover {\n",
              "      background-color: #E2EBFA;\n",
              "      box-shadow: 0px 1px 2px rgba(60, 64, 67, 0.3), 0px 1px 3px 1px rgba(60, 64, 67, 0.15);\n",
              "      fill: #174EA6;\n",
              "    }\n",
              "\n",
              "    .colab-df-buttons div {\n",
              "      margin-bottom: 4px;\n",
              "    }\n",
              "\n",
              "    [theme=dark] .colab-df-convert {\n",
              "      background-color: #3B4455;\n",
              "      fill: #D2E3FC;\n",
              "    }\n",
              "\n",
              "    [theme=dark] .colab-df-convert:hover {\n",
              "      background-color: #434B5C;\n",
              "      box-shadow: 0px 1px 3px 1px rgba(0, 0, 0, 0.15);\n",
              "      filter: drop-shadow(0px 1px 2px rgba(0, 0, 0, 0.3));\n",
              "      fill: #FFFFFF;\n",
              "    }\n",
              "  </style>\n",
              "\n",
              "    <script>\n",
              "      const buttonEl =\n",
              "        document.querySelector('#df-e270c09a-4690-484c-ba61-19d66b2208c7 button.colab-df-convert');\n",
              "      buttonEl.style.display =\n",
              "        google.colab.kernel.accessAllowed ? 'block' : 'none';\n",
              "\n",
              "      async function convertToInteractive(key) {\n",
              "        const element = document.querySelector('#df-e270c09a-4690-484c-ba61-19d66b2208c7');\n",
              "        const dataTable =\n",
              "          await google.colab.kernel.invokeFunction('convertToInteractive',\n",
              "                                                    [key], {});\n",
              "        if (!dataTable) return;\n",
              "\n",
              "        const docLinkHtml = 'Like what you see? Visit the ' +\n",
              "          '<a target=\"_blank\" href=https://colab.research.google.com/notebooks/data_table.ipynb>data table notebook</a>'\n",
              "          + ' to learn more about interactive tables.';\n",
              "        element.innerHTML = '';\n",
              "        dataTable['output_type'] = 'display_data';\n",
              "        await google.colab.output.renderOutput(dataTable, element);\n",
              "        const docLink = document.createElement('div');\n",
              "        docLink.innerHTML = docLinkHtml;\n",
              "        element.appendChild(docLink);\n",
              "      }\n",
              "    </script>\n",
              "  </div>\n",
              "\n",
              "\n",
              "<div id=\"df-f4ad6de5-fe1f-4dd7-97c7-a1f50461ba16\">\n",
              "  <button class=\"colab-df-quickchart\" onclick=\"quickchart('df-f4ad6de5-fe1f-4dd7-97c7-a1f50461ba16')\"\n",
              "            title=\"Suggest charts\"\n",
              "            style=\"display:none;\">\n",
              "\n",
              "<svg xmlns=\"http://www.w3.org/2000/svg\" height=\"24px\"viewBox=\"0 0 24 24\"\n",
              "     width=\"24px\">\n",
              "    <g>\n",
              "        <path d=\"M19 3H5c-1.1 0-2 .9-2 2v14c0 1.1.9 2 2 2h14c1.1 0 2-.9 2-2V5c0-1.1-.9-2-2-2zM9 17H7v-7h2v7zm4 0h-2V7h2v10zm4 0h-2v-4h2v4z\"/>\n",
              "    </g>\n",
              "</svg>\n",
              "  </button>\n",
              "\n",
              "<style>\n",
              "  .colab-df-quickchart {\n",
              "      --bg-color: #E8F0FE;\n",
              "      --fill-color: #1967D2;\n",
              "      --hover-bg-color: #E2EBFA;\n",
              "      --hover-fill-color: #174EA6;\n",
              "      --disabled-fill-color: #AAA;\n",
              "      --disabled-bg-color: #DDD;\n",
              "  }\n",
              "\n",
              "  [theme=dark] .colab-df-quickchart {\n",
              "      --bg-color: #3B4455;\n",
              "      --fill-color: #D2E3FC;\n",
              "      --hover-bg-color: #434B5C;\n",
              "      --hover-fill-color: #FFFFFF;\n",
              "      --disabled-bg-color: #3B4455;\n",
              "      --disabled-fill-color: #666;\n",
              "  }\n",
              "\n",
              "  .colab-df-quickchart {\n",
              "    background-color: var(--bg-color);\n",
              "    border: none;\n",
              "    border-radius: 50%;\n",
              "    cursor: pointer;\n",
              "    display: none;\n",
              "    fill: var(--fill-color);\n",
              "    height: 32px;\n",
              "    padding: 0;\n",
              "    width: 32px;\n",
              "  }\n",
              "\n",
              "  .colab-df-quickchart:hover {\n",
              "    background-color: var(--hover-bg-color);\n",
              "    box-shadow: 0 1px 2px rgba(60, 64, 67, 0.3), 0 1px 3px 1px rgba(60, 64, 67, 0.15);\n",
              "    fill: var(--button-hover-fill-color);\n",
              "  }\n",
              "\n",
              "  .colab-df-quickchart-complete:disabled,\n",
              "  .colab-df-quickchart-complete:disabled:hover {\n",
              "    background-color: var(--disabled-bg-color);\n",
              "    fill: var(--disabled-fill-color);\n",
              "    box-shadow: none;\n",
              "  }\n",
              "\n",
              "  .colab-df-spinner {\n",
              "    border: 2px solid var(--fill-color);\n",
              "    border-color: transparent;\n",
              "    border-bottom-color: var(--fill-color);\n",
              "    animation:\n",
              "      spin 1s steps(1) infinite;\n",
              "  }\n",
              "\n",
              "  @keyframes spin {\n",
              "    0% {\n",
              "      border-color: transparent;\n",
              "      border-bottom-color: var(--fill-color);\n",
              "      border-left-color: var(--fill-color);\n",
              "    }\n",
              "    20% {\n",
              "      border-color: transparent;\n",
              "      border-left-color: var(--fill-color);\n",
              "      border-top-color: var(--fill-color);\n",
              "    }\n",
              "    30% {\n",
              "      border-color: transparent;\n",
              "      border-left-color: var(--fill-color);\n",
              "      border-top-color: var(--fill-color);\n",
              "      border-right-color: var(--fill-color);\n",
              "    }\n",
              "    40% {\n",
              "      border-color: transparent;\n",
              "      border-right-color: var(--fill-color);\n",
              "      border-top-color: var(--fill-color);\n",
              "    }\n",
              "    60% {\n",
              "      border-color: transparent;\n",
              "      border-right-color: var(--fill-color);\n",
              "    }\n",
              "    80% {\n",
              "      border-color: transparent;\n",
              "      border-right-color: var(--fill-color);\n",
              "      border-bottom-color: var(--fill-color);\n",
              "    }\n",
              "    90% {\n",
              "      border-color: transparent;\n",
              "      border-bottom-color: var(--fill-color);\n",
              "    }\n",
              "  }\n",
              "</style>\n",
              "\n",
              "  <script>\n",
              "    async function quickchart(key) {\n",
              "      const quickchartButtonEl =\n",
              "        document.querySelector('#' + key + ' button');\n",
              "      quickchartButtonEl.disabled = true;  // To prevent multiple clicks.\n",
              "      quickchartButtonEl.classList.add('colab-df-spinner');\n",
              "      try {\n",
              "        const charts = await google.colab.kernel.invokeFunction(\n",
              "            'suggestCharts', [key], {});\n",
              "      } catch (error) {\n",
              "        console.error('Error during call to suggestCharts:', error);\n",
              "      }\n",
              "      quickchartButtonEl.classList.remove('colab-df-spinner');\n",
              "      quickchartButtonEl.classList.add('colab-df-quickchart-complete');\n",
              "    }\n",
              "    (() => {\n",
              "      let quickchartButtonEl =\n",
              "        document.querySelector('#df-f4ad6de5-fe1f-4dd7-97c7-a1f50461ba16 button');\n",
              "      quickchartButtonEl.style.display =\n",
              "        google.colab.kernel.accessAllowed ? 'block' : 'none';\n",
              "    })();\n",
              "  </script>\n",
              "</div>\n",
              "    </div>\n",
              "  </div>\n"
            ],
            "application/vnd.google.colaboratory.intrinsic+json": {
              "type": "dataframe",
              "variable_name": "data",
              "summary": "{\n  \"name\": \"data\",\n  \"rows\": 35040,\n  \"fields\": [\n    {\n      \"column\": \"Usage_kWh\",\n      \"properties\": {\n        \"dtype\": \"number\",\n        \"std\": 1.0000142697118237,\n        \"min\": -0.8188904518738827,\n        \"max\": 3.8809199283926374,\n        \"num_unique_values\": 3343,\n        \"samples\": [\n          -0.4594826342711114,\n          0.03358183430373861,\n          1.4888545866104672\n        ],\n        \"semantic_type\": \"\",\n        \"description\": \"\"\n      }\n    },\n    {\n      \"column\": \"Lagging_Current_Reactive.Power_kVarh\",\n      \"properties\": {\n        \"dtype\": \"number\",\n        \"std\": 1.000014269711824,\n        \"min\": -0.7994339258144242,\n        \"max\": 5.143861979849439,\n        \"num_unique_values\": 1954,\n        \"samples\": [\n          0.4810945904404666,\n          3.483713180279521,\n          -0.3689114074183833\n        ],\n        \"semantic_type\": \"\",\n        \"description\": \"\"\n      }\n    },\n    {\n      \"column\": \"Leading_Current_Reactive_Power_kVarh\",\n      \"properties\": {\n        \"dtype\": \"number\",\n        \"std\": 1.000014269711824,\n        \"min\": -0.5213850478056785,\n        \"max\": 3.2176593854895876,\n        \"num_unique_values\": 768,\n        \"samples\": [\n          2.3152243097302834,\n          2.5819140783875105,\n          1.311770382206878\n        ],\n        \"semantic_type\": \"\",\n        \"description\": \"\"\n      }\n    },\n    {\n      \"column\": \"CO2(tCO2)\",\n      \"properties\": {\n        \"dtype\": \"number\",\n        \"std\": 1.0000142697118237,\n        \"min\": -0.7135502311223633,\n        \"max\": 3.6206564673173305,\n        \"num_unique_values\": 8,\n        \"samples\": [\n          0.5247945398604063,\n          1.7631393108431759,\n          -0.7135502311223633\n        ],\n        \"semantic_type\": \"\",\n        \"description\": \"\"\n      }\n    },\n    {\n      \"column\": \"Lagging_Current_Power_Factor\",\n      \"properties\": {\n        \"dtype\": \"number\",\n        \"std\": 1.000014269711824,\n        \"min\": -4.258645611895584,\n        \"max\": 1.0264727088927679,\n        \"num_unique_values\": 5079,\n        \"samples\": [\n          -0.16373593694876884,\n          -1.8126928530347348,\n          1.0264727088927679\n        ],\n        \"semantic_type\": \"\",\n        \"description\": \"\"\n      }\n    },\n    {\n      \"column\": \"Leading_Current_Power_Factor\",\n      \"properties\": {\n        \"dtype\": \"number\",\n        \"std\": 1.000014269711824,\n        \"min\": -2.7701468118964536,\n        \"max\": 0.5132676163619359,\n        \"num_unique_values\": 3366,\n        \"samples\": [\n          0.4233020610276561,\n          -0.9846260458095414,\n          -2.129552656943242\n        ],\n        \"semantic_type\": \"\",\n        \"description\": \"\"\n      }\n    },\n    {\n      \"column\": \"NSM\",\n      \"properties\": {\n        \"dtype\": \"number\",\n        \"std\": 1.000014269711824,\n        \"min\": -1.7141016101436073,\n        \"max\": 1.7141016101436073,\n        \"num_unique_values\": 96,\n        \"samples\": [\n          1.2088927145223336,\n          1.1006336654606321,\n          0.9562882667116968\n        ],\n        \"semantic_type\": \"\",\n        \"description\": \"\"\n      }\n    },\n    {\n      \"column\": \"WeekStatus\",\n      \"properties\": {\n        \"dtype\": \"number\",\n        \"std\": 0,\n        \"min\": 0,\n        \"max\": 1,\n        \"num_unique_values\": 2,\n        \"samples\": [\n          1,\n          0\n        ],\n        \"semantic_type\": \"\",\n        \"description\": \"\"\n      }\n    },\n    {\n      \"column\": \"Day_of_week\",\n      \"properties\": {\n        \"dtype\": \"number\",\n        \"std\": 2,\n        \"min\": 0,\n        \"max\": 6,\n        \"num_unique_values\": 7,\n        \"samples\": [\n          1,\n          5\n        ],\n        \"semantic_type\": \"\",\n        \"description\": \"\"\n      }\n    },\n    {\n      \"column\": \"Load_Type\",\n      \"properties\": {\n        \"dtype\": \"number\",\n        \"std\": 0,\n        \"min\": 0,\n        \"max\": 2,\n        \"num_unique_values\": 3,\n        \"samples\": [\n          0,\n          2\n        ],\n        \"semantic_type\": \"\",\n        \"description\": \"\"\n      }\n    }\n  ]\n}"
            }
          },
          "metadata": {},
          "execution_count": 11
        }
      ]
    },
    {
      "cell_type": "code",
      "source": [
        "def create_sequences(data, target, time_steps=1):\n",
        "    X, y = [], []\n",
        "    for i in range(len(data) - time_steps):\n",
        "        X.append(data.iloc[i:(i + time_steps)].values)\n",
        "        y.append(target.iloc[i + time_steps])\n",
        "    return np.array(X), np.array(y)\n",
        "\n",
        "time_steps = 7\n",
        "X, y = create_sequences(data.drop('Load_Type', axis=1), data['Load_Type'], time_steps)"
      ],
      "metadata": {
        "id": "ctdMTyg5gOM8"
      },
      "execution_count": null,
      "outputs": []
    },
    {
      "cell_type": "code",
      "source": [
        "X.shape"
      ],
      "metadata": {
        "colab": {
          "base_uri": "https://localhost:8080/"
        },
        "id": "EM4EnkyKglEx",
        "outputId": "ae90e189-7b05-4aed-ace8-a901df964c67"
      },
      "execution_count": null,
      "outputs": [
        {
          "output_type": "execute_result",
          "data": {
            "text/plain": [
              "(35033, 7, 9)"
            ]
          },
          "metadata": {},
          "execution_count": 31
        }
      ]
    },
    {
      "cell_type": "code",
      "source": [
        "X_train, X_test, y_train, y_test = train_test_split(X, y, test_size=0.2, random_state=42)\n",
        "\n",
        "y_train = to_categorical(y_train)\n",
        "y_test = to_categorical(y_test)"
      ],
      "metadata": {
        "id": "W4nNvkvHgs_I"
      },
      "execution_count": null,
      "outputs": []
    },
    {
      "cell_type": "markdown",
      "source": [
        "# RNN"
      ],
      "metadata": {
        "id": "LnyT00LnjlDw"
      }
    },
    {
      "cell_type": "code",
      "source": [
        "model = Sequential()\n",
        "model.add(SimpleRNN(50, activation='relu', input_shape=(X_train.shape[1], X_train.shape[2])))\n",
        "model.add(Dense(50, activation='relu'))\n",
        "model.add(Dense(3, activation='softmax'))"
      ],
      "metadata": {
        "id": "IMrAKrOTh4p-"
      },
      "execution_count": null,
      "outputs": []
    },
    {
      "cell_type": "code",
      "source": [
        "model.summary()"
      ],
      "metadata": {
        "colab": {
          "base_uri": "https://localhost:8080/"
        },
        "id": "Ms2ivXaUiCjK",
        "outputId": "bc9bd680-1b3c-4522-9345-29885851c191"
      },
      "execution_count": null,
      "outputs": [
        {
          "output_type": "stream",
          "name": "stdout",
          "text": [
            "Model: \"sequential_3\"\n",
            "_________________________________________________________________\n",
            " Layer (type)                Output Shape              Param #   \n",
            "=================================================================\n",
            " simple_rnn (SimpleRNN)      (None, 50)                3000      \n",
            "                                                                 \n",
            " dense_4 (Dense)             (None, 50)                2550      \n",
            "                                                                 \n",
            " dense_5 (Dense)             (None, 3)                 153       \n",
            "                                                                 \n",
            "=================================================================\n",
            "Total params: 5703 (22.28 KB)\n",
            "Trainable params: 5703 (22.28 KB)\n",
            "Non-trainable params: 0 (0.00 Byte)\n",
            "_________________________________________________________________\n"
          ]
        }
      ]
    },
    {
      "cell_type": "code",
      "source": [
        "model.compile(\n",
        "    optimizer=Adam(learning_rate=0.0001),\n",
        "    loss=categorical_crossentropy,\n",
        "    metrics=[\n",
        "        CategoricalAccuracy(),\n",
        "        MSE\n",
        "    ]\n",
        ")"
      ],
      "metadata": {
        "id": "CUrKTlh3h7Bp"
      },
      "execution_count": null,
      "outputs": []
    },
    {
      "cell_type": "code",
      "source": [
        "history = model.fit(X_train, y_train, epochs=20, batch_size=32, use_multiprocessing=True, workers=10)"
      ],
      "metadata": {
        "colab": {
          "base_uri": "https://localhost:8080/"
        },
        "id": "4yN-xZ1Oh9In",
        "outputId": "4ddc5acb-6ce5-45d2-deef-239b06306090"
      },
      "execution_count": null,
      "outputs": [
        {
          "output_type": "stream",
          "name": "stdout",
          "text": [
            "Epoch 1/20\n",
            "876/876 [==============================] - 7s 5ms/step - loss: 0.5807 - categorical_accuracy: 0.7369 - mean_squared_error: 0.1146\n",
            "Epoch 2/20\n",
            "876/876 [==============================] - 4s 5ms/step - loss: 0.3813 - categorical_accuracy: 0.8286 - mean_squared_error: 0.0774\n",
            "Epoch 3/20\n",
            "876/876 [==============================] - 5s 6ms/step - loss: 0.3444 - categorical_accuracy: 0.8456 - mean_squared_error: 0.0703\n",
            "Epoch 4/20\n",
            "876/876 [==============================] - 4s 5ms/step - loss: 0.3267 - categorical_accuracy: 0.8519 - mean_squared_error: 0.0673\n",
            "Epoch 5/20\n",
            "876/876 [==============================] - 4s 4ms/step - loss: 0.3147 - categorical_accuracy: 0.8582 - mean_squared_error: 0.0653\n",
            "Epoch 6/20\n",
            "876/876 [==============================] - 4s 4ms/step - loss: 0.3058 - categorical_accuracy: 0.8608 - mean_squared_error: 0.0637\n",
            "Epoch 7/20\n",
            "876/876 [==============================] - 5s 6ms/step - loss: 0.2981 - categorical_accuracy: 0.8618 - mean_squared_error: 0.0624\n",
            "Epoch 8/20\n",
            "876/876 [==============================] - 4s 4ms/step - loss: 0.2932 - categorical_accuracy: 0.8654 - mean_squared_error: 0.0615\n",
            "Epoch 9/20\n",
            "876/876 [==============================] - 4s 4ms/step - loss: 0.2887 - categorical_accuracy: 0.8668 - mean_squared_error: 0.0608\n",
            "Epoch 10/20\n",
            "876/876 [==============================] - 5s 5ms/step - loss: 0.2844 - categorical_accuracy: 0.8684 - mean_squared_error: 0.0599\n",
            "Epoch 11/20\n",
            "876/876 [==============================] - 4s 5ms/step - loss: 0.2814 - categorical_accuracy: 0.8683 - mean_squared_error: 0.0594\n",
            "Epoch 12/20\n",
            "876/876 [==============================] - 4s 4ms/step - loss: 0.2773 - categorical_accuracy: 0.8699 - mean_squared_error: 0.0585\n",
            "Epoch 13/20\n",
            "876/876 [==============================] - 4s 4ms/step - loss: 0.2734 - categorical_accuracy: 0.8721 - mean_squared_error: 0.0577\n",
            "Epoch 14/20\n",
            "876/876 [==============================] - 5s 5ms/step - loss: 0.2712 - categorical_accuracy: 0.8715 - mean_squared_error: 0.0575\n",
            "Epoch 15/20\n",
            "876/876 [==============================] - 3s 4ms/step - loss: 0.2686 - categorical_accuracy: 0.8733 - mean_squared_error: 0.0569\n",
            "Epoch 16/20\n",
            "876/876 [==============================] - 4s 4ms/step - loss: 0.2659 - categorical_accuracy: 0.8750 - mean_squared_error: 0.0563\n",
            "Epoch 17/20\n",
            "876/876 [==============================] - 5s 5ms/step - loss: 0.2641 - categorical_accuracy: 0.8755 - mean_squared_error: 0.0560\n",
            "Epoch 18/20\n",
            "876/876 [==============================] - 4s 4ms/step - loss: 0.2615 - categorical_accuracy: 0.8764 - mean_squared_error: 0.0555\n",
            "Epoch 19/20\n",
            "876/876 [==============================] - 3s 4ms/step - loss: 0.2598 - categorical_accuracy: 0.8768 - mean_squared_error: 0.0551\n",
            "Epoch 20/20\n",
            "876/876 [==============================] - 3s 4ms/step - loss: 0.2582 - categorical_accuracy: 0.8773 - mean_squared_error: 0.0549\n"
          ]
        }
      ]
    },
    {
      "cell_type": "code",
      "source": [
        "plt.plot(history.history['categorical_accuracy'], label='accuracy')\n",
        "plt.plot(history.history['loss'], label='loss')\n",
        "plt.xlabel('Epoch')\n",
        "plt.ylabel('Accuracy')\n",
        "plt.legend()\n",
        "plt.show()"
      ],
      "metadata": {
        "colab": {
          "base_uri": "https://localhost:8080/",
          "height": 470
        },
        "id": "Wk1Z-Po-iQLR",
        "outputId": "366c82f3-f199-447f-f2e9-e562d0fb33c6"
      },
      "execution_count": null,
      "outputs": [
        {
          "output_type": "display_data",
          "data": {
            "text/plain": [
              "<Figure size 640x480 with 1 Axes>"
            ],
            "image/png": "[encoded data removed]"
          },
          "metadata": {}
        }
      ]
    },
    {
      "cell_type": "code",
      "source": [
        "test_loss, test_accuracy, test_MSE = model.evaluate(X_test, y_test)\n",
        "print(f\"Loss: {test_loss}\\nAccuracy: {test_accuracy}\\nMSE: {test_MSE}\")"
      ],
      "metadata": {
        "colab": {
          "base_uri": "https://localhost:8080/"
        },
        "id": "CjQM3GMYiUYP",
        "outputId": "f9033fe5-9dbe-44d7-e16e-99e17d9d7f06"
      },
      "execution_count": null,
      "outputs": [
        {
          "output_type": "stream",
          "name": "stdout",
          "text": [
            "219/219 [==============================] - 1s 3ms/step - loss: 0.2756 - categorical_accuracy: 0.8701 - mean_squared_error: 0.0591\n",
            "Loss: 0.2755563259124756\n",
            "Accuracy: 0.8701298832893372\n",
            "MSE: 0.05913698673248291\n"
          ]
        }
      ]
    },
    {
      "cell_type": "markdown",
      "source": [
        "# GRU"
      ],
      "metadata": {
        "id": "sfhdN_p7mDMy"
      }
    },
    {
      "cell_type": "code",
      "source": [
        "model = Sequential()\n",
        "model.add(GRU(50, activation='relu', input_shape=(X_train.shape[1], X_train.shape[2])))\n",
        "model.add(Dense(50, activation='relu'))\n",
        "model.add(Dense(3, activation='softmax'))"
      ],
      "metadata": {
        "id": "pn7gwzcjmFoS"
      },
      "execution_count": null,
      "outputs": []
    },
    {
      "cell_type": "code",
      "source": [
        "model.summary()"
      ],
      "metadata": {
        "colab": {
          "base_uri": "https://localhost:8080/"
        },
        "outputId": "93879d1f-65bc-448a-e02c-81bde80f5f0b",
        "id": "fWDX8gygmPJN"
      },
      "execution_count": null,
      "outputs": [
        {
          "output_type": "stream",
          "name": "stdout",
          "text": [
            "Model: \"sequential\"\n",
            "_________________________________________________________________\n",
            " Layer (type)                Output Shape              Param #   \n",
            "=================================================================\n",
            " gru (GRU)                   (None, 50)                9150      \n",
            "                                                                 \n",
            " dense (Dense)               (None, 50)                2550      \n",
            "                                                                 \n",
            " dense_1 (Dense)             (None, 3)                 153       \n",
            "                                                                 \n",
            "=================================================================\n",
            "Total params: 11853 (46.30 KB)\n",
            "Trainable params: 11853 (46.30 KB)\n",
            "Non-trainable params: 0 (0.00 Byte)\n",
            "_________________________________________________________________\n"
          ]
        }
      ]
    },
    {
      "cell_type": "code",
      "source": [
        "model.compile(\n",
        "    optimizer=Adam(learning_rate=0.0001),\n",
        "    loss=categorical_crossentropy,\n",
        "    metrics=[\n",
        "        CategoricalAccuracy(),\n",
        "        MSE\n",
        "    ]\n",
        ")"
      ],
      "metadata": {
        "id": "-CwhVa2amPJP"
      },
      "execution_count": null,
      "outputs": []
    },
    {
      "cell_type": "code",
      "source": [
        "history = model.fit(X_train, y_train, epochs=20, batch_size=32)"
      ],
      "metadata": {
        "colab": {
          "base_uri": "https://localhost:8080/"
        },
        "outputId": "ae300489-2653-461e-8cca-973b1ac1a4fa",
        "id": "-BWI5LInmPJP"
      },
      "execution_count": null,
      "outputs": [
        {
          "output_type": "stream",
          "name": "stdout",
          "text": [
            "Epoch 1/20\n",
            "876/876 [==============================] - 24s 23ms/step - loss: 0.5719 - categorical_accuracy: 0.7374 - mean_squared_error: 0.1126\n",
            "Epoch 2/20\n",
            "876/876 [==============================] - 13s 15ms/step - loss: 0.3756 - categorical_accuracy: 0.8419 - mean_squared_error: 0.0767\n",
            "Epoch 3/20\n",
            "876/876 [==============================] - 13s 14ms/step - loss: 0.3279 - categorical_accuracy: 0.8606 - mean_squared_error: 0.0668\n",
            "Epoch 4/20\n",
            "876/876 [==============================] - 13s 15ms/step - loss: 0.2961 - categorical_accuracy: 0.8647 - mean_squared_error: 0.0614\n",
            "Epoch 5/20\n",
            "876/876 [==============================] - 13s 14ms/step - loss: 0.2791 - categorical_accuracy: 0.8689 - mean_squared_error: 0.0588\n",
            "Epoch 6/20\n",
            "876/876 [==============================] - 13s 15ms/step - loss: 0.2678 - categorical_accuracy: 0.8729 - mean_squared_error: 0.0570\n",
            "Epoch 7/20\n",
            "876/876 [==============================] - 22s 25ms/step - loss: 0.2580 - categorical_accuracy: 0.8769 - mean_squared_error: 0.0553\n",
            "Epoch 8/20\n",
            "876/876 [==============================] - 13s 15ms/step - loss: 0.2519 - categorical_accuracy: 0.8783 - mean_squared_error: 0.0541\n",
            "Epoch 9/20\n",
            "876/876 [==============================] - 25s 28ms/step - loss: 0.2444 - categorical_accuracy: 0.8808 - mean_squared_error: 0.0527\n",
            "Epoch 10/20\n",
            "876/876 [==============================] - 13s 15ms/step - loss: 0.2385 - categorical_accuracy: 0.8842 - mean_squared_error: 0.0513\n",
            "Epoch 11/20\n",
            "876/876 [==============================] - 13s 15ms/step - loss: 0.2335 - categorical_accuracy: 0.8879 - mean_squared_error: 0.0502\n",
            "Epoch 12/20\n",
            "876/876 [==============================] - 13s 15ms/step - loss: 0.2282 - categorical_accuracy: 0.8918 - mean_squared_error: 0.0489\n",
            "Epoch 13/20\n",
            "876/876 [==============================] - 13s 15ms/step - loss: 0.2221 - categorical_accuracy: 0.8953 - mean_squared_error: 0.0477\n",
            "Epoch 14/20\n",
            "876/876 [==============================] - 12s 14ms/step - loss: 0.2160 - categorical_accuracy: 0.8996 - mean_squared_error: 0.0463\n",
            "Epoch 15/20\n",
            "876/876 [==============================] - 12s 14ms/step - loss: 0.2131 - categorical_accuracy: 0.9005 - mean_squared_error: 0.0455\n",
            "Epoch 16/20\n",
            "876/876 [==============================] - 14s 16ms/step - loss: 0.2076 - categorical_accuracy: 0.9030 - mean_squared_error: 0.0444\n",
            "Epoch 17/20\n",
            "876/876 [==============================] - 13s 15ms/step - loss: 0.2057 - categorical_accuracy: 0.9035 - mean_squared_error: 0.0438\n",
            "Epoch 18/20\n",
            "876/876 [==============================] - 13s 15ms/step - loss: 0.2016 - categorical_accuracy: 0.9055 - mean_squared_error: 0.0429\n",
            "Epoch 19/20\n",
            "876/876 [==============================] - 13s 15ms/step - loss: 0.1981 - categorical_accuracy: 0.9063 - mean_squared_error: 0.0421\n",
            "Epoch 20/20\n",
            "876/876 [==============================] - 13s 14ms/step - loss: 0.1942 - categorical_accuracy: 0.9084 - mean_squared_error: 0.0413\n"
          ]
        }
      ]
    },
    {
      "cell_type": "code",
      "source": [
        "plt.plot(history.history['categorical_accuracy'], label='accuracy')\n",
        "plt.plot(history.history['loss'], label='loss')\n",
        "plt.xlabel('Epoch')\n",
        "plt.ylabel('Accuracy')\n",
        "plt.legend()\n",
        "plt.show()"
      ],
      "metadata": {
        "colab": {
          "base_uri": "https://localhost:8080/",
          "height": 469
        },
        "outputId": "6a9e5fc9-f96e-4edf-d4f5-2d36a18be822",
        "id": "z80yL1qlmPJQ"
      },
      "execution_count": null,
      "outputs": [
        {
          "output_type": "display_data",
          "data": {
            "text/plain": [
              "<Figure size 640x480 with 1 Axes>"
            ],
            "image/png": "[encoded data removed]"
          },
          "metadata": {}
        }
      ]
    },
    {
      "cell_type": "code",
      "source": [
        "test_loss, test_accuracy, test_MSE = model.evaluate(X_test, y_test)\n",
        "print(f\"Loss: {test_loss}\\nAccuracy: {test_accuracy}\\nMSE: {test_MSE}\")"
      ],
      "metadata": {
        "colab": {
          "base_uri": "https://localhost:8080/"
        },
        "outputId": "5c842aef-7a38-443e-84ba-59be6c4ce7cb",
        "id": "KtK-IbM0mPJR"
      },
      "execution_count": null,
      "outputs": [
        {
          "output_type": "stream",
          "name": "stdout",
          "text": [
            "219/219 [==============================] - 1s 5ms/step - loss: 0.2027 - categorical_accuracy: 0.9015 - mean_squared_error: 0.0438\n",
            "Loss: 0.20269805192947388\n",
            "Accuracy: 0.9014848470687866\n",
            "MSE: 0.043832797557115555\n"
          ]
        }
      ]
    },
    {
      "cell_type": "markdown",
      "source": [
        "# LSTM"
      ],
      "metadata": {
        "id": "JrJqB8mCoDEW"
      }
    },
    {
      "cell_type": "code",
      "source": [
        "model = Sequential()\n",
        "model.add(LSTM(50, activation='relu', input_shape=(X_train.shape[1], X_train.shape[2])))\n",
        "model.add(Dense(50, activation='relu'))\n",
        "model.add(Dense(3, activation='softmax'))"
      ],
      "metadata": {
        "id": "NtaI5OxdoK7H"
      },
      "execution_count": null,
      "outputs": []
    },
    {
      "cell_type": "code",
      "source": [
        "model.summary()"
      ],
      "metadata": {
        "colab": {
          "base_uri": "https://localhost:8080/"
        },
        "outputId": "3dd77646-890e-4887-f11e-1a871257b4c0",
        "id": "LApwfXGDoK7J"
      },
      "execution_count": null,
      "outputs": [
        {
          "output_type": "stream",
          "name": "stdout",
          "text": [
            "Model: \"sequential_2\"\n",
            "_________________________________________________________________\n",
            " Layer (type)                Output Shape              Param #   \n",
            "=================================================================\n",
            " lstm (LSTM)                 (None, 50)                12000     \n",
            "                                                                 \n",
            " dense_2 (Dense)             (None, 50)                2550      \n",
            "                                                                 \n",
            " dense_3 (Dense)             (None, 3)                 153       \n",
            "                                                                 \n",
            "=================================================================\n",
            "Total params: 14703 (57.43 KB)\n",
            "Trainable params: 14703 (57.43 KB)\n",
            "Non-trainable params: 0 (0.00 Byte)\n",
            "_________________________________________________________________\n"
          ]
        }
      ]
    },
    {
      "cell_type": "code",
      "source": [
        "model.compile(\n",
        "    optimizer=Adam(learning_rate=0.0001),\n",
        "    loss=categorical_crossentropy,\n",
        "    metrics=[\n",
        "        CategoricalAccuracy(),\n",
        "        MSE\n",
        "    ]\n",
        ")"
      ],
      "metadata": {
        "id": "ctnLvBn4oK7J"
      },
      "execution_count": null,
      "outputs": []
    },
    {
      "cell_type": "code",
      "source": [
        "history = model.fit(X_train, y_train, epochs=20, batch_size=32)"
      ],
      "metadata": {
        "colab": {
          "base_uri": "https://localhost:8080/"
        },
        "outputId": "823f3312-b94c-4bbb-f202-ca744a4ad2ae",
        "id": "cL292JiRoK7K"
      },
      "execution_count": null,
      "outputs": [
        {
          "output_type": "stream",
          "name": "stdout",
          "text": [
            "Epoch 1/20\n",
            "876/876 [==============================] - 16s 16ms/step - loss: 0.4846 - categorical_accuracy: 0.7870 - mean_squared_error: 0.0962\n",
            "Epoch 2/20\n",
            "876/876 [==============================] - 13s 15ms/step - loss: 0.3154 - categorical_accuracy: 0.8591 - mean_squared_error: 0.0647\n",
            "Epoch 3/20\n",
            "876/876 [==============================] - 13s 15ms/step - loss: 0.2703 - categorical_accuracy: 0.8796 - mean_squared_error: 0.0563\n",
            "Epoch 4/20\n",
            "876/876 [==============================] - 13s 15ms/step - loss: 0.2458 - categorical_accuracy: 0.8878 - mean_squared_error: 0.0514\n",
            "Epoch 5/20\n",
            "876/876 [==============================] - 12s 14ms/step - loss: 0.2307 - categorical_accuracy: 0.8948 - mean_squared_error: 0.0483\n",
            "Epoch 6/20\n",
            "876/876 [==============================] - 12s 14ms/step - loss: 0.2189 - categorical_accuracy: 0.8996 - mean_squared_error: 0.0460\n",
            "Epoch 7/20\n",
            "876/876 [==============================] - 11s 13ms/step - loss: 0.2126 - categorical_accuracy: 0.9047 - mean_squared_error: 0.0445\n",
            "Epoch 8/20\n",
            "876/876 [==============================] - 12s 14ms/step - loss: 0.2055 - categorical_accuracy: 0.9074 - mean_squared_error: 0.0431\n",
            "Epoch 9/20\n",
            "876/876 [==============================] - 12s 14ms/step - loss: 0.1998 - categorical_accuracy: 0.9089 - mean_squared_error: 0.0421\n",
            "Epoch 10/20\n",
            "876/876 [==============================] - 13s 14ms/step - loss: 0.1963 - categorical_accuracy: 0.9112 - mean_squared_error: 0.0414\n",
            "Epoch 11/20\n",
            "876/876 [==============================] - 12s 14ms/step - loss: 0.1909 - categorical_accuracy: 0.9129 - mean_squared_error: 0.0403\n",
            "Epoch 12/20\n",
            "876/876 [==============================] - 13s 15ms/step - loss: 0.1883 - categorical_accuracy: 0.9165 - mean_squared_error: 0.0395\n",
            "Epoch 13/20\n",
            "876/876 [==============================] - 13s 14ms/step - loss: 0.1836 - categorical_accuracy: 0.9175 - mean_squared_error: 0.0387\n",
            "Epoch 14/20\n",
            "876/876 [==============================] - 11s 13ms/step - loss: 0.1822 - categorical_accuracy: 0.9180 - mean_squared_error: 0.0383\n",
            "Epoch 15/20\n",
            "876/876 [==============================] - 12s 14ms/step - loss: 0.1784 - categorical_accuracy: 0.9201 - mean_squared_error: 0.0374\n",
            "Epoch 16/20\n",
            "876/876 [==============================] - 12s 14ms/step - loss: 0.1739 - categorical_accuracy: 0.9207 - mean_squared_error: 0.0368\n",
            "Epoch 17/20\n",
            "876/876 [==============================] - 13s 14ms/step - loss: 0.1735 - categorical_accuracy: 0.9214 - mean_squared_error: 0.0365\n",
            "Epoch 18/20\n",
            "876/876 [==============================] - 12s 14ms/step - loss: 0.1681 - categorical_accuracy: 0.9249 - mean_squared_error: 0.0354\n",
            "Epoch 19/20\n",
            "876/876 [==============================] - 13s 14ms/step - loss: 0.1658 - categorical_accuracy: 0.9249 - mean_squared_error: 0.0350\n",
            "Epoch 20/20\n",
            "876/876 [==============================] - 12s 14ms/step - loss: 0.1639 - categorical_accuracy: 0.9268 - mean_squared_error: 0.0344\n"
          ]
        }
      ]
    },
    {
      "cell_type": "code",
      "source": [
        "history.history"
      ],
      "metadata": {
        "id": "FOFMyx1UoK7K"
      },
      "execution_count": null,
      "outputs": []
    },
    {
      "cell_type": "code",
      "source": [
        "plt.plot(history.history['categorical_accuracy'], label='accuracy')\n",
        "plt.plot(history.history['loss'], label='loss')\n",
        "plt.xlabel('Epoch')\n",
        "plt.ylabel('Accuracy')\n",
        "plt.legend()\n",
        "plt.show()"
      ],
      "metadata": {
        "colab": {
          "base_uri": "https://localhost:8080/",
          "height": 469
        },
        "outputId": "969b09c5-2aa2-4943-9b01-a9865a2cae18",
        "id": "dQPD4_55oK7L"
      },
      "execution_count": null,
      "outputs": [
        {
          "output_type": "display_data",
          "data": {
            "text/plain": [
              "<Figure size 640x480 with 1 Axes>"
            ],
            "image/png": "[encoded data removed]"
          },
          "metadata": {}
        }
      ]
    },
    {
      "cell_type": "code",
      "source": [
        "test_loss, test_accuracy, test_MSE = model.evaluate(X_test, y_test)\n",
        "print(f\"Accuracy: {test_accuracy}\\nMSE: {test_MSE}\")"
      ],
      "metadata": {
        "colab": {
          "base_uri": "https://localhost:8080/"
        },
        "outputId": "69635d12-a697-417e-975a-318e8b12c5a6",
        "id": "bKwN9FX3oK7M"
      },
      "execution_count": null,
      "outputs": [
        {
          "output_type": "stream",
          "name": "stdout",
          "text": [
            "219/219 [==============================] - 1s 2ms/step - loss: 0.1876 - categorical_accuracy: 0.9102 - mean_squared_error: 0.0398\n",
            "Accuracy: 0.9101941585540771\n",
            "MSE: 0.03977576270699501\n"
          ]
        }
      ]
    }
  ]
}