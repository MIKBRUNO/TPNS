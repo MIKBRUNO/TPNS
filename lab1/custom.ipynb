{
  "nbformat": 4,
  "nbformat_minor": 0,
  "metadata": {
    "colab": {
      "provenance": [],
      "collapsed_sections": [
        "RqS78hp2dMJF",
        "wfSgbAxKdQnH",
        "RgjCQTdfe6m3",
        "IjBgmpK-dEeo",
        "BTuJMpT93Cav",
        "sNw6lm2pu1CK"
      ],
      "authorship_tag": "ABX9TyPQ9OSU3GLk6y5Rzw/eqGZR",
      "include_colab_link": true
    },
    "kernelspec": {
      "name": "python3",
      "display_name": "Python 3"
    },
    "language_info": {
      "name": "python"
    }
  },
  "cells": [
    {
      "cell_type": "markdown",
      "metadata": {
        "id": "view-in-github",
        "colab_type": "text"
      },
      "source": [
        "<a href=\"https://colab.research.google.com/github/MIKBRUNO/TPNS/blob/main/lab1/custom.ipynb\" target=\"_parent\"><img src=\"https://colab.research.google.com/assets/colab-badge.svg\" alt=\"Open In Colab\"/></a>"
      ]
    },
    {
      "cell_type": "markdown",
      "source": [
        "# Load Data"
      ],
      "metadata": {
        "id": "RqS78hp2dMJF"
      }
    },
    {
      "cell_type": "code",
      "source": [
        "from google.colab import files\n",
        "files.upload()"
      ],
      "metadata": {
        "id": "Oh2c9P-si0my"
      },
      "execution_count": null,
      "outputs": []
    },
    {
      "cell_type": "code",
      "source": [
        "import pandas as pd\n",
        "import numpy as np"
      ],
      "metadata": {
        "id": "copGYM7OjnoR"
      },
      "execution_count": null,
      "outputs": []
    },
    {
      "cell_type": "code",
      "source": [
        "df = pd.read_csv(\"Laptop_price.csv\")\n",
        "df.head()"
      ],
      "metadata": {
        "colab": {
          "base_uri": "https://localhost:8080/",
          "height": 226
        },
        "id": "tyFeZ9uZkdai",
        "outputId": "b90c28ce-1d9b-4571-bf1b-1f540d2a8b72"
      },
      "execution_count": null,
      "outputs": [
        {
          "output_type": "execute_result",
          "data": {
            "text/plain": [
              "    Brand  Processor_Speed  RAM_Size  Storage_Capacity  Screen_Size    Weight  \\\n",
              "0    Asus         3.830296        16               512    11.185147  2.641094   \n",
              "1    Acer         2.912833         4              1000    11.311372  3.260012   \n",
              "2  Lenovo         3.241627         4               256    11.853023  2.029061   \n",
              "3    Acer         3.806248        16               512    12.280360  4.573865   \n",
              "4    Acer         3.268097        32              1000    14.990877  4.193472   \n",
              "\n",
              "          Price  \n",
              "0  17395.093065  \n",
              "1  31607.605919  \n",
              "2   9291.023542  \n",
              "3  17436.728334  \n",
              "4  32917.990718  "
            ],
            "text/html": [
              "\n",
              "  <div id=\"df-55faa003-17f4-4a82-9145-87f573e22ef9\" class=\"colab-df-container\">\n",
              "    <div>\n",
              "<style scoped>\n",
              "    .dataframe tbody tr th:only-of-type {\n",
              "        vertical-align: middle;\n",
              "    }\n",
              "\n",
              "    .dataframe tbody tr th {\n",
              "        vertical-align: top;\n",
              "    }\n",
              "\n",
              "    .dataframe thead th {\n",
              "        text-align: right;\n",
              "    }\n",
              "</style>\n",
              "<table border=\"1\" class=\"dataframe\">\n",
              "  <thead>\n",
              "    <tr style=\"text-align: right;\">\n",
              "      <th></th>\n",
              "      <th>Brand</th>\n",
              "      <th>Processor_Speed</th>\n",
              "      <th>RAM_Size</th>\n",
              "      <th>Storage_Capacity</th>\n",
              "      <th>Screen_Size</th>\n",
              "      <th>Weight</th>\n",
              "      <th>Price</th>\n",
              "    </tr>\n",
              "  </thead>\n",
              "  <tbody>\n",
              "    <tr>\n",
              "      <th>0</th>\n",
              "      <td>Asus</td>\n",
              "      <td>3.830296</td>\n",
              "      <td>16</td>\n",
              "      <td>512</td>\n",
              "      <td>11.185147</td>\n",
              "      <td>2.641094</td>\n",
              "      <td>17395.093065</td>\n",
              "    </tr>\n",
              "    <tr>\n",
              "      <th>1</th>\n",
              "      <td>Acer</td>\n",
              "      <td>2.912833</td>\n",
              "      <td>4</td>\n",
              "      <td>1000</td>\n",
              "      <td>11.311372</td>\n",
              "      <td>3.260012</td>\n",
              "      <td>31607.605919</td>\n",
              "    </tr>\n",
              "    <tr>\n",
              "      <th>2</th>\n",
              "      <td>Lenovo</td>\n",
              "      <td>3.241627</td>\n",
              "      <td>4</td>\n",
              "      <td>256</td>\n",
              "      <td>11.853023</td>\n",
              "      <td>2.029061</td>\n",
              "      <td>9291.023542</td>\n",
              "    </tr>\n",
              "    <tr>\n",
              "      <th>3</th>\n",
              "      <td>Acer</td>\n",
              "      <td>3.806248</td>\n",
              "      <td>16</td>\n",
              "      <td>512</td>\n",
              "      <td>12.280360</td>\n",
              "      <td>4.573865</td>\n",
              "      <td>17436.728334</td>\n",
              "    </tr>\n",
              "    <tr>\n",
              "      <th>4</th>\n",
              "      <td>Acer</td>\n",
              "      <td>3.268097</td>\n",
              "      <td>32</td>\n",
              "      <td>1000</td>\n",
              "      <td>14.990877</td>\n",
              "      <td>4.193472</td>\n",
              "      <td>32917.990718</td>\n",
              "    </tr>\n",
              "  </tbody>\n",
              "</table>\n",
              "</div>\n",
              "    <div class=\"colab-df-buttons\">\n",
              "\n",
              "  <div class=\"colab-df-container\">\n",
              "    <button class=\"colab-df-convert\" onclick=\"convertToInteractive('df-55faa003-17f4-4a82-9145-87f573e22ef9')\"\n",
              "            title=\"Convert this dataframe to an interactive table.\"\n",
              "            style=\"display:none;\">\n",
              "\n",
              "  <svg xmlns=\"http://www.w3.org/2000/svg\" height=\"24px\" viewBox=\"0 -960 960 960\">\n",
              "    <path d=\"M120-120v-720h720v720H120Zm60-500h600v-160H180v160Zm220 220h160v-160H400v160Zm0 220h160v-160H400v160ZM180-400h160v-160H180v160Zm440 0h160v-160H620v160ZM180-180h160v-160H180v160Zm440 0h160v-160H620v160Z\"/>\n",
              "  </svg>\n",
              "    </button>\n",
              "\n",
              "  <style>\n",
              "    .colab-df-container {\n",
              "      display:flex;\n",
              "      gap: 12px;\n",
              "    }\n",
              "\n",
              "    .colab-df-convert {\n",
              "      background-color: #E8F0FE;\n",
              "      border: none;\n",
              "      border-radius: 50%;\n",
              "      cursor: pointer;\n",
              "      display: none;\n",
              "      fill: #1967D2;\n",
              "      height: 32px;\n",
              "      padding: 0 0 0 0;\n",
              "      width: 32px;\n",
              "    }\n",
              "\n",
              "    .colab-df-convert:hover {\n",
              "      background-color: #E2EBFA;\n",
              "      box-shadow: 0px 1px 2px rgba(60, 64, 67, 0.3), 0px 1px 3px 1px rgba(60, 64, 67, 0.15);\n",
              "      fill: #174EA6;\n",
              "    }\n",
              "\n",
              "    .colab-df-buttons div {\n",
              "      margin-bottom: 4px;\n",
              "    }\n",
              "\n",
              "    [theme=dark] .colab-df-convert {\n",
              "      background-color: #3B4455;\n",
              "      fill: #D2E3FC;\n",
              "    }\n",
              "\n",
              "    [theme=dark] .colab-df-convert:hover {\n",
              "      background-color: #434B5C;\n",
              "      box-shadow: 0px 1px 3px 1px rgba(0, 0, 0, 0.15);\n",
              "      filter: drop-shadow(0px 1px 2px rgba(0, 0, 0, 0.3));\n",
              "      fill: #FFFFFF;\n",
              "    }\n",
              "  </style>\n",
              "\n",
              "    <script>\n",
              "      const buttonEl =\n",
              "        document.querySelector('#df-55faa003-17f4-4a82-9145-87f573e22ef9 button.colab-df-convert');\n",
              "      buttonEl.style.display =\n",
              "        google.colab.kernel.accessAllowed ? 'block' : 'none';\n",
              "\n",
              "      async function convertToInteractive(key) {\n",
              "        const element = document.querySelector('#df-55faa003-17f4-4a82-9145-87f573e22ef9');\n",
              "        const dataTable =\n",
              "          await google.colab.kernel.invokeFunction('convertToInteractive',\n",
              "                                                    [key], {});\n",
              "        if (!dataTable) return;\n",
              "\n",
              "        const docLinkHtml = 'Like what you see? Visit the ' +\n",
              "          '<a target=\"_blank\" href=https://colab.research.google.com/notebooks/data_table.ipynb>data table notebook</a>'\n",
              "          + ' to learn more about interactive tables.';\n",
              "        element.innerHTML = '';\n",
              "        dataTable['output_type'] = 'display_data';\n",
              "        await google.colab.output.renderOutput(dataTable, element);\n",
              "        const docLink = document.createElement('div');\n",
              "        docLink.innerHTML = docLinkHtml;\n",
              "        element.appendChild(docLink);\n",
              "      }\n",
              "    </script>\n",
              "  </div>\n",
              "\n",
              "\n",
              "<div id=\"df-bd78ded7-d641-4a6a-95ce-83889030ea1b\">\n",
              "  <button class=\"colab-df-quickchart\" onclick=\"quickchart('df-bd78ded7-d641-4a6a-95ce-83889030ea1b')\"\n",
              "            title=\"Suggest charts\"\n",
              "            style=\"display:none;\">\n",
              "\n",
              "<svg xmlns=\"http://www.w3.org/2000/svg\" height=\"24px\"viewBox=\"0 0 24 24\"\n",
              "     width=\"24px\">\n",
              "    <g>\n",
              "        <path d=\"M19 3H5c-1.1 0-2 .9-2 2v14c0 1.1.9 2 2 2h14c1.1 0 2-.9 2-2V5c0-1.1-.9-2-2-2zM9 17H7v-7h2v7zm4 0h-2V7h2v10zm4 0h-2v-4h2v4z\"/>\n",
              "    </g>\n",
              "</svg>\n",
              "  </button>\n",
              "\n",
              "<style>\n",
              "  .colab-df-quickchart {\n",
              "      --bg-color: #E8F0FE;\n",
              "      --fill-color: #1967D2;\n",
              "      --hover-bg-color: #E2EBFA;\n",
              "      --hover-fill-color: #174EA6;\n",
              "      --disabled-fill-color: #AAA;\n",
              "      --disabled-bg-color: #DDD;\n",
              "  }\n",
              "\n",
              "  [theme=dark] .colab-df-quickchart {\n",
              "      --bg-color: #3B4455;\n",
              "      --fill-color: #D2E3FC;\n",
              "      --hover-bg-color: #434B5C;\n",
              "      --hover-fill-color: #FFFFFF;\n",
              "      --disabled-bg-color: #3B4455;\n",
              "      --disabled-fill-color: #666;\n",
              "  }\n",
              "\n",
              "  .colab-df-quickchart {\n",
              "    background-color: var(--bg-color);\n",
              "    border: none;\n",
              "    border-radius: 50%;\n",
              "    cursor: pointer;\n",
              "    display: none;\n",
              "    fill: var(--fill-color);\n",
              "    height: 32px;\n",
              "    padding: 0;\n",
              "    width: 32px;\n",
              "  }\n",
              "\n",
              "  .colab-df-quickchart:hover {\n",
              "    background-color: var(--hover-bg-color);\n",
              "    box-shadow: 0 1px 2px rgba(60, 64, 67, 0.3), 0 1px 3px 1px rgba(60, 64, 67, 0.15);\n",
              "    fill: var(--button-hover-fill-color);\n",
              "  }\n",
              "\n",
              "  .colab-df-quickchart-complete:disabled,\n",
              "  .colab-df-quickchart-complete:disabled:hover {\n",
              "    background-color: var(--disabled-bg-color);\n",
              "    fill: var(--disabled-fill-color);\n",
              "    box-shadow: none;\n",
              "  }\n",
              "\n",
              "  .colab-df-spinner {\n",
              "    border: 2px solid var(--fill-color);\n",
              "    border-color: transparent;\n",
              "    border-bottom-color: var(--fill-color);\n",
              "    animation:\n",
              "      spin 1s steps(1) infinite;\n",
              "  }\n",
              "\n",
              "  @keyframes spin {\n",
              "    0% {\n",
              "      border-color: transparent;\n",
              "      border-bottom-color: var(--fill-color);\n",
              "      border-left-color: var(--fill-color);\n",
              "    }\n",
              "    20% {\n",
              "      border-color: transparent;\n",
              "      border-left-color: var(--fill-color);\n",
              "      border-top-color: var(--fill-color);\n",
              "    }\n",
              "    30% {\n",
              "      border-color: transparent;\n",
              "      border-left-color: var(--fill-color);\n",
              "      border-top-color: var(--fill-color);\n",
              "      border-right-color: var(--fill-color);\n",
              "    }\n",
              "    40% {\n",
              "      border-color: transparent;\n",
              "      border-right-color: var(--fill-color);\n",
              "      border-top-color: var(--fill-color);\n",
              "    }\n",
              "    60% {\n",
              "      border-color: transparent;\n",
              "      border-right-color: var(--fill-color);\n",
              "    }\n",
              "    80% {\n",
              "      border-color: transparent;\n",
              "      border-right-color: var(--fill-color);\n",
              "      border-bottom-color: var(--fill-color);\n",
              "    }\n",
              "    90% {\n",
              "      border-color: transparent;\n",
              "      border-bottom-color: var(--fill-color);\n",
              "    }\n",
              "  }\n",
              "</style>\n",
              "\n",
              "  <script>\n",
              "    async function quickchart(key) {\n",
              "      const quickchartButtonEl =\n",
              "        document.querySelector('#' + key + ' button');\n",
              "      quickchartButtonEl.disabled = true;  // To prevent multiple clicks.\n",
              "      quickchartButtonEl.classList.add('colab-df-spinner');\n",
              "      try {\n",
              "        const charts = await google.colab.kernel.invokeFunction(\n",
              "            'suggestCharts', [key], {});\n",
              "      } catch (error) {\n",
              "        console.error('Error during call to suggestCharts:', error);\n",
              "      }\n",
              "      quickchartButtonEl.classList.remove('colab-df-spinner');\n",
              "      quickchartButtonEl.classList.add('colab-df-quickchart-complete');\n",
              "    }\n",
              "    (() => {\n",
              "      let quickchartButtonEl =\n",
              "        document.querySelector('#df-bd78ded7-d641-4a6a-95ce-83889030ea1b button');\n",
              "      quickchartButtonEl.style.display =\n",
              "        google.colab.kernel.accessAllowed ? 'block' : 'none';\n",
              "    })();\n",
              "  </script>\n",
              "</div>\n",
              "    </div>\n",
              "  </div>\n"
            ],
            "application/vnd.google.colaboratory.intrinsic+json": {
              "type": "dataframe",
              "variable_name": "df",
              "summary": "{\n  \"name\": \"df\",\n  \"rows\": 1000,\n  \"fields\": [\n    {\n      \"column\": \"Brand\",\n      \"properties\": {\n        \"dtype\": \"category\",\n        \"num_unique_values\": 5,\n        \"samples\": [\n          \"Acer\",\n          \"Dell\",\n          \"Lenovo\"\n        ],\n        \"semantic_type\": \"\",\n        \"description\": \"\"\n      }\n    },\n    {\n      \"column\": \"Processor_Speed\",\n      \"properties\": {\n        \"dtype\": \"number\",\n        \"std\": 0.731796294479103,\n        \"min\": 1.511580057511507,\n        \"max\": 3.9985343144266654,\n        \"num_unique_values\": 1000,\n        \"samples\": [\n          3.3289738043883297,\n          2.1815600018338346,\n          1.9528733738367008\n        ],\n        \"semantic_type\": \"\",\n        \"description\": \"\"\n      }\n    },\n    {\n      \"column\": \"RAM_Size\",\n      \"properties\": {\n        \"dtype\": \"number\",\n        \"std\": 10,\n        \"min\": 4,\n        \"max\": 32,\n        \"num_unique_values\": 4,\n        \"samples\": [\n          4,\n          8,\n          16\n        ],\n        \"semantic_type\": \"\",\n        \"description\": \"\"\n      }\n    },\n    {\n      \"column\": \"Storage_Capacity\",\n      \"properties\": {\n        \"dtype\": \"number\",\n        \"std\": 313,\n        \"min\": 256,\n        \"max\": 1000,\n        \"num_unique_values\": 3,\n        \"samples\": [\n          512,\n          1000,\n          256\n        ],\n        \"semantic_type\": \"\",\n        \"description\": \"\"\n      }\n    },\n    {\n      \"column\": \"Screen_Size\",\n      \"properties\": {\n        \"dtype\": \"number\",\n        \"std\": 1.7058818320797111,\n        \"min\": 11.012111106489405,\n        \"max\": 16.985736933508313,\n        \"num_unique_values\": 1000,\n        \"samples\": [\n          16.289693839267986,\n          12.993233425683927,\n          14.822568204946656\n        ],\n        \"semantic_type\": \"\",\n        \"description\": \"\"\n      }\n    },\n    {\n      \"column\": \"Weight\",\n      \"properties\": {\n        \"dtype\": \"number\",\n        \"std\": 0.8665414077441265,\n        \"min\": 2.000559584511989,\n        \"max\": 4.990727655768066,\n        \"num_unique_values\": 1000,\n        \"samples\": [\n          2.7314058131305385,\n          2.099803913508075,\n          2.189389727623899\n        ],\n        \"semantic_type\": \"\",\n        \"description\": \"\"\n      }\n    },\n    {\n      \"column\": \"Price\",\n      \"properties\": {\n        \"dtype\": \"number\",\n        \"std\": 9406.064879572106,\n        \"min\": 8570.01295046808,\n        \"max\": 33503.93503731473,\n        \"num_unique_values\": 1000,\n        \"samples\": [\n          10900.502074698152,\n          31727.51669713056,\n          9636.022750232672\n        ],\n        \"semantic_type\": \"\",\n        \"description\": \"\"\n      }\n    }\n  ]\n}"
            }
          },
          "metadata": {},
          "execution_count": 3
        }
      ]
    },
    {
      "cell_type": "code",
      "source": [
        "df.shape"
      ],
      "metadata": {
        "colab": {
          "base_uri": "https://localhost:8080/"
        },
        "id": "9_jg8_hnkyL_",
        "outputId": "7c77d0f3-cfac-444c-f66c-9d0d1a5a5a78"
      },
      "execution_count": null,
      "outputs": [
        {
          "output_type": "execute_result",
          "data": {
            "text/plain": [
              "(1000, 7)"
            ]
          },
          "metadata": {},
          "execution_count": 4
        }
      ]
    },
    {
      "cell_type": "code",
      "source": [
        "df.info()"
      ],
      "metadata": {
        "colab": {
          "base_uri": "https://localhost:8080/"
        },
        "id": "K5dmbgqZlF14",
        "outputId": "0ad75dc1-2bc6-40c8-8ab8-6e8aefbe225d"
      },
      "execution_count": null,
      "outputs": [
        {
          "output_type": "stream",
          "name": "stdout",
          "text": [
            "<class 'pandas.core.frame.DataFrame'>\n",
            "RangeIndex: 1000 entries, 0 to 999\n",
            "Data columns (total 7 columns):\n",
            " #   Column            Non-Null Count  Dtype  \n",
            "---  ------            --------------  -----  \n",
            " 0   Brand             1000 non-null   object \n",
            " 1   Processor_Speed   1000 non-null   float64\n",
            " 2   RAM_Size          1000 non-null   int64  \n",
            " 3   Storage_Capacity  1000 non-null   int64  \n",
            " 4   Screen_Size       1000 non-null   float64\n",
            " 5   Weight            1000 non-null   float64\n",
            " 6   Price             1000 non-null   float64\n",
            "dtypes: float64(4), int64(2), object(1)\n",
            "memory usage: 54.8+ KB\n"
          ]
        }
      ]
    },
    {
      "cell_type": "code",
      "source": [
        "df.describe()"
      ],
      "metadata": {
        "id": "Q_MkIV15mE_I",
        "colab": {
          "base_uri": "https://localhost:8080/",
          "height": 320
        },
        "outputId": "9d622ba5-f437-4835-f014-2a00856f33c9"
      },
      "execution_count": null,
      "outputs": [
        {
          "output_type": "execute_result",
          "data": {
            "text/plain": [
              "       Processor_Speed     RAM_Size  Storage_Capacity  Screen_Size  \\\n",
              "count      1000.000000  1000.000000       1000.000000  1000.000000   \n",
              "mean          2.750611    15.500000        584.576000    14.056790   \n",
              "std           0.731796    10.988665        313.438517     1.705882   \n",
              "min           1.511580     4.000000        256.000000    11.012111   \n",
              "25%           2.089246     8.000000        256.000000    12.635523   \n",
              "50%           2.760885    16.000000        512.000000    14.099643   \n",
              "75%           3.362610    32.000000       1000.000000    15.528590   \n",
              "max           3.998534    32.000000       1000.000000    16.985737   \n",
              "\n",
              "            Weight         Price  \n",
              "count  1000.000000   1000.000000  \n",
              "mean      3.466919  19604.187963  \n",
              "std       0.866541   9406.064880  \n",
              "min       2.000560   8570.012950  \n",
              "25%       2.717211  10114.012948  \n",
              "50%       3.464630  17287.241878  \n",
              "75%       4.212583  31566.214754  \n",
              "max       4.990728  33503.935037  "
            ],
            "text/html": [
              "\n",
              "  <div id=\"df-fb4ea355-95ed-477c-89a0-5375de2e4214\" class=\"colab-df-container\">\n",
              "    <div>\n",
              "<style scoped>\n",
              "    .dataframe tbody tr th:only-of-type {\n",
              "        vertical-align: middle;\n",
              "    }\n",
              "\n",
              "    .dataframe tbody tr th {\n",
              "        vertical-align: top;\n",
              "    }\n",
              "\n",
              "    .dataframe thead th {\n",
              "        text-align: right;\n",
              "    }\n",
              "</style>\n",
              "<table border=\"1\" class=\"dataframe\">\n",
              "  <thead>\n",
              "    <tr style=\"text-align: right;\">\n",
              "      <th></th>\n",
              "      <th>Processor_Speed</th>\n",
              "      <th>RAM_Size</th>\n",
              "      <th>Storage_Capacity</th>\n",
              "      <th>Screen_Size</th>\n",
              "      <th>Weight</th>\n",
              "      <th>Price</th>\n",
              "    </tr>\n",
              "  </thead>\n",
              "  <tbody>\n",
              "    <tr>\n",
              "      <th>count</th>\n",
              "      <td>1000.000000</td>\n",
              "      <td>1000.000000</td>\n",
              "      <td>1000.000000</td>\n",
              "      <td>1000.000000</td>\n",
              "      <td>1000.000000</td>\n",
              "      <td>1000.000000</td>\n",
              "    </tr>\n",
              "    <tr>\n",
              "      <th>mean</th>\n",
              "      <td>2.750611</td>\n",
              "      <td>15.500000</td>\n",
              "      <td>584.576000</td>\n",
              "      <td>14.056790</td>\n",
              "      <td>3.466919</td>\n",
              "      <td>19604.187963</td>\n",
              "    </tr>\n",
              "    <tr>\n",
              "      <th>std</th>\n",
              "      <td>0.731796</td>\n",
              "      <td>10.988665</td>\n",
              "      <td>313.438517</td>\n",
              "      <td>1.705882</td>\n",
              "      <td>0.866541</td>\n",
              "      <td>9406.064880</td>\n",
              "    </tr>\n",
              "    <tr>\n",
              "      <th>min</th>\n",
              "      <td>1.511580</td>\n",
              "      <td>4.000000</td>\n",
              "      <td>256.000000</td>\n",
              "      <td>11.012111</td>\n",
              "      <td>2.000560</td>\n",
              "      <td>8570.012950</td>\n",
              "    </tr>\n",
              "    <tr>\n",
              "      <th>25%</th>\n",
              "      <td>2.089246</td>\n",
              "      <td>8.000000</td>\n",
              "      <td>256.000000</td>\n",
              "      <td>12.635523</td>\n",
              "      <td>2.717211</td>\n",
              "      <td>10114.012948</td>\n",
              "    </tr>\n",
              "    <tr>\n",
              "      <th>50%</th>\n",
              "      <td>2.760885</td>\n",
              "      <td>16.000000</td>\n",
              "      <td>512.000000</td>\n",
              "      <td>14.099643</td>\n",
              "      <td>3.464630</td>\n",
              "      <td>17287.241878</td>\n",
              "    </tr>\n",
              "    <tr>\n",
              "      <th>75%</th>\n",
              "      <td>3.362610</td>\n",
              "      <td>32.000000</td>\n",
              "      <td>1000.000000</td>\n",
              "      <td>15.528590</td>\n",
              "      <td>4.212583</td>\n",
              "      <td>31566.214754</td>\n",
              "    </tr>\n",
              "    <tr>\n",
              "      <th>max</th>\n",
              "      <td>3.998534</td>\n",
              "      <td>32.000000</td>\n",
              "      <td>1000.000000</td>\n",
              "      <td>16.985737</td>\n",
              "      <td>4.990728</td>\n",
              "      <td>33503.935037</td>\n",
              "    </tr>\n",
              "  </tbody>\n",
              "</table>\n",
              "</div>\n",
              "    <div class=\"colab-df-buttons\">\n",
              "\n",
              "  <div class=\"colab-df-container\">\n",
              "    <button class=\"colab-df-convert\" onclick=\"convertToInteractive('df-fb4ea355-95ed-477c-89a0-5375de2e4214')\"\n",
              "            title=\"Convert this dataframe to an interactive table.\"\n",
              "            style=\"display:none;\">\n",
              "\n",
              "  <svg xmlns=\"http://www.w3.org/2000/svg\" height=\"24px\" viewBox=\"0 -960 960 960\">\n",
              "    <path d=\"M120-120v-720h720v720H120Zm60-500h600v-160H180v160Zm220 220h160v-160H400v160Zm0 220h160v-160H400v160ZM180-400h160v-160H180v160Zm440 0h160v-160H620v160ZM180-180h160v-160H180v160Zm440 0h160v-160H620v160Z\"/>\n",
              "  </svg>\n",
              "    </button>\n",
              "\n",
              "  <style>\n",
              "    .colab-df-container {\n",
              "      display:flex;\n",
              "      gap: 12px;\n",
              "    }\n",
              "\n",
              "    .colab-df-convert {\n",
              "      background-color: #E8F0FE;\n",
              "      border: none;\n",
              "      border-radius: 50%;\n",
              "      cursor: pointer;\n",
              "      display: none;\n",
              "      fill: #1967D2;\n",
              "      height: 32px;\n",
              "      padding: 0 0 0 0;\n",
              "      width: 32px;\n",
              "    }\n",
              "\n",
              "    .colab-df-convert:hover {\n",
              "      background-color: #E2EBFA;\n",
              "      box-shadow: 0px 1px 2px rgba(60, 64, 67, 0.3), 0px 1px 3px 1px rgba(60, 64, 67, 0.15);\n",
              "      fill: #174EA6;\n",
              "    }\n",
              "\n",
              "    .colab-df-buttons div {\n",
              "      margin-bottom: 4px;\n",
              "    }\n",
              "\n",
              "    [theme=dark] .colab-df-convert {\n",
              "      background-color: #3B4455;\n",
              "      fill: #D2E3FC;\n",
              "    }\n",
              "\n",
              "    [theme=dark] .colab-df-convert:hover {\n",
              "      background-color: #434B5C;\n",
              "      box-shadow: 0px 1px 3px 1px rgba(0, 0, 0, 0.15);\n",
              "      filter: drop-shadow(0px 1px 2px rgba(0, 0, 0, 0.3));\n",
              "      fill: #FFFFFF;\n",
              "    }\n",
              "  </style>\n",
              "\n",
              "    <script>\n",
              "      const buttonEl =\n",
              "        document.querySelector('#df-fb4ea355-95ed-477c-89a0-5375de2e4214 button.colab-df-convert');\n",
              "      buttonEl.style.display =\n",
              "        google.colab.kernel.accessAllowed ? 'block' : 'none';\n",
              "\n",
              "      async function convertToInteractive(key) {\n",
              "        const element = document.querySelector('#df-fb4ea355-95ed-477c-89a0-5375de2e4214');\n",
              "        const dataTable =\n",
              "          await google.colab.kernel.invokeFunction('convertToInteractive',\n",
              "                                                    [key], {});\n",
              "        if (!dataTable) return;\n",
              "\n",
              "        const docLinkHtml = 'Like what you see? Visit the ' +\n",
              "          '<a target=\"_blank\" href=https://colab.research.google.com/notebooks/data_table.ipynb>data table notebook</a>'\n",
              "          + ' to learn more about interactive tables.';\n",
              "        element.innerHTML = '';\n",
              "        dataTable['output_type'] = 'display_data';\n",
              "        await google.colab.output.renderOutput(dataTable, element);\n",
              "        const docLink = document.createElement('div');\n",
              "        docLink.innerHTML = docLinkHtml;\n",
              "        element.appendChild(docLink);\n",
              "      }\n",
              "    </script>\n",
              "  </div>\n",
              "\n",
              "\n",
              "<div id=\"df-bf303183-ca71-47fb-85bb-59cec1961cff\">\n",
              "  <button class=\"colab-df-quickchart\" onclick=\"quickchart('df-bf303183-ca71-47fb-85bb-59cec1961cff')\"\n",
              "            title=\"Suggest charts\"\n",
              "            style=\"display:none;\">\n",
              "\n",
              "<svg xmlns=\"http://www.w3.org/2000/svg\" height=\"24px\"viewBox=\"0 0 24 24\"\n",
              "     width=\"24px\">\n",
              "    <g>\n",
              "        <path d=\"M19 3H5c-1.1 0-2 .9-2 2v14c0 1.1.9 2 2 2h14c1.1 0 2-.9 2-2V5c0-1.1-.9-2-2-2zM9 17H7v-7h2v7zm4 0h-2V7h2v10zm4 0h-2v-4h2v4z\"/>\n",
              "    </g>\n",
              "</svg>\n",
              "  </button>\n",
              "\n",
              "<style>\n",
              "  .colab-df-quickchart {\n",
              "      --bg-color: #E8F0FE;\n",
              "      --fill-color: #1967D2;\n",
              "      --hover-bg-color: #E2EBFA;\n",
              "      --hover-fill-color: #174EA6;\n",
              "      --disabled-fill-color: #AAA;\n",
              "      --disabled-bg-color: #DDD;\n",
              "  }\n",
              "\n",
              "  [theme=dark] .colab-df-quickchart {\n",
              "      --bg-color: #3B4455;\n",
              "      --fill-color: #D2E3FC;\n",
              "      --hover-bg-color: #434B5C;\n",
              "      --hover-fill-color: #FFFFFF;\n",
              "      --disabled-bg-color: #3B4455;\n",
              "      --disabled-fill-color: #666;\n",
              "  }\n",
              "\n",
              "  .colab-df-quickchart {\n",
              "    background-color: var(--bg-color);\n",
              "    border: none;\n",
              "    border-radius: 50%;\n",
              "    cursor: pointer;\n",
              "    display: none;\n",
              "    fill: var(--fill-color);\n",
              "    height: 32px;\n",
              "    padding: 0;\n",
              "    width: 32px;\n",
              "  }\n",
              "\n",
              "  .colab-df-quickchart:hover {\n",
              "    background-color: var(--hover-bg-color);\n",
              "    box-shadow: 0 1px 2px rgba(60, 64, 67, 0.3), 0 1px 3px 1px rgba(60, 64, 67, 0.15);\n",
              "    fill: var(--button-hover-fill-color);\n",
              "  }\n",
              "\n",
              "  .colab-df-quickchart-complete:disabled,\n",
              "  .colab-df-quickchart-complete:disabled:hover {\n",
              "    background-color: var(--disabled-bg-color);\n",
              "    fill: var(--disabled-fill-color);\n",
              "    box-shadow: none;\n",
              "  }\n",
              "\n",
              "  .colab-df-spinner {\n",
              "    border: 2px solid var(--fill-color);\n",
              "    border-color: transparent;\n",
              "    border-bottom-color: var(--fill-color);\n",
              "    animation:\n",
              "      spin 1s steps(1) infinite;\n",
              "  }\n",
              "\n",
              "  @keyframes spin {\n",
              "    0% {\n",
              "      border-color: transparent;\n",
              "      border-bottom-color: var(--fill-color);\n",
              "      border-left-color: var(--fill-color);\n",
              "    }\n",
              "    20% {\n",
              "      border-color: transparent;\n",
              "      border-left-color: var(--fill-color);\n",
              "      border-top-color: var(--fill-color);\n",
              "    }\n",
              "    30% {\n",
              "      border-color: transparent;\n",
              "      border-left-color: var(--fill-color);\n",
              "      border-top-color: var(--fill-color);\n",
              "      border-right-color: var(--fill-color);\n",
              "    }\n",
              "    40% {\n",
              "      border-color: transparent;\n",
              "      border-right-color: var(--fill-color);\n",
              "      border-top-color: var(--fill-color);\n",
              "    }\n",
              "    60% {\n",
              "      border-color: transparent;\n",
              "      border-right-color: var(--fill-color);\n",
              "    }\n",
              "    80% {\n",
              "      border-color: transparent;\n",
              "      border-right-color: var(--fill-color);\n",
              "      border-bottom-color: var(--fill-color);\n",
              "    }\n",
              "    90% {\n",
              "      border-color: transparent;\n",
              "      border-bottom-color: var(--fill-color);\n",
              "    }\n",
              "  }\n",
              "</style>\n",
              "\n",
              "  <script>\n",
              "    async function quickchart(key) {\n",
              "      const quickchartButtonEl =\n",
              "        document.querySelector('#' + key + ' button');\n",
              "      quickchartButtonEl.disabled = true;  // To prevent multiple clicks.\n",
              "      quickchartButtonEl.classList.add('colab-df-spinner');\n",
              "      try {\n",
              "        const charts = await google.colab.kernel.invokeFunction(\n",
              "            'suggestCharts', [key], {});\n",
              "      } catch (error) {\n",
              "        console.error('Error during call to suggestCharts:', error);\n",
              "      }\n",
              "      quickchartButtonEl.classList.remove('colab-df-spinner');\n",
              "      quickchartButtonEl.classList.add('colab-df-quickchart-complete');\n",
              "    }\n",
              "    (() => {\n",
              "      let quickchartButtonEl =\n",
              "        document.querySelector('#df-bf303183-ca71-47fb-85bb-59cec1961cff button');\n",
              "      quickchartButtonEl.style.display =\n",
              "        google.colab.kernel.accessAllowed ? 'block' : 'none';\n",
              "    })();\n",
              "  </script>\n",
              "</div>\n",
              "    </div>\n",
              "  </div>\n"
            ],
            "application/vnd.google.colaboratory.intrinsic+json": {
              "type": "dataframe",
              "summary": "{\n  \"name\": \"df\",\n  \"rows\": 8,\n  \"fields\": [\n    {\n      \"column\": \"Processor_Speed\",\n      \"properties\": {\n        \"dtype\": \"number\",\n        \"std\": 352.6858883388106,\n        \"min\": 0.731796294479103,\n        \"max\": 1000.0,\n        \"num_unique_values\": 8,\n        \"samples\": [\n          2.7506107248730127,\n          2.7608849241296083,\n          1000.0\n        ],\n        \"semantic_type\": \"\",\n        \"description\": \"\"\n      }\n    },\n    {\n      \"column\": \"RAM_Size\",\n      \"properties\": {\n        \"dtype\": \"number\",\n        \"std\": 347.72071903683087,\n        \"min\": 4.0,\n        \"max\": 1000.0,\n        \"num_unique_values\": 7,\n        \"samples\": [\n          1000.0,\n          15.5,\n          16.0\n        ],\n        \"semantic_type\": \"\",\n        \"description\": \"\"\n      }\n    },\n    {\n      \"column\": \"Storage_Capacity\",\n      \"properties\": {\n        \"dtype\": \"number\",\n        \"std\": 339.0976345982991,\n        \"min\": 256.0,\n        \"max\": 1000.0,\n        \"num_unique_values\": 5,\n        \"samples\": [\n          584.576,\n          512.0,\n          313.4385169820836\n        ],\n        \"semantic_type\": \"\",\n        \"description\": \"\"\n      }\n    },\n    {\n      \"column\": \"Screen_Size\",\n      \"properties\": {\n        \"dtype\": \"number\",\n        \"std\": 349.239743266231,\n        \"min\": 1.7058818320797111,\n        \"max\": 1000.0,\n        \"num_unique_values\": 8,\n        \"samples\": [\n          14.056789581545557,\n          14.099642982040308,\n          1000.0\n        ],\n        \"semantic_type\": \"\",\n        \"description\": \"\"\n      }\n    },\n    {\n      \"column\": \"Weight\",\n      \"properties\": {\n        \"dtype\": \"number\",\n        \"std\": 352.4587218942466,\n        \"min\": 0.8665414077441265,\n        \"max\": 1000.0,\n        \"num_unique_values\": 8,\n        \"samples\": [\n          3.4669194675992054,\n          3.4646303254694946,\n          1000.0\n        ],\n        \"semantic_type\": \"\",\n        \"description\": \"\"\n      }\n    },\n    {\n      \"column\": \"Price\",\n      \"properties\": {\n        \"dtype\": \"number\",\n        \"std\": 11467.390978923851,\n        \"min\": 1000.0,\n        \"max\": 33503.93503731473,\n        \"num_unique_values\": 8,\n        \"samples\": [\n          19604.18796323342,\n          17287.2418784653,\n          1000.0\n        ],\n        \"semantic_type\": \"\",\n        \"description\": \"\"\n      }\n    }\n  ]\n}"
            }
          },
          "metadata": {},
          "execution_count": 6
        }
      ]
    },
    {
      "cell_type": "code",
      "source": [
        "df[\"Price\"].plot.hist(bins=30)"
      ],
      "metadata": {
        "colab": {
          "base_uri": "https://localhost:8080/",
          "height": 467
        },
        "id": "-IKVzLdlhSwI",
        "outputId": "bf9d17f9-c328-472f-c62a-103b29a4d61d"
      },
      "execution_count": null,
      "outputs": [
        {
          "output_type": "execute_result",
          "data": {
            "text/plain": [
              "<Axes: ylabel='Frequency'>"
            ]
          },
          "metadata": {},
          "execution_count": 7
        },
        {
          "output_type": "display_data",
          "data": {
            "text/plain": [
              "<Figure size 640x480 with 1 Axes>"
            ],
            "image/png": "[encoded data removed]"
          },
          "metadata": {}
        }
      ]
    },
    {
      "cell_type": "code",
      "source": [
        "df[\"RAM_Size\"].plot.hist(bins=20)"
      ],
      "metadata": {
        "colab": {
          "base_uri": "https://localhost:8080/",
          "height": 467
        },
        "id": "SLbBw4-VhUAu",
        "outputId": "08097261-c2aa-4c56-9e82-652622bb4feb"
      },
      "execution_count": null,
      "outputs": [
        {
          "output_type": "execute_result",
          "data": {
            "text/plain": [
              "<Axes: ylabel='Frequency'>"
            ]
          },
          "metadata": {},
          "execution_count": 8
        },
        {
          "output_type": "display_data",
          "data": {
            "text/plain": [
              "<Figure size 640x480 with 1 Axes>"
            ],
            "image/png": "[encoded data removed]"
          },
          "metadata": {}
        }
      ]
    },
    {
      "cell_type": "code",
      "source": [
        "df[\"Processor_Speed\"].plot.hist(bins=20)"
      ],
      "metadata": {
        "colab": {
          "base_uri": "https://localhost:8080/",
          "height": 89
        },
        "id": "cEngJ6tGhWWb",
        "outputId": "63a522ab-ff5b-42fc-881d-8ab80a82a0df"
      },
      "execution_count": null,
      "outputs": [
        {
          "output_type": "execute_result",
          "data": {
            "text/plain": [
              "<Axes: ylabel='Frequency'>"
            ]
          },
          "metadata": {},
          "execution_count": 9
        },
        {
          "output_type": "display_data",
          "data": {
            "text/plain": [
              "<Figure size 640x480 with 1 Axes>"
            ],
            "image/png": "[encoded data removed]"
          },
          "metadata": {}
        }
      ]
    },
    {
      "cell_type": "code",
      "source": [
        "df[\"Storage_Capacity\"].plot.hist(bins=20)"
      ],
      "metadata": {
        "colab": {
          "base_uri": "https://localhost:8080/",
          "height": 89
        },
        "id": "ztfBNzOXhZ8I",
        "outputId": "7592d183-9cab-4d1e-853c-53826191b89d"
      },
      "execution_count": null,
      "outputs": [
        {
          "output_type": "execute_result",
          "data": {
            "text/plain": [
              "<Axes: ylabel='Frequency'>"
            ]
          },
          "metadata": {},
          "execution_count": 10
        },
        {
          "output_type": "display_data",
          "data": {
            "text/plain": [
              "<Figure size 640x480 with 1 Axes>"
            ],
            "image/png": "[encoded data removed]"
          },
          "metadata": {}
        }
      ]
    },
    {
      "cell_type": "code",
      "source": [
        "df[\"Screen_Size\"].plot.hist(bins=20)"
      ],
      "metadata": {
        "colab": {
          "base_uri": "https://localhost:8080/",
          "height": 89
        },
        "id": "MLBS6murhdNx",
        "outputId": "0d9c1392-ea9f-4aef-f128-b637a6add985"
      },
      "execution_count": null,
      "outputs": [
        {
          "output_type": "execute_result",
          "data": {
            "text/plain": [
              "<Axes: ylabel='Frequency'>"
            ]
          },
          "metadata": {},
          "execution_count": 11
        },
        {
          "output_type": "display_data",
          "data": {
            "text/plain": [
              "<Figure size 640x480 with 1 Axes>"
            ],
            "image/png": "[encoded data removed]"
          },
          "metadata": {}
        }
      ]
    },
    {
      "cell_type": "code",
      "source": [
        "df[\"Weight\"].plot.hist(bins=20)"
      ],
      "metadata": {
        "colab": {
          "base_uri": "https://localhost:8080/",
          "height": 89
        },
        "id": "QKNwI2Z1hiL1",
        "outputId": "a7739fff-0a5f-4472-b712-5e193013e7ed"
      },
      "execution_count": null,
      "outputs": [
        {
          "output_type": "execute_result",
          "data": {
            "text/plain": [
              "<Axes: ylabel='Frequency'>"
            ]
          },
          "metadata": {},
          "execution_count": 12
        },
        {
          "output_type": "display_data",
          "data": {
            "text/plain": [
              "<Figure size 640x480 with 1 Axes>"
            ],
            "image/png": "[encoded data removed]"
          },
          "metadata": {}
        }
      ]
    },
    {
      "cell_type": "markdown",
      "source": [
        "# NA and duplicates"
      ],
      "metadata": {
        "id": "wfSgbAxKdQnH"
      }
    },
    {
      "cell_type": "code",
      "source": [
        "df.drop_duplicates(inplace=True)"
      ],
      "metadata": {
        "id": "KpnQnsb2W8v0"
      },
      "execution_count": null,
      "outputs": []
    },
    {
      "cell_type": "code",
      "source": [
        "df.isnull().sum()"
      ],
      "metadata": {
        "colab": {
          "base_uri": "https://localhost:8080/"
        },
        "id": "-smvLb9tmbnt",
        "outputId": "878b2beb-e540-476e-81bb-e8787b2455be"
      },
      "execution_count": null,
      "outputs": [
        {
          "output_type": "execute_result",
          "data": {
            "text/plain": [
              "Brand               0\n",
              "Processor_Speed     0\n",
              "RAM_Size            0\n",
              "Storage_Capacity    0\n",
              "Screen_Size         0\n",
              "Weight              0\n",
              "Price               0\n",
              "dtype: int64"
            ]
          },
          "metadata": {},
          "execution_count": 14
        }
      ]
    },
    {
      "cell_type": "code",
      "source": [
        "#drop rows with missing data\n",
        "df.dropna(inplace=True)\n",
        "df.shape"
      ],
      "metadata": {
        "colab": {
          "base_uri": "https://localhost:8080/"
        },
        "id": "MLFH0-Kgu3PR",
        "outputId": "16a6887d-7281-4bb3-a248-2188cf6bcfaa"
      },
      "execution_count": null,
      "outputs": [
        {
          "output_type": "execute_result",
          "data": {
            "text/plain": [
              "(1000, 7)"
            ]
          },
          "metadata": {},
          "execution_count": 15
        }
      ]
    },
    {
      "cell_type": "code",
      "source": [
        "# drop columns with missing data\n",
        "df.dropna(axis='columns', thresh=0.9*df.shape[0], inplace=True)\n",
        "df.shape"
      ],
      "metadata": {
        "colab": {
          "base_uri": "https://localhost:8080/"
        },
        "id": "BAaD5cEjwu8m",
        "outputId": "51beda15-e0d1-43f7-d508-9bbe041e4698"
      },
      "execution_count": null,
      "outputs": [
        {
          "output_type": "execute_result",
          "data": {
            "text/plain": [
              "(1000, 7)"
            ]
          },
          "metadata": {},
          "execution_count": 16
        }
      ]
    },
    {
      "cell_type": "code",
      "source": [
        "df.dtypes"
      ],
      "metadata": {
        "colab": {
          "base_uri": "https://localhost:8080/"
        },
        "id": "6epGkXCJauPQ",
        "outputId": "34728193-8823-4198-e541-30f4c60eb8c0"
      },
      "execution_count": null,
      "outputs": [
        {
          "output_type": "execute_result",
          "data": {
            "text/plain": [
              "Brand                object\n",
              "Processor_Speed     float64\n",
              "RAM_Size              int64\n",
              "Storage_Capacity      int64\n",
              "Screen_Size         float64\n",
              "Weight              float64\n",
              "Price               float64\n",
              "dtype: object"
            ]
          },
          "metadata": {},
          "execution_count": 17
        }
      ]
    },
    {
      "cell_type": "code",
      "source": [
        "for col in df.columns:\n",
        "    if df[col].dtype == 'object':\n",
        "        top = df[col].mode()\n",
        "        df[col].fillna(top)"
      ],
      "metadata": {
        "id": "U99s4b_aXE-K"
      },
      "execution_count": null,
      "outputs": []
    },
    {
      "cell_type": "code",
      "source": [
        "for col in df.columns:\n",
        "    if df[col].dtype == 'float64':\n",
        "        med = df[col].median()\n",
        "        df[col].fillna(med)"
      ],
      "metadata": {
        "id": "JVA0FC8NdyxN"
      },
      "execution_count": null,
      "outputs": []
    },
    {
      "cell_type": "markdown",
      "source": [
        "# Outliers\n"
      ],
      "metadata": {
        "id": "RgjCQTdfe6m3"
      }
    },
    {
      "cell_type": "code",
      "source": [
        "df.boxplot(column=\"RAM_Size\")"
      ],
      "metadata": {
        "colab": {
          "base_uri": "https://localhost:8080/",
          "height": 89
        },
        "id": "Rrzj4OWCfjPL",
        "outputId": "e5932f56-e171-4b2d-c890-d93e32b46b21"
      },
      "execution_count": null,
      "outputs": [
        {
          "output_type": "execute_result",
          "data": {
            "text/plain": [
              "<Axes: >"
            ]
          },
          "metadata": {},
          "execution_count": 20
        },
        {
          "output_type": "display_data",
          "data": {
            "text/plain": [
              "<Figure size 640x480 with 1 Axes>"
            ],
            "image/png": "[encoded data removed]"
          },
          "metadata": {}
        }
      ]
    },
    {
      "cell_type": "code",
      "source": [
        "df.boxplot(column=\"RAM_Size\")"
      ],
      "metadata": {
        "colab": {
          "base_uri": "https://localhost:8080/",
          "height": 89
        },
        "id": "ExoXPXVIfzKQ",
        "outputId": "802aac31-a7dc-45cd-8afc-72d7b6bd72b4"
      },
      "execution_count": null,
      "outputs": [
        {
          "output_type": "execute_result",
          "data": {
            "text/plain": [
              "<Axes: >"
            ]
          },
          "metadata": {},
          "execution_count": 21
        },
        {
          "output_type": "display_data",
          "data": {
            "text/plain": [
              "<Figure size 640x480 with 1 Axes>"
            ],
            "image/png": "[encoded data removed]"
          },
          "metadata": {}
        }
      ]
    },
    {
      "cell_type": "code",
      "source": [
        "df.boxplot(column=\"Processor_Speed\")"
      ],
      "metadata": {
        "colab": {
          "base_uri": "https://localhost:8080/",
          "height": 89
        },
        "id": "4Kepj0CTf1uc",
        "outputId": "de5df292-4128-4012-f833-43205f326816"
      },
      "execution_count": null,
      "outputs": [
        {
          "output_type": "execute_result",
          "data": {
            "text/plain": [
              "<Axes: >"
            ]
          },
          "metadata": {},
          "execution_count": 22
        },
        {
          "output_type": "display_data",
          "data": {
            "text/plain": [
              "<Figure size 640x480 with 1 Axes>"
            ],
            "image/png": "[encoded data removed]"
          },
          "metadata": {}
        }
      ]
    },
    {
      "cell_type": "code",
      "source": [
        "df.boxplot(column=\"Storage_Capacity\")"
      ],
      "metadata": {
        "colab": {
          "base_uri": "https://localhost:8080/",
          "height": 89
        },
        "id": "NtnWQov1f4-V",
        "outputId": "92c210e0-0d65-4aa1-fe4c-ac9b15eb678f"
      },
      "execution_count": null,
      "outputs": [
        {
          "output_type": "execute_result",
          "data": {
            "text/plain": [
              "<Axes: >"
            ]
          },
          "metadata": {},
          "execution_count": 23
        },
        {
          "output_type": "display_data",
          "data": {
            "text/plain": [
              "<Figure size 640x480 with 1 Axes>"
            ],
            "image/png": "[encoded data removed]"
          },
          "metadata": {}
        }
      ]
    },
    {
      "cell_type": "code",
      "source": [
        "df.boxplot(column=\"Screen_Size\")"
      ],
      "metadata": {
        "colab": {
          "base_uri": "https://localhost:8080/",
          "height": 89
        },
        "id": "vpNSeE98f6Kg",
        "outputId": "ea3d06a0-ea69-43a4-bb60-95ce263d29a8"
      },
      "execution_count": null,
      "outputs": [
        {
          "output_type": "execute_result",
          "data": {
            "text/plain": [
              "<Axes: >"
            ]
          },
          "metadata": {},
          "execution_count": 24
        },
        {
          "output_type": "display_data",
          "data": {
            "text/plain": [
              "<Figure size 640x480 with 1 Axes>"
            ],
            "image/png": "[encoded data removed]"
          },
          "metadata": {}
        }
      ]
    },
    {
      "cell_type": "code",
      "source": [
        "df.boxplot(column=\"Weight\")"
      ],
      "metadata": {
        "colab": {
          "base_uri": "https://localhost:8080/",
          "height": 89
        },
        "id": "-c3HlwZvf6iZ",
        "outputId": "799ce598-3ee5-4d7b-f43a-3021420a1504"
      },
      "execution_count": null,
      "outputs": [
        {
          "output_type": "execute_result",
          "data": {
            "text/plain": [
              "<Axes: >"
            ]
          },
          "metadata": {},
          "execution_count": 25
        },
        {
          "output_type": "display_data",
          "data": {
            "text/plain": [
              "<Figure size 640x480 with 1 Axes>"
            ],
            "image/png": "[encoded data removed]"
          },
          "metadata": {}
        }
      ]
    },
    {
      "cell_type": "code",
      "source": [
        "df.boxplot(column=\"Price\")"
      ],
      "metadata": {
        "colab": {
          "base_uri": "https://localhost:8080/",
          "height": 89
        },
        "id": "jBONFFfIgDtc",
        "outputId": "2a9290a9-c7ce-4283-f886-3928123ad359"
      },
      "execution_count": null,
      "outputs": [
        {
          "output_type": "execute_result",
          "data": {
            "text/plain": [
              "<Axes: >"
            ]
          },
          "metadata": {},
          "execution_count": 26
        },
        {
          "output_type": "display_data",
          "data": {
            "text/plain": [
              "<Figure size 640x480 with 1 Axes>"
            ],
            "image/png": "[encoded data removed]"
          },
          "metadata": {}
        }
      ]
    },
    {
      "cell_type": "markdown",
      "source": [
        "# Encode Brands"
      ],
      "metadata": {
        "id": "IjBgmpK-dEeo"
      }
    },
    {
      "cell_type": "code",
      "source": [
        "df[\"Brand\"].value_counts().plot.bar()"
      ],
      "metadata": {
        "colab": {
          "base_uri": "https://localhost:8080/",
          "height": 89
        },
        "id": "Gpgc6HPmmOQx",
        "outputId": "a3252c5e-4a1a-49fc-a407-ec7a946daa0b"
      },
      "execution_count": null,
      "outputs": [
        {
          "output_type": "execute_result",
          "data": {
            "text/plain": [
              "<Axes: xlabel='Brand'>"
            ]
          },
          "metadata": {},
          "execution_count": 27
        },
        {
          "output_type": "display_data",
          "data": {
            "text/plain": [
              "<Figure size 640x480 with 1 Axes>"
            ],
            "image/png": "[encoded data removed]"
          },
          "metadata": {}
        }
      ]
    },
    {
      "cell_type": "code",
      "source": [
        "brandsdf = pd.get_dummies(df, columns=[\"Brand\"], drop_first=False)\n",
        "brandsdf"
      ],
      "metadata": {
        "colab": {
          "base_uri": "https://localhost:8080/",
          "height": 444
        },
        "id": "AMNB-0khbDwl",
        "outputId": "9e3db7b1-ebf3-483a-d752-397ee7bf35d4"
      },
      "execution_count": null,
      "outputs": [
        {
          "output_type": "execute_result",
          "data": {
            "text/plain": [
              "     Processor_Speed  RAM_Size  Storage_Capacity  Screen_Size    Weight  \\\n",
              "0           3.830296        16               512    11.185147  2.641094   \n",
              "1           2.912833         4              1000    11.311372  3.260012   \n",
              "2           3.241627         4               256    11.853023  2.029061   \n",
              "3           3.806248        16               512    12.280360  4.573865   \n",
              "4           3.268097        32              1000    14.990877  4.193472   \n",
              "..               ...       ...               ...          ...       ...   \n",
              "995         3.343584         4              1000    12.587095  3.162399   \n",
              "996         2.780555         8               256    12.679356  3.750265   \n",
              "997         3.200569         4               512    12.666315  3.392612   \n",
              "998         1.604182         8               256    11.215581  3.857613   \n",
              "999         1.711980         4               256    16.561498  3.440883   \n",
              "\n",
              "            Price  Brand_Acer  Brand_Asus  Brand_Dell  Brand_HP  Brand_Lenovo  \n",
              "0    17395.093065       False        True       False     False         False  \n",
              "1    31607.605919        True       False       False     False         False  \n",
              "2     9291.023542       False       False       False     False          True  \n",
              "3    17436.728334        True       False       False     False         False  \n",
              "4    32917.990718        True       False       False     False         False  \n",
              "..            ...         ...         ...         ...       ...           ...  \n",
              "995  31593.668017       False       False       False      True         False  \n",
              "996   9149.521832       False       False        True     False         False  \n",
              "997  16552.404779       False       False        True     False         False  \n",
              "998   9407.473459       False        True       False     False         False  \n",
              "999   8807.696702       False       False       False     False          True  \n",
              "\n",
              "[1000 rows x 11 columns]"
            ],
            "text/html": [
              "\n",
              "  <div id=\"df-4984f475-497c-4309-852a-db87682b5bdb\" class=\"colab-df-container\">\n",
              "    <div>\n",
              "<style scoped>\n",
              "    .dataframe tbody tr th:only-of-type {\n",
              "        vertical-align: middle;\n",
              "    }\n",
              "\n",
              "    .dataframe tbody tr th {\n",
              "        vertical-align: top;\n",
              "    }\n",
              "\n",
              "    .dataframe thead th {\n",
              "        text-align: right;\n",
              "    }\n",
              "</style>\n",
              "<table border=\"1\" class=\"dataframe\">\n",
              "  <thead>\n",
              "    <tr style=\"text-align: right;\">\n",
              "      <th></th>\n",
              "      <th>Processor_Speed</th>\n",
              "      <th>RAM_Size</th>\n",
              "      <th>Storage_Capacity</th>\n",
              "      <th>Screen_Size</th>\n",
              "      <th>Weight</th>\n",
              "      <th>Price</th>\n",
              "      <th>Brand_Acer</th>\n",
              "      <th>Brand_Asus</th>\n",
              "      <th>Brand_Dell</th>\n",
              "      <th>Brand_HP</th>\n",
              "      <th>Brand_Lenovo</th>\n",
              "    </tr>\n",
              "  </thead>\n",
              "  <tbody>\n",
              "    <tr>\n",
              "      <th>0</th>\n",
              "      <td>3.830296</td>\n",
              "      <td>16</td>\n",
              "      <td>512</td>\n",
              "      <td>11.185147</td>\n",
              "      <td>2.641094</td>\n",
              "      <td>17395.093065</td>\n",
              "      <td>False</td>\n",
              "      <td>True</td>\n",
              "      <td>False</td>\n",
              "      <td>False</td>\n",
              "      <td>False</td>\n",
              "    </tr>\n",
              "    <tr>\n",
              "      <th>1</th>\n",
              "      <td>2.912833</td>\n",
              "      <td>4</td>\n",
              "      <td>1000</td>\n",
              "      <td>11.311372</td>\n",
              "      <td>3.260012</td>\n",
              "      <td>31607.605919</td>\n",
              "      <td>True</td>\n",
              "      <td>False</td>\n",
              "      <td>False</td>\n",
              "      <td>False</td>\n",
              "      <td>False</td>\n",
              "    </tr>\n",
              "    <tr>\n",
              "      <th>2</th>\n",
              "      <td>3.241627</td>\n",
              "      <td>4</td>\n",
              "      <td>256</td>\n",
              "      <td>11.853023</td>\n",
              "      <td>2.029061</td>\n",
              "      <td>9291.023542</td>\n",
              "      <td>False</td>\n",
              "      <td>False</td>\n",
              "      <td>False</td>\n",
              "      <td>False</td>\n",
              "      <td>True</td>\n",
              "    </tr>\n",
              "    <tr>\n",
              "      <th>3</th>\n",
              "      <td>3.806248</td>\n",
              "      <td>16</td>\n",
              "      <td>512</td>\n",
              "      <td>12.280360</td>\n",
              "      <td>4.573865</td>\n",
              "      <td>17436.728334</td>\n",
              "      <td>True</td>\n",
              "      <td>False</td>\n",
              "      <td>False</td>\n",
              "      <td>False</td>\n",
              "      <td>False</td>\n",
              "    </tr>\n",
              "    <tr>\n",
              "      <th>4</th>\n",
              "      <td>3.268097</td>\n",
              "      <td>32</td>\n",
              "      <td>1000</td>\n",
              "      <td>14.990877</td>\n",
              "      <td>4.193472</td>\n",
              "      <td>32917.990718</td>\n",
              "      <td>True</td>\n",
              "      <td>False</td>\n",
              "      <td>False</td>\n",
              "      <td>False</td>\n",
              "      <td>False</td>\n",
              "    </tr>\n",
              "    <tr>\n",
              "      <th>...</th>\n",
              "      <td>...</td>\n",
              "      <td>...</td>\n",
              "      <td>...</td>\n",
              "      <td>...</td>\n",
              "      <td>...</td>\n",
              "      <td>...</td>\n",
              "      <td>...</td>\n",
              "      <td>...</td>\n",
              "      <td>...</td>\n",
              "      <td>...</td>\n",
              "      <td>...</td>\n",
              "    </tr>\n",
              "    <tr>\n",
              "      <th>995</th>\n",
              "      <td>3.343584</td>\n",
              "      <td>4</td>\n",
              "      <td>1000</td>\n",
              "      <td>12.587095</td>\n",
              "      <td>3.162399</td>\n",
              "      <td>31593.668017</td>\n",
              "      <td>False</td>\n",
              "      <td>False</td>\n",
              "      <td>False</td>\n",
              "      <td>True</td>\n",
              "      <td>False</td>\n",
              "    </tr>\n",
              "    <tr>\n",
              "      <th>996</th>\n",
              "      <td>2.780555</td>\n",
              "      <td>8</td>\n",
              "      <td>256</td>\n",
              "      <td>12.679356</td>\n",
              "      <td>3.750265</td>\n",
              "      <td>9149.521832</td>\n",
              "      <td>False</td>\n",
              "      <td>False</td>\n",
              "      <td>True</td>\n",
              "      <td>False</td>\n",
              "      <td>False</td>\n",
              "    </tr>\n",
              "    <tr>\n",
              "      <th>997</th>\n",
              "      <td>3.200569</td>\n",
              "      <td>4</td>\n",
              "      <td>512</td>\n",
              "      <td>12.666315</td>\n",
              "      <td>3.392612</td>\n",
              "      <td>16552.404779</td>\n",
              "      <td>False</td>\n",
              "      <td>False</td>\n",
              "      <td>True</td>\n",
              "      <td>False</td>\n",
              "      <td>False</td>\n",
              "    </tr>\n",
              "    <tr>\n",
              "      <th>998</th>\n",
              "      <td>1.604182</td>\n",
              "      <td>8</td>\n",
              "      <td>256</td>\n",
              "      <td>11.215581</td>\n",
              "      <td>3.857613</td>\n",
              "      <td>9407.473459</td>\n",
              "      <td>False</td>\n",
              "      <td>True</td>\n",
              "      <td>False</td>\n",
              "      <td>False</td>\n",
              "      <td>False</td>\n",
              "    </tr>\n",
              "    <tr>\n",
              "      <th>999</th>\n",
              "      <td>1.711980</td>\n",
              "      <td>4</td>\n",
              "      <td>256</td>\n",
              "      <td>16.561498</td>\n",
              "      <td>3.440883</td>\n",
              "      <td>8807.696702</td>\n",
              "      <td>False</td>\n",
              "      <td>False</td>\n",
              "      <td>False</td>\n",
              "      <td>False</td>\n",
              "      <td>True</td>\n",
              "    </tr>\n",
              "  </tbody>\n",
              "</table>\n",
              "<p>1000 rows × 11 columns</p>\n",
              "</div>\n",
              "    <div class=\"colab-df-buttons\">\n",
              "\n",
              "  <div class=\"colab-df-container\">\n",
              "    <button class=\"colab-df-convert\" onclick=\"convertToInteractive('df-4984f475-497c-4309-852a-db87682b5bdb')\"\n",
              "            title=\"Convert this dataframe to an interactive table.\"\n",
              "            style=\"display:none;\">\n",
              "\n",
              "  <svg xmlns=\"http://www.w3.org/2000/svg\" height=\"24px\" viewBox=\"0 -960 960 960\">\n",
              "    <path d=\"M120-120v-720h720v720H120Zm60-500h600v-160H180v160Zm220 220h160v-160H400v160Zm0 220h160v-160H400v160ZM180-400h160v-160H180v160Zm440 0h160v-160H620v160ZM180-180h160v-160H180v160Zm440 0h160v-160H620v160Z\"/>\n",
              "  </svg>\n",
              "    </button>\n",
              "\n",
              "  <style>\n",
              "    .colab-df-container {\n",
              "      display:flex;\n",
              "      gap: 12px;\n",
              "    }\n",
              "\n",
              "    .colab-df-convert {\n",
              "      background-color: #E8F0FE;\n",
              "      border: none;\n",
              "      border-radius: 50%;\n",
              "      cursor: pointer;\n",
              "      display: none;\n",
              "      fill: #1967D2;\n",
              "      height: 32px;\n",
              "      padding: 0 0 0 0;\n",
              "      width: 32px;\n",
              "    }\n",
              "\n",
              "    .colab-df-convert:hover {\n",
              "      background-color: #E2EBFA;\n",
              "      box-shadow: 0px 1px 2px rgba(60, 64, 67, 0.3), 0px 1px 3px 1px rgba(60, 64, 67, 0.15);\n",
              "      fill: #174EA6;\n",
              "    }\n",
              "\n",
              "    .colab-df-buttons div {\n",
              "      margin-bottom: 4px;\n",
              "    }\n",
              "\n",
              "    [theme=dark] .colab-df-convert {\n",
              "      background-color: #3B4455;\n",
              "      fill: #D2E3FC;\n",
              "    }\n",
              "\n",
              "    [theme=dark] .colab-df-convert:hover {\n",
              "      background-color: #434B5C;\n",
              "      box-shadow: 0px 1px 3px 1px rgba(0, 0, 0, 0.15);\n",
              "      filter: drop-shadow(0px 1px 2px rgba(0, 0, 0, 0.3));\n",
              "      fill: #FFFFFF;\n",
              "    }\n",
              "  </style>\n",
              "\n",
              "    <script>\n",
              "      const buttonEl =\n",
              "        document.querySelector('#df-4984f475-497c-4309-852a-db87682b5bdb button.colab-df-convert');\n",
              "      buttonEl.style.display =\n",
              "        google.colab.kernel.accessAllowed ? 'block' : 'none';\n",
              "\n",
              "      async function convertToInteractive(key) {\n",
              "        const element = document.querySelector('#df-4984f475-497c-4309-852a-db87682b5bdb');\n",
              "        const dataTable =\n",
              "          await google.colab.kernel.invokeFunction('convertToInteractive',\n",
              "                                                    [key], {});\n",
              "        if (!dataTable) return;\n",
              "\n",
              "        const docLinkHtml = 'Like what you see? Visit the ' +\n",
              "          '<a target=\"_blank\" href=https://colab.research.google.com/notebooks/data_table.ipynb>data table notebook</a>'\n",
              "          + ' to learn more about interactive tables.';\n",
              "        element.innerHTML = '';\n",
              "        dataTable['output_type'] = 'display_data';\n",
              "        await google.colab.output.renderOutput(dataTable, element);\n",
              "        const docLink = document.createElement('div');\n",
              "        docLink.innerHTML = docLinkHtml;\n",
              "        element.appendChild(docLink);\n",
              "      }\n",
              "    </script>\n",
              "  </div>\n",
              "\n",
              "\n",
              "<div id=\"df-63e6b8fe-9f84-4e70-a862-237e219777e7\">\n",
              "  <button class=\"colab-df-quickchart\" onclick=\"quickchart('df-63e6b8fe-9f84-4e70-a862-237e219777e7')\"\n",
              "            title=\"Suggest charts\"\n",
              "            style=\"display:none;\">\n",
              "\n",
              "<svg xmlns=\"http://www.w3.org/2000/svg\" height=\"24px\"viewBox=\"0 0 24 24\"\n",
              "     width=\"24px\">\n",
              "    <g>\n",
              "        <path d=\"M19 3H5c-1.1 0-2 .9-2 2v14c0 1.1.9 2 2 2h14c1.1 0 2-.9 2-2V5c0-1.1-.9-2-2-2zM9 17H7v-7h2v7zm4 0h-2V7h2v10zm4 0h-2v-4h2v4z\"/>\n",
              "    </g>\n",
              "</svg>\n",
              "  </button>\n",
              "\n",
              "<style>\n",
              "  .colab-df-quickchart {\n",
              "      --bg-color: #E8F0FE;\n",
              "      --fill-color: #1967D2;\n",
              "      --hover-bg-color: #E2EBFA;\n",
              "      --hover-fill-color: #174EA6;\n",
              "      --disabled-fill-color: #AAA;\n",
              "      --disabled-bg-color: #DDD;\n",
              "  }\n",
              "\n",
              "  [theme=dark] .colab-df-quickchart {\n",
              "      --bg-color: #3B4455;\n",
              "      --fill-color: #D2E3FC;\n",
              "      --hover-bg-color: #434B5C;\n",
              "      --hover-fill-color: #FFFFFF;\n",
              "      --disabled-bg-color: #3B4455;\n",
              "      --disabled-fill-color: #666;\n",
              "  }\n",
              "\n",
              "  .colab-df-quickchart {\n",
              "    background-color: var(--bg-color);\n",
              "    border: none;\n",
              "    border-radius: 50%;\n",
              "    cursor: pointer;\n",
              "    display: none;\n",
              "    fill: var(--fill-color);\n",
              "    height: 32px;\n",
              "    padding: 0;\n",
              "    width: 32px;\n",
              "  }\n",
              "\n",
              "  .colab-df-quickchart:hover {\n",
              "    background-color: var(--hover-bg-color);\n",
              "    box-shadow: 0 1px 2px rgba(60, 64, 67, 0.3), 0 1px 3px 1px rgba(60, 64, 67, 0.15);\n",
              "    fill: var(--button-hover-fill-color);\n",
              "  }\n",
              "\n",
              "  .colab-df-quickchart-complete:disabled,\n",
              "  .colab-df-quickchart-complete:disabled:hover {\n",
              "    background-color: var(--disabled-bg-color);\n",
              "    fill: var(--disabled-fill-color);\n",
              "    box-shadow: none;\n",
              "  }\n",
              "\n",
              "  .colab-df-spinner {\n",
              "    border: 2px solid var(--fill-color);\n",
              "    border-color: transparent;\n",
              "    border-bottom-color: var(--fill-color);\n",
              "    animation:\n",
              "      spin 1s steps(1) infinite;\n",
              "  }\n",
              "\n",
              "  @keyframes spin {\n",
              "    0% {\n",
              "      border-color: transparent;\n",
              "      border-bottom-color: var(--fill-color);\n",
              "      border-left-color: var(--fill-color);\n",
              "    }\n",
              "    20% {\n",
              "      border-color: transparent;\n",
              "      border-left-color: var(--fill-color);\n",
              "      border-top-color: var(--fill-color);\n",
              "    }\n",
              "    30% {\n",
              "      border-color: transparent;\n",
              "      border-left-color: var(--fill-color);\n",
              "      border-top-color: var(--fill-color);\n",
              "      border-right-color: var(--fill-color);\n",
              "    }\n",
              "    40% {\n",
              "      border-color: transparent;\n",
              "      border-right-color: var(--fill-color);\n",
              "      border-top-color: var(--fill-color);\n",
              "    }\n",
              "    60% {\n",
              "      border-color: transparent;\n",
              "      border-right-color: var(--fill-color);\n",
              "    }\n",
              "    80% {\n",
              "      border-color: transparent;\n",
              "      border-right-color: var(--fill-color);\n",
              "      border-bottom-color: var(--fill-color);\n",
              "    }\n",
              "    90% {\n",
              "      border-color: transparent;\n",
              "      border-bottom-color: var(--fill-color);\n",
              "    }\n",
              "  }\n",
              "</style>\n",
              "\n",
              "  <script>\n",
              "    async function quickchart(key) {\n",
              "      const quickchartButtonEl =\n",
              "        document.querySelector('#' + key + ' button');\n",
              "      quickchartButtonEl.disabled = true;  // To prevent multiple clicks.\n",
              "      quickchartButtonEl.classList.add('colab-df-spinner');\n",
              "      try {\n",
              "        const charts = await google.colab.kernel.invokeFunction(\n",
              "            'suggestCharts', [key], {});\n",
              "      } catch (error) {\n",
              "        console.error('Error during call to suggestCharts:', error);\n",
              "      }\n",
              "      quickchartButtonEl.classList.remove('colab-df-spinner');\n",
              "      quickchartButtonEl.classList.add('colab-df-quickchart-complete');\n",
              "    }\n",
              "    (() => {\n",
              "      let quickchartButtonEl =\n",
              "        document.querySelector('#df-63e6b8fe-9f84-4e70-a862-237e219777e7 button');\n",
              "      quickchartButtonEl.style.display =\n",
              "        google.colab.kernel.accessAllowed ? 'block' : 'none';\n",
              "    })();\n",
              "  </script>\n",
              "</div>\n",
              "    </div>\n",
              "  </div>\n"
            ],
            "application/vnd.google.colaboratory.intrinsic+json": {
              "type": "dataframe",
              "variable_name": "brandsdf",
              "summary": "{\n  \"name\": \"brandsdf\",\n  \"rows\": 1000,\n  \"fields\": [\n    {\n      \"column\": \"Processor_Speed\",\n      \"properties\": {\n        \"dtype\": \"number\",\n        \"std\": 0.731796294479103,\n        \"min\": 1.511580057511507,\n        \"max\": 3.9985343144266654,\n        \"num_unique_values\": 1000,\n        \"samples\": [\n          3.3289738043883297,\n          2.1815600018338346,\n          1.9528733738367008\n        ],\n        \"semantic_type\": \"\",\n        \"description\": \"\"\n      }\n    },\n    {\n      \"column\": \"RAM_Size\",\n      \"properties\": {\n        \"dtype\": \"number\",\n        \"std\": 10,\n        \"min\": 4,\n        \"max\": 32,\n        \"num_unique_values\": 4,\n        \"samples\": [\n          4,\n          8,\n          16\n        ],\n        \"semantic_type\": \"\",\n        \"description\": \"\"\n      }\n    },\n    {\n      \"column\": \"Storage_Capacity\",\n      \"properties\": {\n        \"dtype\": \"number\",\n        \"std\": 313,\n        \"min\": 256,\n        \"max\": 1000,\n        \"num_unique_values\": 3,\n        \"samples\": [\n          512,\n          1000,\n          256\n        ],\n        \"semantic_type\": \"\",\n        \"description\": \"\"\n      }\n    },\n    {\n      \"column\": \"Screen_Size\",\n      \"properties\": {\n        \"dtype\": \"number\",\n        \"std\": 1.7058818320797111,\n        \"min\": 11.012111106489405,\n        \"max\": 16.985736933508313,\n        \"num_unique_values\": 1000,\n        \"samples\": [\n          16.289693839267986,\n          12.993233425683927,\n          14.822568204946656\n        ],\n        \"semantic_type\": \"\",\n        \"description\": \"\"\n      }\n    },\n    {\n      \"column\": \"Weight\",\n      \"properties\": {\n        \"dtype\": \"number\",\n        \"std\": 0.8665414077441265,\n        \"min\": 2.000559584511989,\n        \"max\": 4.990727655768066,\n        \"num_unique_values\": 1000,\n        \"samples\": [\n          2.7314058131305385,\n          2.099803913508075,\n          2.189389727623899\n        ],\n        \"semantic_type\": \"\",\n        \"description\": \"\"\n      }\n    },\n    {\n      \"column\": \"Price\",\n      \"properties\": {\n        \"dtype\": \"number\",\n        \"std\": 9406.064879572106,\n        \"min\": 8570.01295046808,\n        \"max\": 33503.93503731473,\n        \"num_unique_values\": 1000,\n        \"samples\": [\n          10900.502074698152,\n          31727.51669713056,\n          9636.022750232672\n        ],\n        \"semantic_type\": \"\",\n        \"description\": \"\"\n      }\n    },\n    {\n      \"column\": \"Brand_Acer\",\n      \"properties\": {\n        \"dtype\": \"boolean\",\n        \"num_unique_values\": 2,\n        \"samples\": [\n          true,\n          false\n        ],\n        \"semantic_type\": \"\",\n        \"description\": \"\"\n      }\n    },\n    {\n      \"column\": \"Brand_Asus\",\n      \"properties\": {\n        \"dtype\": \"boolean\",\n        \"num_unique_values\": 2,\n        \"samples\": [\n          false,\n          true\n        ],\n        \"semantic_type\": \"\",\n        \"description\": \"\"\n      }\n    },\n    {\n      \"column\": \"Brand_Dell\",\n      \"properties\": {\n        \"dtype\": \"boolean\",\n        \"num_unique_values\": 2,\n        \"samples\": [\n          true,\n          false\n        ],\n        \"semantic_type\": \"\",\n        \"description\": \"\"\n      }\n    },\n    {\n      \"column\": \"Brand_HP\",\n      \"properties\": {\n        \"dtype\": \"boolean\",\n        \"num_unique_values\": 2,\n        \"samples\": [\n          true,\n          false\n        ],\n        \"semantic_type\": \"\",\n        \"description\": \"\"\n      }\n    },\n    {\n      \"column\": \"Brand_Lenovo\",\n      \"properties\": {\n        \"dtype\": \"boolean\",\n        \"num_unique_values\": 2,\n        \"samples\": [\n          true,\n          false\n        ],\n        \"semantic_type\": \"\",\n        \"description\": \"\"\n      }\n    }\n  ]\n}"
            }
          },
          "metadata": {},
          "execution_count": 28
        }
      ]
    },
    {
      "cell_type": "markdown",
      "source": [
        "# Correlation Matrix"
      ],
      "metadata": {
        "id": "BTuJMpT93Cav"
      }
    },
    {
      "cell_type": "code",
      "source": [
        "mycorr = pd.DataFrame(columns=brandsdf.columns, index=brandsdf.columns, dtype='float64')"
      ],
      "metadata": {
        "id": "ySeSCxwfmC_H"
      },
      "execution_count": null,
      "outputs": []
    },
    {
      "cell_type": "code",
      "source": [
        "def correlation(feature1: pd.Series, feature2: pd.Series) -> float:\n",
        "  mean1 = feature1.mean()\n",
        "  mean2 = feature2.mean()\n",
        "  n = min(len(feature1), len(feature2))\n",
        "  cov = sum([(feature1[i] - mean1)*(feature2[i] - mean2) for i in range(n)])/n\n",
        "  return cov / (feature1.std()*feature2.std())"
      ],
      "metadata": {
        "id": "zG9toxFZnneT"
      },
      "execution_count": null,
      "outputs": []
    },
    {
      "cell_type": "code",
      "source": [
        "for a in brandsdf.columns:\n",
        "  for b in brandsdf.columns:\n",
        "    mycorr[a][b] = correlation(brandsdf[a],brandsdf[b])"
      ],
      "metadata": {
        "id": "6wmeFL9Ppqxp"
      },
      "execution_count": null,
      "outputs": []
    },
    {
      "cell_type": "code",
      "source": [
        "mycorr.abs().style.background_gradient(cmap='coolwarm')"
      ],
      "metadata": {
        "colab": {
          "base_uri": "https://localhost:8080/",
          "height": 414
        },
        "id": "3rAVLF3st4op",
        "outputId": "afc152f8-7fbc-4ab9-ae21-16e6079e4dd0"
      },
      "execution_count": null,
      "outputs": [
        {
          "output_type": "execute_result",
          "data": {
            "text/plain": [
              "<pandas.io.formats.style.Styler at 0x7dd8dd622d10>"
            ],
            "text/html": [
              "<style type=\"text/css\">\n",
              "#T_56813_row0_col0, #T_56813_row1_col1, #T_56813_row2_col2, #T_56813_row2_col5, #T_56813_row3_col3, #T_56813_row4_col4, #T_56813_row5_col2, #T_56813_row5_col5, #T_56813_row6_col6, #T_56813_row7_col7, #T_56813_row8_col8, #T_56813_row9_col9, #T_56813_row10_col10 {\n",
              "  background-color: #b40426;\n",
              "  color: #f1f1f1;\n",
              "}\n",
              "#T_56813_row0_col1, #T_56813_row3_col4, #T_56813_row3_col9, #T_56813_row6_col2, #T_56813_row8_col0, #T_56813_row10_col2 {\n",
              "  background-color: #3f53c6;\n",
              "  color: #f1f1f1;\n",
              "}\n",
              "#T_56813_row0_col2 {\n",
              "  background-color: #4e68d8;\n",
              "  color: #f1f1f1;\n",
              "}\n",
              "#T_56813_row0_col3, #T_56813_row0_col6, #T_56813_row1_col2, #T_56813_row1_col6, #T_56813_row2_col1, #T_56813_row2_col7, #T_56813_row2_col9, #T_56813_row3_col0, #T_56813_row3_col7, #T_56813_row3_col10, #T_56813_row4_col8, #T_56813_row4_col10, #T_56813_row5_col7, #T_56813_row5_col9, #T_56813_row6_col0, #T_56813_row7_col3, #T_56813_row7_col5, #T_56813_row8_col3, #T_56813_row8_col4, #T_56813_row9_col5, #T_56813_row10_col3 {\n",
              "  background-color: #3b4cc0;\n",
              "  color: #f1f1f1;\n",
              "}\n",
              "#T_56813_row0_col4 {\n",
              "  background-color: #4a63d3;\n",
              "  color: #f1f1f1;\n",
              "}\n",
              "#T_56813_row0_col5, #T_56813_row1_col9, #T_56813_row2_col8, #T_56813_row4_col0, #T_56813_row4_col2, #T_56813_row6_col4, #T_56813_row8_col2 {\n",
              "  background-color: #465ecf;\n",
              "  color: #f1f1f1;\n",
              "}\n",
              "#T_56813_row0_col7, #T_56813_row0_col8, #T_56813_row1_col3, #T_56813_row1_col10, #T_56813_row3_col2, #T_56813_row3_col6, #T_56813_row4_col5, #T_56813_row4_col9, #T_56813_row6_col3, #T_56813_row7_col0 {\n",
              "  background-color: #4257c9;\n",
              "  color: #f1f1f1;\n",
              "}\n",
              "#T_56813_row0_col9, #T_56813_row1_col4, #T_56813_row4_col1, #T_56813_row7_col4 {\n",
              "  background-color: #4055c8;\n",
              "  color: #f1f1f1;\n",
              "}\n",
              "#T_56813_row0_col10, #T_56813_row2_col3, #T_56813_row3_col5, #T_56813_row5_col3, #T_56813_row6_col1, #T_56813_row7_col2, #T_56813_row9_col0, #T_56813_row9_col3 {\n",
              "  background-color: #3e51c5;\n",
              "  color: #f1f1f1;\n",
              "}\n",
              "#T_56813_row1_col0, #T_56813_row2_col10, #T_56813_row3_col8, #T_56813_row4_col3, #T_56813_row4_col7, #T_56813_row5_col10, #T_56813_row6_col5, #T_56813_row10_col0 {\n",
              "  background-color: #3d50c3;\n",
              "  color: #f1f1f1;\n",
              "}\n",
              "#T_56813_row1_col5, #T_56813_row9_col1 {\n",
              "  background-color: #4961d2;\n",
              "  color: #f1f1f1;\n",
              "}\n",
              "#T_56813_row1_col7 {\n",
              "  background-color: #485fd1;\n",
              "  color: #f1f1f1;\n",
              "}\n",
              "#T_56813_row1_col8, #T_56813_row2_col0, #T_56813_row7_col1, #T_56813_row8_col1 {\n",
              "  background-color: #4b64d5;\n",
              "  color: #f1f1f1;\n",
              "}\n",
              "#T_56813_row2_col4, #T_56813_row5_col0, #T_56813_row5_col4, #T_56813_row5_col8 {\n",
              "  background-color: #455cce;\n",
              "  color: #f1f1f1;\n",
              "}\n",
              "#T_56813_row2_col6, #T_56813_row5_col6, #T_56813_row9_col2, #T_56813_row10_col4, #T_56813_row10_col5 {\n",
              "  background-color: #3c4ec2;\n",
              "  color: #f1f1f1;\n",
              "}\n",
              "#T_56813_row3_col1, #T_56813_row9_col4, #T_56813_row10_col1 {\n",
              "  background-color: #445acc;\n",
              "  color: #f1f1f1;\n",
              "}\n",
              "#T_56813_row4_col6, #T_56813_row8_col5 {\n",
              "  background-color: #4358cb;\n",
              "  color: #f1f1f1;\n",
              "}\n",
              "#T_56813_row5_col1 {\n",
              "  background-color: #4c66d6;\n",
              "  color: #f1f1f1;\n",
              "}\n",
              "#T_56813_row6_col7, #T_56813_row7_col6, #T_56813_row9_col8, #T_56813_row10_col8 {\n",
              "  background-color: #8caffe;\n",
              "  color: #000000;\n",
              "}\n",
              "#T_56813_row6_col8, #T_56813_row7_col8 {\n",
              "  background-color: #90b2fe;\n",
              "  color: #000000;\n",
              "}\n",
              "#T_56813_row6_col9, #T_56813_row6_col10, #T_56813_row9_col6, #T_56813_row9_col7, #T_56813_row10_col6, #T_56813_row10_col7 {\n",
              "  background-color: #88abfd;\n",
              "  color: #000000;\n",
              "}\n",
              "#T_56813_row7_col9, #T_56813_row7_col10 {\n",
              "  background-color: #89acfd;\n",
              "  color: #000000;\n",
              "}\n",
              "#T_56813_row8_col6, #T_56813_row8_col7 {\n",
              "  background-color: #8db0fe;\n",
              "  color: #000000;\n",
              "}\n",
              "#T_56813_row8_col9, #T_56813_row8_col10 {\n",
              "  background-color: #8badfd;\n",
              "  color: #000000;\n",
              "}\n",
              "#T_56813_row9_col10, #T_56813_row10_col9 {\n",
              "  background-color: #85a8fc;\n",
              "  color: #f1f1f1;\n",
              "}\n",
              "</style>\n",
              "<table id=\"T_56813\" class=\"dataframe\">\n",
              "  <thead>\n",
              "    <tr>\n",
              "      <th class=\"blank level0\" >&nbsp;</th>\n",
              "      <th id=\"T_56813_level0_col0\" class=\"col_heading level0 col0\" >Processor_Speed</th>\n",
              "      <th id=\"T_56813_level0_col1\" class=\"col_heading level0 col1\" >RAM_Size</th>\n",
              "      <th id=\"T_56813_level0_col2\" class=\"col_heading level0 col2\" >Storage_Capacity</th>\n",
              "      <th id=\"T_56813_level0_col3\" class=\"col_heading level0 col3\" >Screen_Size</th>\n",
              "      <th id=\"T_56813_level0_col4\" class=\"col_heading level0 col4\" >Weight</th>\n",
              "      <th id=\"T_56813_level0_col5\" class=\"col_heading level0 col5\" >Price</th>\n",
              "      <th id=\"T_56813_level0_col6\" class=\"col_heading level0 col6\" >Brand_Acer</th>\n",
              "      <th id=\"T_56813_level0_col7\" class=\"col_heading level0 col7\" >Brand_Asus</th>\n",
              "      <th id=\"T_56813_level0_col8\" class=\"col_heading level0 col8\" >Brand_Dell</th>\n",
              "      <th id=\"T_56813_level0_col9\" class=\"col_heading level0 col9\" >Brand_HP</th>\n",
              "      <th id=\"T_56813_level0_col10\" class=\"col_heading level0 col10\" >Brand_Lenovo</th>\n",
              "    </tr>\n",
              "  </thead>\n",
              "  <tbody>\n",
              "    <tr>\n",
              "      <th id=\"T_56813_level0_row0\" class=\"row_heading level0 row0\" >Processor_Speed</th>\n",
              "      <td id=\"T_56813_row0_col0\" class=\"data row0 col0\" >0.999000</td>\n",
              "      <td id=\"T_56813_row0_col1\" class=\"data row0 col1\" >0.021370</td>\n",
              "      <td id=\"T_56813_row0_col2\" class=\"data row0 col2\" >0.067509</td>\n",
              "      <td id=\"T_56813_row0_col3\" class=\"data row0 col3\" >0.013412</td>\n",
              "      <td id=\"T_56813_row0_col4\" class=\"data row0 col4\" >0.054549</td>\n",
              "      <td id=\"T_56813_row0_col5\" class=\"data row0 col5\" >0.050687</td>\n",
              "      <td id=\"T_56813_row0_col6\" class=\"data row0 col6\" >0.013553</td>\n",
              "      <td id=\"T_56813_row0_col7\" class=\"data row0 col7\" >0.036757</td>\n",
              "      <td id=\"T_56813_row0_col8\" class=\"data row0 col8\" >0.029803</td>\n",
              "      <td id=\"T_56813_row0_col9\" class=\"data row0 col9\" >0.028763</td>\n",
              "      <td id=\"T_56813_row0_col10\" class=\"data row0 col10\" >0.021792</td>\n",
              "    </tr>\n",
              "    <tr>\n",
              "      <th id=\"T_56813_level0_row1\" class=\"row_heading level0 row1\" >RAM_Size</th>\n",
              "      <td id=\"T_56813_row1_col0\" class=\"data row1 col0\" >0.021370</td>\n",
              "      <td id=\"T_56813_row1_col1\" class=\"data row1 col1\" >0.999000</td>\n",
              "      <td id=\"T_56813_row1_col2\" class=\"data row1 col2\" >0.002109</td>\n",
              "      <td id=\"T_56813_row1_col3\" class=\"data row1 col3\" >0.035966</td>\n",
              "      <td id=\"T_56813_row1_col4\" class=\"data row1 col4\" >0.025356</td>\n",
              "      <td id=\"T_56813_row1_col5\" class=\"data row1 col5\" >0.061176</td>\n",
              "      <td id=\"T_56813_row1_col6\" class=\"data row1 col6\" >0.013995</td>\n",
              "      <td id=\"T_56813_row1_col7\" class=\"data row1 col7\" >0.056900</td>\n",
              "      <td id=\"T_56813_row1_col8\" class=\"data row1 col8\" >0.057392</td>\n",
              "      <td id=\"T_56813_row1_col9\" class=\"data row1 col9\" >0.049385</td>\n",
              "      <td id=\"T_56813_row1_col10\" class=\"data row1 col10\" >0.034083</td>\n",
              "    </tr>\n",
              "    <tr>\n",
              "      <th id=\"T_56813_level0_row2\" class=\"row_heading level0 row2\" >Storage_Capacity</th>\n",
              "      <td id=\"T_56813_row2_col0\" class=\"data row2 col0\" >0.067509</td>\n",
              "      <td id=\"T_56813_row2_col1\" class=\"data row2 col1\" >0.002109</td>\n",
              "      <td id=\"T_56813_row2_col2\" class=\"data row2 col2\" >0.999000</td>\n",
              "      <td id=\"T_56813_row2_col3\" class=\"data row2 col3\" >0.027532</td>\n",
              "      <td id=\"T_56813_row2_col4\" class=\"data row2 col4\" >0.041294</td>\n",
              "      <td id=\"T_56813_row2_col5\" class=\"data row2 col5\" >0.996910</td>\n",
              "      <td id=\"T_56813_row2_col6\" class=\"data row2 col6\" >0.019455</td>\n",
              "      <td id=\"T_56813_row2_col7\" class=\"data row2 col7\" >0.015275</td>\n",
              "      <td id=\"T_56813_row2_col8\" class=\"data row2 col8\" >0.042785</td>\n",
              "      <td id=\"T_56813_row2_col9\" class=\"data row2 col9\" >0.009148</td>\n",
              "      <td id=\"T_56813_row2_col10\" class=\"data row2 col10\" >0.017839</td>\n",
              "    </tr>\n",
              "    <tr>\n",
              "      <th id=\"T_56813_level0_row3\" class=\"row_heading level0 row3\" >Screen_Size</th>\n",
              "      <td id=\"T_56813_row3_col0\" class=\"data row3 col0\" >0.013412</td>\n",
              "      <td id=\"T_56813_row3_col1\" class=\"data row3 col1\" >0.035966</td>\n",
              "      <td id=\"T_56813_row3_col2\" class=\"data row3 col2\" >0.027532</td>\n",
              "      <td id=\"T_56813_row3_col3\" class=\"data row3 col3\" >0.999000</td>\n",
              "      <td id=\"T_56813_row3_col4\" class=\"data row3 col4\" >0.021973</td>\n",
              "      <td id=\"T_56813_row3_col5\" class=\"data row3 col5\" >0.026713</td>\n",
              "      <td id=\"T_56813_row3_col6\" class=\"data row3 col6\" >0.038077</td>\n",
              "      <td id=\"T_56813_row3_col7\" class=\"data row3 col7\" >0.015116</td>\n",
              "      <td id=\"T_56813_row3_col8\" class=\"data row3 col8\" >0.013332</td>\n",
              "      <td id=\"T_56813_row3_col9\" class=\"data row3 col9\" >0.025213</td>\n",
              "      <td id=\"T_56813_row3_col10\" class=\"data row3 col10\" >0.012159</td>\n",
              "    </tr>\n",
              "    <tr>\n",
              "      <th id=\"T_56813_level0_row4\" class=\"row_heading level0 row4\" >Weight</th>\n",
              "      <td id=\"T_56813_row4_col0\" class=\"data row4 col0\" >0.054549</td>\n",
              "      <td id=\"T_56813_row4_col1\" class=\"data row4 col1\" >0.025356</td>\n",
              "      <td id=\"T_56813_row4_col2\" class=\"data row4 col2\" >0.041294</td>\n",
              "      <td id=\"T_56813_row4_col3\" class=\"data row4 col3\" >0.021973</td>\n",
              "      <td id=\"T_56813_row4_col4\" class=\"data row4 col4\" >0.999000</td>\n",
              "      <td id=\"T_56813_row4_col5\" class=\"data row4 col5\" >0.038378</td>\n",
              "      <td id=\"T_56813_row4_col6\" class=\"data row4 col6\" >0.043816</td>\n",
              "      <td id=\"T_56813_row4_col7\" class=\"data row4 col7\" >0.022310</td>\n",
              "      <td id=\"T_56813_row4_col8\" class=\"data row4 col8\" >0.002611</td>\n",
              "      <td id=\"T_56813_row4_col9\" class=\"data row4 col9\" >0.034562</td>\n",
              "      <td id=\"T_56813_row4_col10\" class=\"data row4 col10\" >0.009844</td>\n",
              "    </tr>\n",
              "    <tr>\n",
              "      <th id=\"T_56813_level0_row5\" class=\"row_heading level0 row5\" >Price</th>\n",
              "      <td id=\"T_56813_row5_col0\" class=\"data row5 col0\" >0.050687</td>\n",
              "      <td id=\"T_56813_row5_col1\" class=\"data row5 col1\" >0.061176</td>\n",
              "      <td id=\"T_56813_row5_col2\" class=\"data row5 col2\" >0.996910</td>\n",
              "      <td id=\"T_56813_row5_col3\" class=\"data row5 col3\" >0.026713</td>\n",
              "      <td id=\"T_56813_row5_col4\" class=\"data row5 col4\" >0.038378</td>\n",
              "      <td id=\"T_56813_row5_col5\" class=\"data row5 col5\" >0.999000</td>\n",
              "      <td id=\"T_56813_row5_col6\" class=\"data row5 col6\" >0.020465</td>\n",
              "      <td id=\"T_56813_row5_col7\" class=\"data row5 col7\" >0.013534</td>\n",
              "      <td id=\"T_56813_row5_col8\" class=\"data row5 col8\" >0.040442</td>\n",
              "      <td id=\"T_56813_row5_col9\" class=\"data row5 col9\" >0.012065</td>\n",
              "      <td id=\"T_56813_row5_col10\" class=\"data row5 col10\" >0.019080</td>\n",
              "    </tr>\n",
              "    <tr>\n",
              "      <th id=\"T_56813_level0_row6\" class=\"row_heading level0 row6\" >Brand_Acer</th>\n",
              "      <td id=\"T_56813_row6_col0\" class=\"data row6 col0\" >0.013553</td>\n",
              "      <td id=\"T_56813_row6_col1\" class=\"data row6 col1\" >0.013995</td>\n",
              "      <td id=\"T_56813_row6_col2\" class=\"data row6 col2\" >0.019455</td>\n",
              "      <td id=\"T_56813_row6_col3\" class=\"data row6 col3\" >0.038077</td>\n",
              "      <td id=\"T_56813_row6_col4\" class=\"data row6 col4\" >0.043816</td>\n",
              "      <td id=\"T_56813_row6_col5\" class=\"data row6 col5\" >0.020465</td>\n",
              "      <td id=\"T_56813_row6_col6\" class=\"data row6 col6\" >0.999000</td>\n",
              "      <td id=\"T_56813_row6_col7\" class=\"data row6 col7\" >0.257601</td>\n",
              "      <td id=\"T_56813_row6_col8\" class=\"data row6 col8\" >0.260747</td>\n",
              "      <td id=\"T_56813_row6_col9\" class=\"data row6 col9\" >0.244939</td>\n",
              "      <td id=\"T_56813_row6_col10\" class=\"data row6 col10\" >0.244939</td>\n",
              "    </tr>\n",
              "    <tr>\n",
              "      <th id=\"T_56813_level0_row7\" class=\"row_heading level0 row7\" >Brand_Asus</th>\n",
              "      <td id=\"T_56813_row7_col0\" class=\"data row7 col0\" >0.036757</td>\n",
              "      <td id=\"T_56813_row7_col1\" class=\"data row7 col1\" >0.056900</td>\n",
              "      <td id=\"T_56813_row7_col2\" class=\"data row7 col2\" >0.015275</td>\n",
              "      <td id=\"T_56813_row7_col3\" class=\"data row7 col3\" >0.015116</td>\n",
              "      <td id=\"T_56813_row7_col4\" class=\"data row7 col4\" >0.022310</td>\n",
              "      <td id=\"T_56813_row7_col5\" class=\"data row7 col5\" >0.013534</td>\n",
              "      <td id=\"T_56813_row7_col6\" class=\"data row7 col6\" >0.257601</td>\n",
              "      <td id=\"T_56813_row7_col7\" class=\"data row7 col7\" >0.999000</td>\n",
              "      <td id=\"T_56813_row7_col8\" class=\"data row7 col8\" >0.262352</td>\n",
              "      <td id=\"T_56813_row7_col9\" class=\"data row7 col9\" >0.246447</td>\n",
              "      <td id=\"T_56813_row7_col10\" class=\"data row7 col10\" >0.246447</td>\n",
              "    </tr>\n",
              "    <tr>\n",
              "      <th id=\"T_56813_level0_row8\" class=\"row_heading level0 row8\" >Brand_Dell</th>\n",
              "      <td id=\"T_56813_row8_col0\" class=\"data row8 col0\" >0.029803</td>\n",
              "      <td id=\"T_56813_row8_col1\" class=\"data row8 col1\" >0.057392</td>\n",
              "      <td id=\"T_56813_row8_col2\" class=\"data row8 col2\" >0.042785</td>\n",
              "      <td id=\"T_56813_row8_col3\" class=\"data row8 col3\" >0.013332</td>\n",
              "      <td id=\"T_56813_row8_col4\" class=\"data row8 col4\" >0.002611</td>\n",
              "      <td id=\"T_56813_row8_col5\" class=\"data row8 col5\" >0.040442</td>\n",
              "      <td id=\"T_56813_row8_col6\" class=\"data row8 col6\" >0.260747</td>\n",
              "      <td id=\"T_56813_row8_col7\" class=\"data row8 col7\" >0.262352</td>\n",
              "      <td id=\"T_56813_row8_col8\" class=\"data row8 col8\" >0.999000</td>\n",
              "      <td id=\"T_56813_row8_col9\" class=\"data row8 col9\" >0.249457</td>\n",
              "      <td id=\"T_56813_row8_col10\" class=\"data row8 col10\" >0.249457</td>\n",
              "    </tr>\n",
              "    <tr>\n",
              "      <th id=\"T_56813_level0_row9\" class=\"row_heading level0 row9\" >Brand_HP</th>\n",
              "      <td id=\"T_56813_row9_col0\" class=\"data row9 col0\" >0.028763</td>\n",
              "      <td id=\"T_56813_row9_col1\" class=\"data row9 col1\" >0.049385</td>\n",
              "      <td id=\"T_56813_row9_col2\" class=\"data row9 col2\" >0.009148</td>\n",
              "      <td id=\"T_56813_row9_col3\" class=\"data row9 col3\" >0.025213</td>\n",
              "      <td id=\"T_56813_row9_col4\" class=\"data row9 col4\" >0.034562</td>\n",
              "      <td id=\"T_56813_row9_col5\" class=\"data row9 col5\" >0.012065</td>\n",
              "      <td id=\"T_56813_row9_col6\" class=\"data row9 col6\" >0.244939</td>\n",
              "      <td id=\"T_56813_row9_col7\" class=\"data row9 col7\" >0.246447</td>\n",
              "      <td id=\"T_56813_row9_col8\" class=\"data row9 col8\" >0.249457</td>\n",
              "      <td id=\"T_56813_row9_col9\" class=\"data row9 col9\" >0.999000</td>\n",
              "      <td id=\"T_56813_row9_col10\" class=\"data row9 col10\" >0.234333</td>\n",
              "    </tr>\n",
              "    <tr>\n",
              "      <th id=\"T_56813_level0_row10\" class=\"row_heading level0 row10\" >Brand_Lenovo</th>\n",
              "      <td id=\"T_56813_row10_col0\" class=\"data row10 col0\" >0.021792</td>\n",
              "      <td id=\"T_56813_row10_col1\" class=\"data row10 col1\" >0.034083</td>\n",
              "      <td id=\"T_56813_row10_col2\" class=\"data row10 col2\" >0.017839</td>\n",
              "      <td id=\"T_56813_row10_col3\" class=\"data row10 col3\" >0.012159</td>\n",
              "      <td id=\"T_56813_row10_col4\" class=\"data row10 col4\" >0.009844</td>\n",
              "      <td id=\"T_56813_row10_col5\" class=\"data row10 col5\" >0.019080</td>\n",
              "      <td id=\"T_56813_row10_col6\" class=\"data row10 col6\" >0.244939</td>\n",
              "      <td id=\"T_56813_row10_col7\" class=\"data row10 col7\" >0.246447</td>\n",
              "      <td id=\"T_56813_row10_col8\" class=\"data row10 col8\" >0.249457</td>\n",
              "      <td id=\"T_56813_row10_col9\" class=\"data row10 col9\" >0.234333</td>\n",
              "      <td id=\"T_56813_row10_col10\" class=\"data row10 col10\" >0.999000</td>\n",
              "    </tr>\n",
              "  </tbody>\n",
              "</table>\n"
            ]
          },
          "metadata": {},
          "execution_count": 32
        }
      ]
    },
    {
      "cell_type": "markdown",
      "source": [
        "# Gain Ratio\n"
      ],
      "metadata": {
        "id": "sNw6lm2pu1CK"
      }
    },
    {
      "cell_type": "code",
      "source": [
        "discdf=df.copy()"
      ],
      "metadata": {
        "id": "DfrfbIZfu3KW"
      },
      "execution_count": null,
      "outputs": []
    },
    {
      "cell_type": "code",
      "source": [
        "for col in discdf.columns:\n",
        "  print(str(col) + \": \" + str(len(discdf[col].unique())))"
      ],
      "metadata": {
        "colab": {
          "base_uri": "https://localhost:8080/"
        },
        "id": "aVrGxNRn49XC",
        "outputId": "8418c354-4ab3-4393-ea08-cedebddbe44f"
      },
      "execution_count": null,
      "outputs": [
        {
          "output_type": "stream",
          "name": "stdout",
          "text": [
            "Brand: 5\n",
            "Processor_Speed: 1000\n",
            "RAM_Size: 4\n",
            "Storage_Capacity: 3\n",
            "Screen_Size: 1000\n",
            "Weight: 1000\n",
            "Price: 1000\n"
          ]
        }
      ]
    },
    {
      "cell_type": "code",
      "source": [
        "discdf[\"Price\"] = pd.qcut(discdf['Price'], q=5, labels=range(5))\n",
        "# discdf[\"Price\"] = pd.cut(discdf['Price'], bins=[0, 15000, 25000, 100000], labels=['cheap', 'medium', 'expensive'])"
      ],
      "metadata": {
        "id": "ynz8Bcc_1x8h"
      },
      "execution_count": null,
      "outputs": []
    },
    {
      "cell_type": "code",
      "source": [
        "discdf[\"RAM_Size\"] = discdf[\"RAM_Size\"].astype('category')"
      ],
      "metadata": {
        "id": "OibC_ivV6Oaq"
      },
      "execution_count": null,
      "outputs": []
    },
    {
      "cell_type": "code",
      "source": [
        "discdf[\"Storage_Capacity\"] = discdf[\"Storage_Capacity\"].astype('category')"
      ],
      "metadata": {
        "id": "qltFdziL6zYP"
      },
      "execution_count": null,
      "outputs": []
    },
    {
      "cell_type": "code",
      "source": [
        "discdf[\"Brand\"] = discdf[\"Brand\"].astype('category')"
      ],
      "metadata": {
        "id": "rVodeVapjIXQ"
      },
      "execution_count": null,
      "outputs": []
    },
    {
      "cell_type": "code",
      "source": [
        "for col in df.columns:\n",
        "  if len(df[col].unique()) <= 5 or col=='Price':\n",
        "    continue\n",
        "  discdf[col] = pd.qcut(df[col], q=5, labels=range(5))"
      ],
      "metadata": {
        "id": "sdWL7F202UNt"
      },
      "execution_count": null,
      "outputs": []
    },
    {
      "cell_type": "code",
      "source": [
        "discdf"
      ],
      "metadata": {
        "colab": {
          "base_uri": "https://localhost:8080/",
          "height": 444
        },
        "id": "zkftwTZG2Syl",
        "outputId": "555c0a50-5866-4cc5-e087-8ad5207036fe"
      },
      "execution_count": null,
      "outputs": [
        {
          "output_type": "execute_result",
          "data": {
            "text/plain": [
              "      Brand Processor_Speed RAM_Size Storage_Capacity Screen_Size Weight Price\n",
              "0      Asus               4       16              512           0      1     2\n",
              "1      Acer               2        4             1000           0      2     3\n",
              "2    Lenovo               3        4              256           0      0     0\n",
              "3      Acer               4       16              512           0      4     2\n",
              "4      Acer               3       32             1000           3      3     4\n",
              "..      ...             ...      ...              ...         ...    ...   ...\n",
              "995      HP               3        4             1000           1      2     3\n",
              "996    Dell               2        8              256           1      2     0\n",
              "997    Dell               3        4              512           1      2     1\n",
              "998    Asus               0        8              256           0      3     0\n",
              "999  Lenovo               0        4              256           4      2     0\n",
              "\n",
              "[1000 rows x 7 columns]"
            ],
            "text/html": [
              "\n",
              "  <div id=\"df-5aa54fc8-8285-4e39-83a8-c839056e59f1\" class=\"colab-df-container\">\n",
              "    <div>\n",
              "<style scoped>\n",
              "    .dataframe tbody tr th:only-of-type {\n",
              "        vertical-align: middle;\n",
              "    }\n",
              "\n",
              "    .dataframe tbody tr th {\n",
              "        vertical-align: top;\n",
              "    }\n",
              "\n",
              "    .dataframe thead th {\n",
              "        text-align: right;\n",
              "    }\n",
              "</style>\n",
              "<table border=\"1\" class=\"dataframe\">\n",
              "  <thead>\n",
              "    <tr style=\"text-align: right;\">\n",
              "      <th></th>\n",
              "      <th>Brand</th>\n",
              "      <th>Processor_Speed</th>\n",
              "      <th>RAM_Size</th>\n",
              "      <th>Storage_Capacity</th>\n",
              "      <th>Screen_Size</th>\n",
              "      <th>Weight</th>\n",
              "      <th>Price</th>\n",
              "    </tr>\n",
              "  </thead>\n",
              "  <tbody>\n",
              "    <tr>\n",
              "      <th>0</th>\n",
              "      <td>Asus</td>\n",
              "      <td>4</td>\n",
              "      <td>16</td>\n",
              "      <td>512</td>\n",
              "      <td>0</td>\n",
              "      <td>1</td>\n",
              "      <td>2</td>\n",
              "    </tr>\n",
              "    <tr>\n",
              "      <th>1</th>\n",
              "      <td>Acer</td>\n",
              "      <td>2</td>\n",
              "      <td>4</td>\n",
              "      <td>1000</td>\n",
              "      <td>0</td>\n",
              "      <td>2</td>\n",
              "      <td>3</td>\n",
              "    </tr>\n",
              "    <tr>\n",
              "      <th>2</th>\n",
              "      <td>Lenovo</td>\n",
              "      <td>3</td>\n",
              "      <td>4</td>\n",
              "      <td>256</td>\n",
              "      <td>0</td>\n",
              "      <td>0</td>\n",
              "      <td>0</td>\n",
              "    </tr>\n",
              "    <tr>\n",
              "      <th>3</th>\n",
              "      <td>Acer</td>\n",
              "      <td>4</td>\n",
              "      <td>16</td>\n",
              "      <td>512</td>\n",
              "      <td>0</td>\n",
              "      <td>4</td>\n",
              "      <td>2</td>\n",
              "    </tr>\n",
              "    <tr>\n",
              "      <th>4</th>\n",
              "      <td>Acer</td>\n",
              "      <td>3</td>\n",
              "      <td>32</td>\n",
              "      <td>1000</td>\n",
              "      <td>3</td>\n",
              "      <td>3</td>\n",
              "      <td>4</td>\n",
              "    </tr>\n",
              "    <tr>\n",
              "      <th>...</th>\n",
              "      <td>...</td>\n",
              "      <td>...</td>\n",
              "      <td>...</td>\n",
              "      <td>...</td>\n",
              "      <td>...</td>\n",
              "      <td>...</td>\n",
              "      <td>...</td>\n",
              "    </tr>\n",
              "    <tr>\n",
              "      <th>995</th>\n",
              "      <td>HP</td>\n",
              "      <td>3</td>\n",
              "      <td>4</td>\n",
              "      <td>1000</td>\n",
              "      <td>1</td>\n",
              "      <td>2</td>\n",
              "      <td>3</td>\n",
              "    </tr>\n",
              "    <tr>\n",
              "      <th>996</th>\n",
              "      <td>Dell</td>\n",
              "      <td>2</td>\n",
              "      <td>8</td>\n",
              "      <td>256</td>\n",
              "      <td>1</td>\n",
              "      <td>2</td>\n",
              "      <td>0</td>\n",
              "    </tr>\n",
              "    <tr>\n",
              "      <th>997</th>\n",
              "      <td>Dell</td>\n",
              "      <td>3</td>\n",
              "      <td>4</td>\n",
              "      <td>512</td>\n",
              "      <td>1</td>\n",
              "      <td>2</td>\n",
              "      <td>1</td>\n",
              "    </tr>\n",
              "    <tr>\n",
              "      <th>998</th>\n",
              "      <td>Asus</td>\n",
              "      <td>0</td>\n",
              "      <td>8</td>\n",
              "      <td>256</td>\n",
              "      <td>0</td>\n",
              "      <td>3</td>\n",
              "      <td>0</td>\n",
              "    </tr>\n",
              "    <tr>\n",
              "      <th>999</th>\n",
              "      <td>Lenovo</td>\n",
              "      <td>0</td>\n",
              "      <td>4</td>\n",
              "      <td>256</td>\n",
              "      <td>4</td>\n",
              "      <td>2</td>\n",
              "      <td>0</td>\n",
              "    </tr>\n",
              "  </tbody>\n",
              "</table>\n",
              "<p>1000 rows × 7 columns</p>\n",
              "</div>\n",
              "    <div class=\"colab-df-buttons\">\n",
              "\n",
              "  <div class=\"colab-df-container\">\n",
              "    <button class=\"colab-df-convert\" onclick=\"convertToInteractive('df-5aa54fc8-8285-4e39-83a8-c839056e59f1')\"\n",
              "            title=\"Convert this dataframe to an interactive table.\"\n",
              "            style=\"display:none;\">\n",
              "\n",
              "  <svg xmlns=\"http://www.w3.org/2000/svg\" height=\"24px\" viewBox=\"0 -960 960 960\">\n",
              "    <path d=\"M120-120v-720h720v720H120Zm60-500h600v-160H180v160Zm220 220h160v-160H400v160Zm0 220h160v-160H400v160ZM180-400h160v-160H180v160Zm440 0h160v-160H620v160ZM180-180h160v-160H180v160Zm440 0h160v-160H620v160Z\"/>\n",
              "  </svg>\n",
              "    </button>\n",
              "\n",
              "  <style>\n",
              "    .colab-df-container {\n",
              "      display:flex;\n",
              "      gap: 12px;\n",
              "    }\n",
              "\n",
              "    .colab-df-convert {\n",
              "      background-color: #E8F0FE;\n",
              "      border: none;\n",
              "      border-radius: 50%;\n",
              "      cursor: pointer;\n",
              "      display: none;\n",
              "      fill: #1967D2;\n",
              "      height: 32px;\n",
              "      padding: 0 0 0 0;\n",
              "      width: 32px;\n",
              "    }\n",
              "\n",
              "    .colab-df-convert:hover {\n",
              "      background-color: #E2EBFA;\n",
              "      box-shadow: 0px 1px 2px rgba(60, 64, 67, 0.3), 0px 1px 3px 1px rgba(60, 64, 67, 0.15);\n",
              "      fill: #174EA6;\n",
              "    }\n",
              "\n",
              "    .colab-df-buttons div {\n",
              "      margin-bottom: 4px;\n",
              "    }\n",
              "\n",
              "    [theme=dark] .colab-df-convert {\n",
              "      background-color: #3B4455;\n",
              "      fill: #D2E3FC;\n",
              "    }\n",
              "\n",
              "    [theme=dark] .colab-df-convert:hover {\n",
              "      background-color: #434B5C;\n",
              "      box-shadow: 0px 1px 3px 1px rgba(0, 0, 0, 0.15);\n",
              "      filter: drop-shadow(0px 1px 2px rgba(0, 0, 0, 0.3));\n",
              "      fill: #FFFFFF;\n",
              "    }\n",
              "  </style>\n",
              "\n",
              "    <script>\n",
              "      const buttonEl =\n",
              "        document.querySelector('#df-5aa54fc8-8285-4e39-83a8-c839056e59f1 button.colab-df-convert');\n",
              "      buttonEl.style.display =\n",
              "        google.colab.kernel.accessAllowed ? 'block' : 'none';\n",
              "\n",
              "      async function convertToInteractive(key) {\n",
              "        const element = document.querySelector('#df-5aa54fc8-8285-4e39-83a8-c839056e59f1');\n",
              "        const dataTable =\n",
              "          await google.colab.kernel.invokeFunction('convertToInteractive',\n",
              "                                                    [key], {});\n",
              "        if (!dataTable) return;\n",
              "\n",
              "        const docLinkHtml = 'Like what you see? Visit the ' +\n",
              "          '<a target=\"_blank\" href=https://colab.research.google.com/notebooks/data_table.ipynb>data table notebook</a>'\n",
              "          + ' to learn more about interactive tables.';\n",
              "        element.innerHTML = '';\n",
              "        dataTable['output_type'] = 'display_data';\n",
              "        await google.colab.output.renderOutput(dataTable, element);\n",
              "        const docLink = document.createElement('div');\n",
              "        docLink.innerHTML = docLinkHtml;\n",
              "        element.appendChild(docLink);\n",
              "      }\n",
              "    </script>\n",
              "  </div>\n",
              "\n",
              "\n",
              "<div id=\"df-a4115a5e-d707-494b-8bb0-8945113b8c7e\">\n",
              "  <button class=\"colab-df-quickchart\" onclick=\"quickchart('df-a4115a5e-d707-494b-8bb0-8945113b8c7e')\"\n",
              "            title=\"Suggest charts\"\n",
              "            style=\"display:none;\">\n",
              "\n",
              "<svg xmlns=\"http://www.w3.org/2000/svg\" height=\"24px\"viewBox=\"0 0 24 24\"\n",
              "     width=\"24px\">\n",
              "    <g>\n",
              "        <path d=\"M19 3H5c-1.1 0-2 .9-2 2v14c0 1.1.9 2 2 2h14c1.1 0 2-.9 2-2V5c0-1.1-.9-2-2-2zM9 17H7v-7h2v7zm4 0h-2V7h2v10zm4 0h-2v-4h2v4z\"/>\n",
              "    </g>\n",
              "</svg>\n",
              "  </button>\n",
              "\n",
              "<style>\n",
              "  .colab-df-quickchart {\n",
              "      --bg-color: #E8F0FE;\n",
              "      --fill-color: #1967D2;\n",
              "      --hover-bg-color: #E2EBFA;\n",
              "      --hover-fill-color: #174EA6;\n",
              "      --disabled-fill-color: #AAA;\n",
              "      --disabled-bg-color: #DDD;\n",
              "  }\n",
              "\n",
              "  [theme=dark] .colab-df-quickchart {\n",
              "      --bg-color: #3B4455;\n",
              "      --fill-color: #D2E3FC;\n",
              "      --hover-bg-color: #434B5C;\n",
              "      --hover-fill-color: #FFFFFF;\n",
              "      --disabled-bg-color: #3B4455;\n",
              "      --disabled-fill-color: #666;\n",
              "  }\n",
              "\n",
              "  .colab-df-quickchart {\n",
              "    background-color: var(--bg-color);\n",
              "    border: none;\n",
              "    border-radius: 50%;\n",
              "    cursor: pointer;\n",
              "    display: none;\n",
              "    fill: var(--fill-color);\n",
              "    height: 32px;\n",
              "    padding: 0;\n",
              "    width: 32px;\n",
              "  }\n",
              "\n",
              "  .colab-df-quickchart:hover {\n",
              "    background-color: var(--hover-bg-color);\n",
              "    box-shadow: 0 1px 2px rgba(60, 64, 67, 0.3), 0 1px 3px 1px rgba(60, 64, 67, 0.15);\n",
              "    fill: var(--button-hover-fill-color);\n",
              "  }\n",
              "\n",
              "  .colab-df-quickchart-complete:disabled,\n",
              "  .colab-df-quickchart-complete:disabled:hover {\n",
              "    background-color: var(--disabled-bg-color);\n",
              "    fill: var(--disabled-fill-color);\n",
              "    box-shadow: none;\n",
              "  }\n",
              "\n",
              "  .colab-df-spinner {\n",
              "    border: 2px solid var(--fill-color);\n",
              "    border-color: transparent;\n",
              "    border-bottom-color: var(--fill-color);\n",
              "    animation:\n",
              "      spin 1s steps(1) infinite;\n",
              "  }\n",
              "\n",
              "  @keyframes spin {\n",
              "    0% {\n",
              "      border-color: transparent;\n",
              "      border-bottom-color: var(--fill-color);\n",
              "      border-left-color: var(--fill-color);\n",
              "    }\n",
              "    20% {\n",
              "      border-color: transparent;\n",
              "      border-left-color: var(--fill-color);\n",
              "      border-top-color: var(--fill-color);\n",
              "    }\n",
              "    30% {\n",
              "      border-color: transparent;\n",
              "      border-left-color: var(--fill-color);\n",
              "      border-top-color: var(--fill-color);\n",
              "      border-right-color: var(--fill-color);\n",
              "    }\n",
              "    40% {\n",
              "      border-color: transparent;\n",
              "      border-right-color: var(--fill-color);\n",
              "      border-top-color: var(--fill-color);\n",
              "    }\n",
              "    60% {\n",
              "      border-color: transparent;\n",
              "      border-right-color: var(--fill-color);\n",
              "    }\n",
              "    80% {\n",
              "      border-color: transparent;\n",
              "      border-right-color: var(--fill-color);\n",
              "      border-bottom-color: var(--fill-color);\n",
              "    }\n",
              "    90% {\n",
              "      border-color: transparent;\n",
              "      border-bottom-color: var(--fill-color);\n",
              "    }\n",
              "  }\n",
              "</style>\n",
              "\n",
              "  <script>\n",
              "    async function quickchart(key) {\n",
              "      const quickchartButtonEl =\n",
              "        document.querySelector('#' + key + ' button');\n",
              "      quickchartButtonEl.disabled = true;  // To prevent multiple clicks.\n",
              "      quickchartButtonEl.classList.add('colab-df-spinner');\n",
              "      try {\n",
              "        const charts = await google.colab.kernel.invokeFunction(\n",
              "            'suggestCharts', [key], {});\n",
              "      } catch (error) {\n",
              "        console.error('Error during call to suggestCharts:', error);\n",
              "      }\n",
              "      quickchartButtonEl.classList.remove('colab-df-spinner');\n",
              "      quickchartButtonEl.classList.add('colab-df-quickchart-complete');\n",
              "    }\n",
              "    (() => {\n",
              "      let quickchartButtonEl =\n",
              "        document.querySelector('#df-a4115a5e-d707-494b-8bb0-8945113b8c7e button');\n",
              "      quickchartButtonEl.style.display =\n",
              "        google.colab.kernel.accessAllowed ? 'block' : 'none';\n",
              "    })();\n",
              "  </script>\n",
              "</div>\n",
              "    </div>\n",
              "  </div>\n"
            ],
            "application/vnd.google.colaboratory.intrinsic+json": {
              "type": "dataframe",
              "variable_name": "discdf",
              "summary": "{\n  \"name\": \"discdf\",\n  \"rows\": 1000,\n  \"fields\": [\n    {\n      \"column\": \"Brand\",\n      \"properties\": {\n        \"dtype\": \"category\",\n        \"num_unique_values\": 5,\n        \"samples\": [\n          \"Acer\",\n          \"Dell\",\n          \"Lenovo\"\n        ],\n        \"semantic_type\": \"\",\n        \"description\": \"\"\n      }\n    },\n    {\n      \"column\": \"Processor_Speed\",\n      \"properties\": {\n        \"dtype\": \"category\",\n        \"num_unique_values\": 5,\n        \"samples\": [\n          2,\n          1,\n          3\n        ],\n        \"semantic_type\": \"\",\n        \"description\": \"\"\n      }\n    },\n    {\n      \"column\": \"RAM_Size\",\n      \"properties\": {\n        \"dtype\": \"category\",\n        \"num_unique_values\": 4,\n        \"samples\": [\n          4,\n          8,\n          16\n        ],\n        \"semantic_type\": \"\",\n        \"description\": \"\"\n      }\n    },\n    {\n      \"column\": \"Storage_Capacity\",\n      \"properties\": {\n        \"dtype\": \"category\",\n        \"num_unique_values\": 3,\n        \"samples\": [\n          512,\n          1000,\n          256\n        ],\n        \"semantic_type\": \"\",\n        \"description\": \"\"\n      }\n    },\n    {\n      \"column\": \"Screen_Size\",\n      \"properties\": {\n        \"dtype\": \"category\",\n        \"num_unique_values\": 5,\n        \"samples\": [\n          3,\n          4,\n          2\n        ],\n        \"semantic_type\": \"\",\n        \"description\": \"\"\n      }\n    },\n    {\n      \"column\": \"Weight\",\n      \"properties\": {\n        \"dtype\": \"category\",\n        \"num_unique_values\": 5,\n        \"samples\": [\n          2,\n          3,\n          0\n        ],\n        \"semantic_type\": \"\",\n        \"description\": \"\"\n      }\n    },\n    {\n      \"column\": \"Price\",\n      \"properties\": {\n        \"dtype\": \"category\",\n        \"num_unique_values\": 5,\n        \"samples\": [\n          3,\n          1,\n          0\n        ],\n        \"semantic_type\": \"\",\n        \"description\": \"\"\n      }\n    }\n  ]\n}"
            }
          },
          "metadata": {},
          "execution_count": 40
        }
      ]
    },
    {
      "cell_type": "code",
      "source": [
        "from math import log2\n",
        "def entropy(feature: pd.Series) -> float:\n",
        "  classes = feature.value_counts()\n",
        "  count = len(feature)\n",
        "  probability = [class_count / count for class_count in classes if not (class_count / count) < 0.001]\n",
        "\n",
        "  return sum([-p * log2(p) for p in probability])"
      ],
      "metadata": {
        "id": "O85o3EGL93VE"
      },
      "execution_count": null,
      "outputs": []
    },
    {
      "cell_type": "code",
      "source": [
        "def information_gain(data: pd.DataFrame, target: str, feature: str) -> float:\n",
        "  gain = entropy(data[target])\n",
        "  for unique in data[feature].unique():\n",
        "    subset = data[data[feature] == unique][target]\n",
        "    gain -= entropy(subset) * (len(subset)/len(data[target]))\n",
        "  return gain"
      ],
      "metadata": {
        "id": "Ih_ojdJuAEgG"
      },
      "execution_count": null,
      "outputs": []
    },
    {
      "cell_type": "code",
      "source": [
        "from math import log2\n",
        "def gain_ratio(data: pd.DataFrame, target: str, feature: str) -> float:\n",
        "  intr_info = 0\n",
        "  for unique in data[feature].unique():\n",
        "    subset = data[data[feature] == unique][target]\n",
        "    weight = len(subset) / len(data[target])\n",
        "    intr_info -= weight * log2(weight)\n",
        "  return information_gain(data, target, feature) / intr_info"
      ],
      "metadata": {
        "id": "Kg979mnN_4ax"
      },
      "execution_count": null,
      "outputs": []
    },
    {
      "cell_type": "code",
      "source": [
        "for col in discdf.columns:\n",
        "  if col != 'Price':\n",
        "    print(f\"{col}: {information_gain(discdf, 'Price', col)}\")"
      ],
      "metadata": {
        "colab": {
          "base_uri": "https://localhost:8080/"
        },
        "id": "DWhCeD7yGP-6",
        "outputId": "d2893bd3-b31a-49c4-ed7f-e8041dfea8d1"
      },
      "execution_count": null,
      "outputs": [
        {
          "output_type": "stream",
          "name": "stdout",
          "text": [
            "Brand: 0.015218461682953821\n",
            "Processor_Speed: 0.019532259303781385\n",
            "RAM_Size: 0.2916391263248542\n",
            "Storage_Capacity: 1.2511582713497218\n",
            "Screen_Size: 0.013366370106225156\n",
            "Weight: 0.007156798006832277\n"
          ]
        }
      ]
    },
    {
      "cell_type": "code",
      "source": [
        "for col in discdf.columns:\n",
        "  if col != 'Price':\n",
        "    print(f\"{col}: {gain_ratio(discdf, 'Price', col)}\")"
      ],
      "metadata": {
        "colab": {
          "base_uri": "https://localhost:8080/"
        },
        "id": "-ucYAj8SD4_D",
        "outputId": "c69dd852-6fc0-4f63-a6de-78fb021b6147"
      },
      "execution_count": null,
      "outputs": [
        {
          "output_type": "stream",
          "name": "stdout",
          "text": [
            "Brand: 0.006557833930691421\n",
            "Processor_Speed: 0.008412086208349576\n",
            "RAM_Size: 0.14598720484993274\n",
            "Storage_Capacity: 0.7907607748299078\n",
            "Screen_Size: 0.005756582271284143\n",
            "Weight: 0.003082265132409045\n"
          ]
        }
      ]
    }
  ]
}