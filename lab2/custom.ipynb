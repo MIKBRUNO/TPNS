{
  "nbformat": 4,
  "nbformat_minor": 0,
  "metadata": {
    "colab": {
      "provenance": [],
      "collapsed_sections": [
        "BM7_Gz1wm-nU",
        "9ilhuGYSdhVL",
        "_FcsXGg8GyLv",
        "OeTKSG6pxWMN"
      ],
      "authorship_tag": "ABX9TyMAG0xGh3ErN5x1YO1aFkQs",
      "include_colab_link": true
    },
    "kernelspec": {
      "name": "python3",
      "display_name": "Python 3"
    },
    "language_info": {
      "name": "python"
    }
  },
  "cells": [
    {
      "cell_type": "markdown",
      "metadata": {
        "id": "view-in-github",
        "colab_type": "text"
      },
      "source": [
        "<a href=\"https://colab.research.google.com/github/MIKBRUNO/TPNS/blob/main/lab2/custom.ipynb\" target=\"_parent\"><img src=\"https://colab.research.google.com/assets/colab-badge.svg\" alt=\"Open In Colab\"/></a>"
      ]
    },
    {
      "cell_type": "code",
      "source": [
        "# https://education.yandex.ru/handbook/ml/article/pervoe-znakomstvo-s-polnosvyaznymi-nejrosetyami\n",
        "# https://education.yandex.ru/handbook/ml/article/metriki-klassifikacii-i-regressii\n",
        "# https://archive.ics.uci.edu/dataset/73/mushroom"
      ],
      "metadata": {
        "id": "YQLkZfY80kru"
      },
      "execution_count": null,
      "outputs": []
    },
    {
      "cell_type": "code",
      "source": [
        "import pandas as pd"
      ],
      "metadata": {
        "id": "HihLDwQ9JOHV"
      },
      "execution_count": null,
      "outputs": []
    },
    {
      "cell_type": "code",
      "source": [
        "from math import log2\n",
        "def entropy(feature: pd.Series) -> float:\n",
        "  classes = feature.value_counts()\n",
        "  count = len(feature)\n",
        "  probability = [class_count / count for class_count in classes if not (class_count / count) < 0.001]\n",
        "\n",
        "  return sum([-p * log2(p) for p in probability])"
      ],
      "metadata": {
        "id": "3ql4YIJL0ZSy"
      },
      "execution_count": null,
      "outputs": []
    },
    {
      "cell_type": "code",
      "source": [
        "def information_gain(data: pd.DataFrame, target: str, feature: str) -> float:\n",
        "  gain = entropy(data[target])\n",
        "  for unique in data[feature].unique():\n",
        "    subset = data[data[feature] == unique][target]\n",
        "    gain -= entropy(subset) * (len(subset)/len(data[target]))\n",
        "  return gain"
      ],
      "metadata": {
        "id": "Q6htvQMp0bEV"
      },
      "execution_count": null,
      "outputs": []
    },
    {
      "cell_type": "code",
      "source": [
        "from math import log2\n",
        "def gain_ratio(data: pd.DataFrame, target: str, feature: str) -> float:\n",
        "  intr_info = 0\n",
        "  for unique in data[feature].unique():\n",
        "    subset = data[data[feature] == unique][target]\n",
        "    weight = len(subset) / len(data[target])\n",
        "    intr_info -= weight * log2(weight)\n",
        "  return information_gain(data, target, feature) / intr_info"
      ],
      "metadata": {
        "id": "_uHzymcs0cb4"
      },
      "execution_count": null,
      "outputs": []
    },
    {
      "cell_type": "markdown",
      "source": [
        "## MyModel"
      ],
      "metadata": {
        "id": "BM7_Gz1wm-nU"
      }
    },
    {
      "cell_type": "code",
      "source": [
        "import numpy as np"
      ],
      "metadata": {
        "id": "GBb5WHTuG3IS"
      },
      "execution_count": null,
      "outputs": []
    },
    {
      "cell_type": "code",
      "source": [
        "mytype = np.float32"
      ],
      "metadata": {
        "id": "Jo5frym8K6Pa"
      },
      "execution_count": null,
      "outputs": []
    },
    {
      "cell_type": "code",
      "source": [
        "def reluf(x):\n",
        "  return np.max([0, x])\n",
        "\n",
        "def relu(x):\n",
        "  return np.max(np.array([np.zeros(x.shape, dtype=x.dtype), x]), axis=0)\n",
        "\n",
        "def linear(x: mytype) -> mytype:\n",
        "  return x\n",
        "\n",
        "def sigmoid(x: mytype) -> mytype:\n",
        "  return 1 / (1 + np.exp(-x))\n",
        "\n",
        "def mse(y_pred, y):\n",
        "  return np.mean(np.power(y - y_pred, 2))"
      ],
      "metadata": {
        "id": "-Grc-4FUMxM2"
      },
      "execution_count": null,
      "outputs": []
    },
    {
      "cell_type": "code",
      "source": [
        "class Differentiable:\n",
        "  def __init__(self, f, df):\n",
        "    self.__f__ = f\n",
        "    self.__df__ = df\n",
        "\n",
        "  def f(self, *arg):\n",
        "    return self.__f__(*arg)\n",
        "\n",
        "  def df(self, *arg):\n",
        "    return self.__df__(*arg)\n",
        "\n",
        "drelu = Differentiable(relu, lambda x: np.array([1 if xx >= 0 else 0 for xx in x]))\n",
        "dsigmoid = Differentiable(sigmoid, lambda x: sigmoid(x)*(1-sigmoid(x)))\n",
        "dlinear = Differentiable(linear, lambda x: np.ones(x.shape))\n",
        "\n",
        "dmse = Differentiable(mse, lambda y_pred, y: 2*(y_pred - y))"
      ],
      "metadata": {
        "id": "bvZxglHnofR0"
      },
      "execution_count": null,
      "outputs": []
    },
    {
      "cell_type": "code",
      "source": [
        "class MyNeuron:\n",
        "  def __init__(self, input_dim: int, activation=reluf):\n",
        "    self.activation = activation\n",
        "    self.weights = None\n",
        "    self.weights = np.random.rand(input_dim)\n",
        "    self.bias = np.random.rand(1)[0]\n",
        "\n",
        "  def get_weights(self) -> np.array:\n",
        "    return self.weights\n",
        "\n",
        "  def get_bias(self) -> np.array:\n",
        "    return self.bias\n",
        "\n",
        "  def feed(self, vec: np.array) -> mytype:\n",
        "    return self.activation(np.dot(vec, self.weights) + self.bias)\n"
      ],
      "metadata": {
        "id": "Bth3Lx6PG8pf"
      },
      "execution_count": null,
      "outputs": []
    },
    {
      "cell_type": "code",
      "source": [
        "class MyLayer:\n",
        "  def __init__(self, input_dim: int, k: int, activation=drelu):\n",
        "    self.activation = activation\n",
        "    self.neurons = []\n",
        "    for i in range(k):\n",
        "      self.neurons.append(MyNeuron(input_dim))\n",
        "\n",
        "  def get_weights(self) -> np.array:\n",
        "    return np.array([n.get_weights() for n in self.neurons])\n",
        "\n",
        "  def get_bias(self) -> np.array:\n",
        "    return np.array([n.get_bias() for n in self.neurons])\n",
        "\n",
        "  def set_weights(self, nw: np.array):\n",
        "    for n, w in zip(self.neurons, nw):\n",
        "      n.weights = w\n",
        "\n",
        "  def set_bias(self, nb: np.array):\n",
        "    for n, b in zip(self.neurons, nb):\n",
        "      n.bias = b\n",
        "\n",
        "  def feed(self, vec: np.array, return_z=False):\n",
        "    weights = self.get_weights()\n",
        "    bias = self.get_bias()\n",
        "    z = np.matmul(weights, vec) + bias\n",
        "    if return_z:\n",
        "      return (self.activation.f(z), z)\n",
        "    return self.activation.f(z)\n"
      ],
      "metadata": {
        "id": "sn5J7VtOPdq0"
      },
      "execution_count": null,
      "outputs": []
    },
    {
      "cell_type": "code",
      "source": [
        "class MyModel:\n",
        "  def __init__(self, layers: list):\n",
        "    self.layers = layers\n",
        "\n",
        "  def feed(self, vec: np.array) -> np.array:\n",
        "    for l in self.layers:\n",
        "      vec = l.feed(vec)\n",
        "    return vec\n",
        "\n",
        "  def eval(self, x, y, loss=dmse) -> dict:\n",
        "    l = 0\n",
        "    for a, b in zip(x,y):\n",
        "      a = self.feed(a)\n",
        "      l += loss.f(a, b)\n",
        "    return {'loss': l / len(x)}\n",
        "\n",
        "  def backprop(self, x: np.array, y: np.array, loss=dmse) -> dict:\n",
        "    layer_values = []\n",
        "    z_values = []\n",
        "    for l in self.layers:\n",
        "      layer_values.append(x)\n",
        "      x, z = l.feed(x, return_z=True)\n",
        "      z_values.append(z)\n",
        "    y_pred = x\n",
        "    cost = loss.f(y_pred, y)\n",
        "    nabla_cost = loss.df(y_pred, y)\n",
        "\n",
        "    res = {}\n",
        "    res['bias_costs'] = []\n",
        "    res['weights_costs'] = []\n",
        "    layer_cost = nabla_cost\n",
        "    for l, lm1, z in zip(reversed(self.layers), reversed(layer_values), reversed(z_values)):\n",
        "      z_cost = l.activation.df(z) * layer_cost\n",
        "      res['bias_costs'].insert(0, z_cost)\n",
        "      res['weights_costs'].insert(0, np.outer(z_cost, lm1))\n",
        "      layer_cost = np.matmul(np.transpose(l.get_weights()), z_cost)\n",
        "\n",
        "    return res\n",
        "\n",
        "  def update_batch(self, batch, learning_rate):\n",
        "    nabla_b = [np.zeros(l.get_bias().shape) for l in self.layers]\n",
        "    nabla_w = [np.zeros(l.get_weights().shape) for l in self.layers]\n",
        "    for x, y in batch:\n",
        "      history = self.backprop(x, y)\n",
        "      delta_nabla_b = history['bias_costs']\n",
        "      delta_nabla_w = history['weights_costs']\n",
        "      nabla_b = [nb+dnb for nb, dnb in zip(nabla_b, delta_nabla_b)]\n",
        "      nabla_w = [nw+dnw for nw, dnw in zip(nabla_w, delta_nabla_w)]\n",
        "\n",
        "    for l, nw, nb in zip(self.layers, nabla_w, nabla_b):\n",
        "      l.set_weights(l.get_weights() - (learning_rate / len(batch)) * nw)\n",
        "      l.set_bias(l.get_bias() - (learning_rate / len(batch)) * nb)\n",
        "\n",
        "  def fit(self, x, y, epochs, batch_size, learning_rate=0.001, loss=dmse):\n",
        "    train_data = list(zip(x, y))\n",
        "    n = len(train_data)\n",
        "    for j in range(epochs):\n",
        "      np.random.shuffle(train_data)\n",
        "      batches = [\n",
        "          train_data[k : k + batch_size]\n",
        "          for k in range(0, n, batch_size)\n",
        "      ]\n",
        "      for batch in batches:\n",
        "        self.update_batch(batch, learning_rate)\n",
        "      print(f\"Epoch {j} complete! Loss: {self.eval(x, y, loss=loss)}\")\n"
      ],
      "metadata": {
        "id": "bS1qbCmBfV1X"
      },
      "execution_count": null,
      "outputs": []
    },
    {
      "cell_type": "code",
      "source": [
        "def accuracy(Y_pred, Y):\n",
        "  TP = sum([1 if y_pred > .5 and y > .5 else 0 for y_pred, y in zip(Y_pred, Y)])\n",
        "  TN = sum([1 if y_pred < .5 and y < .5 else 0 for y_pred, y in zip(Y_pred, Y)])\n",
        "  return (TP + TN) / len(Y)\n",
        "\n",
        "def precision(Y_pred, Y):\n",
        "  TP = sum([1 if y_pred > .5 and y > .5 else 0 for y_pred, y in zip(Y_pred, Y)])\n",
        "  return TP / sum([1 if y_pred > .5 else 0 for y_pred in Y_pred])\n",
        "\n",
        "def recall(Y_pred, Y):\n",
        "  TP = sum([1 if y_pred > .5 and y > .5 else 0 for y_pred, y in zip(Y_pred, Y)])\n",
        "  return TP / sum([1 if y > .5 else 0 for y in Y])"
      ],
      "metadata": {
        "id": "3ykbKggu1H6D"
      },
      "execution_count": null,
      "outputs": []
    },
    {
      "cell_type": "markdown",
      "source": [
        "# Mushrooms"
      ],
      "metadata": {
        "id": "J0lnfKmrdZgq"
      }
    },
    {
      "cell_type": "markdown",
      "source": [
        "## Dataset"
      ],
      "metadata": {
        "id": "9ilhuGYSdhVL"
      }
    },
    {
      "cell_type": "code",
      "execution_count": null,
      "metadata": {
        "colab": {
          "base_uri": "https://localhost:8080/"
        },
        "id": "3H6qskpAZoHQ",
        "outputId": "191f8801-d472-4320-a93f-4457839c9ed4"
      },
      "outputs": [
        {
          "output_type": "stream",
          "name": "stdout",
          "text": [
            "Collecting ucimlrepo\n",
            "  Downloading ucimlrepo-0.0.7-py3-none-any.whl (8.0 kB)\n",
            "Requirement already satisfied: pandas>=1.0.0 in /usr/local/lib/python3.10/dist-packages (from ucimlrepo) (2.0.3)\n",
            "Requirement already satisfied: certifi>=2020.12.5 in /usr/local/lib/python3.10/dist-packages (from ucimlrepo) (2024.2.2)\n",
            "Requirement already satisfied: python-dateutil>=2.8.2 in /usr/local/lib/python3.10/dist-packages (from pandas>=1.0.0->ucimlrepo) (2.8.2)\n",
            "Requirement already satisfied: pytz>=2020.1 in /usr/local/lib/python3.10/dist-packages (from pandas>=1.0.0->ucimlrepo) (2023.4)\n",
            "Requirement already satisfied: tzdata>=2022.1 in /usr/local/lib/python3.10/dist-packages (from pandas>=1.0.0->ucimlrepo) (2024.1)\n",
            "Requirement already satisfied: numpy>=1.21.0 in /usr/local/lib/python3.10/dist-packages (from pandas>=1.0.0->ucimlrepo) (1.25.2)\n",
            "Requirement already satisfied: six>=1.5 in /usr/local/lib/python3.10/dist-packages (from python-dateutil>=2.8.2->pandas>=1.0.0->ucimlrepo) (1.16.0)\n",
            "Installing collected packages: ucimlrepo\n",
            "Successfully installed ucimlrepo-0.0.7\n"
          ]
        }
      ],
      "source": [
        "!pip install ucimlrepo"
      ]
    },
    {
      "cell_type": "code",
      "source": [
        "import pandas as pd"
      ],
      "metadata": {
        "id": "GoNITmPRhtyX"
      },
      "execution_count": null,
      "outputs": []
    },
    {
      "cell_type": "code",
      "source": [
        "from ucimlrepo import fetch_ucirepo\n",
        "\n",
        "mushroom = fetch_ucirepo(id=73)\n",
        "\n",
        "features = mushroom.data.features\n",
        "target = mushroom.data.targets"
      ],
      "metadata": {
        "id": "hLI8UrSuatAn"
      },
      "execution_count": null,
      "outputs": []
    },
    {
      "cell_type": "code",
      "source": [
        "features.info()"
      ],
      "metadata": {
        "colab": {
          "base_uri": "https://localhost:8080/"
        },
        "id": "Zfr08ANnbnnI",
        "outputId": "740d35d5-c2d1-4032-f0c7-1709e2cc29df"
      },
      "execution_count": null,
      "outputs": [
        {
          "output_type": "stream",
          "name": "stdout",
          "text": [
            "<class 'pandas.core.frame.DataFrame'>\n",
            "RangeIndex: 8124 entries, 0 to 8123\n",
            "Data columns (total 22 columns):\n",
            " #   Column                    Non-Null Count  Dtype \n",
            "---  ------                    --------------  ----- \n",
            " 0   cap-shape                 8124 non-null   object\n",
            " 1   cap-surface               8124 non-null   object\n",
            " 2   cap-color                 8124 non-null   object\n",
            " 3   bruises                   8124 non-null   object\n",
            " 4   odor                      8124 non-null   object\n",
            " 5   gill-attachment           8124 non-null   object\n",
            " 6   gill-spacing              8124 non-null   object\n",
            " 7   gill-size                 8124 non-null   object\n",
            " 8   gill-color                8124 non-null   object\n",
            " 9   stalk-shape               8124 non-null   object\n",
            " 10  stalk-root                5644 non-null   object\n",
            " 11  stalk-surface-above-ring  8124 non-null   object\n",
            " 12  stalk-surface-below-ring  8124 non-null   object\n",
            " 13  stalk-color-above-ring    8124 non-null   object\n",
            " 14  stalk-color-below-ring    8124 non-null   object\n",
            " 15  veil-type                 8124 non-null   object\n",
            " 16  veil-color                8124 non-null   object\n",
            " 17  ring-number               8124 non-null   object\n",
            " 18  ring-type                 8124 non-null   object\n",
            " 19  spore-print-color         8124 non-null   object\n",
            " 20  population                8124 non-null   object\n",
            " 21  habitat                   8124 non-null   object\n",
            "dtypes: object(22)\n",
            "memory usage: 1.4+ MB\n"
          ]
        }
      ]
    },
    {
      "cell_type": "code",
      "source": [
        "target.describe()"
      ],
      "metadata": {
        "colab": {
          "base_uri": "https://localhost:8080/",
          "height": 195
        },
        "id": "ZlBayrBEcycl",
        "outputId": "5dc5bc4e-61c6-4a89-e359-d82ad88a1834"
      },
      "execution_count": null,
      "outputs": [
        {
          "output_type": "execute_result",
          "data": {
            "text/plain": [
              "       poisonous\n",
              "count       8124\n",
              "unique         2\n",
              "top            e\n",
              "freq        4208"
            ],
            "text/html": [
              "\n",
              "  <div id=\"df-a8c84d58-fba4-4c9d-af6c-93880414c7f7\" class=\"colab-df-container\">\n",
              "    <div>\n",
              "<style scoped>\n",
              "    .dataframe tbody tr th:only-of-type {\n",
              "        vertical-align: middle;\n",
              "    }\n",
              "\n",
              "    .dataframe tbody tr th {\n",
              "        vertical-align: top;\n",
              "    }\n",
              "\n",
              "    .dataframe thead th {\n",
              "        text-align: right;\n",
              "    }\n",
              "</style>\n",
              "<table border=\"1\" class=\"dataframe\">\n",
              "  <thead>\n",
              "    <tr style=\"text-align: right;\">\n",
              "      <th></th>\n",
              "      <th>poisonous</th>\n",
              "    </tr>\n",
              "  </thead>\n",
              "  <tbody>\n",
              "    <tr>\n",
              "      <th>count</th>\n",
              "      <td>8124</td>\n",
              "    </tr>\n",
              "    <tr>\n",
              "      <th>unique</th>\n",
              "      <td>2</td>\n",
              "    </tr>\n",
              "    <tr>\n",
              "      <th>top</th>\n",
              "      <td>e</td>\n",
              "    </tr>\n",
              "    <tr>\n",
              "      <th>freq</th>\n",
              "      <td>4208</td>\n",
              "    </tr>\n",
              "  </tbody>\n",
              "</table>\n",
              "</div>\n",
              "    <div class=\"colab-df-buttons\">\n",
              "\n",
              "  <div class=\"colab-df-container\">\n",
              "    <button class=\"colab-df-convert\" onclick=\"convertToInteractive('df-a8c84d58-fba4-4c9d-af6c-93880414c7f7')\"\n",
              "            title=\"Convert this dataframe to an interactive table.\"\n",
              "            style=\"display:none;\">\n",
              "\n",
              "  <svg xmlns=\"http://www.w3.org/2000/svg\" height=\"24px\" viewBox=\"0 -960 960 960\">\n",
              "    <path d=\"M120-120v-720h720v720H120Zm60-500h600v-160H180v160Zm220 220h160v-160H400v160Zm0 220h160v-160H400v160ZM180-400h160v-160H180v160Zm440 0h160v-160H620v160ZM180-180h160v-160H180v160Zm440 0h160v-160H620v160Z\"/>\n",
              "  </svg>\n",
              "    </button>\n",
              "\n",
              "  <style>\n",
              "    .colab-df-container {\n",
              "      display:flex;\n",
              "      gap: 12px;\n",
              "    }\n",
              "\n",
              "    .colab-df-convert {\n",
              "      background-color: #E8F0FE;\n",
              "      border: none;\n",
              "      border-radius: 50%;\n",
              "      cursor: pointer;\n",
              "      display: none;\n",
              "      fill: #1967D2;\n",
              "      height: 32px;\n",
              "      padding: 0 0 0 0;\n",
              "      width: 32px;\n",
              "    }\n",
              "\n",
              "    .colab-df-convert:hover {\n",
              "      background-color: #E2EBFA;\n",
              "      box-shadow: 0px 1px 2px rgba(60, 64, 67, 0.3), 0px 1px 3px 1px rgba(60, 64, 67, 0.15);\n",
              "      fill: #174EA6;\n",
              "    }\n",
              "\n",
              "    .colab-df-buttons div {\n",
              "      margin-bottom: 4px;\n",
              "    }\n",
              "\n",
              "    [theme=dark] .colab-df-convert {\n",
              "      background-color: #3B4455;\n",
              "      fill: #D2E3FC;\n",
              "    }\n",
              "\n",
              "    [theme=dark] .colab-df-convert:hover {\n",
              "      background-color: #434B5C;\n",
              "      box-shadow: 0px 1px 3px 1px rgba(0, 0, 0, 0.15);\n",
              "      filter: drop-shadow(0px 1px 2px rgba(0, 0, 0, 0.3));\n",
              "      fill: #FFFFFF;\n",
              "    }\n",
              "  </style>\n",
              "\n",
              "    <script>\n",
              "      const buttonEl =\n",
              "        document.querySelector('#df-a8c84d58-fba4-4c9d-af6c-93880414c7f7 button.colab-df-convert');\n",
              "      buttonEl.style.display =\n",
              "        google.colab.kernel.accessAllowed ? 'block' : 'none';\n",
              "\n",
              "      async function convertToInteractive(key) {\n",
              "        const element = document.querySelector('#df-a8c84d58-fba4-4c9d-af6c-93880414c7f7');\n",
              "        const dataTable =\n",
              "          await google.colab.kernel.invokeFunction('convertToInteractive',\n",
              "                                                    [key], {});\n",
              "        if (!dataTable) return;\n",
              "\n",
              "        const docLinkHtml = 'Like what you see? Visit the ' +\n",
              "          '<a target=\"_blank\" href=https://colab.research.google.com/notebooks/data_table.ipynb>data table notebook</a>'\n",
              "          + ' to learn more about interactive tables.';\n",
              "        element.innerHTML = '';\n",
              "        dataTable['output_type'] = 'display_data';\n",
              "        await google.colab.output.renderOutput(dataTable, element);\n",
              "        const docLink = document.createElement('div');\n",
              "        docLink.innerHTML = docLinkHtml;\n",
              "        element.appendChild(docLink);\n",
              "      }\n",
              "    </script>\n",
              "  </div>\n",
              "\n",
              "\n",
              "<div id=\"df-6095cc38-1879-4c66-9548-cbe7d57bbf5f\">\n",
              "  <button class=\"colab-df-quickchart\" onclick=\"quickchart('df-6095cc38-1879-4c66-9548-cbe7d57bbf5f')\"\n",
              "            title=\"Suggest charts\"\n",
              "            style=\"display:none;\">\n",
              "\n",
              "<svg xmlns=\"http://www.w3.org/2000/svg\" height=\"24px\"viewBox=\"0 0 24 24\"\n",
              "     width=\"24px\">\n",
              "    <g>\n",
              "        <path d=\"M19 3H5c-1.1 0-2 .9-2 2v14c0 1.1.9 2 2 2h14c1.1 0 2-.9 2-2V5c0-1.1-.9-2-2-2zM9 17H7v-7h2v7zm4 0h-2V7h2v10zm4 0h-2v-4h2v4z\"/>\n",
              "    </g>\n",
              "</svg>\n",
              "  </button>\n",
              "\n",
              "<style>\n",
              "  .colab-df-quickchart {\n",
              "      --bg-color: #E8F0FE;\n",
              "      --fill-color: #1967D2;\n",
              "      --hover-bg-color: #E2EBFA;\n",
              "      --hover-fill-color: #174EA6;\n",
              "      --disabled-fill-color: #AAA;\n",
              "      --disabled-bg-color: #DDD;\n",
              "  }\n",
              "\n",
              "  [theme=dark] .colab-df-quickchart {\n",
              "      --bg-color: #3B4455;\n",
              "      --fill-color: #D2E3FC;\n",
              "      --hover-bg-color: #434B5C;\n",
              "      --hover-fill-color: #FFFFFF;\n",
              "      --disabled-bg-color: #3B4455;\n",
              "      --disabled-fill-color: #666;\n",
              "  }\n",
              "\n",
              "  .colab-df-quickchart {\n",
              "    background-color: var(--bg-color);\n",
              "    border: none;\n",
              "    border-radius: 50%;\n",
              "    cursor: pointer;\n",
              "    display: none;\n",
              "    fill: var(--fill-color);\n",
              "    height: 32px;\n",
              "    padding: 0;\n",
              "    width: 32px;\n",
              "  }\n",
              "\n",
              "  .colab-df-quickchart:hover {\n",
              "    background-color: var(--hover-bg-color);\n",
              "    box-shadow: 0 1px 2px rgba(60, 64, 67, 0.3), 0 1px 3px 1px rgba(60, 64, 67, 0.15);\n",
              "    fill: var(--button-hover-fill-color);\n",
              "  }\n",
              "\n",
              "  .colab-df-quickchart-complete:disabled,\n",
              "  .colab-df-quickchart-complete:disabled:hover {\n",
              "    background-color: var(--disabled-bg-color);\n",
              "    fill: var(--disabled-fill-color);\n",
              "    box-shadow: none;\n",
              "  }\n",
              "\n",
              "  .colab-df-spinner {\n",
              "    border: 2px solid var(--fill-color);\n",
              "    border-color: transparent;\n",
              "    border-bottom-color: var(--fill-color);\n",
              "    animation:\n",
              "      spin 1s steps(1) infinite;\n",
              "  }\n",
              "\n",
              "  @keyframes spin {\n",
              "    0% {\n",
              "      border-color: transparent;\n",
              "      border-bottom-color: var(--fill-color);\n",
              "      border-left-color: var(--fill-color);\n",
              "    }\n",
              "    20% {\n",
              "      border-color: transparent;\n",
              "      border-left-color: var(--fill-color);\n",
              "      border-top-color: var(--fill-color);\n",
              "    }\n",
              "    30% {\n",
              "      border-color: transparent;\n",
              "      border-left-color: var(--fill-color);\n",
              "      border-top-color: var(--fill-color);\n",
              "      border-right-color: var(--fill-color);\n",
              "    }\n",
              "    40% {\n",
              "      border-color: transparent;\n",
              "      border-right-color: var(--fill-color);\n",
              "      border-top-color: var(--fill-color);\n",
              "    }\n",
              "    60% {\n",
              "      border-color: transparent;\n",
              "      border-right-color: var(--fill-color);\n",
              "    }\n",
              "    80% {\n",
              "      border-color: transparent;\n",
              "      border-right-color: var(--fill-color);\n",
              "      border-bottom-color: var(--fill-color);\n",
              "    }\n",
              "    90% {\n",
              "      border-color: transparent;\n",
              "      border-bottom-color: var(--fill-color);\n",
              "    }\n",
              "  }\n",
              "</style>\n",
              "\n",
              "  <script>\n",
              "    async function quickchart(key) {\n",
              "      const quickchartButtonEl =\n",
              "        document.querySelector('#' + key + ' button');\n",
              "      quickchartButtonEl.disabled = true;  // To prevent multiple clicks.\n",
              "      quickchartButtonEl.classList.add('colab-df-spinner');\n",
              "      try {\n",
              "        const charts = await google.colab.kernel.invokeFunction(\n",
              "            'suggestCharts', [key], {});\n",
              "      } catch (error) {\n",
              "        console.error('Error during call to suggestCharts:', error);\n",
              "      }\n",
              "      quickchartButtonEl.classList.remove('colab-df-spinner');\n",
              "      quickchartButtonEl.classList.add('colab-df-quickchart-complete');\n",
              "    }\n",
              "    (() => {\n",
              "      let quickchartButtonEl =\n",
              "        document.querySelector('#df-6095cc38-1879-4c66-9548-cbe7d57bbf5f button');\n",
              "      quickchartButtonEl.style.display =\n",
              "        google.colab.kernel.accessAllowed ? 'block' : 'none';\n",
              "    })();\n",
              "  </script>\n",
              "</div>\n",
              "    </div>\n",
              "  </div>\n"
            ],
            "application/vnd.google.colaboratory.intrinsic+json": {
              "type": "dataframe",
              "summary": "{\n  \"name\": \"target\",\n  \"rows\": 4,\n  \"fields\": [\n    {\n      \"column\": \"poisonous\",\n      \"properties\": {\n        \"dtype\": \"string\",\n        \"num_unique_values\": 4,\n        \"samples\": [\n          2,\n          \"4208\",\n          \"8124\"\n        ],\n        \"semantic_type\": \"\",\n        \"description\": \"\"\n      }\n    }\n  ]\n}"
            }
          },
          "metadata": {},
          "execution_count": 18
        }
      ]
    },
    {
      "cell_type": "code",
      "source": [
        "features.describe()"
      ],
      "metadata": {
        "colab": {
          "base_uri": "https://localhost:8080/",
          "height": 276
        },
        "id": "ar3htcdXcfE8",
        "outputId": "4ad230d8-f804-4272-c726-b7c5bf9b376d"
      },
      "execution_count": null,
      "outputs": [
        {
          "output_type": "execute_result",
          "data": {
            "text/plain": [
              "       cap-shape cap-surface cap-color bruises  odor gill-attachment  \\\n",
              "count       8124        8124      8124    8124  8124            8124   \n",
              "unique         6           4        10       2     9               2   \n",
              "top            x           y         n       f     n               f   \n",
              "freq        3656        3244      2284    4748  3528            7914   \n",
              "\n",
              "       gill-spacing gill-size gill-color stalk-shape  ...  \\\n",
              "count          8124      8124       8124        8124  ...   \n",
              "unique            2         2         12           2  ...   \n",
              "top               c         b          b           t  ...   \n",
              "freq           6812      5612       1728        4608  ...   \n",
              "\n",
              "       stalk-surface-below-ring stalk-color-above-ring stalk-color-below-ring  \\\n",
              "count                      8124                   8124                   8124   \n",
              "unique                        4                      9                      9   \n",
              "top                           s                      w                      w   \n",
              "freq                       4936                   4464                   4384   \n",
              "\n",
              "       veil-type veil-color ring-number ring-type spore-print-color  \\\n",
              "count       8124       8124        8124      8124              8124   \n",
              "unique         1          4           3         5                 9   \n",
              "top            p          w           o         p                 w   \n",
              "freq        8124       7924        7488      3968              2388   \n",
              "\n",
              "       population habitat  \n",
              "count        8124    8124  \n",
              "unique          6       7  \n",
              "top             v       d  \n",
              "freq         4040    3148  \n",
              "\n",
              "[4 rows x 22 columns]"
            ],
            "text/html": [
              "\n",
              "  <div id=\"df-65b4dd15-1a85-4d5f-b78b-107a675b7486\" class=\"colab-df-container\">\n",
              "    <div>\n",
              "<style scoped>\n",
              "    .dataframe tbody tr th:only-of-type {\n",
              "        vertical-align: middle;\n",
              "    }\n",
              "\n",
              "    .dataframe tbody tr th {\n",
              "        vertical-align: top;\n",
              "    }\n",
              "\n",
              "    .dataframe thead th {\n",
              "        text-align: right;\n",
              "    }\n",
              "</style>\n",
              "<table border=\"1\" class=\"dataframe\">\n",
              "  <thead>\n",
              "    <tr style=\"text-align: right;\">\n",
              "      <th></th>\n",
              "      <th>cap-shape</th>\n",
              "      <th>cap-surface</th>\n",
              "      <th>cap-color</th>\n",
              "      <th>bruises</th>\n",
              "      <th>odor</th>\n",
              "      <th>gill-attachment</th>\n",
              "      <th>gill-spacing</th>\n",
              "      <th>gill-size</th>\n",
              "      <th>gill-color</th>\n",
              "      <th>stalk-shape</th>\n",
              "      <th>...</th>\n",
              "      <th>stalk-surface-below-ring</th>\n",
              "      <th>stalk-color-above-ring</th>\n",
              "      <th>stalk-color-below-ring</th>\n",
              "      <th>veil-type</th>\n",
              "      <th>veil-color</th>\n",
              "      <th>ring-number</th>\n",
              "      <th>ring-type</th>\n",
              "      <th>spore-print-color</th>\n",
              "      <th>population</th>\n",
              "      <th>habitat</th>\n",
              "    </tr>\n",
              "  </thead>\n",
              "  <tbody>\n",
              "    <tr>\n",
              "      <th>count</th>\n",
              "      <td>8124</td>\n",
              "      <td>8124</td>\n",
              "      <td>8124</td>\n",
              "      <td>8124</td>\n",
              "      <td>8124</td>\n",
              "      <td>8124</td>\n",
              "      <td>8124</td>\n",
              "      <td>8124</td>\n",
              "      <td>8124</td>\n",
              "      <td>8124</td>\n",
              "      <td>...</td>\n",
              "      <td>8124</td>\n",
              "      <td>8124</td>\n",
              "      <td>8124</td>\n",
              "      <td>8124</td>\n",
              "      <td>8124</td>\n",
              "      <td>8124</td>\n",
              "      <td>8124</td>\n",
              "      <td>8124</td>\n",
              "      <td>8124</td>\n",
              "      <td>8124</td>\n",
              "    </tr>\n",
              "    <tr>\n",
              "      <th>unique</th>\n",
              "      <td>6</td>\n",
              "      <td>4</td>\n",
              "      <td>10</td>\n",
              "      <td>2</td>\n",
              "      <td>9</td>\n",
              "      <td>2</td>\n",
              "      <td>2</td>\n",
              "      <td>2</td>\n",
              "      <td>12</td>\n",
              "      <td>2</td>\n",
              "      <td>...</td>\n",
              "      <td>4</td>\n",
              "      <td>9</td>\n",
              "      <td>9</td>\n",
              "      <td>1</td>\n",
              "      <td>4</td>\n",
              "      <td>3</td>\n",
              "      <td>5</td>\n",
              "      <td>9</td>\n",
              "      <td>6</td>\n",
              "      <td>7</td>\n",
              "    </tr>\n",
              "    <tr>\n",
              "      <th>top</th>\n",
              "      <td>x</td>\n",
              "      <td>y</td>\n",
              "      <td>n</td>\n",
              "      <td>f</td>\n",
              "      <td>n</td>\n",
              "      <td>f</td>\n",
              "      <td>c</td>\n",
              "      <td>b</td>\n",
              "      <td>b</td>\n",
              "      <td>t</td>\n",
              "      <td>...</td>\n",
              "      <td>s</td>\n",
              "      <td>w</td>\n",
              "      <td>w</td>\n",
              "      <td>p</td>\n",
              "      <td>w</td>\n",
              "      <td>o</td>\n",
              "      <td>p</td>\n",
              "      <td>w</td>\n",
              "      <td>v</td>\n",
              "      <td>d</td>\n",
              "    </tr>\n",
              "    <tr>\n",
              "      <th>freq</th>\n",
              "      <td>3656</td>\n",
              "      <td>3244</td>\n",
              "      <td>2284</td>\n",
              "      <td>4748</td>\n",
              "      <td>3528</td>\n",
              "      <td>7914</td>\n",
              "      <td>6812</td>\n",
              "      <td>5612</td>\n",
              "      <td>1728</td>\n",
              "      <td>4608</td>\n",
              "      <td>...</td>\n",
              "      <td>4936</td>\n",
              "      <td>4464</td>\n",
              "      <td>4384</td>\n",
              "      <td>8124</td>\n",
              "      <td>7924</td>\n",
              "      <td>7488</td>\n",
              "      <td>3968</td>\n",
              "      <td>2388</td>\n",
              "      <td>4040</td>\n",
              "      <td>3148</td>\n",
              "    </tr>\n",
              "  </tbody>\n",
              "</table>\n",
              "<p>4 rows × 22 columns</p>\n",
              "</div>\n",
              "    <div class=\"colab-df-buttons\">\n",
              "\n",
              "  <div class=\"colab-df-container\">\n",
              "    <button class=\"colab-df-convert\" onclick=\"convertToInteractive('df-65b4dd15-1a85-4d5f-b78b-107a675b7486')\"\n",
              "            title=\"Convert this dataframe to an interactive table.\"\n",
              "            style=\"display:none;\">\n",
              "\n",
              "  <svg xmlns=\"http://www.w3.org/2000/svg\" height=\"24px\" viewBox=\"0 -960 960 960\">\n",
              "    <path d=\"M120-120v-720h720v720H120Zm60-500h600v-160H180v160Zm220 220h160v-160H400v160Zm0 220h160v-160H400v160ZM180-400h160v-160H180v160Zm440 0h160v-160H620v160ZM180-180h160v-160H180v160Zm440 0h160v-160H620v160Z\"/>\n",
              "  </svg>\n",
              "    </button>\n",
              "\n",
              "  <style>\n",
              "    .colab-df-container {\n",
              "      display:flex;\n",
              "      gap: 12px;\n",
              "    }\n",
              "\n",
              "    .colab-df-convert {\n",
              "      background-color: #E8F0FE;\n",
              "      border: none;\n",
              "      border-radius: 50%;\n",
              "      cursor: pointer;\n",
              "      display: none;\n",
              "      fill: #1967D2;\n",
              "      height: 32px;\n",
              "      padding: 0 0 0 0;\n",
              "      width: 32px;\n",
              "    }\n",
              "\n",
              "    .colab-df-convert:hover {\n",
              "      background-color: #E2EBFA;\n",
              "      box-shadow: 0px 1px 2px rgba(60, 64, 67, 0.3), 0px 1px 3px 1px rgba(60, 64, 67, 0.15);\n",
              "      fill: #174EA6;\n",
              "    }\n",
              "\n",
              "    .colab-df-buttons div {\n",
              "      margin-bottom: 4px;\n",
              "    }\n",
              "\n",
              "    [theme=dark] .colab-df-convert {\n",
              "      background-color: #3B4455;\n",
              "      fill: #D2E3FC;\n",
              "    }\n",
              "\n",
              "    [theme=dark] .colab-df-convert:hover {\n",
              "      background-color: #434B5C;\n",
              "      box-shadow: 0px 1px 3px 1px rgba(0, 0, 0, 0.15);\n",
              "      filter: drop-shadow(0px 1px 2px rgba(0, 0, 0, 0.3));\n",
              "      fill: #FFFFFF;\n",
              "    }\n",
              "  </style>\n",
              "\n",
              "    <script>\n",
              "      const buttonEl =\n",
              "        document.querySelector('#df-65b4dd15-1a85-4d5f-b78b-107a675b7486 button.colab-df-convert');\n",
              "      buttonEl.style.display =\n",
              "        google.colab.kernel.accessAllowed ? 'block' : 'none';\n",
              "\n",
              "      async function convertToInteractive(key) {\n",
              "        const element = document.querySelector('#df-65b4dd15-1a85-4d5f-b78b-107a675b7486');\n",
              "        const dataTable =\n",
              "          await google.colab.kernel.invokeFunction('convertToInteractive',\n",
              "                                                    [key], {});\n",
              "        if (!dataTable) return;\n",
              "\n",
              "        const docLinkHtml = 'Like what you see? Visit the ' +\n",
              "          '<a target=\"_blank\" href=https://colab.research.google.com/notebooks/data_table.ipynb>data table notebook</a>'\n",
              "          + ' to learn more about interactive tables.';\n",
              "        element.innerHTML = '';\n",
              "        dataTable['output_type'] = 'display_data';\n",
              "        await google.colab.output.renderOutput(dataTable, element);\n",
              "        const docLink = document.createElement('div');\n",
              "        docLink.innerHTML = docLinkHtml;\n",
              "        element.appendChild(docLink);\n",
              "      }\n",
              "    </script>\n",
              "  </div>\n",
              "\n",
              "\n",
              "<div id=\"df-1417393a-c1f9-48d2-a38e-41930982cc7c\">\n",
              "  <button class=\"colab-df-quickchart\" onclick=\"quickchart('df-1417393a-c1f9-48d2-a38e-41930982cc7c')\"\n",
              "            title=\"Suggest charts\"\n",
              "            style=\"display:none;\">\n",
              "\n",
              "<svg xmlns=\"http://www.w3.org/2000/svg\" height=\"24px\"viewBox=\"0 0 24 24\"\n",
              "     width=\"24px\">\n",
              "    <g>\n",
              "        <path d=\"M19 3H5c-1.1 0-2 .9-2 2v14c0 1.1.9 2 2 2h14c1.1 0 2-.9 2-2V5c0-1.1-.9-2-2-2zM9 17H7v-7h2v7zm4 0h-2V7h2v10zm4 0h-2v-4h2v4z\"/>\n",
              "    </g>\n",
              "</svg>\n",
              "  </button>\n",
              "\n",
              "<style>\n",
              "  .colab-df-quickchart {\n",
              "      --bg-color: #E8F0FE;\n",
              "      --fill-color: #1967D2;\n",
              "      --hover-bg-color: #E2EBFA;\n",
              "      --hover-fill-color: #174EA6;\n",
              "      --disabled-fill-color: #AAA;\n",
              "      --disabled-bg-color: #DDD;\n",
              "  }\n",
              "\n",
              "  [theme=dark] .colab-df-quickchart {\n",
              "      --bg-color: #3B4455;\n",
              "      --fill-color: #D2E3FC;\n",
              "      --hover-bg-color: #434B5C;\n",
              "      --hover-fill-color: #FFFFFF;\n",
              "      --disabled-bg-color: #3B4455;\n",
              "      --disabled-fill-color: #666;\n",
              "  }\n",
              "\n",
              "  .colab-df-quickchart {\n",
              "    background-color: var(--bg-color);\n",
              "    border: none;\n",
              "    border-radius: 50%;\n",
              "    cursor: pointer;\n",
              "    display: none;\n",
              "    fill: var(--fill-color);\n",
              "    height: 32px;\n",
              "    padding: 0;\n",
              "    width: 32px;\n",
              "  }\n",
              "\n",
              "  .colab-df-quickchart:hover {\n",
              "    background-color: var(--hover-bg-color);\n",
              "    box-shadow: 0 1px 2px rgba(60, 64, 67, 0.3), 0 1px 3px 1px rgba(60, 64, 67, 0.15);\n",
              "    fill: var(--button-hover-fill-color);\n",
              "  }\n",
              "\n",
              "  .colab-df-quickchart-complete:disabled,\n",
              "  .colab-df-quickchart-complete:disabled:hover {\n",
              "    background-color: var(--disabled-bg-color);\n",
              "    fill: var(--disabled-fill-color);\n",
              "    box-shadow: none;\n",
              "  }\n",
              "\n",
              "  .colab-df-spinner {\n",
              "    border: 2px solid var(--fill-color);\n",
              "    border-color: transparent;\n",
              "    border-bottom-color: var(--fill-color);\n",
              "    animation:\n",
              "      spin 1s steps(1) infinite;\n",
              "  }\n",
              "\n",
              "  @keyframes spin {\n",
              "    0% {\n",
              "      border-color: transparent;\n",
              "      border-bottom-color: var(--fill-color);\n",
              "      border-left-color: var(--fill-color);\n",
              "    }\n",
              "    20% {\n",
              "      border-color: transparent;\n",
              "      border-left-color: var(--fill-color);\n",
              "      border-top-color: var(--fill-color);\n",
              "    }\n",
              "    30% {\n",
              "      border-color: transparent;\n",
              "      border-left-color: var(--fill-color);\n",
              "      border-top-color: var(--fill-color);\n",
              "      border-right-color: var(--fill-color);\n",
              "    }\n",
              "    40% {\n",
              "      border-color: transparent;\n",
              "      border-right-color: var(--fill-color);\n",
              "      border-top-color: var(--fill-color);\n",
              "    }\n",
              "    60% {\n",
              "      border-color: transparent;\n",
              "      border-right-color: var(--fill-color);\n",
              "    }\n",
              "    80% {\n",
              "      border-color: transparent;\n",
              "      border-right-color: var(--fill-color);\n",
              "      border-bottom-color: var(--fill-color);\n",
              "    }\n",
              "    90% {\n",
              "      border-color: transparent;\n",
              "      border-bottom-color: var(--fill-color);\n",
              "    }\n",
              "  }\n",
              "</style>\n",
              "\n",
              "  <script>\n",
              "    async function quickchart(key) {\n",
              "      const quickchartButtonEl =\n",
              "        document.querySelector('#' + key + ' button');\n",
              "      quickchartButtonEl.disabled = true;  // To prevent multiple clicks.\n",
              "      quickchartButtonEl.classList.add('colab-df-spinner');\n",
              "      try {\n",
              "        const charts = await google.colab.kernel.invokeFunction(\n",
              "            'suggestCharts', [key], {});\n",
              "      } catch (error) {\n",
              "        console.error('Error during call to suggestCharts:', error);\n",
              "      }\n",
              "      quickchartButtonEl.classList.remove('colab-df-spinner');\n",
              "      quickchartButtonEl.classList.add('colab-df-quickchart-complete');\n",
              "    }\n",
              "    (() => {\n",
              "      let quickchartButtonEl =\n",
              "        document.querySelector('#df-1417393a-c1f9-48d2-a38e-41930982cc7c button');\n",
              "      quickchartButtonEl.style.display =\n",
              "        google.colab.kernel.accessAllowed ? 'block' : 'none';\n",
              "    })();\n",
              "  </script>\n",
              "</div>\n",
              "    </div>\n",
              "  </div>\n"
            ],
            "application/vnd.google.colaboratory.intrinsic+json": {
              "type": "dataframe"
            }
          },
          "metadata": {},
          "execution_count": 19
        }
      ]
    },
    {
      "cell_type": "code",
      "source": [
        "features['veil-type'].describe()"
      ],
      "metadata": {
        "colab": {
          "base_uri": "https://localhost:8080/"
        },
        "id": "suYu9HryeAtt",
        "outputId": "d800daa5-305d-4c11-f00f-9ecab6963ae9"
      },
      "execution_count": null,
      "outputs": [
        {
          "output_type": "execute_result",
          "data": {
            "text/plain": [
              "count     8124\n",
              "unique       1\n",
              "top          p\n",
              "freq      8124\n",
              "Name: veil-type, dtype: object"
            ]
          },
          "metadata": {},
          "execution_count": 20
        }
      ]
    },
    {
      "cell_type": "code",
      "source": [
        "features.drop('veil-type', axis=1, inplace=True)"
      ],
      "metadata": {
        "colab": {
          "base_uri": "https://localhost:8080/"
        },
        "id": "wiMn3MKpdmxA",
        "outputId": "e707eb5e-2227-4548-f798-373c37851fb0"
      },
      "execution_count": null,
      "outputs": [
        {
          "output_type": "stream",
          "name": "stderr",
          "text": [
            "<ipython-input-21-1f4c3daf09d0>:1: SettingWithCopyWarning: \n",
            "A value is trying to be set on a copy of a slice from a DataFrame\n",
            "\n",
            "See the caveats in the documentation: https://pandas.pydata.org/pandas-docs/stable/user_guide/indexing.html#returning-a-view-versus-a-copy\n",
            "  features.drop('veil-type', axis=1, inplace=True)\n"
          ]
        }
      ]
    },
    {
      "cell_type": "code",
      "source": [
        "features.isnull().sum()"
      ],
      "metadata": {
        "colab": {
          "base_uri": "https://localhost:8080/"
        },
        "id": "JaaWwH8DdwiK",
        "outputId": "a877ac47-2793-4586-dd6f-293740526fb6"
      },
      "execution_count": null,
      "outputs": [
        {
          "output_type": "execute_result",
          "data": {
            "text/plain": [
              "cap-shape                      0\n",
              "cap-surface                    0\n",
              "cap-color                      0\n",
              "bruises                        0\n",
              "odor                           0\n",
              "gill-attachment                0\n",
              "gill-spacing                   0\n",
              "gill-size                      0\n",
              "gill-color                     0\n",
              "stalk-shape                    0\n",
              "stalk-root                  2480\n",
              "stalk-surface-above-ring       0\n",
              "stalk-surface-below-ring       0\n",
              "stalk-color-above-ring         0\n",
              "stalk-color-below-ring         0\n",
              "veil-color                     0\n",
              "ring-number                    0\n",
              "ring-type                      0\n",
              "spore-print-color              0\n",
              "population                     0\n",
              "habitat                        0\n",
              "dtype: int64"
            ]
          },
          "metadata": {},
          "execution_count": 22
        }
      ]
    },
    {
      "cell_type": "code",
      "source": [
        "'''\n",
        "bulbous=b,club=c,cup=u,equal=e, rhizomorphs=z,rooted=r,\n",
        "missing=?\n",
        "'''\n",
        "features['stalk-root'].unique()"
      ],
      "metadata": {
        "colab": {
          "base_uri": "https://localhost:8080/"
        },
        "id": "sylddkZWeXx6",
        "outputId": "ba5e5037-f828-44f9-d4a5-8b797493c7c4"
      },
      "execution_count": null,
      "outputs": [
        {
          "output_type": "execute_result",
          "data": {
            "text/plain": [
              "array(['e', 'c', 'b', 'r', nan], dtype=object)"
            ]
          },
          "metadata": {},
          "execution_count": 23
        }
      ]
    },
    {
      "cell_type": "code",
      "source": [
        "features['stalk-root'].fillna('m', inplace=True)"
      ],
      "metadata": {
        "colab": {
          "base_uri": "https://localhost:8080/"
        },
        "id": "W22ltJ3Le5IE",
        "outputId": "4f0acacb-461a-4a66-a782-df9262a8bddf"
      },
      "execution_count": null,
      "outputs": [
        {
          "output_type": "stream",
          "name": "stderr",
          "text": [
            "<ipython-input-24-77a75fc9a85a>:1: SettingWithCopyWarning: \n",
            "A value is trying to be set on a copy of a slice from a DataFrame\n",
            "\n",
            "See the caveats in the documentation: https://pandas.pydata.org/pandas-docs/stable/user_guide/indexing.html#returning-a-view-versus-a-copy\n",
            "  features['stalk-root'].fillna('m', inplace=True)\n"
          ]
        }
      ]
    },
    {
      "cell_type": "code",
      "source": [
        "full_df = features.copy()\n",
        "full_df['poisonous'] = target['poisonous']"
      ],
      "metadata": {
        "id": "i72h2Afzj2nW"
      },
      "execution_count": null,
      "outputs": []
    },
    {
      "cell_type": "code",
      "source": [
        "mushrooms_gain_ratio = pd.DataFrame(index=full_df.columns.drop('poisonous'))\n",
        "mushrooms_gain_ratio['gain_ratio'] = mushrooms_gain_ratio.index.map(lambda col: gain_ratio(full_df, 'poisonous', col))"
      ],
      "metadata": {
        "id": "n5zuztGy1Evs"
      },
      "execution_count": null,
      "outputs": []
    },
    {
      "cell_type": "code",
      "source": [
        "mushrooms_gain_ratio.abs().style.background_gradient(cmap='coolwarm')"
      ],
      "metadata": {
        "colab": {
          "base_uri": "https://localhost:8080/",
          "height": 971
        },
        "id": "D6RQadPw2ibt",
        "outputId": "e8e46d43-39b6-4082-e468-33c2a11b6302"
      },
      "execution_count": null,
      "outputs": [
        {
          "output_type": "execute_result",
          "data": {
            "text/plain": [
              "<pandas.io.formats.style.Styler at 0x78d7391bec50>"
            ],
            "text/html": [
              "<style type=\"text/css\">\n",
              "#T_eedae_row0_col0 {\n",
              "  background-color: #4b64d5;\n",
              "  color: #f1f1f1;\n",
              "}\n",
              "#T_eedae_row1_col0 {\n",
              "  background-color: #4358cb;\n",
              "  color: #f1f1f1;\n",
              "}\n",
              "#T_eedae_row2_col0 {\n",
              "  background-color: #3f53c6;\n",
              "  color: #f1f1f1;\n",
              "}\n",
              "#T_eedae_row3_col0 {\n",
              "  background-color: #dbdcde;\n",
              "  color: #000000;\n",
              "}\n",
              "#T_eedae_row4_col0 {\n",
              "  background-color: #b40426;\n",
              "  color: #f1f1f1;\n",
              "}\n",
              "#T_eedae_row5_col0 {\n",
              "  background-color: #799cf8;\n",
              "  color: #f1f1f1;\n",
              "}\n",
              "#T_eedae_row6_col0 {\n",
              "  background-color: #bed2f6;\n",
              "  color: #000000;\n",
              "}\n",
              "#T_eedae_row7_col0 {\n",
              "  background-color: #f7bca1;\n",
              "  color: #000000;\n",
              "}\n",
              "#T_eedae_row8_col0 {\n",
              "  background-color: #abc8fd;\n",
              "  color: #000000;\n",
              "}\n",
              "#T_eedae_row9_col0 {\n",
              "  background-color: #3b4cc0;\n",
              "  color: #f1f1f1;\n",
              "}\n",
              "#T_eedae_row10_col0 {\n",
              "  background-color: #7295f4;\n",
              "  color: #f1f1f1;\n",
              "}\n",
              "#T_eedae_row11_col0 {\n",
              "  background-color: #f0cdbb;\n",
              "  color: #000000;\n",
              "}\n",
              "#T_eedae_row12_col0 {\n",
              "  background-color: #d9dce1;\n",
              "  color: #000000;\n",
              "}\n",
              "#T_eedae_row13_col0 {\n",
              "  background-color: #a6c4fe;\n",
              "  color: #000000;\n",
              "}\n",
              "#T_eedae_row14_col0, #T_eedae_row15_col0 {\n",
              "  background-color: #9ebeff;\n",
              "  color: #000000;\n",
              "}\n",
              "#T_eedae_row16_col0 {\n",
              "  background-color: #82a6fb;\n",
              "  color: #f1f1f1;\n",
              "}\n",
              "#T_eedae_row17_col0 {\n",
              "  background-color: #e2dad5;\n",
              "  color: #000000;\n",
              "}\n",
              "#T_eedae_row18_col0 {\n",
              "  background-color: #e9d5cb;\n",
              "  color: #000000;\n",
              "}\n",
              "#T_eedae_row19_col0 {\n",
              "  background-color: #8badfd;\n",
              "  color: #000000;\n",
              "}\n",
              "#T_eedae_row20_col0 {\n",
              "  background-color: #6c8ff1;\n",
              "  color: #f1f1f1;\n",
              "}\n",
              "</style>\n",
              "<table id=\"T_eedae\" class=\"dataframe\">\n",
              "  <thead>\n",
              "    <tr>\n",
              "      <th class=\"blank level0\" >&nbsp;</th>\n",
              "      <th id=\"T_eedae_level0_col0\" class=\"col_heading level0 col0\" >gain_ratio</th>\n",
              "    </tr>\n",
              "  </thead>\n",
              "  <tbody>\n",
              "    <tr>\n",
              "      <th id=\"T_eedae_level0_row0\" class=\"row_heading level0 row0\" >cap-shape</th>\n",
              "      <td id=\"T_eedae_row0_col0\" class=\"data row0 col0\" >0.029522</td>\n",
              "    </tr>\n",
              "    <tr>\n",
              "      <th id=\"T_eedae_level0_row1\" class=\"row_heading level0 row1\" >cap-surface</th>\n",
              "      <td id=\"T_eedae_row1_col0\" class=\"data row1 col0\" >0.018147</td>\n",
              "    </tr>\n",
              "    <tr>\n",
              "      <th id=\"T_eedae_level0_row2\" class=\"row_heading level0 row2\" >cap-color</th>\n",
              "      <td id=\"T_eedae_row2_col0\" class=\"data row2 col0\" >0.014361</td>\n",
              "    </tr>\n",
              "    <tr>\n",
              "      <th id=\"T_eedae_level0_row3\" class=\"row_heading level0 row3\" >bruises</th>\n",
              "      <td id=\"T_eedae_row3_col0\" class=\"data row3 col0\" >0.196440</td>\n",
              "    </tr>\n",
              "    <tr>\n",
              "      <th id=\"T_eedae_level0_row4\" class=\"row_heading level0 row4\" >odor</th>\n",
              "      <td id=\"T_eedae_row4_col0\" class=\"data row4 col0\" >0.390648</td>\n",
              "    </tr>\n",
              "    <tr>\n",
              "      <th id=\"T_eedae_level0_row5\" class=\"row_heading level0 row5\" >gill-attachment</th>\n",
              "      <td id=\"T_eedae_row5_col0\" class=\"data row5 col0\" >0.081818</td>\n",
              "    </tr>\n",
              "    <tr>\n",
              "      <th id=\"T_eedae_level0_row6\" class=\"row_heading level0 row6\" >gill-spacing</th>\n",
              "      <td id=\"T_eedae_row6_col0\" class=\"data row6 col0\" >0.158154</td>\n",
              "    </tr>\n",
              "    <tr>\n",
              "      <th id=\"T_eedae_level0_row7\" class=\"row_heading level0 row7\" >gill-size</th>\n",
              "      <td id=\"T_eedae_row7_col0\" class=\"data row7 col0\" >0.257946</td>\n",
              "    </tr>\n",
              "    <tr>\n",
              "      <th id=\"T_eedae_level0_row8\" class=\"row_heading level0 row8\" >gill-color</th>\n",
              "      <td id=\"T_eedae_row8_col0\" class=\"data row8 col0\" >0.137597</td>\n",
              "    </tr>\n",
              "    <tr>\n",
              "      <th id=\"T_eedae_level0_row9\" class=\"row_heading level0 row9\" >stalk-shape</th>\n",
              "      <td id=\"T_eedae_row9_col0\" class=\"data row9 col0\" >0.007616</td>\n",
              "    </tr>\n",
              "    <tr>\n",
              "      <th id=\"T_eedae_level0_row10\" class=\"row_heading level0 row10\" >stalk-root</th>\n",
              "      <td id=\"T_eedae_row10_col0\" class=\"data row10 col0\" >0.073957</td>\n",
              "    </tr>\n",
              "    <tr>\n",
              "      <th id=\"T_eedae_level0_row11\" class=\"row_heading level0 row11\" >stalk-surface-above-ring</th>\n",
              "      <td id=\"T_eedae_row11_col0\" class=\"data row11 col0\" >0.233124</td>\n",
              "    </tr>\n",
              "    <tr>\n",
              "      <th id=\"T_eedae_level0_row12\" class=\"row_heading level0 row12\" >stalk-surface-below-ring</th>\n",
              "      <td id=\"T_eedae_row12_col0\" class=\"data row12 col0\" >0.194330</td>\n",
              "    </tr>\n",
              "    <tr>\n",
              "      <th id=\"T_eedae_level0_row13\" class=\"row_heading level0 row13\" >stalk-color-above-ring</th>\n",
              "      <td id=\"T_eedae_row13_col0\" class=\"data row13 col0\" >0.131064</td>\n",
              "    </tr>\n",
              "    <tr>\n",
              "      <th id=\"T_eedae_level0_row14\" class=\"row_heading level0 row14\" >stalk-color-below-ring</th>\n",
              "      <td id=\"T_eedae_row14_col0\" class=\"data row14 col0\" >0.122040</td>\n",
              "    </tr>\n",
              "    <tr>\n",
              "      <th id=\"T_eedae_level0_row15\" class=\"row_heading level0 row15\" >veil-color</th>\n",
              "      <td id=\"T_eedae_row15_col0\" class=\"data row15 col0\" >0.121368</td>\n",
              "    </tr>\n",
              "    <tr>\n",
              "      <th id=\"T_eedae_level0_row16\" class=\"row_heading level0 row16\" >ring-number</th>\n",
              "      <td id=\"T_eedae_row16_col0\" class=\"data row16 col0\" >0.091406</td>\n",
              "    </tr>\n",
              "    <tr>\n",
              "      <th id=\"T_eedae_level0_row17\" class=\"row_heading level0 row17\" >ring-type</th>\n",
              "      <td id=\"T_eedae_row17_col0\" class=\"data row17 col0\" >0.207164</td>\n",
              "    </tr>\n",
              "    <tr>\n",
              "      <th id=\"T_eedae_level0_row18\" class=\"row_heading level0 row18\" >spore-print-color</th>\n",
              "      <td id=\"T_eedae_row18_col0\" class=\"data row18 col0\" >0.218182</td>\n",
              "    </tr>\n",
              "    <tr>\n",
              "      <th id=\"T_eedae_level0_row19\" class=\"row_heading level0 row19\" >population</th>\n",
              "      <td id=\"T_eedae_row19_col0\" class=\"data row19 col0\" >0.100808</td>\n",
              "    </tr>\n",
              "    <tr>\n",
              "      <th id=\"T_eedae_level0_row20\" class=\"row_heading level0 row20\" >habitat</th>\n",
              "      <td id=\"T_eedae_row20_col0\" class=\"data row20 col0\" >0.068946</td>\n",
              "    </tr>\n",
              "  </tbody>\n",
              "</table>\n"
            ]
          },
          "metadata": {},
          "execution_count": 27
        }
      ]
    },
    {
      "cell_type": "code",
      "source": [
        "gain_ratio_threshold = 0.2"
      ],
      "metadata": {
        "id": "uxvguRjk78Zv"
      },
      "execution_count": null,
      "outputs": []
    },
    {
      "cell_type": "code",
      "source": [
        "good_cols = [col for col in features.columns if mushrooms_gain_ratio['gain_ratio'].loc[col] > gain_ratio_threshold]\n",
        "good_cols"
      ],
      "metadata": {
        "colab": {
          "base_uri": "https://localhost:8080/"
        },
        "id": "SE9TBWjl7GUe",
        "outputId": "39c6a82d-7cac-468e-f4df-72a661f046c0"
      },
      "execution_count": null,
      "outputs": [
        {
          "output_type": "execute_result",
          "data": {
            "text/plain": [
              "['odor',\n",
              " 'gill-size',\n",
              " 'stalk-surface-above-ring',\n",
              " 'ring-type',\n",
              " 'spore-print-color']"
            ]
          },
          "metadata": {},
          "execution_count": 29
        }
      ]
    },
    {
      "cell_type": "code",
      "source": [
        "features = features.drop(columns=[col for col in features.columns if col not in good_cols])\n",
        "features.columns"
      ],
      "metadata": {
        "colab": {
          "base_uri": "https://localhost:8080/"
        },
        "id": "Ms7DWxcQ8Gd-",
        "outputId": "3c86dcf3-7bf1-4970-fe35-299aca537ab3"
      },
      "execution_count": null,
      "outputs": [
        {
          "output_type": "execute_result",
          "data": {
            "text/plain": [
              "Index(['odor', 'gill-size', 'stalk-surface-above-ring', 'ring-type',\n",
              "       'spore-print-color'],\n",
              "      dtype='object')"
            ]
          },
          "metadata": {},
          "execution_count": 30
        }
      ]
    },
    {
      "cell_type": "code",
      "source": [
        "binary_columns = [col for col in features.columns if features[col].nunique() == 2]\n",
        "binary_columns"
      ],
      "metadata": {
        "id": "xBWgPuDBfS_v",
        "colab": {
          "base_uri": "https://localhost:8080/"
        },
        "outputId": "3bedc5b3-4e82-4bb6-b777-430e05e1f619"
      },
      "execution_count": null,
      "outputs": [
        {
          "output_type": "execute_result",
          "data": {
            "text/plain": [
              "['gill-size']"
            ]
          },
          "metadata": {},
          "execution_count": 31
        }
      ]
    },
    {
      "cell_type": "code",
      "source": [
        "if 'ring-number' in features.columns:\n",
        "  features['ring-number'] = features['ring-number'].map({\"n\": 0, \"o\": 1, \"t\": 2})"
      ],
      "metadata": {
        "id": "_hgh2625yeER"
      },
      "execution_count": null,
      "outputs": []
    },
    {
      "cell_type": "code",
      "source": [
        "features = pd.get_dummies(features, columns=[col for col in features.columns if col not in binary_columns + ['ring-number']], drop_first=False)"
      ],
      "metadata": {
        "id": "aHF1w7wUwxYE"
      },
      "execution_count": null,
      "outputs": []
    },
    {
      "cell_type": "code",
      "source": [
        "features = pd.get_dummies(features, columns=binary_columns, drop_first=True)"
      ],
      "metadata": {
        "id": "fc0jM9xngtT1"
      },
      "execution_count": null,
      "outputs": []
    },
    {
      "cell_type": "code",
      "source": [
        "target = pd.get_dummies(target, columns=['poisonous'], drop_first=True)"
      ],
      "metadata": {
        "id": "bOPnLrMxxpYM"
      },
      "execution_count": null,
      "outputs": []
    },
    {
      "cell_type": "code",
      "source": [
        "target.info()"
      ],
      "metadata": {
        "colab": {
          "base_uri": "https://localhost:8080/"
        },
        "id": "R_rvwAw880iF",
        "outputId": "c5e47529-f572-4590-feb2-9f47e1d9c50a"
      },
      "execution_count": null,
      "outputs": [
        {
          "output_type": "stream",
          "name": "stdout",
          "text": [
            "<class 'pandas.core.frame.DataFrame'>\n",
            "RangeIndex: 8124 entries, 0 to 8123\n",
            "Data columns (total 1 columns):\n",
            " #   Column       Non-Null Count  Dtype\n",
            "---  ------       --------------  -----\n",
            " 0   poisonous_p  8124 non-null   bool \n",
            "dtypes: bool(1)\n",
            "memory usage: 8.1 KB\n"
          ]
        }
      ]
    },
    {
      "cell_type": "code",
      "source": [
        "features.info()"
      ],
      "metadata": {
        "colab": {
          "base_uri": "https://localhost:8080/"
        },
        "id": "hyEa1T7_8sNx",
        "outputId": "9dd3a5ec-2b68-4864-87c8-52ac321e4c2f"
      },
      "execution_count": null,
      "outputs": [
        {
          "output_type": "stream",
          "name": "stdout",
          "text": [
            "<class 'pandas.core.frame.DataFrame'>\n",
            "RangeIndex: 8124 entries, 0 to 8123\n",
            "Data columns (total 28 columns):\n",
            " #   Column                      Non-Null Count  Dtype\n",
            "---  ------                      --------------  -----\n",
            " 0   odor_a                      8124 non-null   bool \n",
            " 1   odor_c                      8124 non-null   bool \n",
            " 2   odor_f                      8124 non-null   bool \n",
            " 3   odor_l                      8124 non-null   bool \n",
            " 4   odor_m                      8124 non-null   bool \n",
            " 5   odor_n                      8124 non-null   bool \n",
            " 6   odor_p                      8124 non-null   bool \n",
            " 7   odor_s                      8124 non-null   bool \n",
            " 8   odor_y                      8124 non-null   bool \n",
            " 9   stalk-surface-above-ring_f  8124 non-null   bool \n",
            " 10  stalk-surface-above-ring_k  8124 non-null   bool \n",
            " 11  stalk-surface-above-ring_s  8124 non-null   bool \n",
            " 12  stalk-surface-above-ring_y  8124 non-null   bool \n",
            " 13  ring-type_e                 8124 non-null   bool \n",
            " 14  ring-type_f                 8124 non-null   bool \n",
            " 15  ring-type_l                 8124 non-null   bool \n",
            " 16  ring-type_n                 8124 non-null   bool \n",
            " 17  ring-type_p                 8124 non-null   bool \n",
            " 18  spore-print-color_b         8124 non-null   bool \n",
            " 19  spore-print-color_h         8124 non-null   bool \n",
            " 20  spore-print-color_k         8124 non-null   bool \n",
            " 21  spore-print-color_n         8124 non-null   bool \n",
            " 22  spore-print-color_o         8124 non-null   bool \n",
            " 23  spore-print-color_r         8124 non-null   bool \n",
            " 24  spore-print-color_u         8124 non-null   bool \n",
            " 25  spore-print-color_w         8124 non-null   bool \n",
            " 26  spore-print-color_y         8124 non-null   bool \n",
            " 27  gill-size_n                 8124 non-null   bool \n",
            "dtypes: bool(28)\n",
            "memory usage: 222.3 KB\n"
          ]
        }
      ]
    },
    {
      "cell_type": "code",
      "source": [
        "from sklearn.model_selection import train_test_split\n",
        "\n",
        "X_train, X_test, y_train, y_test = train_test_split(features, target, test_size=0.2, random_state=0)"
      ],
      "metadata": {
        "id": "vldt85Jdmc4O"
      },
      "execution_count": null,
      "outputs": []
    },
    {
      "cell_type": "markdown",
      "source": [
        "## Custom"
      ],
      "metadata": {
        "id": "_FcsXGg8GyLv"
      }
    },
    {
      "cell_type": "code",
      "source": [
        "model = MyModel([MyLayer(X_train.shape[1], 5, activation=dsigmoid), MyLayer(5, 1, activation=dsigmoid)])"
      ],
      "metadata": {
        "id": "kSHdnKhpXpUp"
      },
      "execution_count": null,
      "outputs": []
    },
    {
      "cell_type": "code",
      "source": [
        "model.feed(X_test.astype('float32').values[0])"
      ],
      "metadata": {
        "colab": {
          "base_uri": "https://localhost:8080/"
        },
        "id": "M7YYiFTGZO9J",
        "outputId": "6d903385-7be0-4c7b-dfa6-7c39ee505017"
      },
      "execution_count": null,
      "outputs": [
        {
          "output_type": "execute_result",
          "data": {
            "text/plain": [
              "array([0.9273488])"
            ]
          },
          "metadata": {},
          "execution_count": 40
        }
      ]
    },
    {
      "cell_type": "code",
      "source": [
        "model.eval(X_test.astype('float32').values, y_test.astype('float32').values)"
      ],
      "metadata": {
        "colab": {
          "base_uri": "https://localhost:8080/"
        },
        "id": "E7xJIFfgiUhr",
        "outputId": "85037092-40d1-4cea-9d67-d539ab86631c"
      },
      "execution_count": null,
      "outputs": [
        {
          "output_type": "execute_result",
          "data": {
            "text/plain": [
              "{'loss': 0.45191227905050907}"
            ]
          },
          "metadata": {},
          "execution_count": 41
        }
      ]
    },
    {
      "cell_type": "code",
      "source": [
        "model.fit(X_train.astype('float32').values, y_train.astype('float32').values, 100, 1, learning_rate=0.001)"
      ],
      "metadata": {
        "colab": {
          "base_uri": "https://localhost:8080/"
        },
        "id": "GiRLZdbdk-_m",
        "outputId": "8b8eb076-362a-401d-c791-a3835bffc314"
      },
      "execution_count": null,
      "outputs": [
        {
          "output_type": "stream",
          "name": "stdout",
          "text": [
            "Epoch 0 complete! Loss: {'loss': 0.2500732341144309}\n",
            "Epoch 1 complete! Loss: {'loss': 0.2469317811787409}\n",
            "Epoch 2 complete! Loss: {'loss': 0.24501244090235694}\n",
            "Epoch 3 complete! Loss: {'loss': 0.2424857862290137}\n",
            "Epoch 4 complete! Loss: {'loss': 0.23894353523330372}\n",
            "Epoch 5 complete! Loss: {'loss': 0.2332275496416586}\n",
            "Epoch 6 complete! Loss: {'loss': 0.22402781101839297}\n",
            "Epoch 7 complete! Loss: {'loss': 0.20949914356388627}\n",
            "Epoch 8 complete! Loss: {'loss': 0.1892625272748008}\n",
            "Epoch 9 complete! Loss: {'loss': 0.16638768340466645}\n",
            "Epoch 10 complete! Loss: {'loss': 0.14501975525092142}\n",
            "Epoch 11 complete! Loss: {'loss': 0.127032581263524}\n",
            "Epoch 12 complete! Loss: {'loss': 0.1124416582463571}\n",
            "Epoch 13 complete! Loss: {'loss': 0.10056433348413676}\n",
            "Epoch 14 complete! Loss: {'loss': 0.09075518685026991}\n",
            "Epoch 15 complete! Loss: {'loss': 0.08246565803689193}\n",
            "Epoch 16 complete! Loss: {'loss': 0.07530694943917716}\n",
            "Epoch 17 complete! Loss: {'loss': 0.06911516263131412}\n",
            "Epoch 18 complete! Loss: {'loss': 0.06373972117466482}\n",
            "Epoch 19 complete! Loss: {'loss': 0.05906323185763369}\n",
            "Epoch 20 complete! Loss: {'loss': 0.05499907967203771}\n",
            "Epoch 21 complete! Loss: {'loss': 0.051463077663572485}\n",
            "Epoch 22 complete! Loss: {'loss': 0.04836441734352442}\n",
            "Epoch 23 complete! Loss: {'loss': 0.04565525451792616}\n",
            "Epoch 24 complete! Loss: {'loss': 0.04326899624471018}\n",
            "Epoch 25 complete! Loss: {'loss': 0.04116027560138287}\n",
            "Epoch 26 complete! Loss: {'loss': 0.039271918668050056}\n",
            "Epoch 27 complete! Loss: {'loss': 0.03758630568478118}\n",
            "Epoch 28 complete! Loss: {'loss': 0.03606342467008859}\n",
            "Epoch 29 complete! Loss: {'loss': 0.03468112162547294}\n",
            "Epoch 30 complete! Loss: {'loss': 0.03342100523245926}\n",
            "Epoch 31 complete! Loss: {'loss': 0.032265020113316736}\n",
            "Epoch 32 complete! Loss: {'loss': 0.031201099116095938}\n",
            "Epoch 33 complete! Loss: {'loss': 0.0302163247722367}\n",
            "Epoch 34 complete! Loss: {'loss': 0.029298032948531262}\n",
            "Epoch 35 complete! Loss: {'loss': 0.028440799505262678}\n",
            "Epoch 36 complete! Loss: {'loss': 0.027639442692042975}\n",
            "Epoch 37 complete! Loss: {'loss': 0.0268887461255912}\n",
            "Epoch 38 complete! Loss: {'loss': 0.026181396738865385}\n",
            "Epoch 39 complete! Loss: {'loss': 0.025515281517933974}\n",
            "Epoch 40 complete! Loss: {'loss': 0.024888195455104675}\n",
            "Epoch 41 complete! Loss: {'loss': 0.024295302541807992}\n",
            "Epoch 42 complete! Loss: {'loss': 0.02373721756265592}\n",
            "Epoch 43 complete! Loss: {'loss': 0.02320875522248486}\n",
            "Epoch 44 complete! Loss: {'loss': 0.02270978334949018}\n",
            "Epoch 45 complete! Loss: {'loss': 0.02223877765588546}\n",
            "Epoch 46 complete! Loss: {'loss': 0.02179379851715728}\n",
            "Epoch 47 complete! Loss: {'loss': 0.021372222401463765}\n",
            "Epoch 48 complete! Loss: {'loss': 0.02097417779793639}\n",
            "Epoch 49 complete! Loss: {'loss': 0.020598439681464433}\n",
            "Epoch 50 complete! Loss: {'loss': 0.020242345225867864}\n",
            "Epoch 51 complete! Loss: {'loss': 0.019905194048467686}\n",
            "Epoch 52 complete! Loss: {'loss': 0.019586402658869777}\n",
            "Epoch 53 complete! Loss: {'loss': 0.01928402289259297}\n",
            "Epoch 54 complete! Loss: {'loss': 0.01899765199174474}\n",
            "Epoch 55 complete! Loss: {'loss': 0.018725904559708333}\n",
            "Epoch 56 complete! Loss: {'loss': 0.018468203863055394}\n",
            "Epoch 57 complete! Loss: {'loss': 0.018223132911388197}\n",
            "Epoch 58 complete! Loss: {'loss': 0.017990175230006084}\n",
            "Epoch 59 complete! Loss: {'loss': 0.01776852147293487}\n",
            "Epoch 60 complete! Loss: {'loss': 0.01755754582833981}\n",
            "Epoch 61 complete! Loss: {'loss': 0.017356645689129122}\n",
            "Epoch 62 complete! Loss: {'loss': 0.01716506858842672}\n",
            "Epoch 63 complete! Loss: {'loss': 0.016982079496993405}\n",
            "Epoch 64 complete! Loss: {'loss': 0.01680751849356668}\n",
            "Epoch 65 complete! Loss: {'loss': 0.016640573066195832}\n",
            "Epoch 66 complete! Loss: {'loss': 0.016481010035927193}\n",
            "Epoch 67 complete! Loss: {'loss': 0.016328343708683763}\n",
            "Epoch 68 complete! Loss: {'loss': 0.016182006910635757}\n",
            "Epoch 69 complete! Loss: {'loss': 0.01604181223253909}\n",
            "Epoch 70 complete! Loss: {'loss': 0.015907380180324615}\n",
            "Epoch 71 complete! Loss: {'loss': 0.015778326527310947}\n",
            "Epoch 72 complete! Loss: {'loss': 0.015654447979177977}\n",
            "Epoch 73 complete! Loss: {'loss': 0.01553552098561801}\n",
            "Epoch 74 complete! Loss: {'loss': 0.015421052097695639}\n",
            "Epoch 75 complete! Loss: {'loss': 0.015310775734044284}\n",
            "Epoch 76 complete! Loss: {'loss': 0.01520468220312031}\n",
            "Epoch 77 complete! Loss: {'loss': 0.01510243507384865}\n",
            "Epoch 78 complete! Loss: {'loss': 0.015003991405296006}\n",
            "Epoch 79 complete! Loss: {'loss': 0.01490901482987161}\n",
            "Epoch 80 complete! Loss: {'loss': 0.014817358882575404}\n",
            "Epoch 81 complete! Loss: {'loss': 0.014728881746905871}\n",
            "Epoch 82 complete! Loss: {'loss': 0.014643414875139638}\n",
            "Epoch 83 complete! Loss: {'loss': 0.014560812371641224}\n",
            "Epoch 84 complete! Loss: {'loss': 0.014480898297629398}\n",
            "Epoch 85 complete! Loss: {'loss': 0.014403590274265526}\n",
            "Epoch 86 complete! Loss: {'loss': 0.014328789467615823}\n",
            "Epoch 87 complete! Loss: {'loss': 0.014256331554746551}\n",
            "Epoch 88 complete! Loss: {'loss': 0.014186127024588668}\n",
            "Epoch 89 complete! Loss: {'loss': 0.014118136267423385}\n",
            "Epoch 90 complete! Loss: {'loss': 0.01405213322567338}\n",
            "Epoch 91 complete! Loss: {'loss': 0.01398814308036222}\n",
            "Epoch 92 complete! Loss: {'loss': 0.013925930148128306}\n",
            "Epoch 93 complete! Loss: {'loss': 0.013865591464652645}\n",
            "Epoch 94 complete! Loss: {'loss': 0.013806990936542361}\n",
            "Epoch 95 complete! Loss: {'loss': 0.013750023005913761}\n",
            "Epoch 96 complete! Loss: {'loss': 0.013694597312324409}\n",
            "Epoch 97 complete! Loss: {'loss': 0.013640733271933266}\n",
            "Epoch 98 complete! Loss: {'loss': 0.013588326437277462}\n",
            "Epoch 99 complete! Loss: {'loss': 0.013537313022379704}\n"
          ]
        }
      ]
    },
    {
      "cell_type": "code",
      "source": [
        "accuracy([model.feed(x) for x in X_test.astype('float32').values], y_test.astype('float32').values)"
      ],
      "metadata": {
        "colab": {
          "base_uri": "https://localhost:8080/"
        },
        "id": "Jvfy7mDnmciU",
        "outputId": "9ead7f65-80ea-45ad-dfc0-c8d9bc23d7f9"
      },
      "execution_count": null,
      "outputs": [
        {
          "output_type": "execute_result",
          "data": {
            "text/plain": [
              "0.9913846153846154"
            ]
          },
          "metadata": {},
          "execution_count": 43
        }
      ]
    },
    {
      "cell_type": "code",
      "source": [
        "precision([model.feed(x) for x in X_test.astype('float32').values], y_test.astype('float32').values)"
      ],
      "metadata": {
        "id": "lGOj1IRN3J2E",
        "outputId": "3f5f4902-f4ae-4ad3-9ed5-1f5615359dd3",
        "colab": {
          "base_uri": "https://localhost:8080/"
        }
      },
      "execution_count": null,
      "outputs": [
        {
          "output_type": "execute_result",
          "data": {
            "text/plain": [
              "1.0"
            ]
          },
          "metadata": {},
          "execution_count": 44
        }
      ]
    },
    {
      "cell_type": "code",
      "source": [
        "recall([model.feed(x) for x in X_test.astype('float32').values], y_test.astype('float32').values)"
      ],
      "metadata": {
        "id": "X6MaMzPD3KvD",
        "outputId": "f1fbdbf9-4858-4fa7-e394-4727cc031c33",
        "colab": {
          "base_uri": "https://localhost:8080/"
        }
      },
      "execution_count": null,
      "outputs": [
        {
          "output_type": "execute_result",
          "data": {
            "text/plain": [
              "0.981888745148771"
            ]
          },
          "metadata": {},
          "execution_count": 45
        }
      ]
    },
    {
      "cell_type": "markdown",
      "source": [
        "# Laptops"
      ],
      "metadata": {
        "id": "UrTh8sOCxTbG"
      }
    },
    {
      "cell_type": "markdown",
      "source": [
        "## Dataset"
      ],
      "metadata": {
        "id": "OeTKSG6pxWMN"
      }
    },
    {
      "cell_type": "code",
      "source": [
        "from google.colab import userdata\n",
        "import os\n",
        "\n",
        "os.environ[\"KAGGLE_KEY\"] = userdata.get('KAGGLE_KEY')\n",
        "os.environ[\"KAGGLE_USERNAME\"] = userdata.get('KAGGLE_USERNAME')"
      ],
      "metadata": {
        "id": "p85LDTG0xYnM"
      },
      "execution_count": null,
      "outputs": []
    },
    {
      "cell_type": "code",
      "source": [
        "!kaggle datasets download -d mrsimple07/laptoppriceprediction"
      ],
      "metadata": {
        "colab": {
          "base_uri": "https://localhost:8080/"
        },
        "id": "iyF2VhcLxlTA",
        "outputId": "8ec7aa52-a651-4f33-d58c-48ef0865446b"
      },
      "execution_count": null,
      "outputs": [
        {
          "output_type": "stream",
          "name": "stdout",
          "text": [
            "Dataset URL: https://www.kaggle.com/datasets/mrsimple07/laptoppriceprediction\n",
            "License(s): Apache 2.0\n",
            "Downloading laptoppriceprediction.zip to /content\n",
            "  0% 0.00/39.1k [00:00<?, ?B/s]\n",
            "100% 39.1k/39.1k [00:00<00:00, 48.6MB/s]\n"
          ]
        }
      ]
    },
    {
      "cell_type": "code",
      "source": [
        "!unzip laptoppriceprediction.zip"
      ],
      "metadata": {
        "colab": {
          "base_uri": "https://localhost:8080/"
        },
        "id": "1Fz6AAMTxn6F",
        "outputId": "85fbdcb4-c2ef-4a1c-90e9-9db0303f854b"
      },
      "execution_count": null,
      "outputs": [
        {
          "output_type": "stream",
          "name": "stdout",
          "text": [
            "Archive:  laptoppriceprediction.zip\n",
            "  inflating: Laptop_price.csv        \n"
          ]
        }
      ]
    },
    {
      "cell_type": "code",
      "source": [
        "import pandas as pd\n",
        "\n",
        "df = pd.read_csv(\"Laptop_price.csv\")\n",
        "df.head()"
      ],
      "metadata": {
        "colab": {
          "base_uri": "https://localhost:8080/",
          "height": 226
        },
        "id": "tyFeZ9uZkdai",
        "outputId": "b7dafbab-b3d7-4e87-e66b-c3d611fcdaf5"
      },
      "execution_count": null,
      "outputs": [
        {
          "output_type": "execute_result",
          "data": {
            "text/plain": [
              "    Brand  Processor_Speed  RAM_Size  Storage_Capacity  Screen_Size    Weight  \\\n",
              "0    Asus         3.830296        16               512    11.185147  2.641094   \n",
              "1    Acer         2.912833         4              1000    11.311372  3.260012   \n",
              "2  Lenovo         3.241627         4               256    11.853023  2.029061   \n",
              "3    Acer         3.806248        16               512    12.280360  4.573865   \n",
              "4    Acer         3.268097        32              1000    14.990877  4.193472   \n",
              "\n",
              "          Price  \n",
              "0  17395.093065  \n",
              "1  31607.605919  \n",
              "2   9291.023542  \n",
              "3  17436.728334  \n",
              "4  32917.990718  "
            ],
            "text/html": [
              "\n",
              "  <div id=\"df-c6e9fa9d-0c64-45e1-994a-0032b3d7db70\" class=\"colab-df-container\">\n",
              "    <div>\n",
              "<style scoped>\n",
              "    .dataframe tbody tr th:only-of-type {\n",
              "        vertical-align: middle;\n",
              "    }\n",
              "\n",
              "    .dataframe tbody tr th {\n",
              "        vertical-align: top;\n",
              "    }\n",
              "\n",
              "    .dataframe thead th {\n",
              "        text-align: right;\n",
              "    }\n",
              "</style>\n",
              "<table border=\"1\" class=\"dataframe\">\n",
              "  <thead>\n",
              "    <tr style=\"text-align: right;\">\n",
              "      <th></th>\n",
              "      <th>Brand</th>\n",
              "      <th>Processor_Speed</th>\n",
              "      <th>RAM_Size</th>\n",
              "      <th>Storage_Capacity</th>\n",
              "      <th>Screen_Size</th>\n",
              "      <th>Weight</th>\n",
              "      <th>Price</th>\n",
              "    </tr>\n",
              "  </thead>\n",
              "  <tbody>\n",
              "    <tr>\n",
              "      <th>0</th>\n",
              "      <td>Asus</td>\n",
              "      <td>3.830296</td>\n",
              "      <td>16</td>\n",
              "      <td>512</td>\n",
              "      <td>11.185147</td>\n",
              "      <td>2.641094</td>\n",
              "      <td>17395.093065</td>\n",
              "    </tr>\n",
              "    <tr>\n",
              "      <th>1</th>\n",
              "      <td>Acer</td>\n",
              "      <td>2.912833</td>\n",
              "      <td>4</td>\n",
              "      <td>1000</td>\n",
              "      <td>11.311372</td>\n",
              "      <td>3.260012</td>\n",
              "      <td>31607.605919</td>\n",
              "    </tr>\n",
              "    <tr>\n",
              "      <th>2</th>\n",
              "      <td>Lenovo</td>\n",
              "      <td>3.241627</td>\n",
              "      <td>4</td>\n",
              "      <td>256</td>\n",
              "      <td>11.853023</td>\n",
              "      <td>2.029061</td>\n",
              "      <td>9291.023542</td>\n",
              "    </tr>\n",
              "    <tr>\n",
              "      <th>3</th>\n",
              "      <td>Acer</td>\n",
              "      <td>3.806248</td>\n",
              "      <td>16</td>\n",
              "      <td>512</td>\n",
              "      <td>12.280360</td>\n",
              "      <td>4.573865</td>\n",
              "      <td>17436.728334</td>\n",
              "    </tr>\n",
              "    <tr>\n",
              "      <th>4</th>\n",
              "      <td>Acer</td>\n",
              "      <td>3.268097</td>\n",
              "      <td>32</td>\n",
              "      <td>1000</td>\n",
              "      <td>14.990877</td>\n",
              "      <td>4.193472</td>\n",
              "      <td>32917.990718</td>\n",
              "    </tr>\n",
              "  </tbody>\n",
              "</table>\n",
              "</div>\n",
              "    <div class=\"colab-df-buttons\">\n",
              "\n",
              "  <div class=\"colab-df-container\">\n",
              "    <button class=\"colab-df-convert\" onclick=\"convertToInteractive('df-c6e9fa9d-0c64-45e1-994a-0032b3d7db70')\"\n",
              "            title=\"Convert this dataframe to an interactive table.\"\n",
              "            style=\"display:none;\">\n",
              "\n",
              "  <svg xmlns=\"http://www.w3.org/2000/svg\" height=\"24px\" viewBox=\"0 -960 960 960\">\n",
              "    <path d=\"M120-120v-720h720v720H120Zm60-500h600v-160H180v160Zm220 220h160v-160H400v160Zm0 220h160v-160H400v160ZM180-400h160v-160H180v160Zm440 0h160v-160H620v160ZM180-180h160v-160H180v160Zm440 0h160v-160H620v160Z\"/>\n",
              "  </svg>\n",
              "    </button>\n",
              "\n",
              "  <style>\n",
              "    .colab-df-container {\n",
              "      display:flex;\n",
              "      gap: 12px;\n",
              "    }\n",
              "\n",
              "    .colab-df-convert {\n",
              "      background-color: #E8F0FE;\n",
              "      border: none;\n",
              "      border-radius: 50%;\n",
              "      cursor: pointer;\n",
              "      display: none;\n",
              "      fill: #1967D2;\n",
              "      height: 32px;\n",
              "      padding: 0 0 0 0;\n",
              "      width: 32px;\n",
              "    }\n",
              "\n",
              "    .colab-df-convert:hover {\n",
              "      background-color: #E2EBFA;\n",
              "      box-shadow: 0px 1px 2px rgba(60, 64, 67, 0.3), 0px 1px 3px 1px rgba(60, 64, 67, 0.15);\n",
              "      fill: #174EA6;\n",
              "    }\n",
              "\n",
              "    .colab-df-buttons div {\n",
              "      margin-bottom: 4px;\n",
              "    }\n",
              "\n",
              "    [theme=dark] .colab-df-convert {\n",
              "      background-color: #3B4455;\n",
              "      fill: #D2E3FC;\n",
              "    }\n",
              "\n",
              "    [theme=dark] .colab-df-convert:hover {\n",
              "      background-color: #434B5C;\n",
              "      box-shadow: 0px 1px 3px 1px rgba(0, 0, 0, 0.15);\n",
              "      filter: drop-shadow(0px 1px 2px rgba(0, 0, 0, 0.3));\n",
              "      fill: #FFFFFF;\n",
              "    }\n",
              "  </style>\n",
              "\n",
              "    <script>\n",
              "      const buttonEl =\n",
              "        document.querySelector('#df-c6e9fa9d-0c64-45e1-994a-0032b3d7db70 button.colab-df-convert');\n",
              "      buttonEl.style.display =\n",
              "        google.colab.kernel.accessAllowed ? 'block' : 'none';\n",
              "\n",
              "      async function convertToInteractive(key) {\n",
              "        const element = document.querySelector('#df-c6e9fa9d-0c64-45e1-994a-0032b3d7db70');\n",
              "        const dataTable =\n",
              "          await google.colab.kernel.invokeFunction('convertToInteractive',\n",
              "                                                    [key], {});\n",
              "        if (!dataTable) return;\n",
              "\n",
              "        const docLinkHtml = 'Like what you see? Visit the ' +\n",
              "          '<a target=\"_blank\" href=https://colab.research.google.com/notebooks/data_table.ipynb>data table notebook</a>'\n",
              "          + ' to learn more about interactive tables.';\n",
              "        element.innerHTML = '';\n",
              "        dataTable['output_type'] = 'display_data';\n",
              "        await google.colab.output.renderOutput(dataTable, element);\n",
              "        const docLink = document.createElement('div');\n",
              "        docLink.innerHTML = docLinkHtml;\n",
              "        element.appendChild(docLink);\n",
              "      }\n",
              "    </script>\n",
              "  </div>\n",
              "\n",
              "\n",
              "<div id=\"df-903f2c99-0699-4e09-9145-70a6e9c144cc\">\n",
              "  <button class=\"colab-df-quickchart\" onclick=\"quickchart('df-903f2c99-0699-4e09-9145-70a6e9c144cc')\"\n",
              "            title=\"Suggest charts\"\n",
              "            style=\"display:none;\">\n",
              "\n",
              "<svg xmlns=\"http://www.w3.org/2000/svg\" height=\"24px\"viewBox=\"0 0 24 24\"\n",
              "     width=\"24px\">\n",
              "    <g>\n",
              "        <path d=\"M19 3H5c-1.1 0-2 .9-2 2v14c0 1.1.9 2 2 2h14c1.1 0 2-.9 2-2V5c0-1.1-.9-2-2-2zM9 17H7v-7h2v7zm4 0h-2V7h2v10zm4 0h-2v-4h2v4z\"/>\n",
              "    </g>\n",
              "</svg>\n",
              "  </button>\n",
              "\n",
              "<style>\n",
              "  .colab-df-quickchart {\n",
              "      --bg-color: #E8F0FE;\n",
              "      --fill-color: #1967D2;\n",
              "      --hover-bg-color: #E2EBFA;\n",
              "      --hover-fill-color: #174EA6;\n",
              "      --disabled-fill-color: #AAA;\n",
              "      --disabled-bg-color: #DDD;\n",
              "  }\n",
              "\n",
              "  [theme=dark] .colab-df-quickchart {\n",
              "      --bg-color: #3B4455;\n",
              "      --fill-color: #D2E3FC;\n",
              "      --hover-bg-color: #434B5C;\n",
              "      --hover-fill-color: #FFFFFF;\n",
              "      --disabled-bg-color: #3B4455;\n",
              "      --disabled-fill-color: #666;\n",
              "  }\n",
              "\n",
              "  .colab-df-quickchart {\n",
              "    background-color: var(--bg-color);\n",
              "    border: none;\n",
              "    border-radius: 50%;\n",
              "    cursor: pointer;\n",
              "    display: none;\n",
              "    fill: var(--fill-color);\n",
              "    height: 32px;\n",
              "    padding: 0;\n",
              "    width: 32px;\n",
              "  }\n",
              "\n",
              "  .colab-df-quickchart:hover {\n",
              "    background-color: var(--hover-bg-color);\n",
              "    box-shadow: 0 1px 2px rgba(60, 64, 67, 0.3), 0 1px 3px 1px rgba(60, 64, 67, 0.15);\n",
              "    fill: var(--button-hover-fill-color);\n",
              "  }\n",
              "\n",
              "  .colab-df-quickchart-complete:disabled,\n",
              "  .colab-df-quickchart-complete:disabled:hover {\n",
              "    background-color: var(--disabled-bg-color);\n",
              "    fill: var(--disabled-fill-color);\n",
              "    box-shadow: none;\n",
              "  }\n",
              "\n",
              "  .colab-df-spinner {\n",
              "    border: 2px solid var(--fill-color);\n",
              "    border-color: transparent;\n",
              "    border-bottom-color: var(--fill-color);\n",
              "    animation:\n",
              "      spin 1s steps(1) infinite;\n",
              "  }\n",
              "\n",
              "  @keyframes spin {\n",
              "    0% {\n",
              "      border-color: transparent;\n",
              "      border-bottom-color: var(--fill-color);\n",
              "      border-left-color: var(--fill-color);\n",
              "    }\n",
              "    20% {\n",
              "      border-color: transparent;\n",
              "      border-left-color: var(--fill-color);\n",
              "      border-top-color: var(--fill-color);\n",
              "    }\n",
              "    30% {\n",
              "      border-color: transparent;\n",
              "      border-left-color: var(--fill-color);\n",
              "      border-top-color: var(--fill-color);\n",
              "      border-right-color: var(--fill-color);\n",
              "    }\n",
              "    40% {\n",
              "      border-color: transparent;\n",
              "      border-right-color: var(--fill-color);\n",
              "      border-top-color: var(--fill-color);\n",
              "    }\n",
              "    60% {\n",
              "      border-color: transparent;\n",
              "      border-right-color: var(--fill-color);\n",
              "    }\n",
              "    80% {\n",
              "      border-color: transparent;\n",
              "      border-right-color: var(--fill-color);\n",
              "      border-bottom-color: var(--fill-color);\n",
              "    }\n",
              "    90% {\n",
              "      border-color: transparent;\n",
              "      border-bottom-color: var(--fill-color);\n",
              "    }\n",
              "  }\n",
              "</style>\n",
              "\n",
              "  <script>\n",
              "    async function quickchart(key) {\n",
              "      const quickchartButtonEl =\n",
              "        document.querySelector('#' + key + ' button');\n",
              "      quickchartButtonEl.disabled = true;  // To prevent multiple clicks.\n",
              "      quickchartButtonEl.classList.add('colab-df-spinner');\n",
              "      try {\n",
              "        const charts = await google.colab.kernel.invokeFunction(\n",
              "            'suggestCharts', [key], {});\n",
              "      } catch (error) {\n",
              "        console.error('Error during call to suggestCharts:', error);\n",
              "      }\n",
              "      quickchartButtonEl.classList.remove('colab-df-spinner');\n",
              "      quickchartButtonEl.classList.add('colab-df-quickchart-complete');\n",
              "    }\n",
              "    (() => {\n",
              "      let quickchartButtonEl =\n",
              "        document.querySelector('#df-903f2c99-0699-4e09-9145-70a6e9c144cc button');\n",
              "      quickchartButtonEl.style.display =\n",
              "        google.colab.kernel.accessAllowed ? 'block' : 'none';\n",
              "    })();\n",
              "  </script>\n",
              "</div>\n",
              "    </div>\n",
              "  </div>\n"
            ],
            "application/vnd.google.colaboratory.intrinsic+json": {
              "type": "dataframe",
              "variable_name": "df",
              "summary": "{\n  \"name\": \"df\",\n  \"rows\": 1000,\n  \"fields\": [\n    {\n      \"column\": \"Brand\",\n      \"properties\": {\n        \"dtype\": \"category\",\n        \"num_unique_values\": 5,\n        \"samples\": [\n          \"Acer\",\n          \"Dell\",\n          \"Lenovo\"\n        ],\n        \"semantic_type\": \"\",\n        \"description\": \"\"\n      }\n    },\n    {\n      \"column\": \"Processor_Speed\",\n      \"properties\": {\n        \"dtype\": \"number\",\n        \"std\": 0.731796294479103,\n        \"min\": 1.511580057511507,\n        \"max\": 3.9985343144266654,\n        \"num_unique_values\": 1000,\n        \"samples\": [\n          3.3289738043883297,\n          2.1815600018338346,\n          1.9528733738367008\n        ],\n        \"semantic_type\": \"\",\n        \"description\": \"\"\n      }\n    },\n    {\n      \"column\": \"RAM_Size\",\n      \"properties\": {\n        \"dtype\": \"number\",\n        \"std\": 10,\n        \"min\": 4,\n        \"max\": 32,\n        \"num_unique_values\": 4,\n        \"samples\": [\n          4,\n          8,\n          16\n        ],\n        \"semantic_type\": \"\",\n        \"description\": \"\"\n      }\n    },\n    {\n      \"column\": \"Storage_Capacity\",\n      \"properties\": {\n        \"dtype\": \"number\",\n        \"std\": 313,\n        \"min\": 256,\n        \"max\": 1000,\n        \"num_unique_values\": 3,\n        \"samples\": [\n          512,\n          1000,\n          256\n        ],\n        \"semantic_type\": \"\",\n        \"description\": \"\"\n      }\n    },\n    {\n      \"column\": \"Screen_Size\",\n      \"properties\": {\n        \"dtype\": \"number\",\n        \"std\": 1.7058818320797111,\n        \"min\": 11.012111106489405,\n        \"max\": 16.985736933508313,\n        \"num_unique_values\": 1000,\n        \"samples\": [\n          16.289693839267986,\n          12.993233425683927,\n          14.822568204946656\n        ],\n        \"semantic_type\": \"\",\n        \"description\": \"\"\n      }\n    },\n    {\n      \"column\": \"Weight\",\n      \"properties\": {\n        \"dtype\": \"number\",\n        \"std\": 0.8665414077441265,\n        \"min\": 2.000559584511989,\n        \"max\": 4.990727655768066,\n        \"num_unique_values\": 1000,\n        \"samples\": [\n          2.7314058131305385,\n          2.099803913508075,\n          2.189389727623899\n        ],\n        \"semantic_type\": \"\",\n        \"description\": \"\"\n      }\n    },\n    {\n      \"column\": \"Price\",\n      \"properties\": {\n        \"dtype\": \"number\",\n        \"std\": 9406.064879572106,\n        \"min\": 8570.01295046808,\n        \"max\": 33503.93503731473,\n        \"num_unique_values\": 1000,\n        \"samples\": [\n          10900.502074698152,\n          31727.51669713056,\n          9636.022750232672\n        ],\n        \"semantic_type\": \"\",\n        \"description\": \"\"\n      }\n    }\n  ]\n}"
            }
          },
          "metadata": {},
          "execution_count": 49
        }
      ]
    },
    {
      "cell_type": "code",
      "source": [
        "price_min = df['Price'].min()\n",
        "price_max = df['Price'].max()\n",
        "def unnorm_price(price):\n",
        "  return price * (price_max - price_min) + price_min"
      ],
      "metadata": {
        "id": "WjkCsTeZrXjV"
      },
      "execution_count": null,
      "outputs": []
    },
    {
      "cell_type": "code",
      "source": [
        "df.drop_duplicates(inplace=True)"
      ],
      "metadata": {
        "id": "KpnQnsb2W8v0"
      },
      "execution_count": null,
      "outputs": []
    },
    {
      "cell_type": "code",
      "source": [
        "discdf=df.copy()"
      ],
      "metadata": {
        "id": "6qvlpFij_nCB"
      },
      "execution_count": null,
      "outputs": []
    },
    {
      "cell_type": "code",
      "source": [
        "discdf[\"Price\"] = pd.qcut(discdf['Price'], q=5, labels=range(5))\n",
        "# discdf[\"Price\"] = pd.cut(discdf['Price'], bins=[0, 15000, 25000, 100000], labels=['cheap', 'medium', 'expensive'])"
      ],
      "metadata": {
        "id": "1hrienND_yxJ"
      },
      "execution_count": null,
      "outputs": []
    },
    {
      "cell_type": "code",
      "source": [
        "categorical = ['RAM_Size', 'Storage_Capacity', 'Brand']"
      ],
      "metadata": {
        "id": "rGthLvTg_6M6"
      },
      "execution_count": null,
      "outputs": []
    },
    {
      "cell_type": "code",
      "source": [
        "for cat in categorical:\n",
        "  discdf[cat] = discdf[cat].astype('category')"
      ],
      "metadata": {
        "id": "60uM442F_4Kp"
      },
      "execution_count": null,
      "outputs": []
    },
    {
      "cell_type": "code",
      "source": [
        "for col in df.columns:\n",
        "  if col not in categorical + ['Price']:\n",
        "    discdf[col] = pd.qcut(df[col], q=5, labels=range(5))"
      ],
      "metadata": {
        "id": "Oaq_Elw-_57m"
      },
      "execution_count": null,
      "outputs": []
    },
    {
      "cell_type": "code",
      "source": [
        "laptops_gain_ratio = pd.DataFrame(index=discdf.columns.drop('Price'))\n",
        "laptops_gain_ratio['gain_ratio'] = laptops_gain_ratio.index.map(lambda col: gain_ratio(discdf, 'Price', col))"
      ],
      "metadata": {
        "id": "-0_X9-dcA5K9"
      },
      "execution_count": null,
      "outputs": []
    },
    {
      "cell_type": "code",
      "source": [
        "laptops_gain_ratio.abs().style.background_gradient(cmap='coolwarm')"
      ],
      "metadata": {
        "colab": {
          "base_uri": "https://localhost:8080/",
          "height": 257
        },
        "id": "VfAxoFqLBD29",
        "outputId": "09be863c-4597-4a5b-8a90-597b07673c17"
      },
      "execution_count": null,
      "outputs": [
        {
          "output_type": "execute_result",
          "data": {
            "text/plain": [
              "<pandas.io.formats.style.Styler at 0x78d730c5a380>"
            ],
            "text/html": [
              "<style type=\"text/css\">\n",
              "#T_a4b00_row0_col0, #T_a4b00_row1_col0 {\n",
              "  background-color: #3c4ec2;\n",
              "  color: #f1f1f1;\n",
              "}\n",
              "#T_a4b00_row2_col0 {\n",
              "  background-color: #7597f6;\n",
              "  color: #f1f1f1;\n",
              "}\n",
              "#T_a4b00_row3_col0 {\n",
              "  background-color: #b40426;\n",
              "  color: #f1f1f1;\n",
              "}\n",
              "#T_a4b00_row4_col0, #T_a4b00_row5_col0 {\n",
              "  background-color: #3b4cc0;\n",
              "  color: #f1f1f1;\n",
              "}\n",
              "</style>\n",
              "<table id=\"T_a4b00\" class=\"dataframe\">\n",
              "  <thead>\n",
              "    <tr>\n",
              "      <th class=\"blank level0\" >&nbsp;</th>\n",
              "      <th id=\"T_a4b00_level0_col0\" class=\"col_heading level0 col0\" >gain_ratio</th>\n",
              "    </tr>\n",
              "  </thead>\n",
              "  <tbody>\n",
              "    <tr>\n",
              "      <th id=\"T_a4b00_level0_row0\" class=\"row_heading level0 row0\" >Brand</th>\n",
              "      <td id=\"T_a4b00_row0_col0\" class=\"data row0 col0\" >0.006558</td>\n",
              "    </tr>\n",
              "    <tr>\n",
              "      <th id=\"T_a4b00_level0_row1\" class=\"row_heading level0 row1\" >Processor_Speed</th>\n",
              "      <td id=\"T_a4b00_row1_col0\" class=\"data row1 col0\" >0.008412</td>\n",
              "    </tr>\n",
              "    <tr>\n",
              "      <th id=\"T_a4b00_level0_row2\" class=\"row_heading level0 row2\" >RAM_Size</th>\n",
              "      <td id=\"T_a4b00_row2_col0\" class=\"data row2 col0\" >0.145987</td>\n",
              "    </tr>\n",
              "    <tr>\n",
              "      <th id=\"T_a4b00_level0_row3\" class=\"row_heading level0 row3\" >Storage_Capacity</th>\n",
              "      <td id=\"T_a4b00_row3_col0\" class=\"data row3 col0\" >0.790761</td>\n",
              "    </tr>\n",
              "    <tr>\n",
              "      <th id=\"T_a4b00_level0_row4\" class=\"row_heading level0 row4\" >Screen_Size</th>\n",
              "      <td id=\"T_a4b00_row4_col0\" class=\"data row4 col0\" >0.005757</td>\n",
              "    </tr>\n",
              "    <tr>\n",
              "      <th id=\"T_a4b00_level0_row5\" class=\"row_heading level0 row5\" >Weight</th>\n",
              "      <td id=\"T_a4b00_row5_col0\" class=\"data row5 col0\" >0.003082</td>\n",
              "    </tr>\n",
              "  </tbody>\n",
              "</table>\n"
            ]
          },
          "metadata": {},
          "execution_count": 58
        }
      ]
    },
    {
      "cell_type": "code",
      "source": [
        "good_cols = [col for col in laptops_gain_ratio.index if laptops_gain_ratio['gain_ratio'].loc[col] > 0.1]\n",
        "good_cols"
      ],
      "metadata": {
        "colab": {
          "base_uri": "https://localhost:8080/"
        },
        "id": "DBfMAOCJBhep",
        "outputId": "00f969d0-5985-48a4-8343-4fc7891ebbde"
      },
      "execution_count": null,
      "outputs": [
        {
          "output_type": "execute_result",
          "data": {
            "text/plain": [
              "['RAM_Size', 'Storage_Capacity']"
            ]
          },
          "metadata": {},
          "execution_count": 59
        }
      ]
    },
    {
      "cell_type": "code",
      "source": [
        "df = df.drop(columns=[col for col in df.columns if col not in good_cols + ['Price']])\n",
        "df.columns"
      ],
      "metadata": {
        "colab": {
          "base_uri": "https://localhost:8080/"
        },
        "id": "esMDVni8B13b",
        "outputId": "b8882ee4-072a-47c6-acd4-33b6723ab262"
      },
      "execution_count": null,
      "outputs": [
        {
          "output_type": "execute_result",
          "data": {
            "text/plain": [
              "Index(['RAM_Size', 'Storage_Capacity', 'Price'], dtype='object')"
            ]
          },
          "metadata": {},
          "execution_count": 60
        }
      ]
    },
    {
      "cell_type": "code",
      "source": [
        "for col in [c for c in df.columns if c not in [\"Brand\"]]:\n",
        "    df[col] = ((df[col] - df[col].min()) / (df[col].max() - df[col].min()))"
      ],
      "metadata": {
        "id": "aGvqIM9kDYUl"
      },
      "execution_count": null,
      "outputs": []
    },
    {
      "cell_type": "code",
      "source": [
        "if 'Brand' in df.columns:\n",
        "  df = pd.get_dummies(df, columns=[\"Brand\"], drop_first=False)\n",
        "  df"
      ],
      "metadata": {
        "id": "AMNB-0khbDwl"
      },
      "execution_count": null,
      "outputs": []
    },
    {
      "cell_type": "code",
      "source": [
        "df.info()"
      ],
      "metadata": {
        "colab": {
          "base_uri": "https://localhost:8080/"
        },
        "id": "CzAMJmNEFUc8",
        "outputId": "4680a474-4c43-4fef-ef1b-43d8d47cca69"
      },
      "execution_count": null,
      "outputs": [
        {
          "output_type": "stream",
          "name": "stdout",
          "text": [
            "<class 'pandas.core.frame.DataFrame'>\n",
            "RangeIndex: 1000 entries, 0 to 999\n",
            "Data columns (total 3 columns):\n",
            " #   Column            Non-Null Count  Dtype  \n",
            "---  ------            --------------  -----  \n",
            " 0   RAM_Size          1000 non-null   float64\n",
            " 1   Storage_Capacity  1000 non-null   float64\n",
            " 2   Price             1000 non-null   float64\n",
            "dtypes: float64(3)\n",
            "memory usage: 23.6 KB\n"
          ]
        }
      ]
    },
    {
      "cell_type": "code",
      "source": [
        "df.head()"
      ],
      "metadata": {
        "colab": {
          "base_uri": "https://localhost:8080/",
          "height": 226
        },
        "id": "2pbpUlA1FWdX",
        "outputId": "84841c73-4076-442b-9366-35f0f2775ff6"
      },
      "execution_count": null,
      "outputs": [
        {
          "output_type": "execute_result",
          "data": {
            "text/plain": [
              "   RAM_Size  Storage_Capacity     Price\n",
              "0  0.428571          0.344086  0.353939\n",
              "1  0.000000          1.000000  0.923946\n",
              "2  0.000000          0.000000  0.028917\n",
              "3  0.428571          0.344086  0.355609\n",
              "4  1.000000          1.000000  0.976500"
            ],
            "text/html": [
              "\n",
              "  <div id=\"df-7d7b703b-3f91-4ff0-8ce8-d146207b510a\" class=\"colab-df-container\">\n",
              "    <div>\n",
              "<style scoped>\n",
              "    .dataframe tbody tr th:only-of-type {\n",
              "        vertical-align: middle;\n",
              "    }\n",
              "\n",
              "    .dataframe tbody tr th {\n",
              "        vertical-align: top;\n",
              "    }\n",
              "\n",
              "    .dataframe thead th {\n",
              "        text-align: right;\n",
              "    }\n",
              "</style>\n",
              "<table border=\"1\" class=\"dataframe\">\n",
              "  <thead>\n",
              "    <tr style=\"text-align: right;\">\n",
              "      <th></th>\n",
              "      <th>RAM_Size</th>\n",
              "      <th>Storage_Capacity</th>\n",
              "      <th>Price</th>\n",
              "    </tr>\n",
              "  </thead>\n",
              "  <tbody>\n",
              "    <tr>\n",
              "      <th>0</th>\n",
              "      <td>0.428571</td>\n",
              "      <td>0.344086</td>\n",
              "      <td>0.353939</td>\n",
              "    </tr>\n",
              "    <tr>\n",
              "      <th>1</th>\n",
              "      <td>0.000000</td>\n",
              "      <td>1.000000</td>\n",
              "      <td>0.923946</td>\n",
              "    </tr>\n",
              "    <tr>\n",
              "      <th>2</th>\n",
              "      <td>0.000000</td>\n",
              "      <td>0.000000</td>\n",
              "      <td>0.028917</td>\n",
              "    </tr>\n",
              "    <tr>\n",
              "      <th>3</th>\n",
              "      <td>0.428571</td>\n",
              "      <td>0.344086</td>\n",
              "      <td>0.355609</td>\n",
              "    </tr>\n",
              "    <tr>\n",
              "      <th>4</th>\n",
              "      <td>1.000000</td>\n",
              "      <td>1.000000</td>\n",
              "      <td>0.976500</td>\n",
              "    </tr>\n",
              "  </tbody>\n",
              "</table>\n",
              "</div>\n",
              "    <div class=\"colab-df-buttons\">\n",
              "\n",
              "  <div class=\"colab-df-container\">\n",
              "    <button class=\"colab-df-convert\" onclick=\"convertToInteractive('df-7d7b703b-3f91-4ff0-8ce8-d146207b510a')\"\n",
              "            title=\"Convert this dataframe to an interactive table.\"\n",
              "            style=\"display:none;\">\n",
              "\n",
              "  <svg xmlns=\"http://www.w3.org/2000/svg\" height=\"24px\" viewBox=\"0 -960 960 960\">\n",
              "    <path d=\"M120-120v-720h720v720H120Zm60-500h600v-160H180v160Zm220 220h160v-160H400v160Zm0 220h160v-160H400v160ZM180-400h160v-160H180v160Zm440 0h160v-160H620v160ZM180-180h160v-160H180v160Zm440 0h160v-160H620v160Z\"/>\n",
              "  </svg>\n",
              "    </button>\n",
              "\n",
              "  <style>\n",
              "    .colab-df-container {\n",
              "      display:flex;\n",
              "      gap: 12px;\n",
              "    }\n",
              "\n",
              "    .colab-df-convert {\n",
              "      background-color: #E8F0FE;\n",
              "      border: none;\n",
              "      border-radius: 50%;\n",
              "      cursor: pointer;\n",
              "      display: none;\n",
              "      fill: #1967D2;\n",
              "      height: 32px;\n",
              "      padding: 0 0 0 0;\n",
              "      width: 32px;\n",
              "    }\n",
              "\n",
              "    .colab-df-convert:hover {\n",
              "      background-color: #E2EBFA;\n",
              "      box-shadow: 0px 1px 2px rgba(60, 64, 67, 0.3), 0px 1px 3px 1px rgba(60, 64, 67, 0.15);\n",
              "      fill: #174EA6;\n",
              "    }\n",
              "\n",
              "    .colab-df-buttons div {\n",
              "      margin-bottom: 4px;\n",
              "    }\n",
              "\n",
              "    [theme=dark] .colab-df-convert {\n",
              "      background-color: #3B4455;\n",
              "      fill: #D2E3FC;\n",
              "    }\n",
              "\n",
              "    [theme=dark] .colab-df-convert:hover {\n",
              "      background-color: #434B5C;\n",
              "      box-shadow: 0px 1px 3px 1px rgba(0, 0, 0, 0.15);\n",
              "      filter: drop-shadow(0px 1px 2px rgba(0, 0, 0, 0.3));\n",
              "      fill: #FFFFFF;\n",
              "    }\n",
              "  </style>\n",
              "\n",
              "    <script>\n",
              "      const buttonEl =\n",
              "        document.querySelector('#df-7d7b703b-3f91-4ff0-8ce8-d146207b510a button.colab-df-convert');\n",
              "      buttonEl.style.display =\n",
              "        google.colab.kernel.accessAllowed ? 'block' : 'none';\n",
              "\n",
              "      async function convertToInteractive(key) {\n",
              "        const element = document.querySelector('#df-7d7b703b-3f91-4ff0-8ce8-d146207b510a');\n",
              "        const dataTable =\n",
              "          await google.colab.kernel.invokeFunction('convertToInteractive',\n",
              "                                                    [key], {});\n",
              "        if (!dataTable) return;\n",
              "\n",
              "        const docLinkHtml = 'Like what you see? Visit the ' +\n",
              "          '<a target=\"_blank\" href=https://colab.research.google.com/notebooks/data_table.ipynb>data table notebook</a>'\n",
              "          + ' to learn more about interactive tables.';\n",
              "        element.innerHTML = '';\n",
              "        dataTable['output_type'] = 'display_data';\n",
              "        await google.colab.output.renderOutput(dataTable, element);\n",
              "        const docLink = document.createElement('div');\n",
              "        docLink.innerHTML = docLinkHtml;\n",
              "        element.appendChild(docLink);\n",
              "      }\n",
              "    </script>\n",
              "  </div>\n",
              "\n",
              "\n",
              "<div id=\"df-6d2d679c-31d0-42e2-a86d-d73024a5a456\">\n",
              "  <button class=\"colab-df-quickchart\" onclick=\"quickchart('df-6d2d679c-31d0-42e2-a86d-d73024a5a456')\"\n",
              "            title=\"Suggest charts\"\n",
              "            style=\"display:none;\">\n",
              "\n",
              "<svg xmlns=\"http://www.w3.org/2000/svg\" height=\"24px\"viewBox=\"0 0 24 24\"\n",
              "     width=\"24px\">\n",
              "    <g>\n",
              "        <path d=\"M19 3H5c-1.1 0-2 .9-2 2v14c0 1.1.9 2 2 2h14c1.1 0 2-.9 2-2V5c0-1.1-.9-2-2-2zM9 17H7v-7h2v7zm4 0h-2V7h2v10zm4 0h-2v-4h2v4z\"/>\n",
              "    </g>\n",
              "</svg>\n",
              "  </button>\n",
              "\n",
              "<style>\n",
              "  .colab-df-quickchart {\n",
              "      --bg-color: #E8F0FE;\n",
              "      --fill-color: #1967D2;\n",
              "      --hover-bg-color: #E2EBFA;\n",
              "      --hover-fill-color: #174EA6;\n",
              "      --disabled-fill-color: #AAA;\n",
              "      --disabled-bg-color: #DDD;\n",
              "  }\n",
              "\n",
              "  [theme=dark] .colab-df-quickchart {\n",
              "      --bg-color: #3B4455;\n",
              "      --fill-color: #D2E3FC;\n",
              "      --hover-bg-color: #434B5C;\n",
              "      --hover-fill-color: #FFFFFF;\n",
              "      --disabled-bg-color: #3B4455;\n",
              "      --disabled-fill-color: #666;\n",
              "  }\n",
              "\n",
              "  .colab-df-quickchart {\n",
              "    background-color: var(--bg-color);\n",
              "    border: none;\n",
              "    border-radius: 50%;\n",
              "    cursor: pointer;\n",
              "    display: none;\n",
              "    fill: var(--fill-color);\n",
              "    height: 32px;\n",
              "    padding: 0;\n",
              "    width: 32px;\n",
              "  }\n",
              "\n",
              "  .colab-df-quickchart:hover {\n",
              "    background-color: var(--hover-bg-color);\n",
              "    box-shadow: 0 1px 2px rgba(60, 64, 67, 0.3), 0 1px 3px 1px rgba(60, 64, 67, 0.15);\n",
              "    fill: var(--button-hover-fill-color);\n",
              "  }\n",
              "\n",
              "  .colab-df-quickchart-complete:disabled,\n",
              "  .colab-df-quickchart-complete:disabled:hover {\n",
              "    background-color: var(--disabled-bg-color);\n",
              "    fill: var(--disabled-fill-color);\n",
              "    box-shadow: none;\n",
              "  }\n",
              "\n",
              "  .colab-df-spinner {\n",
              "    border: 2px solid var(--fill-color);\n",
              "    border-color: transparent;\n",
              "    border-bottom-color: var(--fill-color);\n",
              "    animation:\n",
              "      spin 1s steps(1) infinite;\n",
              "  }\n",
              "\n",
              "  @keyframes spin {\n",
              "    0% {\n",
              "      border-color: transparent;\n",
              "      border-bottom-color: var(--fill-color);\n",
              "      border-left-color: var(--fill-color);\n",
              "    }\n",
              "    20% {\n",
              "      border-color: transparent;\n",
              "      border-left-color: var(--fill-color);\n",
              "      border-top-color: var(--fill-color);\n",
              "    }\n",
              "    30% {\n",
              "      border-color: transparent;\n",
              "      border-left-color: var(--fill-color);\n",
              "      border-top-color: var(--fill-color);\n",
              "      border-right-color: var(--fill-color);\n",
              "    }\n",
              "    40% {\n",
              "      border-color: transparent;\n",
              "      border-right-color: var(--fill-color);\n",
              "      border-top-color: var(--fill-color);\n",
              "    }\n",
              "    60% {\n",
              "      border-color: transparent;\n",
              "      border-right-color: var(--fill-color);\n",
              "    }\n",
              "    80% {\n",
              "      border-color: transparent;\n",
              "      border-right-color: var(--fill-color);\n",
              "      border-bottom-color: var(--fill-color);\n",
              "    }\n",
              "    90% {\n",
              "      border-color: transparent;\n",
              "      border-bottom-color: var(--fill-color);\n",
              "    }\n",
              "  }\n",
              "</style>\n",
              "\n",
              "  <script>\n",
              "    async function quickchart(key) {\n",
              "      const quickchartButtonEl =\n",
              "        document.querySelector('#' + key + ' button');\n",
              "      quickchartButtonEl.disabled = true;  // To prevent multiple clicks.\n",
              "      quickchartButtonEl.classList.add('colab-df-spinner');\n",
              "      try {\n",
              "        const charts = await google.colab.kernel.invokeFunction(\n",
              "            'suggestCharts', [key], {});\n",
              "      } catch (error) {\n",
              "        console.error('Error during call to suggestCharts:', error);\n",
              "      }\n",
              "      quickchartButtonEl.classList.remove('colab-df-spinner');\n",
              "      quickchartButtonEl.classList.add('colab-df-quickchart-complete');\n",
              "    }\n",
              "    (() => {\n",
              "      let quickchartButtonEl =\n",
              "        document.querySelector('#df-6d2d679c-31d0-42e2-a86d-d73024a5a456 button');\n",
              "      quickchartButtonEl.style.display =\n",
              "        google.colab.kernel.accessAllowed ? 'block' : 'none';\n",
              "    })();\n",
              "  </script>\n",
              "</div>\n",
              "    </div>\n",
              "  </div>\n"
            ],
            "application/vnd.google.colaboratory.intrinsic+json": {
              "type": "dataframe",
              "variable_name": "df",
              "summary": "{\n  \"name\": \"df\",\n  \"rows\": 1000,\n  \"fields\": [\n    {\n      \"column\": \"RAM_Size\",\n      \"properties\": {\n        \"dtype\": \"number\",\n        \"std\": 0.39245230886453,\n        \"min\": 0.0,\n        \"max\": 1.0,\n        \"num_unique_values\": 4,\n        \"samples\": [\n          0.0,\n          0.14285714285714285,\n          0.42857142857142855\n        ],\n        \"semantic_type\": \"\",\n        \"description\": \"\"\n      }\n    },\n    {\n      \"column\": \"Storage_Capacity\",\n      \"properties\": {\n        \"dtype\": \"number\",\n        \"std\": 0.4212883292769941,\n        \"min\": 0.0,\n        \"max\": 1.0,\n        \"num_unique_values\": 3,\n        \"samples\": [\n          0.34408602150537637,\n          1.0,\n          0.0\n        ],\n        \"semantic_type\": \"\",\n        \"description\": \"\"\n      }\n    },\n    {\n      \"column\": \"Price\",\n      \"properties\": {\n        \"dtype\": \"number\",\n        \"std\": 0.37723968362498694,\n        \"min\": 0.0,\n        \"max\": 1.0,\n        \"num_unique_values\": 1000,\n        \"samples\": [\n          0.09346660810572878,\n          0.9287549574432462,\n          0.042753394193324364\n        ],\n        \"semantic_type\": \"\",\n        \"description\": \"\"\n      }\n    }\n  ]\n}"
            }
          },
          "metadata": {},
          "execution_count": 64
        }
      ]
    },
    {
      "cell_type": "code",
      "source": [
        "df.describe()"
      ],
      "metadata": {
        "colab": {
          "base_uri": "https://localhost:8080/",
          "height": 320
        },
        "id": "3ct_C9geD-nn",
        "outputId": "d634f692-a50d-4152-f6d3-daf86930ee43"
      },
      "execution_count": null,
      "outputs": [
        {
          "output_type": "execute_result",
          "data": {
            "text/plain": [
              "          RAM_Size  Storage_Capacity        Price\n",
              "count  1000.000000       1000.000000  1000.000000\n",
              "mean      0.410714          0.441634     0.442537\n",
              "std       0.392452          0.421288     0.377240\n",
              "min       0.000000          0.000000     0.000000\n",
              "25%       0.142857          0.000000     0.061924\n",
              "50%       0.428571          0.344086     0.349613\n",
              "75%       1.000000          1.000000     0.922286\n",
              "max       1.000000          1.000000     1.000000"
            ],
            "text/html": [
              "\n",
              "  <div id=\"df-6ec04537-caff-4780-9cec-7f451a93a5eb\" class=\"colab-df-container\">\n",
              "    <div>\n",
              "<style scoped>\n",
              "    .dataframe tbody tr th:only-of-type {\n",
              "        vertical-align: middle;\n",
              "    }\n",
              "\n",
              "    .dataframe tbody tr th {\n",
              "        vertical-align: top;\n",
              "    }\n",
              "\n",
              "    .dataframe thead th {\n",
              "        text-align: right;\n",
              "    }\n",
              "</style>\n",
              "<table border=\"1\" class=\"dataframe\">\n",
              "  <thead>\n",
              "    <tr style=\"text-align: right;\">\n",
              "      <th></th>\n",
              "      <th>RAM_Size</th>\n",
              "      <th>Storage_Capacity</th>\n",
              "      <th>Price</th>\n",
              "    </tr>\n",
              "  </thead>\n",
              "  <tbody>\n",
              "    <tr>\n",
              "      <th>count</th>\n",
              "      <td>1000.000000</td>\n",
              "      <td>1000.000000</td>\n",
              "      <td>1000.000000</td>\n",
              "    </tr>\n",
              "    <tr>\n",
              "      <th>mean</th>\n",
              "      <td>0.410714</td>\n",
              "      <td>0.441634</td>\n",
              "      <td>0.442537</td>\n",
              "    </tr>\n",
              "    <tr>\n",
              "      <th>std</th>\n",
              "      <td>0.392452</td>\n",
              "      <td>0.421288</td>\n",
              "      <td>0.377240</td>\n",
              "    </tr>\n",
              "    <tr>\n",
              "      <th>min</th>\n",
              "      <td>0.000000</td>\n",
              "      <td>0.000000</td>\n",
              "      <td>0.000000</td>\n",
              "    </tr>\n",
              "    <tr>\n",
              "      <th>25%</th>\n",
              "      <td>0.142857</td>\n",
              "      <td>0.000000</td>\n",
              "      <td>0.061924</td>\n",
              "    </tr>\n",
              "    <tr>\n",
              "      <th>50%</th>\n",
              "      <td>0.428571</td>\n",
              "      <td>0.344086</td>\n",
              "      <td>0.349613</td>\n",
              "    </tr>\n",
              "    <tr>\n",
              "      <th>75%</th>\n",
              "      <td>1.000000</td>\n",
              "      <td>1.000000</td>\n",
              "      <td>0.922286</td>\n",
              "    </tr>\n",
              "    <tr>\n",
              "      <th>max</th>\n",
              "      <td>1.000000</td>\n",
              "      <td>1.000000</td>\n",
              "      <td>1.000000</td>\n",
              "    </tr>\n",
              "  </tbody>\n",
              "</table>\n",
              "</div>\n",
              "    <div class=\"colab-df-buttons\">\n",
              "\n",
              "  <div class=\"colab-df-container\">\n",
              "    <button class=\"colab-df-convert\" onclick=\"convertToInteractive('df-6ec04537-caff-4780-9cec-7f451a93a5eb')\"\n",
              "            title=\"Convert this dataframe to an interactive table.\"\n",
              "            style=\"display:none;\">\n",
              "\n",
              "  <svg xmlns=\"http://www.w3.org/2000/svg\" height=\"24px\" viewBox=\"0 -960 960 960\">\n",
              "    <path d=\"M120-120v-720h720v720H120Zm60-500h600v-160H180v160Zm220 220h160v-160H400v160Zm0 220h160v-160H400v160ZM180-400h160v-160H180v160Zm440 0h160v-160H620v160ZM180-180h160v-160H180v160Zm440 0h160v-160H620v160Z\"/>\n",
              "  </svg>\n",
              "    </button>\n",
              "\n",
              "  <style>\n",
              "    .colab-df-container {\n",
              "      display:flex;\n",
              "      gap: 12px;\n",
              "    }\n",
              "\n",
              "    .colab-df-convert {\n",
              "      background-color: #E8F0FE;\n",
              "      border: none;\n",
              "      border-radius: 50%;\n",
              "      cursor: pointer;\n",
              "      display: none;\n",
              "      fill: #1967D2;\n",
              "      height: 32px;\n",
              "      padding: 0 0 0 0;\n",
              "      width: 32px;\n",
              "    }\n",
              "\n",
              "    .colab-df-convert:hover {\n",
              "      background-color: #E2EBFA;\n",
              "      box-shadow: 0px 1px 2px rgba(60, 64, 67, 0.3), 0px 1px 3px 1px rgba(60, 64, 67, 0.15);\n",
              "      fill: #174EA6;\n",
              "    }\n",
              "\n",
              "    .colab-df-buttons div {\n",
              "      margin-bottom: 4px;\n",
              "    }\n",
              "\n",
              "    [theme=dark] .colab-df-convert {\n",
              "      background-color: #3B4455;\n",
              "      fill: #D2E3FC;\n",
              "    }\n",
              "\n",
              "    [theme=dark] .colab-df-convert:hover {\n",
              "      background-color: #434B5C;\n",
              "      box-shadow: 0px 1px 3px 1px rgba(0, 0, 0, 0.15);\n",
              "      filter: drop-shadow(0px 1px 2px rgba(0, 0, 0, 0.3));\n",
              "      fill: #FFFFFF;\n",
              "    }\n",
              "  </style>\n",
              "\n",
              "    <script>\n",
              "      const buttonEl =\n",
              "        document.querySelector('#df-6ec04537-caff-4780-9cec-7f451a93a5eb button.colab-df-convert');\n",
              "      buttonEl.style.display =\n",
              "        google.colab.kernel.accessAllowed ? 'block' : 'none';\n",
              "\n",
              "      async function convertToInteractive(key) {\n",
              "        const element = document.querySelector('#df-6ec04537-caff-4780-9cec-7f451a93a5eb');\n",
              "        const dataTable =\n",
              "          await google.colab.kernel.invokeFunction('convertToInteractive',\n",
              "                                                    [key], {});\n",
              "        if (!dataTable) return;\n",
              "\n",
              "        const docLinkHtml = 'Like what you see? Visit the ' +\n",
              "          '<a target=\"_blank\" href=https://colab.research.google.com/notebooks/data_table.ipynb>data table notebook</a>'\n",
              "          + ' to learn more about interactive tables.';\n",
              "        element.innerHTML = '';\n",
              "        dataTable['output_type'] = 'display_data';\n",
              "        await google.colab.output.renderOutput(dataTable, element);\n",
              "        const docLink = document.createElement('div');\n",
              "        docLink.innerHTML = docLinkHtml;\n",
              "        element.appendChild(docLink);\n",
              "      }\n",
              "    </script>\n",
              "  </div>\n",
              "\n",
              "\n",
              "<div id=\"df-58601384-2fd0-42d9-9d80-ebfc03a802c8\">\n",
              "  <button class=\"colab-df-quickchart\" onclick=\"quickchart('df-58601384-2fd0-42d9-9d80-ebfc03a802c8')\"\n",
              "            title=\"Suggest charts\"\n",
              "            style=\"display:none;\">\n",
              "\n",
              "<svg xmlns=\"http://www.w3.org/2000/svg\" height=\"24px\"viewBox=\"0 0 24 24\"\n",
              "     width=\"24px\">\n",
              "    <g>\n",
              "        <path d=\"M19 3H5c-1.1 0-2 .9-2 2v14c0 1.1.9 2 2 2h14c1.1 0 2-.9 2-2V5c0-1.1-.9-2-2-2zM9 17H7v-7h2v7zm4 0h-2V7h2v10zm4 0h-2v-4h2v4z\"/>\n",
              "    </g>\n",
              "</svg>\n",
              "  </button>\n",
              "\n",
              "<style>\n",
              "  .colab-df-quickchart {\n",
              "      --bg-color: #E8F0FE;\n",
              "      --fill-color: #1967D2;\n",
              "      --hover-bg-color: #E2EBFA;\n",
              "      --hover-fill-color: #174EA6;\n",
              "      --disabled-fill-color: #AAA;\n",
              "      --disabled-bg-color: #DDD;\n",
              "  }\n",
              "\n",
              "  [theme=dark] .colab-df-quickchart {\n",
              "      --bg-color: #3B4455;\n",
              "      --fill-color: #D2E3FC;\n",
              "      --hover-bg-color: #434B5C;\n",
              "      --hover-fill-color: #FFFFFF;\n",
              "      --disabled-bg-color: #3B4455;\n",
              "      --disabled-fill-color: #666;\n",
              "  }\n",
              "\n",
              "  .colab-df-quickchart {\n",
              "    background-color: var(--bg-color);\n",
              "    border: none;\n",
              "    border-radius: 50%;\n",
              "    cursor: pointer;\n",
              "    display: none;\n",
              "    fill: var(--fill-color);\n",
              "    height: 32px;\n",
              "    padding: 0;\n",
              "    width: 32px;\n",
              "  }\n",
              "\n",
              "  .colab-df-quickchart:hover {\n",
              "    background-color: var(--hover-bg-color);\n",
              "    box-shadow: 0 1px 2px rgba(60, 64, 67, 0.3), 0 1px 3px 1px rgba(60, 64, 67, 0.15);\n",
              "    fill: var(--button-hover-fill-color);\n",
              "  }\n",
              "\n",
              "  .colab-df-quickchart-complete:disabled,\n",
              "  .colab-df-quickchart-complete:disabled:hover {\n",
              "    background-color: var(--disabled-bg-color);\n",
              "    fill: var(--disabled-fill-color);\n",
              "    box-shadow: none;\n",
              "  }\n",
              "\n",
              "  .colab-df-spinner {\n",
              "    border: 2px solid var(--fill-color);\n",
              "    border-color: transparent;\n",
              "    border-bottom-color: var(--fill-color);\n",
              "    animation:\n",
              "      spin 1s steps(1) infinite;\n",
              "  }\n",
              "\n",
              "  @keyframes spin {\n",
              "    0% {\n",
              "      border-color: transparent;\n",
              "      border-bottom-color: var(--fill-color);\n",
              "      border-left-color: var(--fill-color);\n",
              "    }\n",
              "    20% {\n",
              "      border-color: transparent;\n",
              "      border-left-color: var(--fill-color);\n",
              "      border-top-color: var(--fill-color);\n",
              "    }\n",
              "    30% {\n",
              "      border-color: transparent;\n",
              "      border-left-color: var(--fill-color);\n",
              "      border-top-color: var(--fill-color);\n",
              "      border-right-color: var(--fill-color);\n",
              "    }\n",
              "    40% {\n",
              "      border-color: transparent;\n",
              "      border-right-color: var(--fill-color);\n",
              "      border-top-color: var(--fill-color);\n",
              "    }\n",
              "    60% {\n",
              "      border-color: transparent;\n",
              "      border-right-color: var(--fill-color);\n",
              "    }\n",
              "    80% {\n",
              "      border-color: transparent;\n",
              "      border-right-color: var(--fill-color);\n",
              "      border-bottom-color: var(--fill-color);\n",
              "    }\n",
              "    90% {\n",
              "      border-color: transparent;\n",
              "      border-bottom-color: var(--fill-color);\n",
              "    }\n",
              "  }\n",
              "</style>\n",
              "\n",
              "  <script>\n",
              "    async function quickchart(key) {\n",
              "      const quickchartButtonEl =\n",
              "        document.querySelector('#' + key + ' button');\n",
              "      quickchartButtonEl.disabled = true;  // To prevent multiple clicks.\n",
              "      quickchartButtonEl.classList.add('colab-df-spinner');\n",
              "      try {\n",
              "        const charts = await google.colab.kernel.invokeFunction(\n",
              "            'suggestCharts', [key], {});\n",
              "      } catch (error) {\n",
              "        console.error('Error during call to suggestCharts:', error);\n",
              "      }\n",
              "      quickchartButtonEl.classList.remove('colab-df-spinner');\n",
              "      quickchartButtonEl.classList.add('colab-df-quickchart-complete');\n",
              "    }\n",
              "    (() => {\n",
              "      let quickchartButtonEl =\n",
              "        document.querySelector('#df-58601384-2fd0-42d9-9d80-ebfc03a802c8 button');\n",
              "      quickchartButtonEl.style.display =\n",
              "        google.colab.kernel.accessAllowed ? 'block' : 'none';\n",
              "    })();\n",
              "  </script>\n",
              "</div>\n",
              "    </div>\n",
              "  </div>\n"
            ],
            "application/vnd.google.colaboratory.intrinsic+json": {
              "type": "dataframe",
              "summary": "{\n  \"name\": \"df\",\n  \"rows\": 8,\n  \"fields\": [\n    {\n      \"column\": \"RAM_Size\",\n      \"properties\": {\n        \"dtype\": \"number\",\n        \"std\": 353.3831297025537,\n        \"min\": 0.0,\n        \"max\": 1000.0,\n        \"num_unique_values\": 7,\n        \"samples\": [\n          1000.0,\n          0.4107142857142857,\n          0.42857142857142855\n        ],\n        \"semantic_type\": \"\",\n        \"description\": \"\"\n      }\n    },\n    {\n      \"column\": \"Storage_Capacity\",\n      \"properties\": {\n        \"dtype\": \"number\",\n        \"std\": 353.39161868891557,\n        \"min\": 0.0,\n        \"max\": 1000.0,\n        \"num_unique_values\": 6,\n        \"samples\": [\n          1000.0,\n          0.44163440860215053,\n          1.0\n        ],\n        \"semantic_type\": \"\",\n        \"description\": \"\"\n      }\n    },\n    {\n      \"column\": \"Price\",\n      \"properties\": {\n        \"dtype\": \"number\",\n        \"std\": 353.39429050194667,\n        \"min\": 0.0,\n        \"max\": 1000.0,\n        \"num_unique_values\": 8,\n        \"samples\": [\n          0.44253667651372747,\n          0.34961322561426467,\n          1000.0\n        ],\n        \"semantic_type\": \"\",\n        \"description\": \"\"\n      }\n    }\n  ]\n}"
            }
          },
          "metadata": {},
          "execution_count": 65
        }
      ]
    },
    {
      "cell_type": "code",
      "source": [
        "X = df.drop(\"Price\", axis=1)\n",
        "y = df[\"Price\"]"
      ],
      "metadata": {
        "id": "tppryAZazKRi"
      },
      "execution_count": null,
      "outputs": []
    },
    {
      "cell_type": "code",
      "source": [
        "from sklearn.model_selection import train_test_split\n",
        "\n",
        "X_train, X_test, y_train, y_test = train_test_split(X, y, test_size=0.2, random_state=0)"
      ],
      "metadata": {
        "id": "MjX6fVgyza7F"
      },
      "execution_count": null,
      "outputs": []
    },
    {
      "cell_type": "markdown",
      "source": [
        "## Custom"
      ],
      "metadata": {
        "id": "htduWLcCorFS"
      }
    },
    {
      "cell_type": "code",
      "source": [
        "model = MyModel([MyLayer(X_train.shape[1], 10), MyLayer(10, 5, activation=dsigmoid), MyLayer(5, 1, activation=dsigmoid)])"
      ],
      "metadata": {
        "id": "iQsv1IZupjMv"
      },
      "execution_count": null,
      "outputs": []
    },
    {
      "cell_type": "code",
      "source": [
        "unnorm_price(y_test.astype('float64').values[0])"
      ],
      "metadata": {
        "colab": {
          "base_uri": "https://localhost:8080/"
        },
        "id": "5H2TNlWLvdIw",
        "outputId": "f2452277-735a-4222-f701-71e58ef9ea30"
      },
      "execution_count": null,
      "outputs": [
        {
          "output_type": "execute_result",
          "data": {
            "text/plain": [
              "31571.913188565733"
            ]
          },
          "metadata": {},
          "execution_count": 80
        }
      ]
    },
    {
      "cell_type": "code",
      "source": [
        "unnorm_price(model.feed(X_test.astype('float64').values[0])[0])"
      ],
      "metadata": {
        "colab": {
          "base_uri": "https://localhost:8080/"
        },
        "outputId": "55ba08c9-80da-47b4-f32d-12235445c7e2",
        "id": "whJBji4WpjMw"
      },
      "execution_count": null,
      "outputs": [
        {
          "output_type": "execute_result",
          "data": {
            "text/plain": [
              "31618.94613696061"
            ]
          },
          "metadata": {},
          "execution_count": 78
        }
      ]
    },
    {
      "cell_type": "code",
      "source": [
        "model.eval(X_test.astype('float64').values, y_test.astype('float64').values)"
      ],
      "metadata": {
        "colab": {
          "base_uri": "https://localhost:8080/"
        },
        "outputId": "7f0a73d5-b223-4216-da1a-ef3442e71c13",
        "id": "czYmc7sRpjMw"
      },
      "execution_count": null,
      "outputs": [
        {
          "output_type": "execute_result",
          "data": {
            "text/plain": [
              "{'loss': 0.0005421661561624253}"
            ]
          },
          "metadata": {},
          "execution_count": 79
        }
      ]
    },
    {
      "cell_type": "code",
      "source": [
        "model.fit(X_train.astype('float64').values, y_train.astype('float64').values, 100, 100, learning_rate=1)"
      ],
      "metadata": {
        "colab": {
          "base_uri": "https://localhost:8080/"
        },
        "outputId": "887164ef-720d-4728-8bee-1bc9f42f7813",
        "id": "IJREA_vcpjMy"
      },
      "execution_count": null,
      "outputs": [
        {
          "output_type": "stream",
          "name": "stdout",
          "text": [
            "Epoch 0 complete! Loss: {'loss': 0.1468341918025962}\n",
            "Epoch 1 complete! Loss: {'loss': 0.1456198253236923}\n",
            "Epoch 2 complete! Loss: {'loss': 0.1444708643828606}\n",
            "Epoch 3 complete! Loss: {'loss': 0.14401276645233163}\n",
            "Epoch 4 complete! Loss: {'loss': 0.14384585331188743}\n",
            "Epoch 5 complete! Loss: {'loss': 0.1429461093357166}\n",
            "Epoch 6 complete! Loss: {'loss': 0.14456021273810954}\n",
            "Epoch 7 complete! Loss: {'loss': 0.14189963348933662}\n",
            "Epoch 8 complete! Loss: {'loss': 0.1414006648616828}\n",
            "Epoch 9 complete! Loss: {'loss': 0.14427161347140874}\n",
            "Epoch 10 complete! Loss: {'loss': 0.1406000139226665}\n",
            "Epoch 11 complete! Loss: {'loss': 0.13925698524206007}\n",
            "Epoch 12 complete! Loss: {'loss': 0.13809437494795548}\n",
            "Epoch 13 complete! Loss: {'loss': 0.13651994265825915}\n",
            "Epoch 14 complete! Loss: {'loss': 0.13406278587595286}\n",
            "Epoch 15 complete! Loss: {'loss': 0.13048111252354228}\n",
            "Epoch 16 complete! Loss: {'loss': 0.1249891031996207}\n",
            "Epoch 17 complete! Loss: {'loss': 0.116737508765671}\n",
            "Epoch 18 complete! Loss: {'loss': 0.10585936710642199}\n",
            "Epoch 19 complete! Loss: {'loss': 0.09332042706597551}\n",
            "Epoch 20 complete! Loss: {'loss': 0.07911946403908292}\n",
            "Epoch 21 complete! Loss: {'loss': 0.06546967581756707}\n",
            "Epoch 22 complete! Loss: {'loss': 0.05343669741420359}\n",
            "Epoch 23 complete! Loss: {'loss': 0.042725239284990287}\n",
            "Epoch 24 complete! Loss: {'loss': 0.034541052869544585}\n",
            "Epoch 25 complete! Loss: {'loss': 0.028333833629143358}\n",
            "Epoch 26 complete! Loss: {'loss': 0.023417456055277754}\n",
            "Epoch 27 complete! Loss: {'loss': 0.019721200306962804}\n",
            "Epoch 28 complete! Loss: {'loss': 0.016859959275369044}\n",
            "Epoch 29 complete! Loss: {'loss': 0.014566399715413878}\n",
            "Epoch 30 complete! Loss: {'loss': 0.012748203437533185}\n",
            "Epoch 31 complete! Loss: {'loss': 0.011301575033061971}\n",
            "Epoch 32 complete! Loss: {'loss': 0.01004967609264759}\n",
            "Epoch 33 complete! Loss: {'loss': 0.009026607341474497}\n",
            "Epoch 34 complete! Loss: {'loss': 0.008195410844059753}\n",
            "Epoch 35 complete! Loss: {'loss': 0.007427169139222347}\n",
            "Epoch 36 complete! Loss: {'loss': 0.0067810409799592295}\n",
            "Epoch 37 complete! Loss: {'loss': 0.006225656149153407}\n",
            "Epoch 38 complete! Loss: {'loss': 0.005754203992395593}\n",
            "Epoch 39 complete! Loss: {'loss': 0.005312636170808195}\n",
            "Epoch 40 complete! Loss: {'loss': 0.004928274295734656}\n",
            "Epoch 41 complete! Loss: {'loss': 0.004586542516232433}\n",
            "Epoch 42 complete! Loss: {'loss': 0.0042811198359587865}\n",
            "Epoch 43 complete! Loss: {'loss': 0.004005326974053377}\n",
            "Epoch 44 complete! Loss: {'loss': 0.0037613865655092616}\n",
            "Epoch 45 complete! Loss: {'loss': 0.003530547480527946}\n",
            "Epoch 46 complete! Loss: {'loss': 0.003327321840233536}\n",
            "Epoch 47 complete! Loss: {'loss': 0.0031455967211625802}\n",
            "Epoch 48 complete! Loss: {'loss': 0.0029693827221269793}\n",
            "Epoch 49 complete! Loss: {'loss': 0.0028117864346214566}\n",
            "Epoch 50 complete! Loss: {'loss': 0.0026694042261297024}\n",
            "Epoch 51 complete! Loss: {'loss': 0.0025354060387402827}\n",
            "Epoch 52 complete! Loss: {'loss': 0.002414547068368192}\n",
            "Epoch 53 complete! Loss: {'loss': 0.0023016969855978986}\n",
            "Epoch 54 complete! Loss: {'loss': 0.0021959475918501056}\n",
            "Epoch 55 complete! Loss: {'loss': 0.002098505413841593}\n",
            "Epoch 56 complete! Loss: {'loss': 0.002007648747591926}\n",
            "Epoch 57 complete! Loss: {'loss': 0.0019242974704203033}\n",
            "Epoch 58 complete! Loss: {'loss': 0.001846505567334883}\n",
            "Epoch 59 complete! Loss: {'loss': 0.0017722076341150559}\n",
            "Epoch 60 complete! Loss: {'loss': 0.0017058622526010053}\n",
            "Epoch 61 complete! Loss: {'loss': 0.0016412147911084387}\n",
            "Epoch 62 complete! Loss: {'loss': 0.0015841020487179919}\n",
            "Epoch 63 complete! Loss: {'loss': 0.0015243042453395106}\n",
            "Epoch 64 complete! Loss: {'loss': 0.0014716304815702418}\n",
            "Epoch 65 complete! Loss: {'loss': 0.0014226138510999708}\n",
            "Epoch 66 complete! Loss: {'loss': 0.0013759031040338407}\n",
            "Epoch 67 complete! Loss: {'loss': 0.0013342694604348137}\n",
            "Epoch 68 complete! Loss: {'loss': 0.00129127204802863}\n",
            "Epoch 69 complete! Loss: {'loss': 0.0012534787713850944}\n",
            "Epoch 70 complete! Loss: {'loss': 0.0012160896443261186}\n",
            "Epoch 71 complete! Loss: {'loss': 0.0011811813340596724}\n",
            "Epoch 72 complete! Loss: {'loss': 0.0011494507633696652}\n",
            "Epoch 73 complete! Loss: {'loss': 0.00111774439769491}\n",
            "Epoch 74 complete! Loss: {'loss': 0.0010878249697737082}\n",
            "Epoch 75 complete! Loss: {'loss': 0.0010609196318551756}\n",
            "Epoch 76 complete! Loss: {'loss': 0.0010335765749912163}\n",
            "Epoch 77 complete! Loss: {'loss': 0.0010171692057033776}\n",
            "Epoch 78 complete! Loss: {'loss': 0.0009843554207144172}\n",
            "Epoch 79 complete! Loss: {'loss': 0.0009619025404753303}\n",
            "Epoch 80 complete! Loss: {'loss': 0.0009407113103237497}\n",
            "Epoch 81 complete! Loss: {'loss': 0.0009198390391659407}\n",
            "Epoch 82 complete! Loss: {'loss': 0.0008998477703626177}\n",
            "Epoch 83 complete! Loss: {'loss': 0.0008811167148065351}\n",
            "Epoch 84 complete! Loss: {'loss': 0.0008663819791521204}\n",
            "Epoch 85 complete! Loss: {'loss': 0.0008478629369974347}\n",
            "Epoch 86 complete! Loss: {'loss': 0.0008300704805372961}\n",
            "Epoch 87 complete! Loss: {'loss': 0.0008247042177186154}\n",
            "Epoch 88 complete! Loss: {'loss': 0.0007997680050981084}\n",
            "Epoch 89 complete! Loss: {'loss': 0.0007857229437362347}\n",
            "Epoch 90 complete! Loss: {'loss': 0.0007726061761022655}\n",
            "Epoch 91 complete! Loss: {'loss': 0.0007589495664120031}\n",
            "Epoch 92 complete! Loss: {'loss': 0.000746698987934451}\n",
            "Epoch 93 complete! Loss: {'loss': 0.0007371100891367943}\n",
            "Epoch 94 complete! Loss: {'loss': 0.0007235215324246412}\n",
            "Epoch 95 complete! Loss: {'loss': 0.0007136440310638638}\n",
            "Epoch 96 complete! Loss: {'loss': 0.0007020113754416534}\n",
            "Epoch 97 complete! Loss: {'loss': 0.0006918424473709976}\n",
            "Epoch 98 complete! Loss: {'loss': 0.000681886385621216}\n",
            "Epoch 99 complete! Loss: {'loss': 0.0006775841186087541}\n"
          ]
        }
      ]
    }
  ]
}