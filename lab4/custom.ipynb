{
  "nbformat": 4,
  "nbformat_minor": 0,
  "metadata": {
    "colab": {
      "provenance": [],
      "collapsed_sections": [
        "ly5zeuYMnxhV",
        "Ki-p6UORCiFx"
      ],
      "authorship_tag": "ABX9TyNOqgm0Am4k6GgWwXTZO3ew",
      "include_colab_link": true
    },
    "kernelspec": {
      "name": "python3",
      "display_name": "Python 3"
    },
    "language_info": {
      "name": "python"
    }
  },
  "cells": [
    {
      "cell_type": "markdown",
      "metadata": {
        "id": "view-in-github",
        "colab_type": "text"
      },
      "source": [
        "<a href=\"https://colab.research.google.com/github/MIKBRUNO/TPNS/blob/main/lab4/custom.ipynb\" target=\"_parent\"><img src=\"https://colab.research.google.com/assets/colab-badge.svg\" alt=\"Open In Colab\"/></a>"
      ]
    },
    {
      "cell_type": "markdown",
      "source": [
        "# Dataset"
      ],
      "metadata": {
        "id": "ly5zeuYMnxhV"
      }
    },
    {
      "cell_type": "code",
      "source": [
        "from google.colab import userdata\n",
        "import os\n",
        "\n",
        "os.environ[\"KAGGLE_KEY\"] = userdata.get('KAGGLE_KEY')\n",
        "os.environ[\"KAGGLE_USERNAME\"] = userdata.get('KAGGLE_USERNAME')"
      ],
      "metadata": {
        "id": "kl4A4F0-nOxv"
      },
      "execution_count": null,
      "outputs": []
    },
    {
      "cell_type": "code",
      "execution_count": null,
      "metadata": {
        "colab": {
          "base_uri": "https://localhost:8080/"
        },
        "id": "pAkPTCdllTTx",
        "outputId": "da281742-be8e-4671-c413-76dd18aae766"
      },
      "outputs": [
        {
          "output_type": "stream",
          "name": "stdout",
          "text": [
            "Dataset URL: https://www.kaggle.com/datasets/oddrationale/mnist-in-csv\n",
            "License(s): CC0-1.0\n",
            "Downloading mnist-in-csv.zip to /content\n",
            " 98% 15.0M/15.2M [00:01<00:00, 17.2MB/s]\n",
            "100% 15.2M/15.2M [00:01<00:00, 9.30MB/s]\n"
          ]
        }
      ],
      "source": [
        "!kaggle datasets download -d oddrationale/mnist-in-csv"
      ]
    },
    {
      "cell_type": "code",
      "source": [
        "!unzip mnist-in-csv.zip"
      ],
      "metadata": {
        "colab": {
          "base_uri": "https://localhost:8080/"
        },
        "id": "j7U7cR3-ne97",
        "outputId": "6bfbeb36-23e6-45e9-fe35-3ce75d90d1df"
      },
      "execution_count": null,
      "outputs": [
        {
          "output_type": "stream",
          "name": "stdout",
          "text": [
            "Archive:  mnist-in-csv.zip\n",
            "  inflating: mnist_test.csv          \n",
            "  inflating: mnist_train.csv         \n"
          ]
        }
      ]
    },
    {
      "cell_type": "code",
      "source": [
        "import pandas as pd"
      ],
      "metadata": {
        "id": "06VgdzxGnzY7"
      },
      "execution_count": null,
      "outputs": []
    },
    {
      "cell_type": "code",
      "source": [
        "df_train = pd.read_csv(\"mnist_train.csv\")\n",
        "df_test = pd.read_csv(\"mnist_test.csv\")\n",
        "\n",
        "df_train.head()"
      ],
      "metadata": {
        "colab": {
          "base_uri": "https://localhost:8080/",
          "height": 235
        },
        "id": "FvC5nESen3iz",
        "outputId": "52bb16bd-1a8a-4255-9d60-7103d5ddbae9"
      },
      "execution_count": null,
      "outputs": [
        {
          "output_type": "execute_result",
          "data": {
            "text/plain": [
              "   label  1x1  1x2  1x3  1x4  1x5  1x6  1x7  1x8  1x9  ...  28x19  28x20  \\\n",
              "0      5    0    0    0    0    0    0    0    0    0  ...      0      0   \n",
              "1      0    0    0    0    0    0    0    0    0    0  ...      0      0   \n",
              "2      4    0    0    0    0    0    0    0    0    0  ...      0      0   \n",
              "3      1    0    0    0    0    0    0    0    0    0  ...      0      0   \n",
              "4      9    0    0    0    0    0    0    0    0    0  ...      0      0   \n",
              "\n",
              "   28x21  28x22  28x23  28x24  28x25  28x26  28x27  28x28  \n",
              "0      0      0      0      0      0      0      0      0  \n",
              "1      0      0      0      0      0      0      0      0  \n",
              "2      0      0      0      0      0      0      0      0  \n",
              "3      0      0      0      0      0      0      0      0  \n",
              "4      0      0      0      0      0      0      0      0  \n",
              "\n",
              "[5 rows x 785 columns]"
            ],
            "text/html": [
              "\n",
              "  <div id=\"df-ce4fffe1-b44e-4b2d-868a-7844d7730412\" class=\"colab-df-container\">\n",
              "    <div>\n",
              "<style scoped>\n",
              "    .dataframe tbody tr th:only-of-type {\n",
              "        vertical-align: middle;\n",
              "    }\n",
              "\n",
              "    .dataframe tbody tr th {\n",
              "        vertical-align: top;\n",
              "    }\n",
              "\n",
              "    .dataframe thead th {\n",
              "        text-align: right;\n",
              "    }\n",
              "</style>\n",
              "<table border=\"1\" class=\"dataframe\">\n",
              "  <thead>\n",
              "    <tr style=\"text-align: right;\">\n",
              "      <th></th>\n",
              "      <th>label</th>\n",
              "      <th>1x1</th>\n",
              "      <th>1x2</th>\n",
              "      <th>1x3</th>\n",
              "      <th>1x4</th>\n",
              "      <th>1x5</th>\n",
              "      <th>1x6</th>\n",
              "      <th>1x7</th>\n",
              "      <th>1x8</th>\n",
              "      <th>1x9</th>\n",
              "      <th>...</th>\n",
              "      <th>28x19</th>\n",
              "      <th>28x20</th>\n",
              "      <th>28x21</th>\n",
              "      <th>28x22</th>\n",
              "      <th>28x23</th>\n",
              "      <th>28x24</th>\n",
              "      <th>28x25</th>\n",
              "      <th>28x26</th>\n",
              "      <th>28x27</th>\n",
              "      <th>28x28</th>\n",
              "    </tr>\n",
              "  </thead>\n",
              "  <tbody>\n",
              "    <tr>\n",
              "      <th>0</th>\n",
              "      <td>5</td>\n",
              "      <td>0</td>\n",
              "      <td>0</td>\n",
              "      <td>0</td>\n",
              "      <td>0</td>\n",
              "      <td>0</td>\n",
              "      <td>0</td>\n",
              "      <td>0</td>\n",
              "      <td>0</td>\n",
              "      <td>0</td>\n",
              "      <td>...</td>\n",
              "      <td>0</td>\n",
              "      <td>0</td>\n",
              "      <td>0</td>\n",
              "      <td>0</td>\n",
              "      <td>0</td>\n",
              "      <td>0</td>\n",
              "      <td>0</td>\n",
              "      <td>0</td>\n",
              "      <td>0</td>\n",
              "      <td>0</td>\n",
              "    </tr>\n",
              "    <tr>\n",
              "      <th>1</th>\n",
              "      <td>0</td>\n",
              "      <td>0</td>\n",
              "      <td>0</td>\n",
              "      <td>0</td>\n",
              "      <td>0</td>\n",
              "      <td>0</td>\n",
              "      <td>0</td>\n",
              "      <td>0</td>\n",
              "      <td>0</td>\n",
              "      <td>0</td>\n",
              "      <td>...</td>\n",
              "      <td>0</td>\n",
              "      <td>0</td>\n",
              "      <td>0</td>\n",
              "      <td>0</td>\n",
              "      <td>0</td>\n",
              "      <td>0</td>\n",
              "      <td>0</td>\n",
              "      <td>0</td>\n",
              "      <td>0</td>\n",
              "      <td>0</td>\n",
              "    </tr>\n",
              "    <tr>\n",
              "      <th>2</th>\n",
              "      <td>4</td>\n",
              "      <td>0</td>\n",
              "      <td>0</td>\n",
              "      <td>0</td>\n",
              "      <td>0</td>\n",
              "      <td>0</td>\n",
              "      <td>0</td>\n",
              "      <td>0</td>\n",
              "      <td>0</td>\n",
              "      <td>0</td>\n",
              "      <td>...</td>\n",
              "      <td>0</td>\n",
              "      <td>0</td>\n",
              "      <td>0</td>\n",
              "      <td>0</td>\n",
              "      <td>0</td>\n",
              "      <td>0</td>\n",
              "      <td>0</td>\n",
              "      <td>0</td>\n",
              "      <td>0</td>\n",
              "      <td>0</td>\n",
              "    </tr>\n",
              "    <tr>\n",
              "      <th>3</th>\n",
              "      <td>1</td>\n",
              "      <td>0</td>\n",
              "      <td>0</td>\n",
              "      <td>0</td>\n",
              "      <td>0</td>\n",
              "      <td>0</td>\n",
              "      <td>0</td>\n",
              "      <td>0</td>\n",
              "      <td>0</td>\n",
              "      <td>0</td>\n",
              "      <td>...</td>\n",
              "      <td>0</td>\n",
              "      <td>0</td>\n",
              "      <td>0</td>\n",
              "      <td>0</td>\n",
              "      <td>0</td>\n",
              "      <td>0</td>\n",
              "      <td>0</td>\n",
              "      <td>0</td>\n",
              "      <td>0</td>\n",
              "      <td>0</td>\n",
              "    </tr>\n",
              "    <tr>\n",
              "      <th>4</th>\n",
              "      <td>9</td>\n",
              "      <td>0</td>\n",
              "      <td>0</td>\n",
              "      <td>0</td>\n",
              "      <td>0</td>\n",
              "      <td>0</td>\n",
              "      <td>0</td>\n",
              "      <td>0</td>\n",
              "      <td>0</td>\n",
              "      <td>0</td>\n",
              "      <td>...</td>\n",
              "      <td>0</td>\n",
              "      <td>0</td>\n",
              "      <td>0</td>\n",
              "      <td>0</td>\n",
              "      <td>0</td>\n",
              "      <td>0</td>\n",
              "      <td>0</td>\n",
              "      <td>0</td>\n",
              "      <td>0</td>\n",
              "      <td>0</td>\n",
              "    </tr>\n",
              "  </tbody>\n",
              "</table>\n",
              "<p>5 rows × 785 columns</p>\n",
              "</div>\n",
              "    <div class=\"colab-df-buttons\">\n",
              "\n",
              "  <div class=\"colab-df-container\">\n",
              "    <button class=\"colab-df-convert\" onclick=\"convertToInteractive('df-ce4fffe1-b44e-4b2d-868a-7844d7730412')\"\n",
              "            title=\"Convert this dataframe to an interactive table.\"\n",
              "            style=\"display:none;\">\n",
              "\n",
              "  <svg xmlns=\"http://www.w3.org/2000/svg\" height=\"24px\" viewBox=\"0 -960 960 960\">\n",
              "    <path d=\"M120-120v-720h720v720H120Zm60-500h600v-160H180v160Zm220 220h160v-160H400v160Zm0 220h160v-160H400v160ZM180-400h160v-160H180v160Zm440 0h160v-160H620v160ZM180-180h160v-160H180v160Zm440 0h160v-160H620v160Z\"/>\n",
              "  </svg>\n",
              "    </button>\n",
              "\n",
              "  <style>\n",
              "    .colab-df-container {\n",
              "      display:flex;\n",
              "      gap: 12px;\n",
              "    }\n",
              "\n",
              "    .colab-df-convert {\n",
              "      background-color: #E8F0FE;\n",
              "      border: none;\n",
              "      border-radius: 50%;\n",
              "      cursor: pointer;\n",
              "      display: none;\n",
              "      fill: #1967D2;\n",
              "      height: 32px;\n",
              "      padding: 0 0 0 0;\n",
              "      width: 32px;\n",
              "    }\n",
              "\n",
              "    .colab-df-convert:hover {\n",
              "      background-color: #E2EBFA;\n",
              "      box-shadow: 0px 1px 2px rgba(60, 64, 67, 0.3), 0px 1px 3px 1px rgba(60, 64, 67, 0.15);\n",
              "      fill: #174EA6;\n",
              "    }\n",
              "\n",
              "    .colab-df-buttons div {\n",
              "      margin-bottom: 4px;\n",
              "    }\n",
              "\n",
              "    [theme=dark] .colab-df-convert {\n",
              "      background-color: #3B4455;\n",
              "      fill: #D2E3FC;\n",
              "    }\n",
              "\n",
              "    [theme=dark] .colab-df-convert:hover {\n",
              "      background-color: #434B5C;\n",
              "      box-shadow: 0px 1px 3px 1px rgba(0, 0, 0, 0.15);\n",
              "      filter: drop-shadow(0px 1px 2px rgba(0, 0, 0, 0.3));\n",
              "      fill: #FFFFFF;\n",
              "    }\n",
              "  </style>\n",
              "\n",
              "    <script>\n",
              "      const buttonEl =\n",
              "        document.querySelector('#df-ce4fffe1-b44e-4b2d-868a-7844d7730412 button.colab-df-convert');\n",
              "      buttonEl.style.display =\n",
              "        google.colab.kernel.accessAllowed ? 'block' : 'none';\n",
              "\n",
              "      async function convertToInteractive(key) {\n",
              "        const element = document.querySelector('#df-ce4fffe1-b44e-4b2d-868a-7844d7730412');\n",
              "        const dataTable =\n",
              "          await google.colab.kernel.invokeFunction('convertToInteractive',\n",
              "                                                    [key], {});\n",
              "        if (!dataTable) return;\n",
              "\n",
              "        const docLinkHtml = 'Like what you see? Visit the ' +\n",
              "          '<a target=\"_blank\" href=https://colab.research.google.com/notebooks/data_table.ipynb>data table notebook</a>'\n",
              "          + ' to learn more about interactive tables.';\n",
              "        element.innerHTML = '';\n",
              "        dataTable['output_type'] = 'display_data';\n",
              "        await google.colab.output.renderOutput(dataTable, element);\n",
              "        const docLink = document.createElement('div');\n",
              "        docLink.innerHTML = docLinkHtml;\n",
              "        element.appendChild(docLink);\n",
              "      }\n",
              "    </script>\n",
              "  </div>\n",
              "\n",
              "\n",
              "<div id=\"df-a99d4ef3-be60-4bb9-a0db-219d3ccc8615\">\n",
              "  <button class=\"colab-df-quickchart\" onclick=\"quickchart('df-a99d4ef3-be60-4bb9-a0db-219d3ccc8615')\"\n",
              "            title=\"Suggest charts\"\n",
              "            style=\"display:none;\">\n",
              "\n",
              "<svg xmlns=\"http://www.w3.org/2000/svg\" height=\"24px\"viewBox=\"0 0 24 24\"\n",
              "     width=\"24px\">\n",
              "    <g>\n",
              "        <path d=\"M19 3H5c-1.1 0-2 .9-2 2v14c0 1.1.9 2 2 2h14c1.1 0 2-.9 2-2V5c0-1.1-.9-2-2-2zM9 17H7v-7h2v7zm4 0h-2V7h2v10zm4 0h-2v-4h2v4z\"/>\n",
              "    </g>\n",
              "</svg>\n",
              "  </button>\n",
              "\n",
              "<style>\n",
              "  .colab-df-quickchart {\n",
              "      --bg-color: #E8F0FE;\n",
              "      --fill-color: #1967D2;\n",
              "      --hover-bg-color: #E2EBFA;\n",
              "      --hover-fill-color: #174EA6;\n",
              "      --disabled-fill-color: #AAA;\n",
              "      --disabled-bg-color: #DDD;\n",
              "  }\n",
              "\n",
              "  [theme=dark] .colab-df-quickchart {\n",
              "      --bg-color: #3B4455;\n",
              "      --fill-color: #D2E3FC;\n",
              "      --hover-bg-color: #434B5C;\n",
              "      --hover-fill-color: #FFFFFF;\n",
              "      --disabled-bg-color: #3B4455;\n",
              "      --disabled-fill-color: #666;\n",
              "  }\n",
              "\n",
              "  .colab-df-quickchart {\n",
              "    background-color: var(--bg-color);\n",
              "    border: none;\n",
              "    border-radius: 50%;\n",
              "    cursor: pointer;\n",
              "    display: none;\n",
              "    fill: var(--fill-color);\n",
              "    height: 32px;\n",
              "    padding: 0;\n",
              "    width: 32px;\n",
              "  }\n",
              "\n",
              "  .colab-df-quickchart:hover {\n",
              "    background-color: var(--hover-bg-color);\n",
              "    box-shadow: 0 1px 2px rgba(60, 64, 67, 0.3), 0 1px 3px 1px rgba(60, 64, 67, 0.15);\n",
              "    fill: var(--button-hover-fill-color);\n",
              "  }\n",
              "\n",
              "  .colab-df-quickchart-complete:disabled,\n",
              "  .colab-df-quickchart-complete:disabled:hover {\n",
              "    background-color: var(--disabled-bg-color);\n",
              "    fill: var(--disabled-fill-color);\n",
              "    box-shadow: none;\n",
              "  }\n",
              "\n",
              "  .colab-df-spinner {\n",
              "    border: 2px solid var(--fill-color);\n",
              "    border-color: transparent;\n",
              "    border-bottom-color: var(--fill-color);\n",
              "    animation:\n",
              "      spin 1s steps(1) infinite;\n",
              "  }\n",
              "\n",
              "  @keyframes spin {\n",
              "    0% {\n",
              "      border-color: transparent;\n",
              "      border-bottom-color: var(--fill-color);\n",
              "      border-left-color: var(--fill-color);\n",
              "    }\n",
              "    20% {\n",
              "      border-color: transparent;\n",
              "      border-left-color: var(--fill-color);\n",
              "      border-top-color: var(--fill-color);\n",
              "    }\n",
              "    30% {\n",
              "      border-color: transparent;\n",
              "      border-left-color: var(--fill-color);\n",
              "      border-top-color: var(--fill-color);\n",
              "      border-right-color: var(--fill-color);\n",
              "    }\n",
              "    40% {\n",
              "      border-color: transparent;\n",
              "      border-right-color: var(--fill-color);\n",
              "      border-top-color: var(--fill-color);\n",
              "    }\n",
              "    60% {\n",
              "      border-color: transparent;\n",
              "      border-right-color: var(--fill-color);\n",
              "    }\n",
              "    80% {\n",
              "      border-color: transparent;\n",
              "      border-right-color: var(--fill-color);\n",
              "      border-bottom-color: var(--fill-color);\n",
              "    }\n",
              "    90% {\n",
              "      border-color: transparent;\n",
              "      border-bottom-color: var(--fill-color);\n",
              "    }\n",
              "  }\n",
              "</style>\n",
              "\n",
              "  <script>\n",
              "    async function quickchart(key) {\n",
              "      const quickchartButtonEl =\n",
              "        document.querySelector('#' + key + ' button');\n",
              "      quickchartButtonEl.disabled = true;  // To prevent multiple clicks.\n",
              "      quickchartButtonEl.classList.add('colab-df-spinner');\n",
              "      try {\n",
              "        const charts = await google.colab.kernel.invokeFunction(\n",
              "            'suggestCharts', [key], {});\n",
              "      } catch (error) {\n",
              "        console.error('Error during call to suggestCharts:', error);\n",
              "      }\n",
              "      quickchartButtonEl.classList.remove('colab-df-spinner');\n",
              "      quickchartButtonEl.classList.add('colab-df-quickchart-complete');\n",
              "    }\n",
              "    (() => {\n",
              "      let quickchartButtonEl =\n",
              "        document.querySelector('#df-a99d4ef3-be60-4bb9-a0db-219d3ccc8615 button');\n",
              "      quickchartButtonEl.style.display =\n",
              "        google.colab.kernel.accessAllowed ? 'block' : 'none';\n",
              "    })();\n",
              "  </script>\n",
              "</div>\n",
              "    </div>\n",
              "  </div>\n"
            ],
            "application/vnd.google.colaboratory.intrinsic+json": {
              "type": "dataframe",
              "variable_name": "df_train"
            }
          },
          "metadata": {},
          "execution_count": 9
        }
      ]
    },
    {
      "cell_type": "code",
      "source": [
        "X_train = df_train.drop(\"label\", axis=1)\n",
        "y_train = df_train[\"label\"]\n",
        "\n",
        "X_test = df_test.drop(\"label\", axis=1)\n",
        "y_test = df_test[\"label\"]"
      ],
      "metadata": {
        "id": "ByjDrNfloMFq"
      },
      "execution_count": null,
      "outputs": []
    },
    {
      "cell_type": "code",
      "source": [
        "y_train.value_counts(sort=False).plot.bar()"
      ],
      "metadata": {
        "colab": {
          "base_uri": "https://localhost:8080/",
          "height": 463
        },
        "id": "lwwuj2gMpNPh",
        "outputId": "e63a6e8a-367b-4caa-ea4c-d9be7b19399c"
      },
      "execution_count": null,
      "outputs": [
        {
          "output_type": "execute_result",
          "data": {
            "text/plain": [
              "<Axes: xlabel='label'>"
            ]
          },
          "metadata": {},
          "execution_count": 11
        },
        {
          "output_type": "display_data",
          "data": {
            "text/plain": [
              "<Figure size 640x480 with 1 Axes>"
            ],
            "image/png": "[encoded data removed]"
          },
          "metadata": {}
        }
      ]
    },
    {
      "cell_type": "code",
      "source": [
        "import matplotlib.pyplot as plt"
      ],
      "metadata": {
        "id": "wUa1pkuNo5Zp"
      },
      "execution_count": null,
      "outputs": []
    },
    {
      "cell_type": "code",
      "source": [
        "def plot_digits(X, Y):\n",
        "    for i in range(len(X)):\n",
        "        plt.subplot(5, 4, i+1)\n",
        "        plt.tight_layout()\n",
        "        plt.imshow(X[i].reshape(28, 28), cmap='gray')\n",
        "        plt.title('Digit:{}'.format(Y[i]))\n",
        "        plt.xticks([])\n",
        "        plt.yticks([])\n",
        "    plt.show()"
      ],
      "metadata": {
        "id": "LXkfDfgDptwI"
      },
      "execution_count": null,
      "outputs": []
    },
    {
      "cell_type": "code",
      "source": [
        "def plot_predictions(X, y_pred, n, r):\n",
        "    for i in range(len(X)):\n",
        "        plt.subplot(n, r*2, 2*i + 1)\n",
        "        plt.tight_layout()\n",
        "        plt.imshow(X[i].reshape(28, 28), cmap='gray')\n",
        "        plt.subplot(n, r*2, 2*i + 2)\n",
        "        plt.bar(range(10), y_pred[i]*100)\n",
        "    plt.show()"
      ],
      "metadata": {
        "id": "-gQOyTwJYl4B"
      },
      "execution_count": null,
      "outputs": []
    },
    {
      "cell_type": "code",
      "source": [
        "plot_digits(X_test.iloc[:20].values, y_test.iloc[:20].values)"
      ],
      "metadata": {
        "colab": {
          "base_uri": "https://localhost:8080/",
          "height": 463
        },
        "id": "nbYLyhUeqbWR",
        "outputId": "8539e2c4-b9db-4bdc-ce1e-bd5338f79f8b"
      },
      "execution_count": null,
      "outputs": [
        {
          "output_type": "display_data",
          "data": {
            "text/plain": [
              "<Figure size 640x480 with 20 Axes>"
            ],
            "image/png": "[encoded data removed]"
          },
          "metadata": {}
        }
      ]
    },
    {
      "cell_type": "code",
      "source": [
        "X_train = X_train.values / 255.\n",
        "X_test = X_test.values / 255."
      ],
      "metadata": {
        "id": "0hrk0A2yQmAl"
      },
      "execution_count": null,
      "outputs": []
    },
    {
      "cell_type": "code",
      "source": [
        "X_train = X_train.reshape(X_train.shape[0], 28, 28, 1)\n",
        "X_test = X_test.reshape(X_test.shape[0], 28, 28, 1)"
      ],
      "metadata": {
        "id": "zd_kaxuvRzui"
      },
      "execution_count": null,
      "outputs": []
    },
    {
      "cell_type": "code",
      "source": [
        "y_train = pd.get_dummies(y_train).values\n",
        "y_test = pd.get_dummies(y_test).values"
      ],
      "metadata": {
        "id": "0YD3srHxRaA-"
      },
      "execution_count": null,
      "outputs": []
    },
    {
      "cell_type": "code",
      "source": [
        "import numpy as np"
      ],
      "metadata": {
        "id": "zgQAGd5c1IZZ"
      },
      "execution_count": null,
      "outputs": []
    },
    {
      "cell_type": "code",
      "source": [
        "X_train_32 = np.zeros((X_train.shape[0], 32, 32))\n",
        "X_test_32 = np.zeros((X_test.shape[0], 32, 32))\n",
        "for i in range(len(X_train)):\n",
        "    X_train_32[i] = np.pad(X_train[i].reshape(28,28), 2, mode='constant', constant_values=(0,0))\n",
        "for i in range(len(X_test)):\n",
        "    X_test_32[i] = np.pad(X_test[i].reshape(28,28), 2, mode='constant', constant_values=(0,0))"
      ],
      "metadata": {
        "id": "yEphUvF3mPaK"
      },
      "execution_count": null,
      "outputs": []
    },
    {
      "cell_type": "markdown",
      "source": [
        "# My Model"
      ],
      "metadata": {
        "id": "Ki-p6UORCiFx"
      }
    },
    {
      "cell_type": "code",
      "source": [
        "import numpy as np\n",
        "from numpy.typing import ArrayLike\n",
        "from scipy.signal import correlate2d, convolve2d\n",
        "\n",
        "\n",
        "class Differentiable:\n",
        "    def __init__(self, f, df):\n",
        "        self.__f__ = f\n",
        "        self.__df__ = df\n",
        "\n",
        "    def f(self, *arg):\n",
        "        return self.__f__(*arg)\n",
        "\n",
        "    def df(self, *arg):\n",
        "        return self.__df__(*arg)\n",
        "\n",
        "\n",
        "class Layer:\n",
        "    def forward(self, X: ArrayLike) -> ArrayLike:\n",
        "        raise NotImplementedError()\n",
        "\n",
        "    def backward(self, previous_layer: ArrayLike, error: ArrayLike, learning_rate: float) -> ArrayLike:\n",
        "        raise NotImplementedError()\n",
        "\n",
        "\n",
        "class MyModel:\n",
        "    def __init__(self, layers: list[Layer]):\n",
        "        self.layers = layers\n",
        "\n",
        "    def feed(self, X: ArrayLike) -> ArrayLike:\n",
        "        for l in self.layers:\n",
        "            X = l.forward(X)\n",
        "        return X\n",
        "\n",
        "    def evaluate(self, X: list[ArrayLike], Y: list[ArrayLike], loss: Differentiable):\n",
        "        l = 0\n",
        "        for x, y in zip(X, Y):\n",
        "            x = self.feed(x)\n",
        "            l += loss.f(x, y)\n",
        "        return l / len(X)\n",
        "\n",
        "    def fit(\n",
        "        self,\n",
        "        X: list[ArrayLike], Y: list[ArrayLike],\n",
        "        X_test: list[ArrayLike], Y_test: list[ArrayLike],\n",
        "        loss: Differentiable, learning_rate: float = 0.001,\n",
        "        epochs: int = 2\n",
        "    ):\n",
        "        train_data = list(zip(X, Y))\n",
        "        n = len(train_data)\n",
        "        for j in range(epochs):\n",
        "            np.random.shuffle(train_data)\n",
        "            for x, y in train_data:\n",
        "                inputs = []\n",
        "                for l in self.layers:\n",
        "                    inputs.append(x)\n",
        "                    x = l.forward(x)\n",
        "                e = loss.df(x, y)\n",
        "                for l in reversed(self.layers):\n",
        "                    e = l.backward(inputs.pop(), e, learning_rate)\n",
        "            print(f\"Epoch {j} complete! Loss: {self.evaluate(X, Y, loss=loss)}\")\n",
        "\n",
        "\n",
        "class DenseLayer(Layer):\n",
        "    def __init__(self, input_dim: int, neurons: int):\n",
        "        self.weights = np.random.rand(neurons, input_dim)*2 - 1\n",
        "        self.biases = np.random.rand(neurons)*2 - 1\n",
        "\n",
        "    def forward(self, X: ArrayLike) -> ArrayLike:\n",
        "        return np.matmul(self.weights, X) + self.biases\n",
        "\n",
        "    def backward(self, previous_layer: ArrayLike, error: ArrayLike, learning_rate: float) -> ArrayLike:\n",
        "        back = np.matmul(np.transpose(self.weights), error)\n",
        "        self.biases -= learning_rate * error\n",
        "        self.weights -= learning_rate * np.outer(error, previous_layer)\n",
        "        return back\n",
        "\n",
        "\n",
        "class ConvLayer(Layer):\n",
        "    def __init__(self, input_shape, kernels: int, kernel_size: int):\n",
        "        self.input_shape = input_shape\n",
        "        self.kernels = np.random.rand(kernels, input_shape[0], kernel_size, kernel_size)\n",
        "        self.biases = np.random.rand(kernels, input_shape[1] - kernel_size + 1, input_shape[2] - kernel_size + 1)\n",
        "\n",
        "    def forward(self, X: ArrayLike) -> ArrayLike:\n",
        "        output = np.copy(self.biases)\n",
        "        for depth in range(self.kernels.shape[0]):\n",
        "            for i in range(self.kernels.shape[1]):\n",
        "                output += correlate2d(X[i], self.kernels[depth][i], 'valid')\n",
        "        return output\n",
        "\n",
        "    def backward(self, previous_layer: ArrayLike, error: ArrayLike, learning_rate: float) -> ArrayLike:\n",
        "        nabla_ker = np.zeros(self.kernels.shape)\n",
        "        nabla_in = np.zeros(self.input_shape)\n",
        "\n",
        "        for i in range(self.kernels.shape[0]):\n",
        "            for j in range(self.input_shape[0]):\n",
        "                nabla_ker[i, j] = correlate2d(previous_layer[j], error[i], \"valid\")\n",
        "                nabla_in[j] += convolve2d(error[i], self.kernels[i, j], \"full\")\n",
        "\n",
        "        self.kernels -= learning_rate * nabla_ker\n",
        "        self.biases -= learning_rate * error\n",
        "        return nabla_in\n",
        "\n",
        "\n",
        "class SubSamplLayer(Layer):\n",
        "    def __init__(self, input_shape, kernel_size: int):\n",
        "        self.input_depth = input_shape[0]\n",
        "        self.input_height = input_shape[1]\n",
        "        self.input_width = input_shape[2]\n",
        "        self.kernel_size = kernel_size\n",
        "        if self.input_width % kernel_size != 0 or self.input_height % kernel_size != 0:\n",
        "            raise Exception(\"bad kernel size\")\n",
        "\n",
        "    def forward(self, X: ArrayLike) -> ArrayLike:\n",
        "        output_height = self.input_height // self.kernel_size\n",
        "        output_width = self.input_width // self.kernel_size\n",
        "        Y = np.zeros((self.input_depth, output_height, output_width))\n",
        "        for depth in range(self.input_depth):\n",
        "            for i in range(output_height):\n",
        "                for j in range(output_width):\n",
        "                    Y[depth][i, j] = np.mean(X[depth][\n",
        "                        self.kernel_size * i : self.kernel_size * (i+1),\n",
        "                        self.kernel_size * j : self.kernel_size * (j+1)\n",
        "                        ])\n",
        "        return Y\n",
        "\n",
        "    def backward(self, previous_layer: ArrayLike, error: ArrayLike, learning_rate: float) -> ArrayLike:\n",
        "        X_error = np.zeros((self.input_depth, self.input_height, self.input_width))\n",
        "        for d in range(self.input_depth):\n",
        "            for i in range(self.input_height):\n",
        "                for j in range(self.input_width):\n",
        "                    X_error[d][i, j] = error[d][i // self.kernel_size, j // self.kernel_size]\n",
        "        return X_error / (self.kernel_size ** 2)\n",
        "\n",
        "\n",
        "class ReshapeLayer(Layer):\n",
        "    def __init__(self, input_shape, output_shape):\n",
        "        self.input_shape = input_shape\n",
        "        self.output_shape = output_shape\n",
        "\n",
        "    def forward(self, X: ArrayLike) -> ArrayLike:\n",
        "        return np.reshape(X, self.output_shape)\n",
        "\n",
        "    def backward(self, previous_layer: ArrayLike, error: ArrayLike, learning_rate: float) -> ArrayLike:\n",
        "        return np.reshape(error, self.input_shape)\n",
        "\n",
        "\n",
        "class Activation(Layer):\n",
        "    def __init__(self, activation: Differentiable):\n",
        "        self.func = activation\n",
        "\n",
        "    def forward(self, X: ArrayLike) -> ArrayLike:\n",
        "        return self.func.f(X)\n",
        "\n",
        "    def backward(self, previous_layer: ArrayLike, error: ArrayLike, learning_rate: float) -> ArrayLike:\n",
        "        return self.func.df(previous_layer) * error\n",
        "\n",
        "\n",
        "def reluf(x):\n",
        "    return np.max([0, x])\n",
        "\n",
        "\n",
        "def relu(x):\n",
        "    return np.max(np.array([np.zeros(x.shape, dtype=x.dtype), x]), axis=0)\n",
        "\n",
        "\n",
        "def linear(x: np.dtype) -> np.dtype:\n",
        "    return x\n",
        "\n",
        "\n",
        "def sigmoid(x: np.dtype) -> np.dtype:\n",
        "    return 1 / (1 + np.exp(-x))\n",
        "\n",
        "\n",
        "def softmax(x: ArrayLike):\n",
        "    e = np.exp(x)\n",
        "    sums = np.tile(np.sum(e), np.size(e,0))\n",
        "    return e / sums\n",
        "\n",
        "\n",
        "def mse(y_pred: ArrayLike, y: ArrayLike):\n",
        "    return np.mean(np.power(y - y_pred, 2))\n",
        "\n",
        "\n",
        "def crossentropy(y_pred: ArrayLike, y: ArrayLike):\n",
        "    return -np.mean(y * np.log(y_pred))\n",
        "\n",
        "\n",
        "drelu = Differentiable(relu, np.vectorize(lambda x: 0 if x < 0 else 1))\n",
        "dsigmoid = Differentiable(sigmoid, lambda x: sigmoid(x) * (1 - sigmoid(x)))\n",
        "dlinear = Differentiable(linear, lambda x: np.ones(x.shape))\n",
        "\n",
        "dmse = Differentiable(mse, lambda y_pred, y: 2 * (y_pred - y))\n",
        "\n",
        "\n",
        "class SoftMaxCrossEntropyModelWrapper:\n",
        "    def __init__(self, model: MyModel):\n",
        "        self.model = model\n",
        "\n",
        "    def feed(self, X: ArrayLike) -> ArrayLike:\n",
        "        return softmax(self.model.feed(X))\n",
        "\n",
        "    def evaluate(self, X: list[ArrayLike], Y: list[ArrayLike]):\n",
        "        l = 0\n",
        "        for x, y in zip(X, Y):\n",
        "            x = self.feed(x)\n",
        "            l += crossentropy(x, y)\n",
        "            print(f'\\r {np.argmax(y)} == {np.argmax(x)}', end='')\n",
        "        print()\n",
        "        print(l / len(X))\n",
        "        return l / len(X)\n",
        "\n",
        "    def presoftmax_loss_error(self, presoftmax, y):\n",
        "        return (y + softmax(presoftmax) * np.sum(y)) / np.size(y,0)\n",
        "\n",
        "    def fit(\n",
        "        self,\n",
        "        X: list[ArrayLike], Y: list[ArrayLike],\n",
        "        X_test: list[ArrayLike], Y_test: list[ArrayLike],\n",
        "        learning_rate: float = 0.001,\n",
        "        epochs: int = 2\n",
        "    ):\n",
        "        train_data = list(zip(X, Y))\n",
        "        for j in range(epochs):\n",
        "            np.random.shuffle(train_data)\n",
        "            i = 0\n",
        "            for x, y in train_data:\n",
        "                inputs = []\n",
        "                for l in self.model.layers:\n",
        "                    inputs.append(x)\n",
        "                    x = l.forward(x)\n",
        "                e = self.presoftmax_loss_error(x, y)\n",
        "                for l in reversed(self.model.layers):\n",
        "                    e = l.backward(inputs.pop(), e, learning_rate)\n",
        "                print(f\"\\rComplete {i}\", end='')\n",
        "                i += 1\n",
        "            print(f\"\\nEpoch {j} complete! Loss: {self.evaluate(X, Y)}\")\n"
      ],
      "metadata": {
        "id": "4A8kITl-WqC1"
      },
      "execution_count": null,
      "outputs": []
    },
    {
      "cell_type": "code",
      "source": [
        "model = SoftMaxCrossEntropyModelWrapper(\n",
        "    MyModel([\n",
        "        ConvLayer((1, 32, 32), 6, 5),\n",
        "        Activation(drelu),\n",
        "        SubSamplLayer((6, 28, 28), 2),\n",
        "        ConvLayer((6, 14, 14), 16, 5),\n",
        "        Activation(drelu),\n",
        "        SubSamplLayer((16, 10, 10), 2),\n",
        "        ConvLayer((16, 5, 5), 120, 5),\n",
        "        ReshapeLayer((120, 1, 1), (120,)),\n",
        "        Activation(drelu),\n",
        "        DenseLayer(120, 84),\n",
        "        Activation(drelu),\n",
        "        DenseLayer(84, 10)\n",
        "    ])\n",
        ")"
      ],
      "metadata": {
        "id": "Zkri8vwPksBT"
      },
      "execution_count": null,
      "outputs": []
    },
    {
      "cell_type": "code",
      "source": [
        "model.feed(\n",
        "        X_test_32.reshape(len(X_test_32), 1, 32, 32)[0] #, y_test[:20]\n",
        ")"
      ],
      "metadata": {
        "colab": {
          "base_uri": "https://localhost:8080/"
        },
        "id": "NBfqEbcp5kWY",
        "outputId": "938df404-4ccc-4d91-c07a-1d1307013c7b"
      },
      "execution_count": null,
      "outputs": [
        {
          "output_type": "execute_result",
          "data": {
            "text/plain": [
              "array([nan, nan, nan, nan, nan, nan, nan, nan, nan, nan])"
            ]
          },
          "metadata": {},
          "execution_count": 29
        }
      ]
    },
    {
      "cell_type": "code",
      "source": [
        "model.fit(\n",
        "    X_test_32.reshape(len(X_test_32), 1, 32, 32), y_test,\n",
        "    X_test_32.reshape(len(X_test_32), 1, 32, 32), y_test,\n",
        "    epochs=1\n",
        ")"
      ],
      "metadata": {
        "colab": {
          "base_uri": "https://localhost:8080/",
          "height": 478
        },
        "id": "SkYuoxUHqHGV",
        "outputId": "1a36e7ab-1367-4112-a079-dc643ae1fa03"
      },
      "execution_count": null,
      "outputs": [
        {
          "output_type": "stream",
          "name": "stderr",
          "text": [
            "<ipython-input-18-2a3bb59ad57d>:177: RuntimeWarning: overflow encountered in exp\n",
            "  e = np.exp(x)\n",
            "<ipython-input-18-2a3bb59ad57d>:179: RuntimeWarning: invalid value encountered in divide\n",
            "  return e / sums\n",
            "/usr/local/lib/python3.10/dist-packages/numpy/lib/function_base.py:2455: RuntimeWarning: invalid value encountered in <lambda> (vectorized)\n",
            "  outputs = ufunc(*inputs)\n"
          ]
        },
        {
          "output_type": "stream",
          "name": "stdout",
          "text": [
            " 6 == 0"
          ]
        },
        {
          "output_type": "error",
          "ename": "KeyboardInterrupt",
          "evalue": "",
          "traceback": [
            "\u001b[0;31m---------------------------------------------------------------------------\u001b[0m",
            "\u001b[0;31mKeyboardInterrupt\u001b[0m                         Traceback (most recent call last)",
            "\u001b[0;32m<ipython-input-20-119e76b8d930>\u001b[0m in \u001b[0;36m<cell line: 1>\u001b[0;34m()\u001b[0m\n\u001b[0;32m----> 1\u001b[0;31m model.fit(\n\u001b[0m\u001b[1;32m      2\u001b[0m     \u001b[0mX_test_32\u001b[0m\u001b[0;34m.\u001b[0m\u001b[0mreshape\u001b[0m\u001b[0;34m(\u001b[0m\u001b[0mlen\u001b[0m\u001b[0;34m(\u001b[0m\u001b[0mX_test_32\u001b[0m\u001b[0;34m)\u001b[0m\u001b[0;34m,\u001b[0m \u001b[0;36m1\u001b[0m\u001b[0;34m,\u001b[0m \u001b[0;36m32\u001b[0m\u001b[0;34m,\u001b[0m \u001b[0;36m32\u001b[0m\u001b[0;34m)\u001b[0m\u001b[0;34m,\u001b[0m \u001b[0my_test\u001b[0m\u001b[0;34m,\u001b[0m\u001b[0;34m\u001b[0m\u001b[0;34m\u001b[0m\u001b[0m\n\u001b[1;32m      3\u001b[0m     \u001b[0mX_test_32\u001b[0m\u001b[0;34m.\u001b[0m\u001b[0mreshape\u001b[0m\u001b[0;34m(\u001b[0m\u001b[0mlen\u001b[0m\u001b[0;34m(\u001b[0m\u001b[0mX_test_32\u001b[0m\u001b[0;34m)\u001b[0m\u001b[0;34m,\u001b[0m \u001b[0;36m1\u001b[0m\u001b[0;34m,\u001b[0m \u001b[0;36m32\u001b[0m\u001b[0;34m,\u001b[0m \u001b[0;36m32\u001b[0m\u001b[0;34m)\u001b[0m\u001b[0;34m,\u001b[0m \u001b[0my_test\u001b[0m\u001b[0;34m,\u001b[0m\u001b[0;34m\u001b[0m\u001b[0;34m\u001b[0m\u001b[0m\n\u001b[1;32m      4\u001b[0m     \u001b[0mepochs\u001b[0m\u001b[0;34m=\u001b[0m\u001b[0;36m1\u001b[0m\u001b[0;34m\u001b[0m\u001b[0;34m\u001b[0m\u001b[0m\n\u001b[1;32m      5\u001b[0m )\n",
            "\u001b[0;32m<ipython-input-18-2a3bb59ad57d>\u001b[0m in \u001b[0;36mfit\u001b[0;34m(self, X, Y, X_test, Y_test, learning_rate, epochs)\u001b[0m\n\u001b[1;32m    236\u001b[0m                 \u001b[0mprint\u001b[0m\u001b[0;34m(\u001b[0m\u001b[0;34mf\"\\rComplete {i}\"\u001b[0m\u001b[0;34m,\u001b[0m \u001b[0mend\u001b[0m\u001b[0;34m=\u001b[0m\u001b[0;34m''\u001b[0m\u001b[0;34m)\u001b[0m\u001b[0;34m\u001b[0m\u001b[0;34m\u001b[0m\u001b[0m\n\u001b[1;32m    237\u001b[0m                 \u001b[0mi\u001b[0m \u001b[0;34m+=\u001b[0m \u001b[0;36m1\u001b[0m\u001b[0;34m\u001b[0m\u001b[0;34m\u001b[0m\u001b[0m\n\u001b[0;32m--> 238\u001b[0;31m             \u001b[0mprint\u001b[0m\u001b[0;34m(\u001b[0m\u001b[0;34mf\"\\nEpoch {j} complete! Loss: {self.evaluate(X, Y)}\"\u001b[0m\u001b[0;34m)\u001b[0m\u001b[0;34m\u001b[0m\u001b[0;34m\u001b[0m\u001b[0m\n\u001b[0m",
            "\u001b[0;32m<ipython-input-18-2a3bb59ad57d>\u001b[0m in \u001b[0;36mevaluate\u001b[0;34m(self, X, Y)\u001b[0m\n\u001b[1;32m    205\u001b[0m         \u001b[0ml\u001b[0m \u001b[0;34m=\u001b[0m \u001b[0;36m0\u001b[0m\u001b[0;34m\u001b[0m\u001b[0;34m\u001b[0m\u001b[0m\n\u001b[1;32m    206\u001b[0m         \u001b[0;32mfor\u001b[0m \u001b[0mx\u001b[0m\u001b[0;34m,\u001b[0m \u001b[0my\u001b[0m \u001b[0;32min\u001b[0m \u001b[0mzip\u001b[0m\u001b[0;34m(\u001b[0m\u001b[0mX\u001b[0m\u001b[0;34m,\u001b[0m \u001b[0mY\u001b[0m\u001b[0;34m)\u001b[0m\u001b[0;34m:\u001b[0m\u001b[0;34m\u001b[0m\u001b[0;34m\u001b[0m\u001b[0m\n\u001b[0;32m--> 207\u001b[0;31m             \u001b[0mx\u001b[0m \u001b[0;34m=\u001b[0m \u001b[0mself\u001b[0m\u001b[0;34m.\u001b[0m\u001b[0mfeed\u001b[0m\u001b[0;34m(\u001b[0m\u001b[0mx\u001b[0m\u001b[0;34m)\u001b[0m\u001b[0;34m\u001b[0m\u001b[0;34m\u001b[0m\u001b[0m\n\u001b[0m\u001b[1;32m    208\u001b[0m             \u001b[0ml\u001b[0m \u001b[0;34m+=\u001b[0m \u001b[0mcrossentropy\u001b[0m\u001b[0;34m(\u001b[0m\u001b[0mx\u001b[0m\u001b[0;34m,\u001b[0m \u001b[0my\u001b[0m\u001b[0;34m)\u001b[0m\u001b[0;34m\u001b[0m\u001b[0;34m\u001b[0m\u001b[0m\n\u001b[1;32m    209\u001b[0m             \u001b[0mprint\u001b[0m\u001b[0;34m(\u001b[0m\u001b[0;34mf'\\r {np.argmax(y)} == {np.argmax(x)}'\u001b[0m\u001b[0;34m,\u001b[0m \u001b[0mend\u001b[0m\u001b[0;34m=\u001b[0m\u001b[0;34m''\u001b[0m\u001b[0;34m)\u001b[0m\u001b[0;34m\u001b[0m\u001b[0;34m\u001b[0m\u001b[0m\n",
            "\u001b[0;32m<ipython-input-18-2a3bb59ad57d>\u001b[0m in \u001b[0;36mfeed\u001b[0;34m(self, X)\u001b[0m\n\u001b[1;32m    200\u001b[0m \u001b[0;34m\u001b[0m\u001b[0m\n\u001b[1;32m    201\u001b[0m     \u001b[0;32mdef\u001b[0m \u001b[0mfeed\u001b[0m\u001b[0;34m(\u001b[0m\u001b[0mself\u001b[0m\u001b[0;34m,\u001b[0m \u001b[0mX\u001b[0m\u001b[0;34m:\u001b[0m \u001b[0mArrayLike\u001b[0m\u001b[0;34m)\u001b[0m \u001b[0;34m->\u001b[0m \u001b[0mArrayLike\u001b[0m\u001b[0;34m:\u001b[0m\u001b[0;34m\u001b[0m\u001b[0;34m\u001b[0m\u001b[0m\n\u001b[0;32m--> 202\u001b[0;31m         \u001b[0;32mreturn\u001b[0m \u001b[0msoftmax\u001b[0m\u001b[0;34m(\u001b[0m\u001b[0mself\u001b[0m\u001b[0;34m.\u001b[0m\u001b[0mmodel\u001b[0m\u001b[0;34m.\u001b[0m\u001b[0mfeed\u001b[0m\u001b[0;34m(\u001b[0m\u001b[0mX\u001b[0m\u001b[0;34m)\u001b[0m\u001b[0;34m)\u001b[0m\u001b[0;34m\u001b[0m\u001b[0;34m\u001b[0m\u001b[0m\n\u001b[0m\u001b[1;32m    203\u001b[0m \u001b[0;34m\u001b[0m\u001b[0m\n\u001b[1;32m    204\u001b[0m     \u001b[0;32mdef\u001b[0m \u001b[0mevaluate\u001b[0m\u001b[0;34m(\u001b[0m\u001b[0mself\u001b[0m\u001b[0;34m,\u001b[0m \u001b[0mX\u001b[0m\u001b[0;34m:\u001b[0m \u001b[0mlist\u001b[0m\u001b[0;34m[\u001b[0m\u001b[0mArrayLike\u001b[0m\u001b[0;34m]\u001b[0m\u001b[0;34m,\u001b[0m \u001b[0mY\u001b[0m\u001b[0;34m:\u001b[0m \u001b[0mlist\u001b[0m\u001b[0;34m[\u001b[0m\u001b[0mArrayLike\u001b[0m\u001b[0;34m]\u001b[0m\u001b[0;34m)\u001b[0m\u001b[0;34m:\u001b[0m\u001b[0;34m\u001b[0m\u001b[0;34m\u001b[0m\u001b[0m\n",
            "\u001b[0;32m<ipython-input-18-2a3bb59ad57d>\u001b[0m in \u001b[0;36mfeed\u001b[0;34m(self, X)\u001b[0m\n\u001b[1;32m     30\u001b[0m     \u001b[0;32mdef\u001b[0m \u001b[0mfeed\u001b[0m\u001b[0;34m(\u001b[0m\u001b[0mself\u001b[0m\u001b[0;34m,\u001b[0m \u001b[0mX\u001b[0m\u001b[0;34m:\u001b[0m \u001b[0mArrayLike\u001b[0m\u001b[0;34m)\u001b[0m \u001b[0;34m->\u001b[0m \u001b[0mArrayLike\u001b[0m\u001b[0;34m:\u001b[0m\u001b[0;34m\u001b[0m\u001b[0;34m\u001b[0m\u001b[0m\n\u001b[1;32m     31\u001b[0m         \u001b[0;32mfor\u001b[0m \u001b[0ml\u001b[0m \u001b[0;32min\u001b[0m \u001b[0mself\u001b[0m\u001b[0;34m.\u001b[0m\u001b[0mlayers\u001b[0m\u001b[0;34m:\u001b[0m\u001b[0;34m\u001b[0m\u001b[0;34m\u001b[0m\u001b[0m\n\u001b[0;32m---> 32\u001b[0;31m             \u001b[0mX\u001b[0m \u001b[0;34m=\u001b[0m \u001b[0ml\u001b[0m\u001b[0;34m.\u001b[0m\u001b[0mforward\u001b[0m\u001b[0;34m(\u001b[0m\u001b[0mX\u001b[0m\u001b[0;34m)\u001b[0m\u001b[0;34m\u001b[0m\u001b[0;34m\u001b[0m\u001b[0m\n\u001b[0m\u001b[1;32m     33\u001b[0m         \u001b[0;32mreturn\u001b[0m \u001b[0mX\u001b[0m\u001b[0;34m\u001b[0m\u001b[0;34m\u001b[0m\u001b[0m\n\u001b[1;32m     34\u001b[0m \u001b[0;34m\u001b[0m\u001b[0m\n",
            "\u001b[0;32m<ipython-input-18-2a3bb59ad57d>\u001b[0m in \u001b[0;36mforward\u001b[0;34m(self, X)\u001b[0m\n\u001b[1;32m     87\u001b[0m         \u001b[0;32mfor\u001b[0m \u001b[0mdepth\u001b[0m \u001b[0;32min\u001b[0m \u001b[0mrange\u001b[0m\u001b[0;34m(\u001b[0m\u001b[0mself\u001b[0m\u001b[0;34m.\u001b[0m\u001b[0mkernels\u001b[0m\u001b[0;34m.\u001b[0m\u001b[0mshape\u001b[0m\u001b[0;34m[\u001b[0m\u001b[0;36m0\u001b[0m\u001b[0;34m]\u001b[0m\u001b[0;34m)\u001b[0m\u001b[0;34m:\u001b[0m\u001b[0;34m\u001b[0m\u001b[0;34m\u001b[0m\u001b[0m\n\u001b[1;32m     88\u001b[0m             \u001b[0;32mfor\u001b[0m \u001b[0mi\u001b[0m \u001b[0;32min\u001b[0m \u001b[0mrange\u001b[0m\u001b[0;34m(\u001b[0m\u001b[0mself\u001b[0m\u001b[0;34m.\u001b[0m\u001b[0mkernels\u001b[0m\u001b[0;34m.\u001b[0m\u001b[0mshape\u001b[0m\u001b[0;34m[\u001b[0m\u001b[0;36m1\u001b[0m\u001b[0;34m]\u001b[0m\u001b[0;34m)\u001b[0m\u001b[0;34m:\u001b[0m\u001b[0;34m\u001b[0m\u001b[0;34m\u001b[0m\u001b[0m\n\u001b[0;32m---> 89\u001b[0;31m                 \u001b[0moutput\u001b[0m \u001b[0;34m+=\u001b[0m \u001b[0mcorrelate2d\u001b[0m\u001b[0;34m(\u001b[0m\u001b[0mX\u001b[0m\u001b[0;34m[\u001b[0m\u001b[0mi\u001b[0m\u001b[0;34m]\u001b[0m\u001b[0;34m,\u001b[0m \u001b[0mself\u001b[0m\u001b[0;34m.\u001b[0m\u001b[0mkernels\u001b[0m\u001b[0;34m[\u001b[0m\u001b[0mdepth\u001b[0m\u001b[0;34m]\u001b[0m\u001b[0;34m[\u001b[0m\u001b[0mi\u001b[0m\u001b[0;34m]\u001b[0m\u001b[0;34m,\u001b[0m \u001b[0;34m'valid'\u001b[0m\u001b[0;34m)\u001b[0m\u001b[0;34m\u001b[0m\u001b[0;34m\u001b[0m\u001b[0m\n\u001b[0m\u001b[1;32m     90\u001b[0m         \u001b[0;32mreturn\u001b[0m \u001b[0moutput\u001b[0m\u001b[0;34m\u001b[0m\u001b[0;34m\u001b[0m\u001b[0m\n\u001b[1;32m     91\u001b[0m \u001b[0;34m\u001b[0m\u001b[0m\n",
            "\u001b[0;31mKeyboardInterrupt\u001b[0m: "
          ]
        }
      ]
    }
  ]
}